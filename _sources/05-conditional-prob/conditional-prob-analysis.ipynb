{
 "cells": [
  {
   "cell_type": "markdown",
   "id": "4adf84d2-a48a-47d9-bfec-7369221c0a15",
   "metadata": {},
   "source": [
    "# Conditional Probability: Notation, Intuition, and Definition"
   ]
  },
  {
   "cell_type": "markdown",
   "id": "c80bd1db-5b27-45d5-acc8-750a26aa1305",
   "metadata": {},
   "source": [
    "In the last section, we introduced the *concept* of conditional probability, which is we want to know the probability of an event **given that another event has occurred**. To make our work on conditional probability easier and to effectively communicate with others, we will need to introduce the standard mathematical notation for this type of conditional probability. \n",
    "\n",
    "A conditional probability is indicated if there is a vertical bar \"|\" inside the arguments of the probability measure. (Programmers often call the | symbol \"pipe\".) If there is a | symbol, then the parts of the argument on each side of the | should both be events. The part that follows the | symbol is the conditioning event (i.e., the event that is given to have happened).  \n",
    "\n",
    "Let's make this more concrete by formalizing the notation for the Magician's coin problem. As before, we let $H_i$ be the even that the coin came up heads on flip $i$. Then if we want to know the conditional probability that the coin came up heads on the second flip given that it came up heads on the first flip, we can write it in mathematical notation as\n",
    "$$\n",
    "P\\left( H_2 \\left| H_1 \\right. \\right) .\n",
    "$$\n",
    "\n",
    "When we see such a statement, we will read the mathematical formulation (i.e., without referring to the definitions of $H_1$ and $H_2$) as \"the conditional probability of $H_2$ given $H_1$."
   ]
  },
  {
   "cell_type": "markdown",
   "id": "3b781136-f666-419b-8181-bce420a75ca4",
   "metadata": {},
   "source": [
    "```{note}\n",
    "* Whatever follows the | symbol is the conditioning information.\n",
    "* There cannot be more than one | symbol. I.e., this type of notation is nonsense:\n",
    "\\begin{equation*}\n",
    "P\\left( H_3 \\left \\vert H_2 \\right . \\left \\vert H_1 \\right. \\right) \\mbox{    DON'T DO THIS}\n",
    "\\end{equation*}\n",
    "If we want to know the probability of $H_3$ given that both $H_1$ and $H_2$ occurred, then we can use the intersection operator $\\cap$ to express the event that both $H_1$ and $H_2$ occurred:\n",
    "\\begin{equation*}\n",
    "P\\left( H_3 \\left \\vert H_1 \\cap H_2 \\right. \\right)\n",
    "\\end{equation*}\n",
    "```"
   ]
  },
  {
   "cell_type": "markdown",
   "id": "b7d52a59-491e-4867-8f6a-39b38cc7fcaa",
   "metadata": {},
   "source": [
    "Now that we have appropriate mathematical notation, we can work through a simple example. Here, we use basic counting arguments to calculate the indicated probabilities without yet providing a mathematical definition for conditional probabilities."
   ]
  },
  {
   "cell_type": "markdown",
   "id": "d5349693-6b01-487e-bbc5-0d63965348b5",
   "metadata": {},
   "source": [
    "**Simple Example: Defective Computers in a Lab**\n",
    "\n",
    "A computer lab contains \n",
    "* two computer from manufacturer A, one of which is defective\\pause\n",
    "* three computers from manufacturer B, two of which are defective\\pause\n",
    "\n",
    "A user sits down at a computer at random.\n",
    "\n",
    "Let the properties of the\n",
    "computer he sits down at be denoted by a two letter code, where the\n",
    "first letter is the manufacturer and the second letter is D for a\n",
    "defective computer and N for a non-defective computer. Since there would be two $BD$ \n",
    "outcomes with this labeling (and the elements in a set must be unique), we denote the\n",
    "two defective computers from manufacturer $B$ as $BD_1$ and $BD_2$.  Then the sample space \n",
    "is\n",
    "$$\n",
    "\\mathcal{S}=\\left\\{ AD, AN, BD_1, BD_2, BN\\right\\}\n",
    "$$\n",
    "\n",
    "Now we define the following events:\n",
    "* $E_A$ is the event that the user's computer is from manufacturer $A$\n",
    "* $E_B$ is the event that the user's computer is from manufacturer $B$\n",
    "* $E_D$ is the event that the user's computer is defective\n",
    "\n",
    "\n",
    "\n",
    "\n"
   ]
  },
  {
   "cell_type": "code",
   "execution_count": null,
   "id": "cb6c33cf-0ca7-42d3-8c0c-85313c67dd56",
   "metadata": {},
   "outputs": [],
   "source": []
  }
 ],
 "metadata": {
  "kernelspec": {
   "display_name": "Python 3",
   "language": "python",
   "name": "python3"
  },
  "language_info": {
   "codemirror_mode": {
    "name": "ipython",
    "version": 3
   },
   "file_extension": ".py",
   "mimetype": "text/x-python",
   "name": "python",
   "nbconvert_exporter": "python",
   "pygments_lexer": "ipython3",
   "version": "3.7.4"
  }
 },
 "nbformat": 4,
 "nbformat_minor": 5
}
