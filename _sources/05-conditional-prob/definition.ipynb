{
 "cells": [
  {
   "cell_type": "markdown",
   "id": "97fef0ac-fa96-49c1-9703-139b09a63ced",
   "metadata": {},
   "source": [
    "# Formally Defining Conditional Probability"
   ]
  },
  {
   "cell_type": "markdown",
   "id": "b7d0c6b6-9cca-4381-8391-22d5da2752a9",
   "metadata": {},
   "source": [
    "In {doc}`Conditional Probability: Notation and Intuition<notation-and-intuition>`, we introduced the idea of a *conditional sample space*. Suppose that we are interested in the conditional probability of $A$ given that event $B$ occurred. A Venn diagram for a general set of events $A$ and $B$ is shown in {numref}`cond-prob-two-events`\n",
    "\n",
    ":::{figure-md} cond-prob-two-events\n",
    "<img src=\"venn-diagram-two-events.svg\" alt=\"Venn diagram for two generic events, $A$ and $B$.\" width=\"400px\">\n",
    "\n",
    "Venn diagram of two generic events $A$ and $B$, where the event $B$ is shaded to indicate that it is known to have occurred.\n",
    ":::\n",
    "\n",
    "\n",
    "If the original sample space is $S$, then the set of outcomes that can have occurred given that $E$ occurred is limited to the *conditional sample space*\n",
    "\n",
    "$$\n",
    "S_{|B} = S \\cap B = B\n",
    "$$\n",
    "\n",
    "Similarly, given that $B$ occurred, the only possible outcomes in $A$ that could have occurred are those in $A_{|B} = A \\cap B$.  The conditional sample space $S_{|B}$ and and the conditional event \n",
    "$A_{|B}$ are shown in {numref}`cond-sample-space`.\n",
    "\n",
    ":::{figure-md} cond-sample-space\n",
    "<img src=\"conditional-sample-space.svg\" alt=\"Induced conditional sample space $S_{|B}$ and conditional event $A_{|B}$ from conditioning on event $B$.\"  width=\"400px\">\n",
    "\n",
    "Venn diagram of two generic events $A$ and $B$, where the event $B$ is shaded to indicate that it is known to have occurred.\n",
    ":::\n",
    "\n"
   ]
  },
  {
   "cell_type": "markdown",
   "id": "53f60aeb-926a-40b6-a345-76c5cf875ce5",
   "metadata": {},
   "source": []
  }
 ],
 "metadata": {
  "kernelspec": {
   "display_name": "Python 3",
   "language": "python",
   "name": "python3"
  },
  "language_info": {
   "codemirror_mode": {
    "name": "ipython",
    "version": 3
   },
   "file_extension": ".py",
   "mimetype": "text/x-python",
   "name": "python",
   "nbconvert_exporter": "python",
   "pygments_lexer": "ipython3",
   "version": "3.7.4"
  }
 },
 "nbformat": 4,
 "nbformat_minor": 5
}
