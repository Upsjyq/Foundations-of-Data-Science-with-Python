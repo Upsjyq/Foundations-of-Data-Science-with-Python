{
 "cells": [
  {
   "cell_type": "markdown",
   "id": "97fef0ac-fa96-49c1-9703-139b09a63ced",
   "metadata": {},
   "source": [
    "# Formally Defining Conditional Probability"
   ]
  },
  {
   "cell_type": "markdown",
   "id": "b7d0c6b6-9cca-4381-8391-22d5da2752a9",
   "metadata": {},
   "source": [
    "In {doc}`Conditional Probability: Notation and Intuition<notation-and-intuition>`, we introduced the idea of a *conditional sample space*. Suppose that we are interested in the conditional probability of $A$ given that event $B$ occurred. A Venn diagram for a general set of events $A$ and $B$ is shown in {numref}`cond-prob-two-events`\n",
    "\n",
    ":::{figure-md} cond-prob-two-events\n",
    "<img src=\"venn-diagram-two-events.svg\" alt=\"Venn diagram for two generic events, $A$ and $B$.\" width=\"400px\">\n",
    "\n",
    "Venn diagram of two generic events $A$ and $B$, where the event $B$ is shaded to indicate that it is known to have occurred.\n",
    ":::\n",
    "\n",
    "\n",
    "If the original sample space is $S$, then the set of outcomes that can have occurred given that $B$ occurred is limited to the *conditional sample space*\n",
    "\n",
    "$$\n",
    "S_{|B} = S \\cap B = B\n",
    "$$\n",
    "\n",
    "Similarly, given that $B$ occurred, the only possible outcomes in $A$ that could have occurred are those in $A_{|B} = A \\cap B$.  The conditional sample space $S_{|B}$ and and the conditional event \n",
    "$A_{|B}$ are shown in {numref}`cond-sample-space`.\n",
    "\n",
    ":::{figure-md} cond-sample-space\n",
    "<img src=\"conditional-sample-space.svg\" alt=\"Induced conditional sample space $S_{|B}$ and conditional event $A_{|B}$ from conditioning on event $B$.\"  width=\"400px\">\n",
    "\n",
    "Venn diagram of two generic events $A$ and $B$, where the event $B$ is shaded to indicate that it is known to have occurred.\n",
    ":::\n",
    "\n"
   ]
  },
  {
   "cell_type": "markdown",
   "id": "53f60aeb-926a-40b6-a345-76c5cf875ce5",
   "metadata": {},
   "source": [
    "Based on {numref}`cond-sample-space`, we make the following observations under the condition that $B$ is known to have occurred:\n",
    "* If $A$ and $B$ are mutually exclusive, then there are no outcomes of $A$ contained in the event $B$.  Thus, if $B$ occurs, $A$ cannot have occurred, and thus $P(A|B)=0$ in this case.\n",
    "* If $B \\subset A$, then the intersection region $A \\cap B = B$.  In other words, every outcome in $B$ is an outcome in $A$. If $B$ occurred, then $A$ must have occurred, so $P(A|B)=1$ in this case.\n",
    "* Under the condition that $B$ occurred, only the outcomes in $A$ that are also in $B$ are possible. Thus, $P(A|B)$ should be proportional to $P(A \\cap B)$ (i.e., the smaller region in {numref}`cond-sample-space`.\n",
    "\n",
    "These observations lead to the following definition of conditional probability:\n",
    "\n",
    "````{panels}\n",
    "DEFINTION\n",
    "^^^\n",
    "conditional probability\n",
    ": The conditional probability of an event $A$ given that an event $B$ occurred, where $P(B) \\ne 0$, is \n",
    "\n",
    "$$\n",
    "P(A|B) = \\frac{P \\left( A \\cap B \\right)}{P\\left(B\\right)}\n",
    "$$\n",
    "````"
   ]
  },
  {
   "cell_type": "markdown",
   "id": "66b4947d-241b-474b-9554-188679594953",
   "metadata": {},
   "source": [
    "Now suppose we have a probability space $S, \\mathcal{F}, P\\left( \\right)$ and an event $B$ with $P(B) \\ne 0$.  Then we define a new probability space $S, \\mathcal{F},  \n",
    "P\\left( ~ \\left \\vert B \\right. \\right)$, where $P\\left( ~ \\left \\vert B \\right. \\right)$ is the conditional probability measure given that $B$ occurred. To be more precise, we define $P\\left( ~ \\left \\vert B \\right. \\right)$ on the event class $A$ using the original probability measure $P()$ as follows:\n",
    "* for each $A \\in \\mathcal{F}$, \n",
    "$$\n",
    "P(A|B) = \\frac{P \\left( A \\cap B \\right)}{P\\left(B\\right)}.\n",
    "$$\n"
   ]
  },
  {
   "cell_type": "markdown",
   "id": "53335e83-2423-46de-adb2-a835993a3b4a",
   "metadata": {},
   "source": [
    "To claim that the triple $S, \\mathcal{F}, P\\left( ~ \\left \\vert B \\right. \\right)$ defined as above is a probability space, we need to verify that the conditional probability measure $P\\left( ~ \\left \\vert B \\right. \\right)$  **satisfies the axioms** in this probability space:"
   ]
  },
  {
   "cell_type": "markdown",
   "id": "79598536-544e-4495-b8a9-e3247e7a60a4",
   "metadata": {},
   "source": [
    "**1.** Axiom 1 is that the probabilities are non-negative. Let's check:\n",
    "\\begin{eqnarray*}\n",
    "      P(A|B)=\\frac{P(A \\cap B)}{P(B)}.\n",
    "\\end{eqnarray*}\n",
    "Note that we are already given that $P(B)>0$, and $P() \\ge 0$ for all events in $\\mathcal{F}$. Since $\\mathcal{F}$ is a $\\sigma$-algebra, $A \\cap B \\in \\mathcal{F}$ and so $P(A \\cap B) \\ge 0$.  Thus, $P(A|B)$ is a non-negative quantity divided by a positive quantity, and so $P(A|B) \\ge 0$.\n",
    "\n",
    "\n",
    "**2.** Axiom 2 is that the probability of $S$ (the sample space) is 1. Let's check:\n",
    "\n",
    "\\begin{eqnarray*}\n",
    "      P(S|B)= \\frac{P(S \\cap B)}{P(B)}  = \\frac{P(B)}{P(B)}\n",
    "       =1\n",
    "\\end{eqnarray*} \n",
    "\n"
   ]
  },
  {
   "cell_type": "code",
   "execution_count": null,
   "id": "ec699dc0-a606-44f0-a282-bb7e2a3c29ff",
   "metadata": {},
   "outputs": [],
   "source": []
  }
 ],
 "metadata": {
  "kernelspec": {
   "display_name": "Python 3",
   "language": "python",
   "name": "python3"
  },
  "language_info": {
   "codemirror_mode": {
    "name": "ipython",
    "version": 3
   },
   "file_extension": ".py",
   "mimetype": "text/x-python",
   "name": "python",
   "nbconvert_exporter": "python",
   "pygments_lexer": "ipython3",
   "version": "3.7.4"
  }
 },
 "nbformat": 4,
 "nbformat_minor": 5
}
