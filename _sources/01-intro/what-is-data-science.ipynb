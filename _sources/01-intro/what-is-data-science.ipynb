{
 "cells": [
  {
   "cell_type": "markdown",
   "metadata": {},
   "source": [
    "# What is data science? \n",
    "\n",
    "Our world is filled with information. In fact, many times the amount of information we have access to can be overwhelming. \n",
    "\n",
    "As engineers, our goal is to make sense of the world and use what we learn to take action. \n",
    "\n",
    "Information about some topic that is collected together is referred to as data. This is especially true if the information is numerical or categorical in nature. Typically, data includes multiple observations of some *population* of interest. Here, the population can literally be people, or it can be any other group, such as power plants, stars, etc.\n",
    "\n",
    "The main goal of this book, and a general goal of data scientists, is to **generate meaning from data**."
   ]
  },
  {
   "cell_type": "markdown",
   "metadata": {},
   "source": [
    "Data scientists often start with a research question. For instance:\n",
    "* How fast was the COVID-19 corona virus spreading when it first became prevalent in the United States in the Spring of 2020?\n",
    "* Do gun laws affect firearms mortality?\n",
    "* Is the climate changing?\n",
    "* How reliable are mammograms (x-rays used to detect breast cancer)?\n",
    "\n",
    "<!-- * **ADD MORE QUESTIONS FROM BOOK HERE** -->\n",
    "\n",
    "One of the goals of a data scientist is to take broad research questions and translate them into questions that can be answered using data. For instance, here are some ways that the questions above may be reformulated so that they can be answered with data:\n",
    "* Instead of \"Is the climate changing?\", a data scientist may ask a much more specific question, such as \"Has the temperature in Miami, FL increased over the past 40 years?\"\n",
    "* Instead of \"Do gun laws affect firearms mortality?\", a data scientist may ask about a specific law, such as \"How did the federal assault weapons ban of XXXX affect firearms mortality?\" Or the data scientist may look at the affect of different numbers of laws across states: \"How does the number of state gun laws affect firearms mortality?\" \n",
    "* To determine how reliable mammograms are, a data scientist may ask \"If a patient's mammogram comes back positive, what is the probability that patient has breast cancer?\"\n",
    "* In assessing the rate of spread of the COVID-19 virus, the data scientst may ask \"Was the number of cases growing exponentially in March of 2019? If so, what was the exponential growth rate?\""
   ]
  }
 ],
 "metadata": {
  "finalized": {
   "timestamp": 1617199748724,
   "trusted": true
  },
  "kernelspec": {
   "display_name": "Python 3",
   "language": "python",
   "name": "python3"
  },
  "language_info": {
   "codemirror_mode": {
    "name": "ipython",
    "version": 3
   },
   "file_extension": ".py",
   "mimetype": "text/x-python",
   "name": "python",
   "nbconvert_exporter": "python",
   "pygments_lexer": "ipython3",
   "version": "3.7.4"
  }
 },
 "nbformat": 4,
 "nbformat_minor": 4
}
