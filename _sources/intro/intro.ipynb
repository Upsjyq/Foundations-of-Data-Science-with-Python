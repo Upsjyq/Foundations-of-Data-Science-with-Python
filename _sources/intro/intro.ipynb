{
 "cells": [
  {
   "cell_type": "markdown",
   "metadata": {},
   "source": [
    "# Overview \n",
    "\n",
    "This book is an introduction to data science targeted toward engineers, but it will be easily accessible to anyone who knows calculus and knows the basics of computer programming. By leveraging this required background knowledge, this book fits a unique niche in the books on data science and statistics:\n",
    "* Many books on statistics (especially those for engineers) teach a theoretical approach to answering statistical questions that many learners find difficult to understand. This book applies a modern, computational approach to work with data, and in particular, uses simulations (an approach called *resampling*) to answer statistical questions. Most learners can easily understand how resampling works in contrast to some arcane formula.\n",
    "* Some of the other books that use the resampling approach to statistics are targeted toward a broader audience who may not have the rigorous mathematical background of engineers. Unlike these other books, this text provides a basic introduction to probability and its application to statistics. \n",
    "* Techniques like data reduction and selection require linear algebra, and many books on statistics omit these topics because of the difficulty of covering linear algebra and statistics. By focusing on leveraging existing computational libraries, this book provides a solid introduction to linear algebra and its application to data science.\n",
    "* Where many statistics books use contrived examples to make examples that are solveable using a calculator, througout this book I have tried to use real data sets wherever practical. \n",
    "* Although the approach taken and the material covered is targeted toward engineers, the data sets and the questions asked are chosen to appeal to a broad audience."
   ]
  },
  {
   "cell_type": "markdown",
   "metadata": {},
   "source": [
    "If you find this useful...\n",
    "<a href=\"https://www.buymeacoffee.com/jshea\" target=\"_blank\"><img src=\"https://www.buymeacoffee.com/assets/img/custom_images/orange_img.png\" alt=\"Buy Me A Coffee\" style=\"height: 41px !important;width: 174px !important;box-shadow: 0px 3px 2px 0px rgba(190, 190, 190, 0.5) !important;-webkit-box-shadow: 0px 3px 2px 0px rgba(190, 190, 190, 0.5) !important;\" ></a>\n"
   ]
  },
  {
   "cell_type": "code",
   "execution_count": null,
   "metadata": {},
   "outputs": [],
   "source": []
  }
 ],
 "metadata": {
  "finalized": {
   "timestamp": 1617199767283,
   "trusted": true
  },
  "kernelspec": {
   "display_name": "Python 3",
   "language": "python",
   "name": "python3"
  },
  "language_info": {
   "codemirror_mode": {
    "name": "ipython",
    "version": 3
   },
   "file_extension": ".py",
   "mimetype": "text/x-python",
   "name": "python",
   "nbconvert_exporter": "python",
   "pygments_lexer": "ipython3",
   "version": "3.7.4"
  }
 },
 "nbformat": 4,
 "nbformat_minor": 4
}
