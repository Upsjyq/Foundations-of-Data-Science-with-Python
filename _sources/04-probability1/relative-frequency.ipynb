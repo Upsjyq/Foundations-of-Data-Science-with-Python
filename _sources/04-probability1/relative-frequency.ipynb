{
 "cells": [
  {
   "cell_type": "markdown",
   "metadata": {},
   "source": [
    "#  Relative Frequencies and Probabilities\n",
    "\n",
    "\n",
    "Now consider how we can more formally define relative frequency and its properties. Consider a random experiment with a finite sample space, $S$. Let $|S|=K$; i.e., there are $K$ possible outcomes. Consider repeating the experiment a fixed number of times and observing the sequence of outcomes. This is a *repeated experiment*, which is a special type of *composite experiment*:\n",
    "````{panels}\n",
    "DEFINTION\n",
    "^^^\n",
    "composite experiment\n",
    ": A composite experiment is any experiment that consists of multiple sub-experiments.\n",
    "````\n",
    "````{panels}\n",
    "DEFINTION\n",
    "^^^\n",
    "trial (compound experiments)\n",
    ": A trial in a compound experiment is one of the sub-experiments that make up the composite experiment.\n",
    "````\n",
    "\n",
    "````{panels}\n",
    "DEFINTION\n",
    "^^^\n",
    "repeated experiment\n",
    ": A repeated experiment is a compound experiment in which the trials are identical and independent of each other.\n",
    "````\n",
    "\n",
    "Here, by *independent*, we mean that what happens on one experiment cannot affect the probabilities of what happens on another experiment. We will define this concept of independence more carefully later."
   ]
  },
  {
   "cell_type": "markdown",
   "metadata": {},
   "source": [
    "Let $N$ denote the number of trials in the repeated experiment, and consider a particular outcome of the experiment. If we indexed the sample space $S$, then we can assign an index $k$ to this outcome, and we will refer to it as outcome $k$ for convenience. Note that we use the lowercase letter $k$ to refer to one of the outcomes, whereas $K$ refers to the total number of outcomes. This is a common convention in probability. In fact, we will often use lowercase and uppercase letters to refer to related phenomena. **It is important to use fonts or write letters so that uppercase and lowercase are distinguishable to readers**. When writing letters, the convention is to use curvier forms and loops on lower case versions to make it clear that they are lower case. \n",
    "\n",
    "**JMS: Add examples here**\n",
    "\n",
    "The relative frequency of outcome $k$ is the proportion of times that outcome occurred in the $N$ trials. Let \n",
    "$n_k(N)$ denote the number of times outcome $k$ is observed. We can immediately see that \n",
    "\n",
    "$$\n",
    "0 \\le n_k(N) \\le N,\n",
    "$$ (occurrence_values)\n",
    "since the result is a counting number and the most number of times that outcome $k$ can occur is if it occurs on every one of the $N$ trials.\n",
    "\n",
    "Since each trial results in one outcome, then the sum of the number of times each outcome is observed must equal the number of trials:\n",
    "\n",
    "$$\n",
    "\\sum_{k=1}^{K} n_k(N) =N.\n",
    "$$ (sum_num_occurrences)\n",
    "\n",
    "Let $r_k (N)$ denote the relative frequency of outcome $k$:\n",
    "$$\n",
    "r_k(N) =\\frac{n_k(N)}{N}.\n",
    "$$\n",
    "\n",
    "We can immediately derive a few properties of relative frequencies. Dividing {eq}`occurrence_values` by $N$ yields\n",
    "\n",
    "$$\n",
    "0 \\le r_k(N) \\le 1,\n",
    "$$\n",
    "so relative frequencies are values between 0 and 1 (inclusive of both endpoints). Dividing {eq}`sum_num_occurrences` by $N$ yields\n",
    "\n",
    "$$\n",
    "\\sum_{k=1}^{K} r_k (N) = 1,\n",
    "$$\n",
    "so the sum of the relative frequencies is equal to 1. "
   ]
  },
  {
   "cell_type": "markdown",
   "metadata": {},
   "source": [
    "Many random experiments possess properties that are sometimes referred to as *statistical regularity*. For our purposes, we will use the following definition:\n",
    "\n",
    "````{panels}\n",
    "DEFINTION\n",
    "^^^\n",
    "statistical regularity\n",
    ": An experiment has statistical regularity if under repeated experiments, the relative frequencies converge (in some sense) to some fixed values. \n",
    "````\n",
    "\n",
    "To see this, let's simulate rolling a fair six-sided die and plot the relative frequencies for several increasing values of $N$. We can generate random numbers between 1 and 6 (inclusive) using NumPy.random's `randint` function. Since `randint` uses the Pythonic convention that the upper endpoint is **not included**, we have to pass an upper endpoint of 7 instead of 6. Here is how to generate 20 dice values:"
   ]
  },
  {
   "cell_type": "code",
   "execution_count": 18,
   "metadata": {},
   "outputs": [
    {
     "data": {
      "text/plain": [
       "array([6, 3, 6, 4, 2, 2, 4, 3, 3, 6, 5, 2, 5, 6, 1, 5, 5, 6, 1, 4])"
      ]
     },
     "execution_count": 18,
     "metadata": {},
     "output_type": "execute_result"
    }
   ],
   "source": [
    "import numpy as np\n",
    "import numpy.random as npr\n",
    "\n",
    "npr.seed(9823467)\n",
    "outcomes=npr.randint(1,7,size=20)\n",
    "outcomes\n",
    "\n"
   ]
  },
  {
   "cell_type": "markdown",
   "metadata": {},
   "source": [
    "Now we need to count the number of occurrences of each value. We can achieve this by passing the outcomes to NumPy's `unique` function and using the keyword parameters `return_counts=True`. The function returns two arrays. The first array contains the unique values in the `outcomes` array, and the second array returns the corresponding count for each observed value."
   ]
  },
  {
   "cell_type": "code",
   "execution_count": 19,
   "metadata": {},
   "outputs": [
    {
     "name": "stdout",
     "output_type": "stream",
     "text": [
      "[1 2 3 4 5 6] [2 3 3 3 4 5]\n"
     ]
    }
   ],
   "source": [
    "vals,counts = np.unique(outcomes, return_counts=True)\n",
    "print(vals, counts)"
   ]
  },
  {
   "cell_type": "markdown",
   "metadata": {},
   "source": [
    "Then the relative frequencies of the values is just the returned counts divided by the total number of outcomes:"
   ]
  },
  {
   "cell_type": "code",
   "execution_count": 23,
   "metadata": {},
   "outputs": [
    {
     "name": "stdout",
     "output_type": "stream",
     "text": [
      "Relative frequencies:\n",
      "1 0.1\n",
      "2 0.15\n",
      "3 0.15\n",
      "4 0.15\n",
      "5 0.2\n",
      "6 0.25\n"
     ]
    }
   ],
   "source": [
    "rel_freqs=counts/len(outcomes)\n",
    "\n",
    "print(\"Relative frequencies:\")\n",
    "for i, val in enumerate(vals):\n",
    "    print (val, rel_freqs[i])"
   ]
  },
  {
   "cell_type": "markdown",
   "metadata": {},
   "source": [
    "When we visualize relative frequencies, we typically use a stem plot, which shows the value as a circle at the top of a \"stem\" that  connects to the $x$-axis:"
   ]
  },
  {
   "cell_type": "code",
   "execution_count": 29,
   "metadata": {},
   "outputs": [
    {
     "data": {
      "image/png": "[encoded data removed]",
      "text/plain": [
       "<Figure size 432x288 with 1 Axes>"
      ]
     },
     "metadata": {
      "needs_background": "light"
     },
     "output_type": "display_data"
    }
   ],
   "source": [
    "import matplotlib.pyplot as plt\n",
    "\n",
    "plt.stem(vals, rel_freqs, use_line_collection=True)\n",
    "plt.xlabel(\"Dice values\")\n",
    "plt.ylabel(\"Relative frequencies\")\n",
    "plt.title(\"20 trials\");"
   ]
  },
  {
   "cell_type": "markdown",
   "metadata": {},
   "source": [
    "The values show some pretty significant differences in the relative frequencies (from 0.1 to 0.25). Let's see how the relative frequencies change as we vary $N$ from 10 to 100,000. We will generate all 100,000 values at once and then subscript the array when we want to limit the analysis to a particular part. For instance, we can get the first 10 values as follows:"
   ]
  },
  {
   "cell_type": "code",
   "execution_count": 42,
   "metadata": {},
   "outputs": [
    {
     "name": "stdout",
     "output_type": "stream",
     "text": [
      "[1 5 3 6 4 4 3 6 6 5]\n"
     ]
    }
   ],
   "source": [
    "outcomes100k=npr.randint(1,7,size=100_000)\n",
    "print(outcomes100k[:10])"
   ]
  },
  {
   "cell_type": "code",
   "execution_count": 43,
   "metadata": {},
   "outputs": [
    {
     "data": {
      "image/png": "[encoded data removed]",
      "text/plain": [
       "<Figure size 432x288 with 1 Axes>"
      ]
     },
     "metadata": {
      "needs_background": "light"
     },
     "output_type": "display_data"
    },
    {
     "data": {
      "image/png": "[encoded data removed]",
      "text/plain": [
       "<Figure size 432x288 with 1 Axes>"
      ]
     },
     "metadata": {
      "needs_background": "light"
     },
     "output_type": "display_data"
    },
    {
     "data": {
      "image/png": "[encoded data removed]",
      "text/plain": [
       "<Figure size 432x288 with 1 Axes>"
      ]
     },
     "metadata": {
      "needs_background": "light"
     },
     "output_type": "display_data"
    },
    {
     "data": {
      "image/png": "[encoded data removed]",
      "text/plain": [
       "<Figure size 432x288 with 1 Axes>"
      ]
     },
     "metadata": {
      "needs_background": "light"
     },
     "output_type": "display_data"
    }
   ],
   "source": [
    "Ns=[20, 100, 1000, 100_000]\n",
    "\n",
    "for N in Ns:\n",
    "    outcomes=outcomes100k[:N]\n",
    "    vals,counts = np.unique(outcomes, return_counts=True)\n",
    "    rel_freqs=counts/len(outcomes)\n",
    "    plt.figure()\n",
    "    plt.stem(vals, rel_freqs, use_line_collection=True)\n",
    "    plt.title(\"N=\" + str(N));\n",
    "\n"
   ]
  },
  {
   "cell_type": "markdown",
   "metadata": {},
   "source": [
    "As the value of $N$ increases, the relative frequencies converge to a common value:"
   ]
  },
  {
   "cell_type": "code",
   "execution_count": 45,
   "metadata": {},
   "outputs": [
    {
     "name": "stdout",
     "output_type": "stream",
     "text": [
      "[0.16894 0.16518 0.165   0.16739 0.16677 0.16672]\n"
     ]
    }
   ],
   "source": [
    "print(rel_freqs)"
   ]
  },
  {
   "cell_type": "markdown",
   "metadata": {},
   "source": [
    "\n",
    "The relative frequencies converge to a value around 0.166, which is close to 1/6. If we further increase the number of trials, the relative frequencies will get closer and closer to 1/6. For an experiment with statistical regularity like this, we can say that the values that the relative frequencies converge to are the *probabilities* of the outcomes. The probability of outcome $k$ can be denoted by $p_k$."
   ]
  },
  {
   "cell_type": "markdown",
   "metadata": {},
   "source": [
    "Note that probabilities then inherit the properties of relative frequencies:\n",
    "\n",
    "$$0 \\le p_k \\le 1, \\mbox{ and}$$\n",
    "\n",
    "$$\\sum_k p_k = 1~~~~~~~~$$"
   ]
  },
  {
   "cell_type": "markdown",
   "metadata": {},
   "source": [
    "We will require these properties to hold for all probabilities.\n",
    "\n",
    "However, defining probabilities in this way has some problems:\n",
    "* Not all experiments possess statistical regularity.  In particular, some experiments can never be repeated, such as the change in the S&P 500 Index of the U.S. stock market on a given day. \n",
    "* Even if an experiment has statistical regularity, some experiments cannot be repeated without great difficulty or expense, such as the amount of fuel required to send a SpaceX rocket to Mars.\n",
    "* If an experiment has statistical regularity and can be repeated, it is not clear how to determine how many trials are needed to determine the probabilities with some prescribed precision. For experiments, even the meaning of \"converge\" is not clear because there is no way to relate precision with a required number or trials.\n",
    "\n",
    "Because of these limitations, we usually try to provide a more mathematical definition of probabilities for an experiment that are informed by experimental results or other knowledge of the system.  The simplest such approach works for a class of experiments that are said to be \"fair\":\n"
   ]
  },
  {
   "cell_type": "code",
   "execution_count": null,
   "metadata": {},
   "outputs": [],
   "source": [
    "## Mathemati"
   ]
  },
  {
   "cell_type": "markdown",
   "metadata": {},
   "source": [
    "````{panels}\n",
    "DEFINTION\n",
    "^^^\n",
    "fair (random experiment)\n",
    ": An experiment is said to be fair if every outcome is equally likely.\n",
    "````"
   ]
  },
  {
   "cell_type": "markdown",
   "metadata": {},
   "source": [
    "Consider a fair experiment with $N$ outcomes, and let $p_i$ denote the probability of outcome $i$, then\n",
    "\n",
    "$$\n",
    "\\sum_{i=1}^{N} p_i = 1 \\\\\n",
    "\\sum_{i=1}^{N} p_1 = 1 \\\\\n",
    "Np_1=1\\\\\n",
    "p_1 = \\frac 1 N\\\\\n",
    "p_i = \\frac 1 N\\\\\n",
    "$$"
   ]
  },
  {
   "cell_type": "markdown",
   "metadata": {},
   "source": [
    "So, for instance, the probability of getting any number on a fair six-sided die is 1/6."
   ]
  }
 ],
 "metadata": {
  "kernelspec": {
   "display_name": "Python 3",
   "language": "python",
   "name": "python3"
  },
  "language_info": {
   "codemirror_mode": {
    "name": "ipython",
    "version": 3
   },
   "file_extension": ".py",
   "mimetype": "text/x-python",
   "name": "python",
   "nbconvert_exporter": "python",
   "pygments_lexer": "ipython3",
   "version": "3.7.4"
  }
 },
 "nbformat": 4,
 "nbformat_minor": 4
}
