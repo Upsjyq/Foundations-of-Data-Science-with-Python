{
 "cells": [
  {
   "cell_type": "code",
   "execution_count": 1,
   "id": "a8227344-20d4-46e8-be44-5e5beaf1838b",
   "metadata": {
    "tags": [
     "remove-input"
    ]
   },
   "outputs": [],
   "source": [
    "from jupyterquiz import display_quiz"
   ]
  },
  {
   "cell_type": "markdown",
   "id": "e69adf94-fc8c-41a6-8567-bdb6e028a4b7",
   "metadata": {},
   "source": [
    "# Combinatorics"
   ]
  },
  {
   "cell_type": "markdown",
   "id": "e70a804a-7b11-4ee9-a20c-0777061128ef",
   "metadata": {},
   "source": [
    "*\"Counting is the religion of this generation... Anybody can count...\" -- Gertrude Stein*"
   ]
  },
  {
   "cell_type": "markdown",
   "id": "648504eb-0ca1-4ba2-9707-2dc82f5dc20f",
   "metadata": {},
   "source": [
    "For fair experiments with a finite sample space $S$, we used Axiom III of the Axioms of Probability to show that the probability of an event $E$ is simply\n",
    "\n",
    "$$\n",
    "P(E) = \\frac{|E|}{|S|}\n",
    "$$\n",
    "\n",
    "Thus, the problem of calculating $P(E)$ is simplified to counting the cardinalities of $S$ and $E$. As most people have learned to count as young children, this sounds like a simple exercise. However, in practice, this is often quite challenging. In fact, this general problem space is rich enough that this branch of mathematics has its own name:"
   ]
  },
  {
   "cell_type": "markdown",
   "id": "ab58ecc3-ae4b-4ea6-b636-fdf1e62d3cdd",
   "metadata": {
    "tags": []
   },
   "source": [
    "````{panels}\n",
    "DEFINTION\n",
    "^^^\n",
    "combinatorics:\n",
    "*Combinatorics* is the mathematics of counting. \n",
    "````"
   ]
  },
  {
   "cell_type": "markdown",
   "id": "73b07d56-9247-484e-a598-e74a26f5177c",
   "metadata": {},
   "source": [
    "```{warning}\n",
    "\n",
    "One of the biggest mistakes made by people learning the material in this section is to try to mix probabilities and combinatorics when computing the probability of an event. For most problems, the solution should only consist of these three steps:\n",
    "1. Find $|S|$ using combinatorics. This is usually not difficult.\n",
    "2. Find $|E|$ using combinatorics. This may be very challenging, even if the textual description of an event is simple.\n",
    "3. Calculate \n",
    "\n",
    "$$\n",
    "P(E) = \\frac{|E|}{|S|}.\n",
    "$$\n",
    "\n",
    "Note that no probability is computed until the last step. This approach is illustrated when calculating probabilities in the examples below.\n",
    "```\n"
   ]
  },
  {
   "cell_type": "markdown",
   "id": "70d18908-03d4-458c-be04-88931df64267",
   "metadata": {},
   "source": [
    "For the data science topics covered in this book, we do not have to deal with many very challenging counting problems. However, if you look back over the past chapters, you may be discover that several problems have already been introduced that could be solve by counting:\n",
    "* **Example A**: In {doc}`Chapter 2<../02-first-stats/motivating-problem>`, we asked \"If you only observe 6 heads on the 20 flips, should you reject the idea that the coin is fair?\" We solved this problem via simulating flipping a fair coin 20 times and determining the probability of seeing 6 or fewer heads. However, if we record the ordered Heads and Tails outcomes, this is a fair experiment, and so we could solve for the same probability by counting the number of outcomes with 6 or fewer heads.\n",
    "* **Example B**: In {doc}`Chapter 3<../03-first-data/hypothesis-testing>`, we conducted a bootstrap test where we pool the data for the  US states and then perform bootstrap sampling to create random samples under the null hypothesis. When determining how many random draws we might use, it is useful to know how many ways there are to partition the data in this way. \n",
    "* **Example C**: In {doc}`Fair Experiments<fair-experiments>`, the relative frequencies were shown for the sum of two fair 6-sided dice, as used in Monopoly. If we record the ordered set of top faces of the dice, then the set experiment is a fair experiment, and we can calculate the exact probabilities for the sum of the faces using combinatorics.\n"
   ]
  },
  {
   "cell_type": "markdown",
   "id": "e663aeec-6084-449d-885c-1eef031f725b",
   "metadata": {},
   "source": [
    "Note that the first and third examples are both types of combined experiments, which consist of a sequence of subexperiments. Suppose there are $K$ subexperiments, and the sample space for the $i$th subexperiment is $S_i$. Then the sample space for the combined experiment is \n",
    "\n",
    "$$\n",
    "S = \\left\\{\\left. \\left(s_0, s_1, \\ldots, s_{K-1} \\right) \\right| s_0 \\in S_0, s_1 \\in S_1, \\ldots s_{K-1} \\in S_{K-1} \\right\\}.\n",
    "$$\n",
    "\n",
    "This notation for $S$ is tedious. We introduce the following operator to simplify the notation for the sample space:\n",
    "\n",
    "````{panels}\n",
    "DEFINTION\n",
    "^^^\n",
    "cartesian product:\n",
    "The *cartesian product* of two sets $A$ and $B$ is denoted $A \\times B$ and is defined by \n",
    "\n",
    "$$\n",
    "A \\times B = \\{ (a,b) | a \\in A \\mbox{ and } b \\in B\\}.\n",
    "$$\n",
    "\n",
    "That is, it is the set of all two-tuples with the first element from set $A$ and the second element from set $B$.\n",
    "````\n",
    "\n",
    "We can form the sample space for our repeated experiment through repeated application of the Cartesian product to the individual sample spaces:\n",
    "\n",
    "$$\n",
    "S= S_0 \\times S_1  \\times \\ldots \\times S_{K-1}\n",
    "$$\n",
    "\n",
    "We start by seeing how we can use Python to calculate probabilities by enumerating and then counting sample spaces and events:"
   ]
  },
  {
   "cell_type": "markdown",
   "id": "4a1fddb9-edbc-47a8-b0ca-5e40ff202455",
   "metadata": {},
   "source": [
    "## Enumerating Sample Spaces and Events Using IterTools\n",
    "\n",
    "Let's start by enumerating $S$ and showing how it can be used to calculate probabilities. We will use the Python `itertools` library,  which is distributed as part of standard Python distributions to enumerate $S$. Begin by importing this library:"
   ]
  },
  {
   "cell_type": "code",
   "execution_count": 2,
   "id": "6409395b-a8be-49b4-bf23-c8edc3ee2760",
   "metadata": {},
   "outputs": [],
   "source": [
    "import itertools"
   ]
  },
  {
   "cell_type": "markdown",
   "id": "66ddce2c-0fbf-4243-b8fb-6df143c9db57",
   "metadata": {},
   "source": [
    "**Example A: Monopoly Dice**\n",
    "\n",
    "Consider counting for the Monopoly dice problem. The simulated values for the relative frequencies are shown below:"
   ]
  },
  {
   "cell_type": "code",
   "execution_count": null,
   "id": "3a4d960d-3537-4a89-9f06-b8d8d7f11531",
   "metadata": {
    "tags": [
     "remove-input"
    ]
   },
   "outputs": [],
   "source": [
    "import matplotlib.pyplot as plt\n",
    "import numpy as np\n",
    "import numpy.random as npr\n",
    "\n",
    "die1 = npr.randint(1, 7, size=1_000_000)\n",
    "die2 = npr.randint(1, 7, size=1_000_000)\n",
    "dice = die1 + die2\n",
    "\n",
    "vals, counts = np.unique(dice, return_counts=True)\n",
    "rel_freqs = counts / len(dice)\n",
    "\n",
    "plt.stem(vals, rel_freqs, use_line_collection=True)\n",
    "plt.xlabel(\"Sum of top faces of two dice\")\n",
    "plt.ylabel(\"Relative frequencies\");"
   ]
  },
  {
   "cell_type": "markdown",
   "id": "d9367913-8ddb-42d6-9629-b7301d9eea61",
   "metadata": {},
   "source": [
    " The sample spaces for the two dice are the same. In Python, we can define them using simple ranges:"
   ]
  },
  {
   "cell_type": "code",
   "execution_count": null,
   "id": "3ee35de5-80c0-4cde-b13b-416cc251b26a",
   "metadata": {},
   "outputs": [],
   "source": [
    "S0 = range(1, 7)\n",
    "S1 = range(1, 7)"
   ]
  },
  {
   "cell_type": "markdown",
   "id": "662f0b1d-f147-46f6-ac3c-7b29fdf1958e",
   "metadata": {},
   "source": [
    "The `itertools` library has a `product` function to carry out the Cartesian product over these two ranges:"
   ]
  },
  {
   "cell_type": "code",
   "execution_count": null,
   "id": "9529d2c3-c25b-43b8-9e37-f8ced3f7adfb",
   "metadata": {},
   "outputs": [],
   "source": [
    "S = itertools.product(S0, S1)"
   ]
  },
  {
   "cell_type": "code",
   "execution_count": null,
   "id": "d4432ec1-dce8-4ce2-b4d5-b3b53e6f4905",
   "metadata": {},
   "outputs": [],
   "source": [
    "for s in S:\n",
    "    print(s, \" \", end=\"\")"
   ]
  },
  {
   "cell_type": "markdown",
   "id": "0a7853a0-075c-4ed9-bf53-d21e85d33732",
   "metadata": {},
   "source": [
    "```{warning}\n",
    "Note that the `itertools` functions generally provide an *iterator* to go over the resulting set. Iterators will produce values until exhausted. Unlike looping over a range or list, you cannot execute the loop again using the iterator once it has reached the end. The number of items to be iterated over also cannot be directly determined -- you must iterate over all of the items to determine how many there are.\n",
    "```"
   ]
  },
  {
   "cell_type": "markdown",
   "id": "7133c57d-8c26-44f5-b0d8-7fd6548781a2",
   "metadata": {},
   "source": [
    "When the number of items being iterated over is small, the iterator can be used to directly create a list of these items:"
   ]
  },
  {
   "cell_type": "code",
   "execution_count": null,
   "id": "24c2988c-23e9-4e05-86a9-e1abfb55a5f1",
   "metadata": {},
   "outputs": [],
   "source": [
    "Slist = list(itertools.product(S0, S1))\n",
    "print(Slist)"
   ]
  },
  {
   "cell_type": "markdown",
   "id": "fe3a6353-3c11-42a0-9b79-8565be05007d",
   "metadata": {},
   "source": [
    "As expected from our previous examples, there are 36 items in the sample space:"
   ]
  },
  {
   "cell_type": "code",
   "execution_count": null,
   "id": "6252917d-2ad8-4e3e-9f50-0c5a2266d6ea",
   "metadata": {},
   "outputs": [],
   "source": [
    "len(Slist)"
   ]
  },
  {
   "cell_type": "markdown",
   "id": "5d4050b4-fbff-45d6-8b9e-5156e8e5c8a9",
   "metadata": {},
   "source": [
    "We can find the probability for the sums of the dice faces by iterating over $S$ and counting the number of times  each sum occurs. It is easy to see that the sum of the faces will be between 2 and 12. We initalize a list with 13 zeros (from 0 to 12) to store the counts."
   ]
  },
  {
   "cell_type": "code",
   "execution_count": null,
   "id": "c9694dde-d5f2-4342-ad09-e5072398c857",
   "metadata": {},
   "outputs": [],
   "source": [
    "counts = [0] * 13\n",
    "for s in Slist:\n",
    "    counts[sum(s)] += 1\n",
    "\n",
    "print(\"sum:\", \"# ways of occurring\")\n",
    "for c in range(2, 13):\n",
    "    print(c, \":\", counts[c])"
   ]
  },
  {
   "cell_type": "markdown",
   "id": "d4bd3cb8-8e25-45d9-a3f1-a683c48b3d24",
   "metadata": {},
   "source": [
    "The right-hand column is the cardinality of the event described by the left-hand column. As the events partition the sample space (i.e., the are disjoint and cover everything in the sample space), the sum of the right-hand column is equal to the cardinality of $S$:"
   ]
  },
  {
   "cell_type": "code",
   "execution_count": null,
   "id": "2ee654b7-90b2-4cd4-9b97-1e78226a8005",
   "metadata": {},
   "outputs": [],
   "source": [
    "sum(counts), len(Slist)"
   ]
  },
  {
   "cell_type": "markdown",
   "id": "88fe8c57-9044-41f3-a0ed-378622b6d567",
   "metadata": {},
   "source": [
    "If we let $E_i$ denote the event that the sum of the dice faces is $i$, then $P(E_i) = |E_i| / |S|$, where the values of $|E_i|$ are given in the table above. Thus, the probabilities are:"
   ]
  },
  {
   "cell_type": "code",
   "execution_count": null,
   "id": "59340ceb-97a4-41b7-939c-818064fa93e2",
   "metadata": {},
   "outputs": [],
   "source": [
    "probs = [0] * 13\n",
    "\n",
    "print(\"sum: probability\")\n",
    "for c in range(2, 13):\n",
    "    probs[c] = counts[c] / len(Slist)\n",
    "    print(c, \": \", probs[c])"
   ]
  },
  {
   "cell_type": "markdown",
   "id": "6635e85f-002a-4ead-9bf0-8ca11b05225b",
   "metadata": {},
   "source": [
    "Let's plot the analytical result along with simulated values:"
   ]
  },
  {
   "cell_type": "code",
   "execution_count": null,
   "id": "a10f0fec-4f4c-4214-88d3-3239f0a3df08",
   "metadata": {},
   "outputs": [],
   "source": [
    "import matplotlib.pyplot as plt\n",
    "import numpy as np\n",
    "import numpy.random as npr\n",
    "\n",
    "die1 = npr.randint(1, 7, size=1_000_000)\n",
    "die2 = npr.randint(1, 7, size=1_000_000)\n",
    "dice = die1 + die2\n",
    "\n",
    "vals, mycounts = np.unique(dice, return_counts=True)\n",
    "rel_freqs = mycounts / len(dice)\n",
    "\n",
    "plt.stem(vals, rel_freqs, use_line_collection=True)\n",
    "plt.stem(range(2, 13), probs[2:13], markerfmt=\"rx\", use_line_collection=True)\n",
    "\n",
    "\n",
    "plt.xlabel(\"Sum of top faces of two dice\")\n",
    "plt.ylabel(\"Relative frequencies\");"
   ]
  },
  {
   "cell_type": "markdown",
   "id": "48445a4e-74e6-42a2-8139-9f817dab47bb",
   "metadata": {},
   "source": [
    "The relative frequencies match the true (analytical) probabilities quite closely."
   ]
  },
  {
   "cell_type": "markdown",
   "id": "454d5132-6fbe-4c71-83a3-f93e76fa96e3",
   "metadata": {},
   "source": [
    "**Example B: Bootstrap Sampling**\n",
    "\n",
    "In the example in Chapter 3, we performed null hypothesis testing using bootstrap resampling. This is performed by pooling all the data and then repeatedly creating new groups by sampling with replacement from the pooled data. The sizes of the new groups are equal to the sizes of the groups in the original comparison. \n",
    "\n",
    "A reasonable question to ask when performing bootstrap resampling is: **How many ways are there to resample the data using bootstrap sampling?**\n",
    "\n",
    "It turns out that for the full set of 50 US states, the number of ways that 2 groups of size 25 can be created via bootstrap resampling is too large to even iterate over in Python.\n",
    "\n",
    "Instead, we consider the smaller example of data from 6 states partitioned into 2 groups of size 3. It is convenient to represent the pooled data as $P_B=[0,1,2,3,4,5]$. The actual data values are not important for counting:"
   ]
  },
  {
   "cell_type": "code",
   "execution_count": null,
   "id": "0e90b66f-eb7a-4346-b4af-649e53c9e537",
   "metadata": {},
   "outputs": [],
   "source": [
    "PB = range(6)"
   ]
  },
  {
   "cell_type": "markdown",
   "id": "e4d26d3e-1fa9-4b5b-a80c-f0c51523180f",
   "metadata": {},
   "source": [
    "Now we use itertools to iterate over all the groups of size 3 that can be created by samplign without replacement. This is a combined experiment with identical sample spaces for each component experiment. We can create an iterator for the sample space of one of these groups using `itertools.product` by passing `PB` and the keyword argument `repeat` with the number of items in the groups:"
   ]
  },
  {
   "cell_type": "code",
   "execution_count": null,
   "id": "17026ba0-28c0-4553-bdd2-cf848186c90f",
   "metadata": {},
   "outputs": [],
   "source": [
    "S3 = itertools.product(PB, repeat=3)\n",
    "countB1 = 0\n",
    "for s in S3:\n",
    "    countB1 += 1\n",
    "print(\"Number of ways to choose a group of size 3 under bootstrap sampling is\", countB)"
   ]
  },
  {
   "cell_type": "markdown",
   "id": "11ca4823-d326-448e-adbd-d363b4b08f6a",
   "metadata": {},
   "source": [
    "Note that we are not done. We are interested in the number of ways to choose both groups of size 3. This can be considered to be a combined experiment in which each of the individual experiments has 216 outcomes. In other words, the second group has 216 outcomes for **each** outcome of the first group:"
   ]
  },
  {
   "cell_type": "code",
   "execution_count": null,
   "id": "22ed4872-59a7-4a68-8f0c-7cee64468a05",
   "metadata": {},
   "outputs": [],
   "source": [
    "S3 = itertools.product(PB, repeat=3)\n",
    "countB2 = 0\n",
    "for s in S3:\n",
    "    S3_2 = itertools.product(PB, repeat=3)\n",
    "    for s in S3_2:\n",
    "        countB2 += 1\n",
    "print(\n",
    "    \"Number of ways to choose TWO groups of size 3 under bootstrap sampling is\", countB2\n",
    ")"
   ]
  },
  {
   "cell_type": "markdown",
   "id": "b0abbca9-ae12-43e8-b100-25da2c321cbf",
   "metadata": {},
   "source": [
    "If we are running a simulation to randomly draw groups, then it makes little sense to use more than 46656 draws because:\n",
    "1. We could just iterate over all of the 46656 groups. (This is called an *exact permutation test*, and is considered in Chapter 6.)\n",
    "2. As the number of random draws gets large (close to 46556), the number of draws that are repeats of other random draws in the simulation will get increase. Thus, we are really not gaining new information by increasing the number of draws further."
   ]
  },
  {
   "cell_type": "markdown",
   "id": "c8d9ee5d-6304-41bd-a50f-2d84dad7df6f",
   "metadata": {},
   "source": [
    "**Example C: Flipping a Fair Coin 20 Times**"
   ]
  },
  {
   "cell_type": "markdown",
   "id": "0774536f-2b2a-484b-8b8c-a6f3a1f10de0",
   "metadata": {},
   "source": [
    "Now consider flipping a fair coin 20 times and determining the probability of an outcome less than or equal to 6. Each of the 20 subexperiments has the same sample space. Using $H$ to denote heads and $T$ to denote tails, we can refer to these sample spaces as:"
   ]
  },
  {
   "cell_type": "code",
   "execution_count": null,
   "id": "4958650d-39a0-41a0-ab48-1420de3db1d6",
   "metadata": {},
   "outputs": [],
   "source": [
    "Si = [\"H\", \"T\"]"
   ]
  },
  {
   "cell_type": "markdown",
   "id": "e49d1142-8f1f-4119-bd59-3f4fbc6484b2",
   "metadata": {},
   "source": [
    "As before, we can create an iterator for the combined sample space using `itertools.product` by passing `Si` and the keyword argument `repeat` with the number of repetitions as follows:"
   ]
  },
  {
   "cell_type": "code",
   "execution_count": null,
   "id": "7db3e518-c417-4cb8-adb7-5220e4c2e4a2",
   "metadata": {},
   "outputs": [],
   "source": [
    "Sdice = itertools.product(Si, repeat=20)"
   ]
  },
  {
   "cell_type": "markdown",
   "id": "0ebcb1f2-0cb3-43a1-aade-9a67a08035c1",
   "metadata": {},
   "source": [
    "We can count the cardinality of the sample space and the event that the number of heads is 6 or less simultaneously while looping over the outcomes in the sample space:"
   ]
  },
  {
   "cell_type": "code",
   "execution_count": null,
   "id": "9ac0a935-d01e-4c9f-9815-935a8b43d6e5",
   "metadata": {},
   "outputs": [],
   "source": [
    "Sdice = itertools.product(Si, repeat=20)\n",
    "\n",
    "Scount = 0\n",
    "Ecount = 0\n",
    "\n",
    "for s in Sdice:\n",
    "    Scount += 1\n",
    "    if s.count(\"H\") <= 6:\n",
    "        Ecount += 1\n",
    "\n",
    "print(\"|E|=\", Ecount, \"   |S|=\", Scount)"
   ]
  },
  {
   "cell_type": "markdown",
   "id": "65a03060-cdeb-4bb9-859d-3a3b9bd34a71",
   "metadata": {},
   "source": [
    "The the probability of seeing 6 or fewer heads is:\n"
   ]
  },
  {
   "cell_type": "code",
   "execution_count": null,
   "id": "756ed8f5-9beb-4745-8e3a-acc219c3aa19",
   "metadata": {},
   "outputs": [],
   "source": [
    "print(\"P(6 or fewer heads)=\", Ecount / Scount)"
   ]
  },
  {
   "cell_type": "markdown",
   "id": "3a719a59-04ce-425a-a68a-45dc31d1eab2",
   "metadata": {},
   "source": [
    "Compare this value with the estimated probability found via simulation in {doc}`../02-first-stats/first-stats.ipynb`. The two values are very close, so the simulation did a good job at estimating this probability (at least with 1,000,000 iterations). Note that you probably don't want to go through all 1,048,576 outcomes by hand. Moreover, if the number of coin flips increased significantly, it may be challenging to even iterate over them. This motivates us to develop mathematical methods for counting the cardinalities of sample spaces and events without enumerating them."
   ]
  },
  {
   "cell_type": "markdown",
   "id": "48948e58-3e63-4cbc-ab43-c5a259b876d8",
   "metadata": {},
   "source": [
    "## Determining Cardinalities of Sample Spaces and Events Mathematically"
   ]
  },
  {
   "cell_type": "markdown",
   "id": "18f40976-8642-4967-90cc-707a7d303cde",
   "metadata": {},
   "source": [
    "We start with a basic result on counting in the context of sample spaces for combined experiments. If $S$ is a set that can be written as a Cartesian product,\n",
    "\n",
    "$$\n",
    "S= S_0 \\times S_1  \\times \\ldots \\times S_{K-1},\n",
    "$$\n",
    "\n",
    "then cardinality of $S$ is the product of the cardinalities of the sets in the Cartesian product:\n",
    "$$\n",
    "|S|= |S_0| \\cdot |S_1|  \\cdot \\ldots \\cdot |S_{K-1}|.\n",
    "$$"
   ]
  },
  {
   "cell_type": "markdown",
   "id": "a4ea4953-5467-4129-b354-3f1f9770d96a",
   "metadata": {},
   "source": [
    "For instance, for the Monopoly dice problem, $|S_0|=|S_1|=6$, so $|S| = |S_0| \\cdot |S_1| = 6 \\cdot 6 = 36$.\n",
    "\n",
    "This is an example of drawing items from a set and recording the ordered sequence of outcomes, where each item is placed back into the set before the next draw. This is called sampling **with replacement** and **with ordering**. For a set of $k$ draws from $N$ items, sampling with replacement means that each $|S_i|$ in the expression above is equal to $N$. Thus,\n",
    "```{admonition} Sampling with Replacement and with Ordering\n",
    "The number of ways to choose $k$ items from a set of $N$ items with replacement and with ordering is\n",
    "\n",
    "$$\n",
    "\\underbrace{N \\cdot N \\cdot \\ldots \\cdot N}_{k \\mbox{ times}} = N^k\n",
    "$$ \n",
    "```"
   ]
  },
  {
   "cell_type": "markdown",
   "id": "c88b577c-79a3-4697-8fe2-a2d1b502bb3f",
   "metadata": {},
   "source": [
    "For flipping a fair coin 20 times, $N=2$ and $k=20$, so and $|S| =  2^{20} = 1,048,576$."
   ]
  },
  {
   "cell_type": "markdown",
   "id": "a39f8334-69bf-47d8-bfb1-fa4bb5dadd84",
   "metadata": {},
   "source": [
    "**Example A: Monopoly Dice**\n",
    "\n",
    "Let's consider how to find the probability for a particular value of the sum of the dice. Let $E_8$ be the event that the sum of the numbers on the top faces of the two dice is 10. To find $P(E_{10})$, we have to determine $|E_{10}|$. Note that if we know the value of the first die, then the value of the second die is determined. Moreover, not all values of the first die can result in a sum of 10. So we just need to determine what values of the first die **can** result in sums of 10. The smallest value of the first die that can result in a sum of 10 will occur when the second die has a value of 6. So, the first die must be at least 4. Clearly, if it is larger than 4, there will be a value of the second die that results in a sum of 10. From this, we conclude that $|E_{10}|=3$. To be explicit, \n",
    "\n",
    "$$\n",
    "E_3 = \\left\\{ (4,6),~(5,5),~(6,4) \\right\\}.\n",
    "$$\n",
    "\n",
    "Then $P(E_3) = 3/36 = 1/12$"
   ]
  },
  {
   "cell_type": "code",
   "execution_count": null,
   "id": "5a7b8260-f17b-40b0-ac44-f6b88524a549",
   "metadata": {},
   "outputs": [],
   "source": [
    "1 / 12"
   ]
  },
  {
   "cell_type": "markdown",
   "id": "c83774e9-aa83-4336-9172-3552f4e4c572",
   "metadata": {},
   "source": [
    "(Reader, please compare this with the probability found through enumeration in the version of this example using `itertools`.) "
   ]
  },
  {
   "cell_type": "markdown",
   "id": "c4c83412-74b7-421f-9a4d-ffafc0d92f7f",
   "metadata": {},
   "source": [
    "**Example B: Bootstrap Resampling**\n",
    "\n",
    "Consider again bootstrap resampling from a pool of 6 data points to two groups of cardinality 3.  This a problem of sampling with replacement and with ordering, so the total number of groups is:"
   ]
  },
  {
   "cell_type": "code",
   "execution_count": null,
   "id": "140d721e-0745-4a68-ab81-2e36f3085e8b",
   "metadata": {},
   "outputs": [],
   "source": [
    "(6 ** 3) * (6 ** 3)"
   ]
  },
  {
   "cell_type": "markdown",
   "id": "29379fe1-2ca9-476e-b79d-3128e7a7f3ef",
   "metadata": {},
   "source": [
    "This is the same result we found via `itertools`."
   ]
  },
  {
   "cell_type": "markdown",
   "id": "241bb7df-05a9-46a5-9bf9-c633a1d5df8e",
   "metadata": {},
   "source": [
    "Now consider bootstrap resampling data from all 50 US states into groups of 25. We saw for the pooled data of size 6 that it did not make sense to draw from it more than about 50,000 times. Should we be concerned that we will have a similar problem when working with the full data set?\n",
    "\n",
    "The total number of groups that can be created using the full data set  is"
   ]
  },
  {
   "cell_type": "code",
   "execution_count": null,
   "id": "0acc3763-69a6-4b49-82d3-4cbec8203d65",
   "metadata": {},
   "outputs": [],
   "source": [
    "(50 ** 25) * (50 ** 25.0)"
   ]
  },
  {
   "cell_type": "markdown",
   "id": "cbe8c2d2-a900-4efd-b01e-b2226ba19a5d",
   "metadata": {},
   "source": [
    "(I purposefully put a decimal on one of the 25s so that the result would be shown in scientific notation rather than as an extremely long integer.) \n",
    "\n",
    "If you are not sure if this is a big number, you may want to compare to this [Wikipedia article about the number of atoms in the observable universe](https://en.wikipedia.org/wiki/Observable_universe#Matter_content—number_of_atoms).  From the article, we can infer that the number of atoms in the observable universe is less than $10^{80}$, which is less than the number of groups we can create via bootstrap resampling. Thus, there is no concern that our resampling simulation will exhaust the number of groups when dealing with the full data set."
   ]
  },
  {
   "cell_type": "markdown",
   "id": "bf627f7f-f1f2-4529-9895-c3c2a596a69d",
   "metadata": {},
   "source": [
    "**Example C: Flipping a Fair Coin 20 Times**\n",
    "\n",
    "This experimental set up seems even easier than the Monopoly dice problem because of the small size of the subexperiment sample spaces, but enumerating the event that the number of heads is 6 or fewer turns out to be much more challenging and will require us to introduce some new mathematical tools. Before we get to that, let's answer a few questions that will help us build to our ultimate result:\n",
    "\n",
    "Let $H_i$ be the event that there are **exactly** $i$ heads on the 20 flips.\n",
    "\n",
    "First, what is $|H_0|$? There is exactly one way to get zero heads. All of the 20 flips were tails.\n",
    "\n",
    "Next, what is $|H_1|$? There is exactly one head in the 20 flips. It can either be on the first flip, the second flip, ..., or finally the 20th flip. In other words, there are 20 different places for the heads to be, so $|H_1|=20$."
   ]
  },
  {
   "cell_type": "markdown",
   "id": "e7bb17b0-4b1d-4c3e-837f-3791cb2a0aeb",
   "metadata": {},
   "source": [
    "Now, what is $|H_2|$? This is where things start to get challenging and interesting.  We will solve this two ways. The first way will get us the answer. The second way will help lead us to a general solution for $H_i$.\n",
    "\n",
    "**Counting $H_2$: Way 1**\n",
    "\n",
    "We can count $|H_2|$ in much the same way that we counted $H_1$. For convenience, let's consider the flips in order. For each place the first heads occurs, we will have multiple places that the second heads could occur.  I.e., if the first heads is on flip 0, then the second heads can be on flips 1 through 19. But if the first head is on flip 18, the second head has to be on flip 19. The total number of outcomes in $H_2$ can thus be written as\n",
    "\n",
    "\\begin{align*}\n",
    "|H_2| &= \\sum_{i=0}^{18} \\sum_{j=i+1}^{19} 1 \\\\\n",
    "&= \\sum_{i=0}^{18} \\left[ 19 - \\left( i+1 \\right) +1 \\right] \\\\\n",
    "&= 19\\cdot 20   - \\sum_{i=1}^{19} i \\\\\n",
    "&= 380 - \\frac{19 \\cdot 20}{2} \\\\\n",
    "&= 190,\n",
    "\\end{align*}\n",
    "(The last summation is a standard form.)"
   ]
  },
  {
   "cell_type": "markdown",
   "id": "24b1805a-445f-45c6-9643-6db309a777e5",
   "metadata": {},
   "source": [
    "Note that we could have used Python to calculate this sum:"
   ]
  },
  {
   "cell_type": "code",
   "execution_count": null,
   "id": "8d64ef3e-8593-4abd-af77-4a8cd36fa20f",
   "metadata": {},
   "outputs": [],
   "source": [
    "total = 0\n",
    "for i in range(0, 19):\n",
    "    for j in range(i + 1, 20):\n",
    "        total += 1\n",
    "print(total)"
   ]
  },
  {
   "cell_type": "markdown",
   "id": "bacae844-4503-473e-875c-606a7afdf010",
   "metadata": {},
   "source": [
    "**Exercise**\n",
    "\n",
    "Extend the approach described above to give a formula for the $|H_3|$. (For this purpose, I recommend you use three summation terms, although a more general and sophisticated solution for skilled programmers can be created using recursion.) Use Python to evaluate the sum. Check your answer using the self-assessment quiz below:"
   ]
  },
  {
   "cell_type": "code",
   "execution_count": null,
   "id": "2759500e-100a-44b3-886d-6601e3acf458",
   "metadata": {
    "tags": [
     "remove-cell"
    ]
   },
   "outputs": [],
   "source": [
    "# Correct value\n",
    "total = 0\n",
    "for i in range(0, 18):\n",
    "    for j in range(i + 1, 19):\n",
    "        for k in range(j + 1, 20):\n",
    "            total += 1\n",
    "print(total)"
   ]
  },
  {
   "cell_type": "code",
   "execution_count": null,
   "id": "bd32edea-0970-4b6e-9d14-b98ca62ed2a9",
   "metadata": {
    "tags": [
     "remove-cell"
    ]
   },
   "outputs": [],
   "source": [
    "# Erroneous bounds\n",
    "total = 0\n",
    "for i in range(0, 19):\n",
    "    for j in range(i + 1, 20):\n",
    "        for k in range(i + 1, 20):\n",
    "            total += 1\n",
    "print(total)"
   ]
  },
  {
   "cell_type": "markdown",
   "id": "47426fc0-ead1-4345-80b6-b1ad50d0c0a6",
   "metadata": {
    "tags": [
     "remove-cell"
    ]
   },
   "source": [
    "Verify that this is correct using the usual binomial formula:"
   ]
  },
  {
   "cell_type": "code",
   "execution_count": null,
   "id": "ab8794a9-82e9-44bc-93f8-ef5a69237581",
   "metadata": {
    "tags": [
     "remove-cell"
    ]
   },
   "outputs": [],
   "source": [
    "from scipy.special import binom\n",
    "\n",
    "binom(20, 3)"
   ]
  },
  {
   "cell_type": "code",
   "execution_count": null,
   "id": "f12d8e8b-23cb-45e1-b09e-963ff11e83bd",
   "metadata": {
    "tags": [
     "remove-input"
    ]
   },
   "outputs": [],
   "source": [
    "display_quiz(\n",
    "    \"https://raw.githubusercontent.com/jmshea/intro-data-science-for-engineers/main/questions/three_heads.json\"\n",
    ")"
   ]
  },
  {
   "cell_type": "markdown",
   "id": "2ea425f1-44ee-4d9b-894a-3ea56072ac4c",
   "metadata": {},
   "source": [
    "This approach will get increasingly tedious and challenging to write and compute as we consider $H_i$ for larger $i$."
   ]
  },
  {
   "cell_type": "markdown",
   "id": "0a89df53-1d8a-488b-909a-cb8ee5afdb40",
   "metadata": {},
   "source": [
    "**Counting $H_2$: Way 2**\n",
    "\n",
    "\n",
    "\n",
    "Consider a second approach in which we try to count how many ways we could create the result (i.e., an $n$ tuple) of the flips:\n",
    "* The first heads can go in any of the 20 places.\n",
    "* The second heads can go in any of the remaining 19 places. \n",
    "\n",
    "Then the total number of results is $20 \\cdot 19 = 380$. \n",
    "\n",
    "**But this result does not match up with  the one we just computed in detail! Why?** \n",
    "\n",
    "The reason is that we have **overcounted**. For instance, let's mark the first value we choose by underlining it.  Then here are two outcomes we will find this way (values not shown are all $T$): \n",
    "\n",
    "$$\n",
    "(\\underline{H}, T, T, H, T, \\ldots) \\\\\n",
    "(H, T, T, \\underline{H}, T, \\ldots)\n",
    "$$\n",
    "\n",
    "Our counting mechanism has created two different representations (*orderings*) of the same outcome (i.e., where there is a heads on rolls 0 and 3). The number we will count in this way is twice the total number because for any particular outcome, there are two different orders by which we could have created it (i.e., by putting  the first $H$ in the leftmost position or by putting the first $H$ in the rightmost position). So, we have to divide by two to get: $|H_2| = 20 \\cdot 19 /2 =190$, which agrees with our previous result.  \n",
    "\n",
    "But now let's consider how we can rewrite this value to make it extensible to find $H_i$ for $i>2$.\n",
    "\n",
    "We first introduce the number of ways that a set of objects can be ordered:\n",
    "````{panels}\n",
    "DEFINTION\n",
    "^^^\n",
    "permutation:\n",
    "A *permutation* is an ordering (or reordering) of a set of objects.\n",
    "````\n",
    "\n",
    "Given $n$ distinct objects, it is not hard to calculate the number of permutations possible. Consider drawing the objects one at a time, until all objects have been drawn, to create the ordered set of objects:\n",
    "* There are $n$ ways to choose the first object.\n",
    "* Then there are $n-1$ ways to choose the second object from the remaining set.\n",
    "* Then there $n-2$ ways to choose the third object from the remaining set.\n",
    "* ...\n",
    "* On the final ($n$th) draw, there is only one object remaining in the set.\n",
    "\n",
    "**The number of permutations of $n$ distinct objects is written as $n!$, which is read \"$n$ factorial\" (en fact-or-ee-ul). The rules for Cartesian products can be applied to calculate **\n",
    "\n",
    "$$\n",
    "n! = n(n-1)(n-2)\\cdots(2)(1).\n",
    "$$\n",
    "\n",
    "\n",
    "In Python, I recommend you use the factorial function from SciPy.special. If the argument is not more than 20, I would recommend to pass the keyword parameter `exact=True` to get back an integer solution. \n",
    "\n"
   ]
  },
  {
   "cell_type": "code",
   "execution_count": null,
   "id": "32d2fd67-0702-4123-8d7e-1c4435bae3ec",
   "metadata": {},
   "outputs": [],
   "source": [
    "from scipy.special import factorial"
   ]
  },
  {
   "cell_type": "markdown",
   "id": "3db68cc3-0c6b-43e8-acdf-c2f221d6d23e",
   "metadata": {},
   "source": [
    "Then the number of ways that 20 unique objects can be arranged is "
   ]
  },
  {
   "cell_type": "code",
   "execution_count": null,
   "id": "c5868eb9-631a-4658-9016-0ee074f179f0",
   "metadata": {},
   "outputs": [],
   "source": [
    "factorial(20, exact=True)"
   ]
  },
  {
   "cell_type": "markdown",
   "id": "09e5bea2-3bc0-40ea-96ea-b72c60183cb1",
   "metadata": {},
   "source": [
    "Now consider our equation for choosing 2 items out of 20 with ordering: $ 20 \\cdot 19$. We can rewrite this equation using factorial notation as $20!/18!$. And it is easy to extend this equation to choosing $k$ items with ordering. Because each time we choose an item (here, we are choosing the *positions* for the $H$s), we remove it from the set, we call this sampling without replacement and with ordering:"
   ]
  },
  {
   "cell_type": "markdown",
   "id": "d1cf59df-0fd2-4e13-a786-aba11d2f620c",
   "metadata": {},
   "source": [
    "```{admonition} Sampling without Replacement and with Ordering\n",
    "The number of ways to choose $k$ items from a set of $N$ items without replacement and with ordering is\n",
    "\n",
    "$$\n",
    "(n)(n-1)(n-2)\\cdots(n-k+1) = \\frac{n!}{(n-k)!}\n",
    "$$\n",
    "```"
   ]
  },
  {
   "cell_type": "markdown",
   "id": "35c2dd1e-4866-41ad-ad8b-5e1b7b6480b9",
   "metadata": {},
   "source": [
    "As we saw before, the ordered result overcounts the number of outcomes for this problem. What we really want is the unordered set of locations for the $H$s. For a given unordered set of $k$ locations, the number of orderings will be the number of permutations for $k$ unique items, which is just $k!$. Since every unordered set of $k$ items will shown up $k!$ times in the ordered list, we can find the number of unordered sets of locations by dividing by $k!$. \n",
    "\n",
    "This is an example of sampling without replacement and *with* ordering:\n"
   ]
  },
  {
   "cell_type": "markdown",
   "id": "b84366d9-ca71-46cd-a1b7-0e9214cae7fe",
   "metadata": {},
   "source": [
    "```{admonition} Sampling without Replacement and without Ordering\n",
    "The number of ways to choose $k$ items from a set of $N$ items without replacement and without ordering is\n",
    "\n",
    "$$\n",
    "\\binom{N}{k} = \\frac{n!}{(n-k)!},\n",
    "$$ \n",
    "\n",
    "which is read as \"N choose k\" and is known as the {\\it binomial coefficient}.\n",
    "```"
   ]
  },
  {
   "cell_type": "markdown",
   "id": "ac0d67e1-e458-4e5a-9748-471de5049c3d",
   "metadata": {},
   "source": [
    "To find the binomial coefficient in Python, I recommend that you use the `binom` function from SciPy.special:"
   ]
  },
  {
   "cell_type": "code",
   "execution_count": null,
   "id": "ad56c642-9c7d-443e-ada2-763aed909ba0",
   "metadata": {},
   "outputs": [],
   "source": [
    "from scipy.special import binom"
   ]
  },
  {
   "cell_type": "markdown",
   "id": "d8892657-a366-49a3-9cff-633b991f8cb8",
   "metadata": {},
   "source": [
    "Then we can calculate $H_2$ as \n",
    "\n",
    "$$\n",
    "\\binom {20}{ 2}  =\n",
    "$$"
   ]
  },
  {
   "cell_type": "code",
   "execution_count": null,
   "id": "d8267992-8d99-4eec-84ea-3e0c136696d3",
   "metadata": {},
   "outputs": [],
   "source": [
    "binom(20, 2)"
   ]
  },
  {
   "cell_type": "markdown",
   "id": "7ad3865f-b602-4b47-b018-aac2895d6f2c",
   "metadata": {},
   "source": [
    "Use the binom function to calculate the cardinalities and probabilities shown below. (Recall that $P(H_i) = |H_i|/|S|$, and we found $|S|$ further above.)"
   ]
  },
  {
   "cell_type": "code",
   "execution_count": null,
   "id": "7f58020b-a7f9-4e70-802c-d24463d29cfd",
   "metadata": {
    "tags": [
     "remove-cell"
    ]
   },
   "outputs": [],
   "source": [
    "# For JupyterQuiz\n",
    "for j in range(3, 10):\n",
    "    print(j, binom(20, j))"
   ]
  },
  {
   "cell_type": "code",
   "execution_count": null,
   "id": "f5b2a0d7-2926-42ac-837a-5da8b51fa9c9",
   "metadata": {
    "tags": [
     "remove-cell"
    ]
   },
   "outputs": [],
   "source": [
    "# For JupyterQuiz\n",
    "for j in range(4, 16, 2):\n",
    "    print(j, binom(20, j) / 2 ** 20)"
   ]
  },
  {
   "cell_type": "code",
   "execution_count": null,
   "id": "1b289c31-dd04-444e-9fcd-3e27eb4acbb3",
   "metadata": {
    "tags": [
     "remove-input"
    ]
   },
   "outputs": [],
   "source": [
    "display_quiz(\n",
    "    \"https://raw.githubusercontent.com/jmshea/intro-data-science-for-engineers/main/questions/binom.json\",\n",
    "    num=2,\n",
    ")"
   ]
  },
  {
   "cell_type": "code",
   "execution_count": null,
   "id": "4136cf38-a266-4318-a586-2591ceb51932",
   "metadata": {
    "tags": [
     "remove-cell"
    ]
   },
   "outputs": [],
   "source": [
    "# For local development\n",
    "display_quiz(\"../questions/coin-flip-probs.json\")"
   ]
  },
  {
   "cell_type": "code",
   "execution_count": null,
   "id": "14aab6be-1b31-48e3-a9be-561338ac956c",
   "metadata": {
    "tags": [
     "remove-input"
    ]
   },
   "outputs": [],
   "source": [
    "display_quiz(\n",
    "    \"https://raw.githubusercontent.com/jmshea/intro-data-science-for-engineers/main/questions/coin-flip-probs.json\",\n",
    "    2,\n",
    ")"
   ]
  },
  {
   "cell_type": "markdown",
   "id": "fc2d7a65-6741-454d-8021-569db3248e4c",
   "metadata": {},
   "source": [
    "These basics about combinatorics will be useful when we conduct permutation tests in Chapter 6 and in understanding some random variables in Chapter 7. "
   ]
  },
  {
   "cell_type": "code",
   "execution_count": null,
   "id": "9046c413-8b2e-4158-97c2-32cc20eecaae",
   "metadata": {},
   "outputs": [],
   "source": []
  }
 ],
 "metadata": {
  "kernelspec": {
   "display_name": "Python 3",
   "language": "python",
   "name": "python3"
  },
  "language_info": {
   "codemirror_mode": {
    "name": "ipython",
    "version": 3
   },
   "file_extension": ".py",
   "mimetype": "text/x-python",
   "name": "python",
   "nbconvert_exporter": "python",
   "pygments_lexer": "ipython3",
   "version": "3.7.4"
  }
 },
 "nbformat": 4,
 "nbformat_minor": 5
}
