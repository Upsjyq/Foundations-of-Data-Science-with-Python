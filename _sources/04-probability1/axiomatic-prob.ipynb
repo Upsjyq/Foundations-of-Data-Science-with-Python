{
 "cells": [
  {
   "cell_type": "markdown",
   "id": "e32723ff",
   "metadata": {},
   "source": [
    "# Axiomatic  Probability"
   ]
  },
  {
   "cell_type": "markdown",
   "id": "b9d2fa21",
   "metadata": {},
   "source": [
    "Defining probabilities using relative frequencies for statistically regular experiments or using simple math for fair experiments are helpful to develop some intuition about probability. However, these methods have limitations that restrict their usefulness to many  real world problems. These problems were recognized by mathematicians working on probability and motivated these mathematicians to develop an approach to probability that is:\n",
    "* not based on a particular application or interpretation,\n",
    "* agrees models based on relative frequency and fair probabilities,\n",
    "* agrees with our intuition (where appropriate), and\n",
    "* are useful to solving real-world problems.\n",
    "\n",
    "The approach they developed is called *Axiomatic Probability*. Axiomatic means that there is a set of rules (called axioms) for probability, but that the set of rules is made as small as possible. "
   ]
  },
  {
   "cell_type": "markdown",
   "id": "ccb59440",
   "metadata": {},
   "source": [
    "## Probability Spaces\n",
    "\n",
    "The first step in developing Axiomatic Probability is to define the core objects that the axioms apply to. In this case, define a *Probability Space* as an ordered collection (tuple) of three objects, and we denote it by \n",
    "$$\n",
    "(S, \\mathcal{F}, P)\n",
    "$$\n",
    "\n",
    "These objects are called the *sample space*, the *event class*, and the *probability measure*. "
   ]
  },
  {
   "cell_type": "markdown",
   "id": "0f3e5eb1",
   "metadata": {},
   "source": [
    "**Sample Space**\n",
    "\n",
    "We have already introduce the sample space in {doc}`outcomes-samplespaces-events`. It is a **set** containing all possible outcomes for an experiment."
   ]
  },
  {
   "cell_type": "markdown",
   "id": "1df9d3c9",
   "metadata": {},
   "source": [
    "**Event Class**\n",
    "\n",
    "The second object, denoted by a calligraphic F ($\\mathcal{F}$), is called the *event class*.\n",
    "````{panels}\n",
    "DEFINTION\n",
    "^^^\n",
    "event class:\n",
    "For a sample space $S$ and a probability measure $P$, the event class, denoted by $\\mathcal{F}$ is a collection of all subsets of $S$ to which we will assign probability (i.e., for which $P$ will be defined). The sets in $\\mathcal{F}$ are called events.\n",
    "````\n",
    " \n",
    "\n",
    "When $S$ is finite, then $\\mathcal{F}$ can be taken to be all possible subsets of $S$.\n",
    "````{panels}\n",
    "DEFINTION\n",
    "^^^\n",
    "power set: For a set $S$ with finite cardinality, $|S|=N < \\infty$, the power set is the set of all possible subsets. We will use the notation $2^S$ to denote the power set.\n",
    "````\n",
    "\n"
   ]
  },
  {
   "cell_type": "markdown",
   "id": "391e263e",
   "metadata": {},
   "source": [
    "Note that the power set includes both the empty set ($\\emptyset$) and $S$.\n",
    "\n",
    "**Example**\n",
    "Consider flipping a coin and observing the top face. Then $S=\\{H,T\\}$ and \n",
    "$$\n",
    "\\mathcal{F} = \\bigl\\{ \\emptyset, H, T, \\{H,T\\} = S \\bigr\\}\n",
    "$$\n",
    "\n",
    "Note that $|S|=2$ and $|2^S| = 4 = $2^|S|$.\n",
    "\n",
    "**Exercise**\n",
    "\n",
    "Consider rolling a standard six-sided die. Give the sample space, $S$,  and the power set of the sample space, $2^S$.  What is the cardinality of $2^S$?"
   ]
  },
  {
   "cell_type": "markdown",
   "id": "fbadb97f",
   "metadata": {},
   "source": [
    "When $|S|=\\infty$, weird things can happen if we try to assign probabilities to every subset of $S$. **JMS: Working here. Need footnote about uncountably infinite** For typical data science applications, we can assume that any event that we want to ask about will be in the event class, and we do not need to explicitly enumerate the event class."
   ]
  },
  {
   "cell_type": "markdown",
   "id": "9b3304ef",
   "metadata": {},
   "source": [
    "**Probability Measure**\n",
    "\n",
    "Until now, we have discussed the probabilities of outcomes. However, this is not the approach taken in probability spaces:\n",
    "\n",
    "````{panels}\n",
    "DEFINTION\n",
    "^^^\n",
    "probability measure:\n",
    "The probability measure, $P$, is a real-valued set function that maps every element of the event class to the real line.\n",
    "````\n",
    "\n",
    "Note that in defining the probability measure, we do not specify the range of values for $P$, because at this point we are only defining the structure of the probability space through the types of elements that make it up.\n",
    "\n",
    "Although $P$ assigns outcomes to events (as opposed to outcomes), every outcome in $S$ is typically an event in the event class. Thus, $P$ is more general in its operation than we have considered in our previous examples. As explained in {doc}`outcomes-samplespaces-events`, an event occurs if the experiment's outcome is one of the outcomes in that event's set."
   ]
  },
  {
   "cell_type": "markdown",
   "id": "173a8fa5",
   "metadata": {},
   "source": [
    "## Axioms of Probability\n",
    "\n",
    "As previously mentioned, axioms are a minimal set of rules. There are three Axioms of Probability that are specified in terms of the probability measure:\n",
    "\n"
   ]
  },
  {
   "cell_type": "markdown",
   "id": "87ac33f4",
   "metadata": {},
   "source": [
    "**The Axioms of Probability**\n",
    "\n",
    "**I.** For every event $E$ in the eventclass $\\mathcal{F}$, $ P(E) \\ge 0$ \n",
    "*(the event probabilities are non-negative)*\n",
    "\n",
    "**II.** $P(S) =1$   (the probability that some outcome occurs is 1)\n",
    "\n",
    "**III.** For all pairs ofevents $E$ and $F$ in the event class that are disjoint ($E \\cap F = \\emptyset$), \n",
    "          $P( E \\cup F) = P(E)+P(F)$ (if two events are disjoint, then the probability that either one of the events occurs is equal to the sum of the event probabilities)\n",
    "          \n",
    "When dealing with infinite sample spaces, an alternative version of Axiom III should be used:\n",
    "\n",
    "**III'.** If $A_1, A_2, \\ldots$ is a sequence of\n",
    "          event that are all disjoint  ($A_i \\cap A_j = \\emptyset~ \\forall i\\ne j$),\n",
    "          then \n",
    "          $$\n",
    "          P \\left[ \\bigcup_{k=1}^{\\infty} A_k \\right] = \\sum_{k=1}^{\\infty}\n",
    "            P\\left[ A_k \\right].\n",
    "            $$\n",
    "<!-- *(Note that these sums and unions are over countably infinite sequences of events.)* -->"
   ]
  },
  {
   "cell_type": "markdown",
   "id": "7ebd1f64",
   "metadata": {},
   "source": [
    "Many students of probability wonder why Axiom I does not specify that $0 \\le P(E) \\le 1$. The answer is that the second part of that inequality is not needed because it can be proven from the other axioms. Anything that is not required is removed to ensure that the axioms are a minimal set of rules. "
   ]
  },
  {
   "cell_type": "code",
   "execution_count": null,
   "id": "da87e2d9",
   "metadata": {},
   "outputs": [],
   "source": []
  },
  {
   "cell_type": "code",
   "execution_count": null,
   "id": "d972d751",
   "metadata": {},
   "outputs": [],
   "source": []
  }
 ],
 "metadata": {
  "kernelspec": {
   "display_name": "Python 3",
   "language": "python",
   "name": "python3"
  },
  "language_info": {
   "codemirror_mode": {
    "name": "ipython",
    "version": 3
   },
   "file_extension": ".py",
   "mimetype": "text/x-python",
   "name": "python",
   "nbconvert_exporter": "python",
   "pygments_lexer": "ipython3",
   "version": "3.7.4"
  }
 },
 "nbformat": 4,
 "nbformat_minor": 5
}
