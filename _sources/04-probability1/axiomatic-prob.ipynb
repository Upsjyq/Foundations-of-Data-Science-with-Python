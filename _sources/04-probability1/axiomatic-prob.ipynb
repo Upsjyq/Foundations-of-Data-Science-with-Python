{
 "cells": [
  {
   "cell_type": "markdown",
   "id": "ebaea4ca",
   "metadata": {},
   "source": [
    "# Axiomatic  Probability"
   ]
  },
  {
   "cell_type": "markdown",
   "id": "0de75582",
   "metadata": {},
   "source": [
    "The methods of the previous two sections that define probabilities using relative frequencies or based on properties of fair experiments are helpful to develop some intuition about probability. However, these methods have limitations that restrict their usefulness to many  real world problems. These problems were recognized by mathematicians working on probability and motivated these mathematicians to develop an approach to probability that is:\n",
    "* not based on a particular application or interpretation,\n",
    "* agrees models based on relative frequency and fair probabilities,\n",
    "* agrees with our intuition (where appropriate), and\n",
    "* are useful to solving real-world problems.\n",
    "\n",
    "The approach they developed is called *Axiomatic Probability*. Axiomatic means that there is a set of assumptions or rules (called axioms) for probability, but that the set of rules is made as small as possible. This approach may at first seem unnecessarily mathematical, but I believe that the reader will soon see that this approach will help them to develop a fundamentally sound understanding of probability."
   ]
  },
  {
   "cell_type": "markdown",
   "id": "e56b1215",
   "metadata": {},
   "source": [
    "## Probability Spaces\n",
    "\n",
    "The first step in developing Axiomatic Probability is to define the core objects that the axioms apply to. Define a *Probability Space* as an ordered collection (tuple) of three objects, and we denote it by \n",
    "$$\n",
    "(S, \\mathcal{F}, P)\n",
    "$$\n",
    "\n",
    "These objects are called the *sample space*, the *event class*, and the *probability measure*. Since there are three objects in a probability space, it is sometimes said that **probability is a triple** or **a probability space is a triple**."
   ]
  },
  {
   "cell_type": "markdown",
   "id": "48a305c5",
   "metadata": {},
   "source": [
    "**Sample Space**\n",
    "\n",
    "We have already introduce the sample space in {doc}`outcomes-samplespaces-events`. It is a **set** containing all possible outcomes for an experiment."
   ]
  },
  {
   "cell_type": "markdown",
   "id": "949c919a",
   "metadata": {},
   "source": [
    "**Event Class**\n",
    "\n",
    "The second object, denoted by a calligraphic F ($\\mathcal{F}$), is called the *event class*.\n",
    "````{panels}\n",
    "DEFINTION\n",
    "^^^\n",
    "event class:\n",
    "For a sample space $S$ and a probability measure $P$, the event class, denoted by $\\mathcal{F}$ is a collection of all subsets of $S$ to which we will assign probability (i.e., for which $P$ will be defined). The sets in $\\mathcal{F}$ are called events.\n",
    "````\n",
    " \n",
    "\n",
    "When $S$ is finite, then $\\mathcal{F}$ can be taken to be all possible subsets of $S$.\n",
    "````{panels}\n",
    "DEFINTION\n",
    "^^^\n",
    "power set: For a set $S$ with finite cardinality, $|S|=N < \\infty$, the power set is the set of all possible subsets. We will use the notation $2^S$ to denote the power set.\n",
    "````\n",
    "\n"
   ]
  },
  {
   "cell_type": "markdown",
   "id": "603f61d6",
   "metadata": {},
   "source": [
    "Note that the power set includes both the empty set ($\\emptyset$) and $S$.\n",
    "\n",
    "**Example**\n",
    "Consider flipping a coin and observing the top face. Then $S=\\{H,T\\}$ and\n",
    "\n",
    "$$\n",
    "\\mathcal{F} = \\bigl\\{ \\emptyset, H, T, \\{H,T\\} = S \\bigr\\}\n",
    "$$\n",
    "\n",
    "Note that $|S|=2$ and $|2^S| = 4 = 2^|S|$.\n",
    "\n",
    "**Exercise**\n",
    "\n",
    "Consider rolling a standard six-sided die. Give the sample space, $S$,  and the power set of the sample space, $2^S$.  What is the cardinality of $2^S$?"
   ]
  },
  {
   "cell_type": "markdown",
   "id": "ddef65a3",
   "metadata": {},
   "source": [
    "When $|S|=\\infty$, weird things can happen if we try to assign probabilities to every subset of $S$. **JMS: Working here. Need footnote about uncountably infinite** For typical data science applications, we can assume that any event that we want to ask about will be in the event class, and we do not need to explicitly enumerate the event class."
   ]
  },
  {
   "cell_type": "markdown",
   "id": "7559d28b",
   "metadata": {},
   "source": [
    "**Probability Measure**\n",
    "\n",
    "Until now, we have discussed the probabilities of outcomes. However, this is not the approach taken in probability spaces:\n",
    "\n",
    "````{panels}\n",
    "DEFINTION\n",
    "^^^\n",
    "probability measure:\n",
    "The probability measure, $P$, is a real-valued set function that maps every element of the event class to the real line.\n",
    "````\n",
    "\n",
    "Note that in defining the probability measure, we do not specify the range of values for $P$, because at this point we are only defining the structure of the probability space through the types of elements that make it up.\n",
    "\n",
    "Although $P$ assigns outcomes to events (as opposed to outcomes), every outcome in $S$ is typically an event in the event class. Thus, $P$ is more general in its operation than we have considered in our previous examples. As explained in {doc}`outcomes-samplespaces-events`, an event occurs if the experiment's outcome is one of the outcomes in that event's set."
   ]
  },
  {
   "cell_type": "markdown",
   "id": "5b9f396d",
   "metadata": {},
   "source": [
    "## Axioms of Probability\n",
    "\n",
    "As previously mentioned, axioms are a minimal set of rules. There are three Axioms of Probability that are specified in terms of the probability measure:\n",
    "\n"
   ]
  },
  {
   "cell_type": "markdown",
   "id": "6b7d0dd9",
   "metadata": {},
   "source": [
    "**The Axioms of Probability**\n",
    "\n",
    "**I.** For every event $E$ in the eventclass $\\mathcal{F}$, $ P(E) \\ge 0$ \n",
    "*(the event probabilities are non-negative)*\n",
    "\n",
    "**II.** $P(S) =1$   *(the probability that some outcome occurs is 1)*\n",
    "\n",
    "**III.** For all pairs of events $E$ and $F$ in the event class that are disjoint ($E \\cap F = \\emptyset$), \n",
    "          $P( E \\cup F) = P(E)+P(F)$ *(if two events are disjoint, then the probability that either one of the events occurs is equal to the sum of the event probabilities)*\n",
    "          \n",
    "When dealing with infinite sample spaces, an alternative version of Axiom III should be used:\n",
    "\n",
    "**III'.** If $A_1, A_2, \\ldots$ is a sequence of\n",
    "          event that are all disjoint  ($A_i \\cap A_j = \\emptyset~ \\forall i\\ne j$),\n",
    "          then \n",
    "          \n",
    "$$\n",
    "P \\left[ \\bigcup_{k=1}^{\\infty} A_k \\right] = \\sum_{k=1}^{\\infty}\n",
    " P\\left[ A_k \\right].\n",
    "$$\n",
    "            \n",
    "<!-- *(Note that these sums and unions are over countably infinite sequences of events.)* -->"
   ]
  },
  {
   "cell_type": "markdown",
   "id": "6d51fdd8",
   "metadata": {},
   "source": [
    "Many students of probability wonder why Axiom I does not specify that $0 \\le P(E) \\le 1$. The answer is that the second part of that inequality is not needed because it can be proven from the other axioms. Anything that is not required is removed to ensure that the axioms are a minimal set of rules. "
   ]
  },
  {
   "cell_type": "markdown",
   "id": "429c9921",
   "metadata": {},
   "source": [
    "Axiom III is a powerful tool for calculating probabilities. However, it must be used carefully. \n",
    "\n",
    "**Example**\n",
    "\n",
    "A fair six-sided die is rolled twice. What is the probability that the top face on the first roll is less than 3? What is the probability that the top face on the second roll is less than 3?\n",
    "\n",
    "First, let's define some notation for the events of interest:\n",
    "\n",
    "Let $E_i$ denote the event that the top face on roll $i$ is less than 3\n",
    "\n",
    "Then \n",
    "\n",
    "$$\n",
    "E_1=\\{1_1, 2_1 \\},\n",
    "$$\n",
    "\n",
    "where $k_l$ denotes the **outcome** that the top face is $k$ on roll $l$. Similarly,\n",
    "\n",
    "$$E_2=\\{1_2, 2_2 \\}.$$\n",
    "Note that we can rewrite\n",
    "\n",
    "$$\n",
    "E_i = \\{1_i\\} \\cup \\{2_i\\},\n",
    "$$ \n",
    "\n",
    "where $\\cup$ is the union operator.  Because outcomes are always disjoint, axiom III can be applied to yield\n",
    "\\begin{align*}\n",
    "P(E_i) &= P\\left(\\{1_i\\} \\cup \\{2_i\\} \\right) \\\\\n",
    " &= P\\left(\\{1_i\\} \\right) + P \\left( \\{2_i\\} \\right) \\\\\n",
    " &= \\frac{1}{6} + \\frac{1}{6},\n",
    "\\end{align*}\n",
    "where the last line comes from applying the probability of an outcome in a fair experiment. Thus, $P(E_i)=1/3$ for $i=1,2$. Most readers will intuitively have known this answer. \n",
    "\n",
    "**Example**\n",
    "\n",
    "Consider the same exact experiment described in the previous example.  However, let's ask a slightly different question: what is the probability that either the value on the first die is less than 3 **or** the value on the second die is less than 3. (This could also include the case that both are less than 3.)  Mathematically, we write this as $P(E_1 \\cup E_2)$ using the events already defined.\n",
    "\n",
    "Since $E_1$ and $E_2$ correspond to events on completely different dice, it may be tempting to apply Axiom III like:\n",
    "\\begin{align*}\n",
    "P(E_1 \\cup E_2) &= P(E_1) + P(E_2) \\\\\n",
    "&= \\frac{1}{3} + \\frac{1}{3}\\\\\n",
    "&= \\frac{2}{3}.\n",
    "\\end{align*}\n",
    "However, it is easy to see that somehow this thinking is not correct. For example, if we defined events $G_i$ to be the event that the value on die $i$ is less than 5, this approach would imply that\n",
    "\\begin{align*}\n",
    "P(G_1 \\cup G_2) &= P(G_1) + P(G_2) \\\\\n",
    "&= \\frac{2}{3} + \\frac{2}{3}\\\\\n",
    "&= \\frac{4}{3}.\n",
    "\\end{align*}\n",
    "Hopefully the reader recognizes that this is not an allowed value for a probability! Let's delve in to see what went wrong. We can begin by estimating the true value of $P(E_1 \\cup E_2)$ using simulation:"
   ]
  },
  {
   "cell_type": "code",
   "execution_count": 13,
   "id": "10bd0a9b",
   "metadata": {},
   "outputs": [
    {
     "name": "stdout",
     "output_type": "stream",
     "text": [
      "P(E1 or E2) =~ 0.55974\n"
     ]
    }
   ],
   "source": [
    "import numpy as np\n",
    "import numpy.random as npr\n",
    "\n",
    "num_sims = 100_000\n",
    "\n",
    "# Generate the dice values for all simulations:\n",
    "die1 = npr.randint(1, 7, size=num_sims)\n",
    "die2 = npr.randint(1, 7, size=num_sims)\n",
    "\n",
    "# Each comparison will generate an array of True/False value\n",
    "E1occurred = die1 < 3\n",
    "E2occurred = die2 < 3\n",
    "\n",
    "# Use NumPy's union operator (|) to return True where either array is True:\n",
    "Eoccurred = E1occurred | E2occurred\n",
    "\n",
    "# NumPy's count_nonzero function will count 1 for each True value and 0 for each False value\n",
    "print(\"P(E1 or E2) =~\", np.count_nonzero(Eoccurred) / num_sims)"
   ]
  },
  {
   "cell_type": "markdown",
   "id": "404cf4f8",
   "metadata": {},
   "source": [
    "The estimated probability is about 0.56, which is lower than predicted by trying to apply Axiom III. The problem is that Axiom III does not hold in the way that it is used here because $E_1$ and $E_2$ are not disjoint: both can occur at the same time. Let's enumerate every thing that could happen by writing the outcomes of dice 1 and dice 2 as a tuple, where $(j,k)$ means that die 1's outcome was $j$ and die 2's outcome was $k$.  \n",
    "\n",
    "We will use colors to help denote when events belong to a particular event. We start by printing all outcomes with the outcomes in event $E_1$ highlighted in blue:"
   ]
  },
  {
   "cell_type": "code",
   "execution_count": 38,
   "id": "632ec0f9",
   "metadata": {},
   "outputs": [
    {
     "name": "stdout",
     "output_type": "stream",
     "text": [
      "Outcomes in E1 are in blue:\n",
      "\u001b[34m(1, 1)   \u001b[0m\u001b[34m(1, 2)   \u001b[0m\u001b[34m(1, 3)   \u001b[0m\u001b[34m(1, 4)   \u001b[0m\u001b[34m(1, 5)   \u001b[0m\u001b[34m(1, 6)   \u001b[0m\n",
      "\u001b[34m(2, 1)   \u001b[0m\u001b[34m(2, 2)   \u001b[0m\u001b[34m(2, 3)   \u001b[0m\u001b[34m(2, 4)   \u001b[0m\u001b[34m(2, 5)   \u001b[0m\u001b[34m(2, 6)   \u001b[0m\n",
      "(3, 1)   (3, 2)   (3, 3)   (3, 4)   (3, 5)   (3, 6)   \n",
      "(4, 1)   (4, 2)   (4, 3)   (4, 4)   (4, 5)   (4, 6)   \n",
      "(5, 1)   (5, 2)   (5, 3)   (5, 4)   (5, 5)   (5, 6)   \n",
      "(6, 1)   (6, 2)   (6, 3)   (6, 4)   (6, 5)   (6, 6)   \n"
     ]
    }
   ],
   "source": [
    "# Need to see if this is standard in Anaconda\n",
    "from termcolor import colored\n",
    "\n",
    "print(\"Outcomes in E1 are in blue:\")\n",
    "for j in range(1, 7):\n",
    "    for k in range(1, 7):\n",
    "        if j < 3:\n",
    "            print(colored(\"(\" + str(j) + \", \" + str(k) + \")   \", \"blue\"), end=\"\")\n",
    "        else:\n",
    "            print(\"(\" + str(j) + \", \" + str(k) + \")   \", end=\"\")\n",
    "    print()"
   ]
  },
  {
   "cell_type": "markdown",
   "id": "7b7cbb3c",
   "metadata": {},
   "source": [
    "We can easily modify this to highlight the events in $E_2$ in green:"
   ]
  },
  {
   "cell_type": "code",
   "execution_count": 37,
   "id": "88b5b806",
   "metadata": {},
   "outputs": [
    {
     "name": "stdout",
     "output_type": "stream",
     "text": [
      "Outcomes in E2 are in green:\n",
      "\u001b[32m(1, 1)   \u001b[0m\u001b[32m(1, 2)   \u001b[0m(1, 3)   (1, 4)   (1, 5)   (1, 6)   \n",
      "\u001b[32m(2, 1)   \u001b[0m\u001b[32m(2, 2)   \u001b[0m(2, 3)   (2, 4)   (2, 5)   (2, 6)   \n",
      "\u001b[32m(3, 1)   \u001b[0m\u001b[32m(3, 2)   \u001b[0m(3, 3)   (3, 4)   (3, 5)   (3, 6)   \n",
      "\u001b[32m(4, 1)   \u001b[0m\u001b[32m(4, 2)   \u001b[0m(4, 3)   (4, 4)   (4, 5)   (4, 6)   \n",
      "\u001b[32m(5, 1)   \u001b[0m\u001b[32m(5, 2)   \u001b[0m(5, 3)   (5, 4)   (5, 5)   (5, 6)   \n",
      "\u001b[32m(6, 1)   \u001b[0m\u001b[32m(6, 2)   \u001b[0m(6, 3)   (6, 4)   (6, 5)   (6, 6)   \n"
     ]
    }
   ],
   "source": [
    "print(\"Outcomes in E2 are in green:\")\n",
    "for j in range(1, 7):\n",
    "    for k in range(1, 7):\n",
    "        if k < 3:\n",
    "            print(colored(\"(\" + str(j) + \", \" + str(k) + \")   \", \"green\"), end=\"\")\n",
    "        else:\n",
    "            print(\"(\" + str(j) + \", \" + str(k) + \")   \", end=\"\")\n",
    "    print()"
   ]
  },
  {
   "cell_type": "markdown",
   "id": "bab6c901",
   "metadata": {},
   "source": [
    "Note that we can already see that the set of outcomes in $E_1$ overlap with the set of outcomes in $E_2$. To make that explicit, let's highlight the outcomes that are in both $E_1$ or $E_2$ in red: "
   ]
  },
  {
   "cell_type": "code",
   "execution_count": 36,
   "id": "1cafcc6f",
   "metadata": {},
   "outputs": [
    {
     "name": "stdout",
     "output_type": "stream",
     "text": [
      "Outcomes in both E1 and E2 are in red:\n",
      "\u001b[31m(1, 1)   \u001b[0m\u001b[31m(1, 2)   \u001b[0m(1, 3)   (1, 4)   (1, 5)   (1, 6)   \n",
      "\u001b[31m(2, 1)   \u001b[0m\u001b[31m(2, 2)   \u001b[0m(2, 3)   (2, 4)   (2, 5)   (2, 6)   \n",
      "(3, 1)   (3, 2)   (3, 3)   (3, 4)   (3, 5)   (3, 6)   \n",
      "(4, 1)   (4, 2)   (4, 3)   (4, 4)   (4, 5)   (4, 6)   \n",
      "(5, 1)   (5, 2)   (5, 3)   (5, 4)   (5, 5)   (5, 6)   \n",
      "(6, 1)   (6, 2)   (6, 3)   (6, 4)   (6, 5)   (6, 6)   \n"
     ]
    }
   ],
   "source": [
    "print(\"Outcomes in both E1 and E2 are in red:\")\n",
    "for j in range(1, 7):\n",
    "    for k in range(1, 7):\n",
    "        if j < 3 and k < 3:\n",
    "            print(colored(\"(\" + str(j) + \", \" + str(k) + \")   \", \"red\"), end=\"\")\n",
    "        else:\n",
    "            print(\"(\" + str(j) + \", \" + str(k) + \")   \", end=\"\")\n",
    "    print()"
   ]
  },
  {
   "cell_type": "markdown",
   "id": "6f389f6f",
   "metadata": {},
   "source": [
    "So, does this mean that we cannot use Axiom III to solve this problem? No. We just have to be more careful. Let's highlight all the outcomes that belong to $E_1 \\cup E_2$ with a yellow background. Let's also count these as we go:"
   ]
  },
  {
   "cell_type": "code",
   "execution_count": 34,
   "id": "4914f97f",
   "metadata": {},
   "outputs": [
    {
     "name": "stdout",
     "output_type": "stream",
     "text": [
      "Outcomes in  E1 OR E2 are on a yellow background:\n",
      "\u001b[43m(1, 1)   \u001b[0m\u001b[43m(1, 2)   \u001b[0m\u001b[43m(1, 3)   \u001b[0m\u001b[43m(1, 4)   \u001b[0m\u001b[43m(1, 5)   \u001b[0m\u001b[43m(1, 6)   \u001b[0m\n",
      "\u001b[43m(2, 1)   \u001b[0m\u001b[43m(2, 2)   \u001b[0m\u001b[43m(2, 3)   \u001b[0m\u001b[43m(2, 4)   \u001b[0m\u001b[43m(2, 5)   \u001b[0m\u001b[43m(2, 6)   \u001b[0m\n",
      "\u001b[43m(3, 1)   \u001b[0m\u001b[43m(3, 2)   \u001b[0m(3, 3)   (3, 4)   (3, 5)   (3, 6)   \n",
      "\u001b[43m(4, 1)   \u001b[0m\u001b[43m(4, 2)   \u001b[0m(4, 3)   (4, 4)   (4, 5)   (4, 6)   \n",
      "\u001b[43m(5, 1)   \u001b[0m\u001b[43m(5, 2)   \u001b[0m(5, 3)   (5, 4)   (5, 5)   (5, 6)   \n",
      "\u001b[43m(6, 1)   \u001b[0m\u001b[43m(6, 2)   \u001b[0m(6, 3)   (6, 4)   (6, 5)   (6, 6)   \n",
      "\n",
      "Number of outcomes in E1 OR E2 is 20\n"
     ]
    }
   ],
   "source": [
    "print(\"Outcomes in  E1 OR E2 are on a yellow background:\")\n",
    "count = 0\n",
    "\n",
    "for j in range(1, 7):\n",
    "    for k in range(1, 7):\n",
    "        if j < 3 or k < 3:\n",
    "            print(\n",
    "                colored(\"(\" + str(j) + \", \" + str(k) + \")   \", on_color=\"on_yellow\"),\n",
    "                end=\"\",\n",
    "            )\n",
    "            count += 1\n",
    "        else:\n",
    "            print(\"(\" + str(j) + \", \" + str(k) + \")   \", end=\"\")\n",
    "    print()\n",
    "\n",
    "print()\n",
    "print(\"Number of outcomes in E1 OR E2 is\", count)"
   ]
  },
  {
   "cell_type": "markdown",
   "id": "f650813e",
   "metadata": {},
   "source": [
    "If an event is written in terms of a set of $K$ **outcomes** $o_0, o_1, \\ldots, o_{K-1}$, and the experiment is fair and has $N$ total outcomes, then Axiom III can be applied to calculate the probability as \n",
    "\\begin{align*}\n",
    "P(E) &= P \\left(\\left\\{o_0, o_1, \\ldots, o_{K-1} \\right\\} \\right) \\\\\n",
    "&= P \\left( o_0 \\right) + P \\left( o_1 \\right) +  \\ldots + P \\left( o_{K-1}  \\right) \\\\\n",
    "&= \\frac{1}{N} + \\frac{1}{N} + \\ldots + \\frac{1}{N} \\mbox{        (total of } K \\mbox{ terms)} \\\\\n",
    "&= \\frac{K}{N} \n",
    "\\end{align*}\n",
    "We believe that this experiment is fair and that any of the 36 total outcomes is equally likely to occur. The form above is general to any event for a fair experiment, and it is convenient to rewrite it in terms of set cardinalities as\n",
    "\n",
    "$$\n",
    "P(E) = \\frac{|E|}{|S|}.\n",
    "$$\n",
    "\n",
    "Applying this our example, we can easily calculate the probability we are looking for as\n",
    "\\begin{align*}\n",
    "P\\left( E_1 \\cup E_2 \\right) &= \\frac{ \\left \\vert E_1 \\cup E_2 \\right \\vert } { \\left \\vert S \\right \\vert} \\\\ \n",
    "&= \\frac{20}{36} \\\\\n",
    "&= \\frac{5}{9}\n",
    "\\end{align*}\n",
    "\n",
    "Note that the calculated value matches our estimate from the simulation:"
   ]
  },
  {
   "cell_type": "code",
   "execution_count": 39,
   "id": "ecfdfee9",
   "metadata": {},
   "outputs": [
    {
     "data": {
      "text/plain": [
       "0.5555555555555556"
      ]
     },
     "execution_count": 39,
     "metadata": {},
     "output_type": "execute_result"
    }
   ],
   "source": [
    "5 / 9"
   ]
  },
  {
   "cell_type": "markdown",
   "id": "1900e53c",
   "metadata": {},
   "source": [
    "The key to making this work was that we had to realize several things:\n",
    "* $E_1$ and $E_2$ are not outcomes. They are events, and they can occur at the same time.\n",
    "* The outcomes of the experiment are the combination of the outcomes from the individual rolls of the two dice.\n",
    "* The composite experiment is still a fair experiment. It is easy to calculate probabilities using Axiom III and the properties of fair experiments once we can determine the number of outcomes in the event of interest."
   ]
  },
  {
   "cell_type": "markdown",
   "id": "3052f47b",
   "metadata": {},
   "source": [
    "However, we can see that the solution method is still lacking in some ways:\n",
    "* It only works for fair experiments\n",
    "* It requires enumeration of the outcomes in the event -- this may be challenging to do without a computer and may not scale well.\n",
    "<!-- * It will not work if the trials are not independent.-->\n",
    "\n",
    "Some of the difficulties in solving this problem come from not having a larger toolbox; i.e., the axioms provide a very limited set of equations for working with probabilities. In the next section, we explore several corollaries to the axioms and show how these can be used to simplify some problems in probability."
   ]
  },
  {
   "cell_type": "code",
   "execution_count": null,
   "id": "e6d2c87e-1717-463c-8b7e-43b8da51a502",
   "metadata": {},
   "outputs": [],
   "source": []
  }
 ],
 "metadata": {
  "kernelspec": {
   "display_name": "Python 3",
   "language": "python",
   "name": "python3"
  },
  "language_info": {
   "codemirror_mode": {
    "name": "ipython",
    "version": 3
   },
   "file_extension": ".py",
   "mimetype": "text/x-python",
   "name": "python",
   "nbconvert_exporter": "python",
   "pygments_lexer": "ipython3",
   "version": "3.7.4"
  }
 },
 "nbformat": 4,
 "nbformat_minor": 5
}
