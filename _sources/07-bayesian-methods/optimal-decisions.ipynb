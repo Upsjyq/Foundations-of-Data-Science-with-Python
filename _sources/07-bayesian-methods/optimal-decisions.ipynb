{
 "cells": [
  {
   "cell_type": "markdown",
   "id": "4fba2df4-38af-4288-9442-1f80868b6ca7",
   "metadata": {},
   "source": [
    "#  Optimal Decisions for Discrete Stochastic Systems\n",
    "\n",
    "We are ready to tackle our third example from this chapter's introduction: \n",
    "\n",
    "```{panels}\n",
    "Example: Binary Communication System\n",
    "^^^\n",
    "In a binary communication system, 0s and 1s are transmitted over a noisy channel.\n",
    "\n",
    "If we know the probability that a given bit is a 0 and we know the probabilities associated with the noisy channel, what is the optimal decision given an observation at the output of the channel?\n",
    "```\n",
    "\n",
    "Let's start by considering one particular instantiation of this problem: \n",
    "\n",
    "```{index} communication system\n",
    "```\n",
    "\n",
    "```{index} binary communication system\n",
    "```\n",
    "\n",
    "## Binary Communication System\n",
    "\n",
    "Suppose we are given a system with that has binary inputs and ternary outputs. Let's use $A_0$ and $A_1$ to denote the input events and $B_0$, $B_1$, and $B_2$ to denote the output events. The channel is completely specified by giving the likelihoods, $P(B_j|A_i)$ for all $i \\in \\{0,1\\}$ and $j \\in \\{0,1,2\\}. \n",
    "\n",
    "Let $p_{ij} = P(B_j|A_i)$. Note the order of the $i$ and $j$.  This is the probability of transitioning from input $i$ to output $j$, and these are also called *channel transition probabilities*. It is helpful to visualize the channel transition probabilities/likelihoods on a diagram, where we label the arrow connecting input event $A_i$ with output event $B_j$ by $p_{ij}$. An  example of such a diagram is shown in {numref}`example2to3`. For example, from this diagram, we can read that $p_{00}=5/8$, $p_{01}=1/4$, and $p_{12}=3/4$.\n",
    "\n",
    ":::{figure-md} example2to3\n",
    "\n",
    "<img src=\"example2to3.svg\" alt=\"Channel diagram with two inputs ($A_0, A_1$) and three outputs ($B_0, B_1, B_2$). Probabilities are shown for each transition.\" width=\"400px\">\n",
    "\n",
    "Example channel transition diagram for channel with two inputs and three outputs.\n",
    ":::\n"
   ]
  },
  {
   "cell_type": "markdown",
   "id": "0c6d4ab4-209e-4fa8-a2b6-02501a38581c",
   "metadata": {},
   "source": [
    "It is convenient to collect the channel transition probabilities into an array, such that the $(i,j)$th entry in the array is $p_{ij}$. Let's import numpy and create an array with these channel transition probabilities:"
   ]
  },
  {
   "cell_type": "code",
   "execution_count": 1,
   "id": "691b77c6-b604-429e-9fed-6927d32cde2c",
   "metadata": {},
   "outputs": [
    {
     "name": "stdout",
     "output_type": "stream",
     "text": [
      "[[0.625 0.25  0.125]\n",
      " [0.125 0.125 0.75 ]]\n"
     ]
    }
   ],
   "source": [
    "import numpy as np\n",
    "\n",
    "P=np.array([\n",
    "    [5/8, 1/4, 1/8],\n",
    "    [1/8, 1/8, 3/4]\n",
    "])\n",
    "\n",
    "print(P)"
   ]
  },
  {
   "cell_type": "markdown",
   "id": "73defdc4-e781-493a-abe4-6f810699cf7d",
   "metadata": {},
   "source": [
    "Note that the probabilities with the same conditioning should add to 1. In other words,\n",
    "\n",
    "$$\n",
    "\\sum_{j \\in \\{0,1,2\\} }  P(B_j|A_i) = 1, ~~~ i=0,1.\n",
    "$$\n",
    "In the diagram, this corresponds to the transition probabilities that emerge from the same input. In the matrix $\\mathbf{P},$ this corresponds to all of the entries in a row. We can tell numpy to sum the array across the column by using the `np.sum` function and passing the `axis=1` argument to tell it to sum across the second axis (the columns):"
   ]
  },
  {
   "cell_type": "code",
   "execution_count": 2,
   "id": "65408bd6-5abd-47e8-9026-2a3ec9b9c7df",
   "metadata": {},
   "outputs": [
    {
     "data": {
      "text/plain": [
       "array([1., 1.])"
      ]
     },
     "execution_count": 2,
     "metadata": {},
     "output_type": "execute_result"
    }
   ],
   "source": [
    "np.sum(P, axis=1)"
   ]
  },
  {
   "cell_type": "markdown",
   "id": "e8418e06-4bd9-4c10-a4e6-d14fde3a671f",
   "metadata": {},
   "source": [
    "Note that the probabilities for a particular $B_j$ (i.e., merging into a particular output) do not necessarily sum to 1.\n",
    "\n",
    "\n",
    "$$\n",
    "\\sum_{i \\in \\{0,1\\} }  P(B_j|A_i) = ?, ~~~ j=0,1,2.\n",
    "$$\n",
    "\n",
    "This corresponds to the column sums of the matrix $\\mathbf{P}$, and we can get these column sums by using the `np.sum` function and passing the `axis=0` argument to tell numpy to sum across axis 0 (the rows):"
   ]
  },
  {
   "cell_type": "code",
   "execution_count": 3,
   "id": "87fb8f05-38f4-4355-bdc4-818a0091ca33",
   "metadata": {},
   "outputs": [
    {
     "data": {
      "text/plain": [
       "array([0.75 , 0.375, 0.875])"
      ]
     },
     "execution_count": 3,
     "metadata": {},
     "output_type": "execute_result"
    }
   ],
   "source": [
    "np.sum(P, axis=0)"
   ]
  },
  {
   "cell_type": "markdown",
   "id": "fe417923-67e6-42c8-81ab-c95a8f90c6d2",
   "metadata": {},
   "source": [
    "```{index} decision problem\n",
    "```\n",
    "\n",
    "```{index} decision rule\n",
    "```\n",
    "\n",
    "## Decision Problem and Decision Rules\n",
    "\n",
    "The *decision problem* for the binary communication systems is concisely described as follows: given the observed output, determine which input was sent.  A *decision rule* tells how to choose an input given an observed output. In general, a decision rule may result in a randomized choice for the input,  but in this class, we will only consider deterministic decision rules.  \n",
    "\n",
    "We can turn this into an *optimal decision problem* if we specify criteria to be optimized. Here are two common criteria:\n",
    "1. Maximize the likelihood of the input \n",
    "2. Choose the input that minimizes the probability of error\n",
    "\n",
    "```{index} maximimum likelihoood decision rule\n",
    "```\n",
    "\n",
    "```{index} ML decision rule\n",
    "```\n",
    "\n",
    "The optimum decision under criterion 1 is called the *maximum likelihood (ML)* decision. In this problem, the likelihoods are of the form $P(B_j|A_i)$. Let $\\hat{A}_i$ denote the event that the receiver decides that input was $i$. Then the ML decision rule given $B_j$ is observed is \n",
    "\n",
    "$$\n",
    "\\hat{A}_i, \\mbox{ where } i = \\arg \\max_{i \\in \\{0,1\\}} P(B_j|A_i).\n",
    "$$\n",
    "\n",
    "\n",
    "\n",
    "The values of $P(B_j|A_i)$ are given in {numref}`example2to3`.  For each output, the ML rule selects the input that has the largest likelihood, which corresponds to the arrow with the largest probability merging into that output in {numref}`example2to3`. Similarly, the ML decision corresponds to the row number with the largest probability for each column of the transition probability matrix, $\\mathbf{P}$. To get the index of the largest value in each column, we can use the `np.argmax` function and pass the `axis=0` keyword parameter to tell NumPy to maximize over the rows. (Note that `np.max` would return the maximum value, whereas `np.argmax` returns the index of the maximum value.)\n",
    "\n",
    "Thus, the ML decisions are as follows:\n",
    "\n",
    "\n"
   ]
  },
  {
   "cell_type": "code",
   "execution_count": 4,
   "id": "8ddfa7d8-0220-4fed-89a5-f2661d928ccf",
   "metadata": {},
   "outputs": [
    {
     "data": {
      "text/plain": [
       "array([0, 0, 1])"
      ]
     },
     "execution_count": 4,
     "metadata": {},
     "output_type": "execute_result"
    }
   ],
   "source": [
    "np.argmax(P, axis=0)"
   ]
  },
  {
   "cell_type": "markdown",
   "id": "1c4487a0-1d10-4cc6-83be-d9438692ab5b",
   "metadata": {},
   "source": [
    "Given $B_0$ is received decide $A_0$\n",
    "\n",
    "Given $B_1$ is received, decide $A_0$\n",
    "\n",
    "Given $B_2$ is received, decide $A_1$"
   ]
  },
  {
   "cell_type": "markdown",
   "id": "962c30bd-c6d6-4fcc-99f6-01f783858403",
   "metadata": {},
   "source": [
    "Unfortunately, the ML solution does not necessarily minimize the probability of error. For instance, suppose that we know that 0 is sent with probability 1; i.e., $P(A_0)=1$. Then the ML rule will make an error whenever $B_2$ is received. Let's use total probability to calculate the probability of each $B_j$:\n",
    "\n",
    "$$\n",
    "P(B_j) = \\sum_{i \\in \\{0,1\\}} P(B_j|A_i) P(A_i)\n",
    "$$\n",
    "\n",
    "We start by setting up a NumPy vector to hold the *a priori* probabilities: \n",
    "\n",
    "$$ \n",
    "\\left[ P(A_0), P(A_1) \\right].\n",
    "$$\n",
    "\n",
    "Then we use a nested for loop to calculate $P(B_j)$ for each $j$ and within the loop for each $j$ we use a for loop to  carry out the sum for each $i$:"
   ]
  },
  {
   "cell_type": "code",
   "execution_count": 5,
   "id": "49ff585a-5e4d-45ba-9a52-1e438900d8db",
   "metadata": {},
   "outputs": [
    {
     "name": "stdout",
     "output_type": "stream",
     "text": [
      "P(B0) = 0.625\n",
      "P(B1) = 0.25\n",
      "P(B2) = 0.125\n"
     ]
    }
   ],
   "source": [
    "\n",
    "aprioris = np.array([1,0])\n",
    "for j in range(3):\n",
    "    pBj=0\n",
    "    for i in range(2):\n",
    "        pBj+=P[i,j]*aprioris[i]\n",
    "    \n",
    "    print(f'P(B{j}) = {pBj}')"
   ]
  },
  {
   "cell_type": "markdown",
   "id": "76f5b9ca-2b93-40aa-ac15-88bab0ad052f",
   "metadata": {},
   "source": [
    "Let $E$ be the event that an error occurs (i.e., the decision differs from the transmitted symbol). Then for this simple example, $P(E) =  P(B_2) = 0.125$. We know that it is suboptimal, because we could just use the decision rule \"Always decide $A_0$\" and get error probability 0.\n",
    "\n",
    "We can guess that there must be some value $q_0$ such that:\n",
    "* if $P(A_0)<q_0$, the ML rule performs better, and\n",
    "* if $P(A_0)>q_0$, always deciding $A_0$ performs better.\n",
    "\n",
    "```{index} numpy.random.choice\n",
    "```\n",
    "\n",
    "```{index} npr.choice\n",
    "```\n",
    "\n",
    "Let's build a simulation to test this. First, we will see how to efficiently generate the events $A_0$ and $A_1$ given any probabilities $P(A_0)$ and $P(A_1)$ such that $P(A_0)+P(A_1) = 1$. We will again use NumPy's `npr.choice()` function, but we will now pass it the probability information as a keyword parameter. Take a look at the help for `npr.choice()`:\n"
   ]
  },
  {
   "cell_type": "code",
   "execution_count": 6,
   "id": "fb147fca-a9c0-4a6d-a37d-03fe7a38b48d",
   "metadata": {},
   "outputs": [],
   "source": [
    "import numpy as np\n",
    "import numpy.random as npr"
   ]
  },
  {
   "cell_type": "code",
   "execution_count": 7,
   "id": "30c0c38f-c40e-4fff-b105-4a0ec03d64b2",
   "metadata": {},
   "outputs": [
    {
     "data": {
      "text/plain": [
       "\u001b[0;31mDocstring:\u001b[0m\n",
       "choice(a, size=None, replace=True, p=None)\n",
       "\n",
       "Generates a random sample from a given 1-D array\n",
       "\n",
       ".. versionadded:: 1.7.0\n",
       "\n",
       ".. note::\n",
       "    New code should use the ``choice`` method of a ``default_rng()``\n",
       "    instance instead; please see the :ref:`random-quick-start`.\n",
       "\n",
       "Parameters\n",
       "----------\n",
       "a : 1-D array-like or int\n",
       "    If an ndarray, a random sample is generated from its elements.\n",
       "    If an int, the random sample is generated as if a were np.arange(a)\n",
       "size : int or tuple of ints, optional\n",
       "    Output shape.  If the given shape is, e.g., ``(m, n, k)``, then\n",
       "    ``m * n * k`` samples are drawn.  Default is None, in which case a\n",
       "    single value is returned.\n",
       "replace : boolean, optional\n",
       "    Whether the sample is with or without replacement\n",
       "p : 1-D array-like, optional\n",
       "    The probabilities associated with each entry in a.\n",
       "    If not given the sample assumes a uniform distribution over all\n",
       "    entries in a.\n",
       "\n",
       "Returns\n",
       "-------\n",
       "samples : single item or ndarray\n",
       "    The generated random samples\n",
       "\n",
       "Raises\n",
       "------\n",
       "ValueError\n",
       "    If a is an int and less than zero, if a or p are not 1-dimensional,\n",
       "    if a is an array-like of size 0, if p is not a vector of\n",
       "    probabilities, if a and p have different lengths, or if\n",
       "    replace=False and the sample size is greater than the population\n",
       "    size\n",
       "\n",
       "See Also\n",
       "--------\n",
       "randint, shuffle, permutation\n",
       "Generator.choice: which should be used in new code\n",
       "\n",
       "Notes\n",
       "-----\n",
       "Sampling random rows from a 2-D array is not possible with this function,\n",
       "but is possible with `Generator.choice` through its ``axis`` keyword.\n",
       "\n",
       "Examples\n",
       "--------\n",
       "Generate a uniform random sample from np.arange(5) of size 3:\n",
       "\n",
       ">>> np.random.choice(5, 3)\n",
       "array([0, 3, 4]) # random\n",
       ">>> #This is equivalent to np.random.randint(0,5,3)\n",
       "\n",
       "Generate a non-uniform random sample from np.arange(5) of size 3:\n",
       "\n",
       ">>> np.random.choice(5, 3, p=[0.1, 0, 0.3, 0.6, 0])\n",
       "array([3, 3, 0]) # random\n",
       "\n",
       "Generate a uniform random sample from np.arange(5) of size 3 without\n",
       "replacement:\n",
       "\n",
       ">>> np.random.choice(5, 3, replace=False)\n",
       "array([3,1,0]) # random\n",
       ">>> #This is equivalent to np.random.permutation(np.arange(5))[:3]\n",
       "\n",
       "Generate a non-uniform random sample from np.arange(5) of size\n",
       "3 without replacement:\n",
       "\n",
       ">>> np.random.choice(5, 3, replace=False, p=[0.1, 0, 0.3, 0.6, 0])\n",
       "array([2, 3, 0]) # random\n",
       "\n",
       "Any of the above can be repeated with an arbitrary array-like\n",
       "instead of just integers. For instance:\n",
       "\n",
       ">>> aa_milne_arr = ['pooh', 'rabbit', 'piglet', 'Christopher']\n",
       ">>> np.random.choice(aa_milne_arr, 5, p=[0.5, 0.1, 0.1, 0.3])\n",
       "array(['pooh', 'pooh', 'pooh', 'Christopher', 'piglet'], # random\n",
       "      dtype='<U11')\n",
       "\u001b[0;31mType:\u001b[0m      builtin_function_or_method\n"
      ]
     },
     "metadata": {},
     "output_type": "display_data"
    }
   ],
   "source": [
    "?npr.choice"
   ]
  },
  {
   "cell_type": "markdown",
   "id": "356429aa-c090-4deb-b312-0757293dd18c",
   "metadata": {},
   "source": [
    "Thus, if we want to output a 0 with probability $P(A_0)=0.75$ and a 1 with probability $P(A_1)=0.25$, we can simulate 1000 such events as follows:"
   ]
  },
  {
   "cell_type": "code",
   "execution_count": 8,
   "id": "2b02d4c1-4a24-47eb-af63-6be7875de082",
   "metadata": {},
   "outputs": [],
   "source": [
    "sim_values = npr.choice([0,1], 1000, p = [0.75,0.25])"
   ]
  },
  {
   "cell_type": "markdown",
   "id": "db95a507-5a06-4417-808f-d428e57be0cb",
   "metadata": {},
   "source": [
    "We can check that we are achieving the desired probabilities by comparing the relative frequencies to the probabilities we passed as arguments:"
   ]
  },
  {
   "cell_type": "code",
   "execution_count": 9,
   "id": "b658127c-8d6f-4290-a0bc-c3d63e812157",
   "metadata": {},
   "outputs": [
    {
     "data": {
      "text/plain": [
       "0.753"
      ]
     },
     "execution_count": 9,
     "metadata": {},
     "output_type": "execute_result"
    }
   ],
   "source": [
    "np.sum(sim_values==0)/1000"
   ]
  },
  {
   "cell_type": "code",
   "execution_count": 10,
   "id": "c7897b30-3659-4001-b0e4-4e9a742513ae",
   "metadata": {},
   "outputs": [
    {
     "data": {
      "text/plain": [
       "0.247"
      ]
     },
     "execution_count": 10,
     "metadata": {},
     "output_type": "execute_result"
    }
   ],
   "source": [
    "np.sum(sim_values==1)/1000"
   ]
  },
  {
   "cell_type": "markdown",
   "id": "524d6171-0814-4b48-a4c4-7b36e3d125e2",
   "metadata": {},
   "source": [
    "The relative frequencies of 0.763, 0.237 are close to the probabilities 0.75, 0.25. Some variation is expected, since we only simulated 1000 events."
   ]
  },
  {
   "cell_type": "markdown",
   "id": "825ccad0-f8d4-4475-8514-445459edd498",
   "metadata": {},
   "source": [
    "Now we are ready to build a function to carry out the simulation. I am going to introduced one new Python concept here: we can pass a function as an argument to another function. This will allow us to create one simulation and test it for multiple different decision rules.  Let's name the parameter for our decision_rule. Then the following code will simulate the error probability when passed a function for the decision rule that returns either 0 or 1 (corresponding to $A_0$ or $A_1$) when passed an integer 0, 1, or 2, representing one of the outputs ($B_0, B_1, B_2$):"
   ]
  },
  {
   "cell_type": "code",
   "execution_count": 11,
   "id": "fd19f1c3-fafc-4beb-8d5c-0dade3c9f6c0",
   "metadata": {},
   "outputs": [],
   "source": [
    "def sim2to3 (decision_rule, P, PA0, num_sims = 100_000, verbose = False):\n",
    "    # Create all the input events at the same time:\n",
    "    inputs = npr.choice([0, 1], num_sims, p = [PA0, 1-PA0])\n",
    "    \n",
    "    # Create an array to determine the channel outputs\n",
    "    outputs = np.zeros(num_sims)\n",
    "    \n",
    "    # Create an array to store the decisions\n",
    "    decisions = np.zeros(num_sims)\n",
    "    \n",
    "    # There are more efficient ways of doing this using NumPy, but\n",
    "    # individually determining each output for each input should make \n",
    "    # this easier to understand for most learners\n",
    "    for sim in range(num_sims):\n",
    "        input_bit = inputs[sim]\n",
    "        # Choose observation according to transition probabilities for given input bit:\n",
    "        observation = npr.choice([0, 1, 2], p = P[input_bit])\n",
    "        \n",
    "        # Now pass this observation to the decision rule function:\n",
    "        decisions[sim] = decision_rule(observation, P, PA0)\n",
    "        \n",
    "    \n",
    "    # Finally, calculate the error probability. An error occurs\n",
    "    # whenever the decision is not equal to the true input\n",
    "    errors = np.sum(inputs != decisions)\n",
    "    \n",
    "    error_prob = errors/num_sims\n",
    "    if verbose:\n",
    "        print( f'The error probability is approximately {error_prob:.2f}')\n",
    "    return error_prob\n",
    "    "
   ]
  },
  {
   "cell_type": "markdown",
   "id": "f95e7be4-8e12-49a9-85eb-f0b8f0abfb14",
   "metadata": {},
   "source": [
    "Now let's create and test our decision rule functions. The easiest one is to always decide 0:"
   ]
  },
  {
   "cell_type": "code",
   "execution_count": 12,
   "id": "52ff7cf4-6a77-41a2-a4f7-64546d7c02e2",
   "metadata": {},
   "outputs": [],
   "source": [
    "def always_decide0 (observation, P, PA0):\n",
    "    return 0"
   ]
  },
  {
   "cell_type": "markdown",
   "id": "37e789f1-06d8-4aca-ae3e-6db9a939da85",
   "metadata": {},
   "source": [
    "This should decision rule should result in zero errors when $P(A_0)=1$:"
   ]
  },
  {
   "cell_type": "code",
   "execution_count": 13,
   "id": "67edd953-dbbf-429b-bea5-e192dde91e7d",
   "metadata": {},
   "outputs": [
    {
     "name": "stdout",
     "output_type": "stream",
     "text": [
      "The error probability is approximately 0.00\n"
     ]
    },
    {
     "data": {
      "text/plain": [
       "0.0"
      ]
     },
     "execution_count": 13,
     "metadata": {},
     "output_type": "execute_result"
    }
   ],
   "source": [
    "sim2to3(always_decide0, P, 1, verbose=True)"
   ]
  },
  {
   "cell_type": "markdown",
   "id": "f6e6e16d-435c-4df5-800b-c831664537fd",
   "metadata": {},
   "source": [
    "The error probability should increase as $P(A_0)$ decreases:"
   ]
  },
  {
   "cell_type": "code",
   "execution_count": 14,
   "id": "f45bb676-c3e9-4f78-b922-77f13836af86",
   "metadata": {},
   "outputs": [
    {
     "name": "stdout",
     "output_type": "stream",
     "text": [
      "The error probability is approximately 0.20\n"
     ]
    },
    {
     "data": {
      "text/plain": [
       "0.20242"
      ]
     },
     "execution_count": 14,
     "metadata": {},
     "output_type": "execute_result"
    }
   ],
   "source": [
    "sim2to3(always_decide0, P, 0.8, verbose=True)"
   ]
  },
  {
   "cell_type": "markdown",
   "id": "f4335382-7460-4b03-8d88-171f0c17d277",
   "metadata": {},
   "source": [
    "Now let's implement out ML decision rule as a function:"
   ]
  },
  {
   "cell_type": "code",
   "execution_count": 15,
   "id": "5a496901-7eb6-408c-b5a4-84edd62fc8d8",
   "metadata": {},
   "outputs": [],
   "source": [
    "def ML (observation, P, PA0):\n",
    "    return np.argmax(P[:,observation]) #Here I selected the  column and then did argmax, but the other way also works"
   ]
  },
  {
   "cell_type": "markdown",
   "id": "8fb9ff26-381a-4f1a-a928-33a2067d8180",
   "metadata": {},
   "source": [
    "Let's try this for a few values of $P(A_0)$:"
   ]
  },
  {
   "cell_type": "code",
   "execution_count": 16,
   "id": "f72fb356-9a5c-457e-bd1e-f570aee55435",
   "metadata": {},
   "outputs": [
    {
     "name": "stdout",
     "output_type": "stream",
     "text": [
      "The error probability is approximately 0.12\n"
     ]
    },
    {
     "data": {
      "text/plain": [
       "0.12494"
      ]
     },
     "execution_count": 16,
     "metadata": {},
     "output_type": "execute_result"
    }
   ],
   "source": [
    "sim2to3(ML, P, 1, verbose = True)"
   ]
  },
  {
   "cell_type": "code",
   "execution_count": 17,
   "id": "d1ed298f-356f-48f2-8e9c-2798f838334a",
   "metadata": {},
   "outputs": [
    {
     "name": "stdout",
     "output_type": "stream",
     "text": [
      "The error probability is approximately 0.15\n"
     ]
    },
    {
     "data": {
      "text/plain": [
       "0.14946"
      ]
     },
     "execution_count": 17,
     "metadata": {},
     "output_type": "execute_result"
    }
   ],
   "source": [
    "sim2to3(ML, P, 0.8, verbose = True)"
   ]
  },
  {
   "cell_type": "markdown",
   "id": "00438de8-bc1c-41cd-ac4a-10091ed9f060",
   "metadata": {},
   "source": [
    "The ML rule does worse than the \"always decide $A_0$\" rule for $P(A_0)=1$, as expected. The ML rule performs better when $P(A_0)=0.8$.\n",
    "\n",
    "Let's create one more decision rule function: always decide $A_1$:\n"
   ]
  },
  {
   "cell_type": "code",
   "execution_count": 18,
   "id": "23a209a3-b7b4-420c-803a-755ee2335601",
   "metadata": {},
   "outputs": [],
   "source": [
    "def always_decide1 (observation, P, PA0):\n",
    "    return 1"
   ]
  },
  {
   "cell_type": "markdown",
   "id": "01031038-de85-4b4c-93cc-2e353fecd0a8",
   "metadata": {},
   "source": [
    "Let's generate a plot comparing the error probabilities of these decision rules as a function of $P(A_0)$:"
   ]
  },
  {
   "cell_type": "code",
   "execution_count": 19,
   "id": "c7094fad-59a6-4b8b-a6c4-ec3713609ec3",
   "metadata": {},
   "outputs": [
    {
     "name": "stderr",
     "output_type": "stream",
     "text": [
      "100%|██████████████████████████████████████████████████████████████████████████████████████████████████████████| 21/21 [02:32<00:00,  7.27s/it]\n"
     ]
    },
    {
     "data": {
      "image/png": "[encoded data removed]",
      "text/plain": [
       "<Figure size 432x288 with 1 Axes>"
      ]
     },
     "metadata": {
      "needs_background": "light"
     },
     "output_type": "display_data"
    }
   ],
   "source": [
    "from tqdm import tqdm \n",
    "import matplotlib.pyplot as plt\n",
    "\n",
    "input_probs = np.linspace(0,1,21)\n",
    "\n",
    "pe_always0 = []\n",
    "pe_always1 = []\n",
    "pe_ML = []\n",
    "\n",
    "for PA0 in tqdm(input_probs):\n",
    "    pe_always0 += [sim2to3(always_decide0, P, PA0)]\n",
    "    pe_always1 += [sim2to3(always_decide1, P, PA0)]\n",
    "    pe_ML += [sim2to3(ML, P, PA0)]\n",
    "    \n",
    "plt.plot(input_probs, pe_always0, label='Always decide 0')\n",
    "plt.plot(input_probs, pe_always1, label='Always decide 1')\n",
    "plt.plot(input_probs, pe_ML, label='ML')\n",
    "plt.xlabel(f'$P(A_0)$')\n",
    "plt.ylabel('Error probability')\n",
    "plt.legend();\n",
    "    "
   ]
  },
  {
   "cell_type": "markdown",
   "id": "fcbcae46-3d2c-482d-8318-54164344b8ad",
   "metadata": {},
   "source": [
    "From the figure, we can see that each of these three different decision rules minimize the probability of error over some specific range of $P(A_0)$. For low $P(A_0)$, it is best to always decide $A_1$. For medium $P(A_0)$ (in the range $0.2 < P(A_0) < 0.85$), it appears that it is best to apply the ML rule, and for larger $P(A_0)$, it is best to always decide $A_0$. And other decision rules are possible. We need a principled way to determine the optimum decision rule to minimize the error probability.\n",
    "\n",
    "```{index} binary communication system; optimal decision rules\n",
    "```\n",
    "\n",
    "```{index} optimal decision rules\n",
    "```\n",
    "\n",
    "```{index} minimum probability of error decision rule\n",
    "```\n",
    "\n",
    "```{index} decision rule;  minimum probability of error\n",
    "```\n",
    "\n",
    "```{index} MAP decision rule\n",
    "```\n",
    "\n",
    "```{index} decision rule; MAP\n",
    "```\n",
    "\n",
    "## Optimal Decisions to Minimize the Probability of Error: The MAP Rule\n",
    "\n",
    "As before, let $\\hat{A}_i$ denote the event that the decision is $i$. Then an error occurs if the decision is different than the actual input event. Let $E$ denote the error event, so\n",
    "\n",
    "$$\n",
    "E = \\left(\\hat{A}_0 \\cap A_1\\right) \\cup \\left(\\hat{A}_1 \\cap A_0\\right).\n",
    "$$\n",
    "\n",
    "Note that $\\left(\\hat{A}_0 \\cap A_1\\right)$ and $\\left(\\hat{A}_1 \\cap A_0\\right)$ are mutually exclusive (since $A_0$ and $A_1$ are complementary events$. Thus \n",
    "\n",
    "$$\n",
    "P(E) = P\\left(\\hat{A}_0 \\cap A_1\\right) + P \\left(\\hat{A}_1 \\cap A_0\\right).\n",
    "$$\n",
    "\n",
    "\n",
    "We can minimize the error probability if we minimize the error probability given the observation, $B_j$:\n",
    "\n",
    "$$\n",
    "P\\left(E|B_j\\right) = P\\left(\\hat{A}_0 \\cap A_1 \\left \\vert B_j \\right. \\right) + P \\left(\\hat{A}_1 \\cap A_0 \\left \\vert B_j \\right. \\right).\n",
    "$$\n",
    "\n",
    "In general, we can make a decision rule that is probabilistic, meaning that given $B_j$, we choose $\\hat{A}_0$ with\n",
    "some probability and $\\hat{A}_1$ with some probability. However, that turns out to not be necessary: the optimum decision rule is deterministic. Thus, only one of the two terms in the summation will be retained; i.e., given $B_j$ only one of $\\hat{A}_0$ and $\\hat{A_1}$ will be occur. If given $B_j$, we always decide the most likely input was 0, then $\\hat{A}_0$ occurs, and $P(E) = P\\left(A_1 \\left \\vert B_j \\right. \\right)$; conversely, if given $B_j$, we always decide the most likely input was 1, then $\\hat{A}_1$ occurs, and $P(E)=P \\left( A_0 \\left \\vert B_j \\right. \\right).$\n",
    "\n",
    "Since, we wish to minimize the $P(E)$, the decision rule given $B_j$ is received should be:\n",
    "* $\\hat{A}_0$ if $P\\left(A_1 \\left \\vert B_j \\right. \\right) < P \\left( A_0 \\left \\vert B_j \\right. \\right)$, and\n",
    "* $\\hat{A}_1$ if $P\\left(A_1 \\left \\vert B_j \\right. \\right) > P \\left( A_0 \\left \\vert B_j \\right. \\right)$, and\n",
    "* either $\\hat{A}_0$ or $\\hat{A}_1$ if $P\\left(A_1 \\left \\vert B_j \\right. \\right) = P \\left( A_0 \\left \\vert B_j \\right. \\right)$.\n",
    "\n",
    "```{note}\n",
    "\n",
    "Although we didn't prove that the optimal decision rule is deterministic, it is not hard to see that any probabilistic decision rule would have an error probability that is  a linear combination of the probabilities $P\\left(A_1 \\left \\vert B_j \\right. \\right)$ and  $P \\left( A_0 \\left \\vert B_j \\right. \\right)$. The minimum value of a line on a closed interval is at one of the end points (i.e., one of the decisions has probability 1 and the other has probability 0), so the decision rule that minimizes the error probability is deterministic.\n",
    "```\n",
    "\n",
    "The decision rule that minimizes the error probability can be summarized as \"choose the input that maximizes the *a posteriori* probability given the observation $B_j$. Mathematically, the minimum error probability rule is \n",
    "\n",
    "$$\n",
    "\\hat{A}_i \\mbox{where} j = \\arg \\max_{i \\in \\{0,1\\} } P \\left( A_i \\left \\vert B_j \\right. \\right)\n",
    "$$\n",
    "\n",
    "Since we are choosing the input that maximizes the *a posteriori* probability (APP), we call this a *maximum a posteriori (MAP)* decision rule. We also use the following notation when the decision rule is between two possible inputs:\n",
    "\n",
    "$$\n",
    "P\\left(A_0 \\left \\vert B_j \\right. \\right) \n",
    "\\underset{1}{\\overset{0}{\\gtrless}}\n",
    " P \\left( A_1 \\left \\vert B_j \\right. \\right).\n",
    " $$ (binary-map)\n",
    "\n",
    "As in {doc}`bayes-rule`, the APPs are not given in the problem formulation, but we can find the APPs from the likelihoods and the *a priori* probabilities:\n",
    "\n",
    "$$\n",
    "P(A_i|B_j) = \\frac{P(B_j|A_i)P(A_i)}{\\sum_i P(B_j|A_i)P(A_i)}.\n",
    "$$\n",
    "\n",
    "If only the MAP decision is needed, then {eq}`binary-map` can be simplified:\n",
    "\n",
    "\\begin{align}\n",
    "P\\left(A_0 \\left \\vert B_j \\right. \\right)  & \\underset{1}{\\overset{0}{\\gtrless}}  P \\left( A_1 \\left \\vert B_j \\right. \\right)\\\\\n",
    "\\frac{P(B_j|A_0)P(A_0)}{\\sum_i P(B_j|A_i)P(A_i)} & \\underset{1}{\\overset{0}{\\gtrless}}\n",
    "\\frac{P(B_j|A_1)P(A_1)}{\\sum_i P(B_j|A_i)P(A_i)} \\\\\n",
    "{P(B_j|A_0)P(A_0)} & \\underset{1}{\\overset{0}{\\gtrless}}\n",
    "{P(B_j|A_1)P(A_1)}.\n",
    "\\end{align}\n",
    "\n",
    "The APPs can be computed by implementing Bayes' rule in Python as follows for $P(A_0) = 1/5$ and $P(A_1)=4/5$:"
   ]
  },
  {
   "cell_type": "code",
   "execution_count": 20,
   "id": "85f95e79-671a-45d3-8d74-95fac69a570b",
   "metadata": {},
   "outputs": [
    {
     "name": "stdout",
     "output_type": "stream",
     "text": [
      "P(B0) = 0.225\n",
      "P(A0|B0) = 0.5555555555555556\n",
      "P(A1|B0) = 0.4444444444444445\n",
      "\n",
      "P(B1) = 0.15000000000000002\n",
      "P(A0|B1) = 0.3333333333333333\n",
      "P(A1|B1) = 0.6666666666666666\n",
      "\n",
      "P(B2) = 0.6250000000000001\n",
      "P(A0|B2) = 0.039999999999999994\n",
      "P(A1|B2) = 0.96\n",
      "\n"
     ]
    }
   ],
   "source": [
    "\n",
    "aprioris = np.array([1/5,4/5])\n",
    "for j in range(3):\n",
    "    pBj=0\n",
    "    for i in range(2):\n",
    "        pBj+=P[i,j]*aprioris[i]\n",
    "    print(f'P(B{j}) = {pBj}')\n",
    "    for i in range(2):\n",
    "        print(f'P(A{i}|B{j}) = {P[i,j]*aprioris[i]/pBj}')\n",
    "    print()\n",
    "        "
   ]
  },
  {
   "cell_type": "markdown",
   "id": "54abc5a9-769b-4d17-9113-53fb80b093be",
   "metadata": {},
   "source": [
    "The MAP rule for these *a priori* probabilities is **not any of the three rules previously introduced**! Let's create a MAP decision rule function:"
   ]
  },
  {
   "cell_type": "code",
   "execution_count": 21,
   "id": "405751d4-36b4-48bd-9738-5d0275becdf7",
   "metadata": {},
   "outputs": [],
   "source": [
    "def MAP(observation, P, PA0):\n",
    "    # Take the $j$th colum and multiply it elementwise by the a priori probability vector\n",
    "    scaled_apps = P[:,observation] * np.array([PA0, 1-PA0])\n",
    "    return np.argmax(scaled_apps)"
   ]
  },
  {
   "cell_type": "markdown",
   "id": "8b7056c9-efd3-4068-8368-d989e704056e",
   "metadata": {},
   "source": [
    "Let's now run a simulation comparing the performance of all of these decision rules:"
   ]
  },
  {
   "cell_type": "code",
   "execution_count": 22,
   "id": "1fb36b0f-fc38-48b8-bf15-8235cf47a22b",
   "metadata": {},
   "outputs": [
    {
     "name": "stderr",
     "output_type": "stream",
     "text": [
      "100%|██████████████████████████████████████████████████████████████████████████████████████████████████████████| 21/21 [03:36<00:00, 10.32s/it]\n"
     ]
    },
    {
     "data": {
      "image/png": "[encoded data removed]",
      "text/plain": [
       "<Figure size 432x288 with 1 Axes>"
      ]
     },
     "metadata": {
      "needs_background": "light"
     },
     "output_type": "display_data"
    }
   ],
   "source": [
    "input_probs = np.linspace(0,1,21)\n",
    "\n",
    "pe_always0 = []\n",
    "pe_always1 = []\n",
    "pe_ML = []\n",
    "pe_MAP = []\n",
    "\n",
    "for PA0 in tqdm(input_probs):\n",
    "    pe_always0 += [sim2to3(always_decide0, P, PA0)]\n",
    "    pe_always1 += [sim2to3(always_decide1, P, PA0)]\n",
    "    pe_ML += [sim2to3(ML, P, PA0)]\n",
    "    pe_MAP += [sim2to3(MAP, P, PA0)]\n",
    "    \n",
    "plt.plot(input_probs, pe_always0, label='Always decide 0')\n",
    "plt.plot(input_probs, pe_always1, label='Always decide 1')\n",
    "plt.plot(input_probs, pe_ML, label='ML')\n",
    "plt.plot(input_probs, pe_MAP, label='MAP')\n",
    "plt.xlabel(f'$P(A_0)$')\n",
    "plt.ylabel('Error probability')\n",
    "plt.legend();\n",
    "    "
   ]
  },
  {
   "cell_type": "markdown",
   "id": "53731b08-fa4d-49b6-a3ce-52af73b3480a",
   "metadata": {},
   "source": [
    "As seen in the figure, the MAP rule achieves the lowest error probability for all values of $P(A_0)$. However, this does require the receiver to know the *a priori* values of the inputs.  If the *a priori* probabilities are note known, then the ML decision rule is usually used."
   ]
  },
  {
   "cell_type": "markdown",
   "id": "d619e8ee-8c96-4e81-8512-6a2aeb24eeda",
   "metadata": {},
   "source": [
    "## Terminology Review"
   ]
  },
  {
   "cell_type": "code",
   "execution_count": 1,
   "id": "f0bb10c6-c6bb-4cef-b160-ba694f143646",
   "metadata": {
    "tags": [
     "remove-input"
    ]
   },
   "outputs": [
    {
     "data": {
      "text/html": [
       "<style>\n",
       ":root{\n",
       "--asparagus: #87a878ff;\n",
       "--terra-cotta: #e26d5aff;\n",
       "--cyan-process: #5bc0ebff;\n",
       "--dark-blue-gray: #666a86ff;\n",
       "--snow: #fffafbff;\n",
       "--rich-black-fogra-39: #090c08ff;\n",
       "}\n",
       "\n",
       "\n",
       "/* entire container, keeps perspective */\n",
       ".flip-container {\n",
       "\tperspective: 1000px;\n",
       "  touch-action: pinch-zoom pan-y;\n",
       "}\n",
       "\n",
       "\n",
       ".flip-container.flip .flipper {\n",
       "\ttransform: rotateY(180deg)  translateX(-10%);\n",
       "}\n",
       "\n",
       "\n",
       ".flip-container.slide .flipper.frontcard {\n",
       "    filter: brightness(90%);\n",
       "    position:absolute;\n",
       "    z-index: -20;\n",
       "}\n",
       "\n",
       ".flip-container.prepare .flipper.backcard {\n",
       "    opacity:1;\n",
       "    transform:  translateX(20px); \n",
       "    transition: display 0s;\n",
       "}\n",
       "\n",
       "\n",
       ".flip-container.slide .flipper.backcard {\n",
       "    filter: brightness(115%);\n",
       "    height: 360px;\n",
       "    opacity:1;\n",
       "\t  transform:  rotateY(3deg)  translateX(700px) translateZ(20px) scale(1, 1.05) rotate(3deg);\n",
       "    z-index: 20;\n",
       "}\n",
       "\n",
       "\n",
       "\n",
       "\n",
       ".flip-container.slideback .flipper.backcard {\n",
       "    filter: brightness(100%);\n",
       "    opacity: 1;\n",
       "\t  transform: translateX(0px) translateZ(20px) rotateY(0deg);\n",
       "    z-index: 10;\n",
       "}\n",
       "\n",
       ".flip-container.slideback .flipper.frontcard {\n",
       "    filter: brightness(90%);\n",
       "    transform: translateX(0px) translateZ(-20px);\n",
       "    z-index: -10;\n",
       "}\n",
       "\n",
       "\n",
       ".flip-container, .front, .back {\n",
       "\t  height: 300px;\n",
       "\t  width: 640px;\n",
       "}\n",
       "\n",
       ".flipper.frontcard {\n",
       "    position:absolute;\n",
       "\t  transform: translateX(0px) rotateY(0deg) translateZ(20px);\n",
       "    z-index: 10;\n",
       "}\n",
       "\n",
       ".flipper.backcard {\n",
       "    filter: brightness(90%);\n",
       "    opacity:0;\n",
       "    position:absolute;\n",
       "    transform: translateX(0px) translateZ(-20px);\n",
       "    z-index: -10;\n",
       "}\n",
       "\n",
       "\n",
       "\n",
       "\n",
       "/* flip speed goes here */\n",
       ".flipper {\n",
       "    cursor:pointer;\n",
       "\t  height: 200px;\n",
       "    margin-left:20px;\n",
       "\t  position: absolute;\n",
       "    top: 0;\n",
       "\t  transform-style: preserve-3d;\n",
       "\t  transition: 0.6s;\n",
       "    width: 600px;\n",
       "}\n",
       "\n",
       "/* hide back of pane during swap */\n",
       ".front, .back {\n",
       "    -webkit-backface-visibility: hidden;\n",
       "\t  backface-visibility: hidden;\n",
       "\t  left: 0;\n",
       "\t  position: absolute;\n",
       "\t  top: 0;\n",
       "}\n",
       "\n",
       "/* front pane, placed above back */\n",
       ".front {\n",
       "\t  backface-visibility: hidden;\n",
       "    background: var(--asparagus);\n",
       "    transform: rotateY(0deg);\n",
       "\t  z-index: 2;\n",
       "}\n",
       "\n",
       "/* back, initially hidden pane */\n",
       ".back {\n",
       "\t  backface-visibility: hidden;\n",
       "    background: var(--dark-blue-gray);\n",
       "\t  transform: rotateY(180deg);\n",
       "}\n",
       "\n",
       ".next {\n",
       "    color: var(--rich-black-fogra-39);\n",
       "    cursor:pointer;\n",
       "    font-size: 16pt;\n",
       "    left:600px;\n",
       "    opacity:0.3;\n",
       "    position:relative; \n",
       "    top:20px;\n",
       "}\n",
       "\n",
       ".next.flipped {\n",
       "    opacity:1;\n",
       "}\n",
       "\n",
       ".next.hide {\n",
       "    opacity:0;\n",
       "}\n",
       "\n",
       "\n",
       ".flashcard{\n",
       "    border-radius: 10px;\n",
       "    color: #fafafa;\n",
       "    display:block;\n",
       "    padding:10px;\n",
       "  \n",
       "}\n",
       ".flashcardtext{\n",
       "    color: var(--snow);\n",
       "    font-size: 20pt;\n",
       "    margin-left:3%;\n",
       "    position:absolute;\n",
       "    text-align:center;\n",
       "    top: 50%;\n",
       "    transform: translate(0, -50%);\n",
       "    width:90%;\n",
       "  }\n",
       "\n",
       "</style><script type=\"text/Javascript\">\n",
       "/*!\n",
       " * swiped-events.js - v1.1.4\n",
       " * Pure JavaScript swipe events\n",
       " * https://github.com/john-doherty/swiped-events\n",
       " * @inspiration https://stackoverflow.com/questions/16348031/disable-scrolling-when-touch-moving-certain-element\n",
       " * @author John Doherty <www.johndoherty.info>\n",
       " * @license MIT\n",
       " */\n",
       "!function(t,e){\"use strict\";\"function\"!=typeof t.CustomEvent&&(t.CustomEvent=function(t,n){n=n||{bubbles:!1,cancelable:!1,detail:void 0};var a=e.createEvent(\"CustomEvent\");return a.initCustomEvent(t,n.bubbles,n.cancelable,n.detail),a},t.CustomEvent.prototype=t.Event.prototype),e.addEventListener(\"touchstart\",function(t){if(\"true\"===t.target.getAttribute(\"data-swipe-ignore\"))return;s=t.target,r=Date.now(),n=t.touches[0].clientX,a=t.touches[0].clientY,u=0,i=0},!1),e.addEventListener(\"touchmove\",function(t){if(!n||!a)return;var e=t.touches[0].clientX,r=t.touches[0].clientY;u=n-e,i=a-r},!1),e.addEventListener(\"touchend\",function(t){if(s!==t.target)return;var e=parseInt(l(s,\"data-swipe-threshold\",\"20\"),10),o=parseInt(l(s,\"data-swipe-timeout\",\"500\"),10),c=Date.now()-r,d=\"\",p=t.changedTouches||t.touches||[];Math.abs(u)>Math.abs(i)?Math.abs(u)>e&&c<o&&(d=u>0?\"swiped-left\":\"swiped-right\"):Math.abs(i)>e&&c<o&&(d=i>0?\"swiped-up\":\"swiped-down\");if(\"\"!==d){var b={dir:d.replace(/swiped-/,\"\"),xStart:parseInt(n,10),xEnd:parseInt((p[0]||{}).clientX||-1,10),yStart:parseInt(a,10),yEnd:parseInt((p[0]||{}).clientY||-1,10)};s.dispatchEvent(new CustomEvent(\"swiped\",{bubbles:!0,cancelable:!0,detail:b})),s.dispatchEvent(new CustomEvent(d,{bubbles:!0,cancelable:!0,detail:b}))}n=null,a=null,r=null},!1);var n=null,a=null,u=null,i=null,r=null,s=null;function l(t,n,a){for(;t&&t!==e.documentElement;){var u=t.getAttribute(n);if(u)return u;t=t.parentNode}return a}}(window,document);\n",
       "\n",
       "function jaxify(string) {\n",
       "    var mystring = string;\n",
       "    console.log(mystring);\n",
       "\n",
       "    count = 0;\n",
       "    var loc = mystring.search(/([^\\\\]|^)(\\$)/);\n",
       "\n",
       "    count2 = 0;\n",
       "    var loc2 = mystring.search(/([^\\\\]|^)(\\$\\$)/);\n",
       "\n",
       "    //console.log(loc);\n",
       "\n",
       "    while ((loc >= 0) || (loc2 >= 0)) {\n",
       "\n",
       "        /* Have to replace all the double $$ first with current implementation */\n",
       "        if (loc2 >= 0) {\n",
       "            if (count2 % 2 == 0) {\n",
       "                mystring = mystring.replace(/([^\\\\]|^)(\\$\\$)/, \"$1\\\\[\");\n",
       "            } else {\n",
       "                mystring = mystring.replace(/([^\\\\]|^)(\\$\\$)/, \"$1\\\\]\");\n",
       "            }\n",
       "            count2++;\n",
       "        } else {\n",
       "            if (count % 2 == 0) {\n",
       "                mystring = mystring.replace(/([^\\\\]|^)(\\$)/, \"$1\\\\(\");\n",
       "            } else {\n",
       "                mystring = mystring.replace(/([^\\\\]|^)(\\$)/, \"$1\\\\)\");\n",
       "            }\n",
       "            count++;\n",
       "        }\n",
       "        loc = mystring.search(/([^\\\\]|^)(\\$)/);\n",
       "        loc2 = mystring.search(/([^\\\\]|^)(\\$\\$)/);\n",
       "        //console.log(mystring,\", loc:\",loc,\", loc2:\",loc2);\n",
       "    }\n",
       "\n",
       "    //console.log(mystring);\n",
       "    return mystring;\n",
       "}\n",
       "\n",
       "function flip(ths) {\n",
       "    console.log(ths);\n",
       "    console.log(ths.id);\n",
       "    ths.classList.toggle(\"flip\"); \n",
       "    var next=document.getElementById(ths.id+'-next');\n",
       "    next.style.pointerEvents='none';\n",
       "    next.classList.add('flipped');\n",
       "    if (typeof MathJax != 'undefined') {\n",
       "        var version = MathJax.version;\n",
       "        console.log('MathJax version', version);\n",
       "        if (version[0] == \"2\") {\n",
       "            MathJax.Hub.Queue([\"Typeset\", MathJax.Hub]);\n",
       "        } else if (version[0] == \"3\") {\n",
       "            MathJax.typeset([ths]);\n",
       "        }\n",
       "    } else {\n",
       "        console.log('MathJax not detected');\n",
       "    }\n",
       "\n",
       "\n",
       "    setTimeout(reenableNext, 700, next);\n",
       "}\n",
       "\n",
       "function reenableNext(next) {\n",
       "    next.style.pointerEvents='auto';\n",
       "}\n",
       "\n",
       "\n",
       "\n",
       "function slide2(containerId) {\n",
       "    var container = document.getElementById(containerId);\n",
       "    var next=document.getElementById(containerId+'-next');\n",
       "    var frontcard = container.children[0];\n",
       "    var backcard = container.children[1];\n",
       "    container.style.pointerEvents='none';\n",
       "    //backcard.style.pointerEvents='none';\n",
       "    next.style.pointerEvents='none';\n",
       "    next.classList.remove('flipped');\n",
       "    next.classList.add('hide');\n",
       "\n",
       "    //container.classList.add(\"prepare\");\n",
       "    \n",
       "    container.className=\"flip-container slide\";\n",
       "    backcard.parentElement.removeChild(frontcard);\n",
       "    backcard.parentElement.appendChild(frontcard);\n",
       "    setTimeout(slideback, 600, container, frontcard, backcard, next);\n",
       "    \n",
       "}\n",
       "\n",
       "\n",
       "function checkFlip(containerId) {\n",
       "    var container = document.getElementById(containerId);\n",
       "\n",
       "\n",
       "    if (container.classList.contains('flip')) {\n",
       "        container.classList.remove('flip');\n",
       "        setTimeout(slide2, 600, containerId);\n",
       "    } \n",
       "    else {\n",
       "        slide2(containerId);\n",
       "    }\n",
       "}\n",
       "\n",
       "\n",
       "function slideback(container, frontcard, backcard, next) {\n",
       "    container.className=\"flip-container slideback\";\n",
       "    setTimeout(cleanup, 600, container, frontcard, backcard, next);\n",
       "}\n",
       "\n",
       "function cleanup(container, frontcard, backcard, next) {\n",
       "    container.removeChild(frontcard);\n",
       "    backcard.className=\"flipper frontcard\";\n",
       "    container.className=\"flip-container\";\n",
       "\n",
       "    var cardnum=parseInt(container.dataset.cardnum);\n",
       "    var cards=eval('cards'+container.id);\n",
       "    var flipper=createOneCard(container, false, cards, cardnum);\n",
       "    container.append(flipper);\n",
       "    cardnum= (cardnum+1) % parseInt(container.dataset.numCards);\n",
       "    container.dataset.cardnum=cardnum;\n",
       "    if (cardnum != 1){\n",
       "        next.innerHTML=\"Next >\";\n",
       "    } else {\n",
       "        next.innerHTML=\"Reload \\\\(\\\\circlearrowleft\\\\) \";\n",
       "        if (typeof MathJax != 'undefined') {\n",
       "            var version = MathJax.version;\n",
       "            console.log('MathJax version', version);\n",
       "            if (version[0] == \"2\") {\n",
       "                MathJax.Hub.Queue([\"Typeset\", MathJax.Hub]);\n",
       "            } else if (version[0] == \"3\") {\n",
       "                MathJax.typeset([next]);\n",
       "            }\n",
       "        } else {\n",
       "            console.log('MathJax not detected');\n",
       "        }\n",
       "\n",
       "\n",
       "    }\n",
       "\n",
       "    if (typeof MathJax != 'undefined') {\n",
       "        var version = MathJax.version;\n",
       "        console.log('MathJax version', version);\n",
       "        if (version[0] == \"2\") {\n",
       "            MathJax.Hub.Queue([\"Typeset\", MathJax.Hub]);\n",
       "        } else if (version[0] == \"3\") {\n",
       "            MathJax.typeset();\n",
       "        }\n",
       "    } else {\n",
       "        console.log('MathJax not detected');\n",
       "    }\n",
       "\n",
       "\n",
       "    next.style.pointerEvents='auto';\n",
       "    container.style.pointerEvents='auto';\n",
       "    next.classList.remove('hide');\n",
       "    container.addEventListener('swiped-left', function(e) {\n",
       "        /*\n",
       "          console.log(e.detail);\n",
       "          console.log(id);\n",
       "        */\n",
       "        checkFlip(container.id);\n",
       "    }, {once: true });\n",
       "\n",
       "\n",
       "}\n",
       "\n",
       "\n",
       "function createOneCard  (mydiv, frontCard, cards, cardnum) {\n",
       "    colors=[\n",
       "        '--asparagus',\n",
       "        '--terra-cotta',\n",
       "        '--cyan-process'\n",
       "    ]\n",
       "\n",
       "    var flipper = document.createElement('div');\n",
       "    if (frontCard){\n",
       "        flipper.className=\"flipper frontcard\";    \n",
       "    }\n",
       "    else {\n",
       "        flipper.className=\"flipper backcard\";   \n",
       "    }\n",
       "\n",
       "    var front = document.createElement('div');\n",
       "    front.className='front flashcard';\n",
       "\n",
       "    var frontSpan= document.createElement('span');\n",
       "    frontSpan.className='flashcardtext';\n",
       "    frontSpan.innerHTML=jaxify(cards[cardnum]['front']);\n",
       "    //frontSpan.textContent=jaxify(cards[cardnum]['front']);\n",
       "    front.style.background='var(' + colors[cardnum % colors.length] + ')';\n",
       "\n",
       "\n",
       "    front.append(frontSpan);\n",
       "    flipper.append(front);\n",
       "\n",
       "    var back = document.createElement('div');\n",
       "    back.className='back flashcard';\n",
       "\n",
       "    var backSpan= document.createElement('span');\n",
       "    backSpan.className='flashcardtext';\n",
       "    backSpan.innerHTML=jaxify(cards[cardnum]['back']);\n",
       "    back.append(backSpan);\n",
       "\n",
       "    flipper.append(back);\n",
       "\n",
       "    return flipper;\n",
       "\n",
       "}\n",
       "\n",
       "\n",
       "\n",
       "\n",
       "\n",
       "function createCards(id) {\n",
       "    console.log(id);\n",
       "    \n",
       "    var mydiv=document.getElementById(id);\n",
       "    \n",
       "    var cards=eval('cards'+id);\n",
       "    mydiv.dataset.cardnum=0;\n",
       "    mydiv.dataset.numCards=cards.length;\n",
       "    mydiv.addEventListener('swiped-left', function(e) {\n",
       "        /*\n",
       "          console.log(e.detail);\n",
       "          console.log(id);\n",
       "        */\n",
       "        checkFlip(id);\n",
       "    }, {once: true});\n",
       "\n",
       "    var cardnum=0;\n",
       "    \n",
       "    for (var i=0; i<2; i++) {\n",
       "    \n",
       "        var flipper;\n",
       "        if (i==0){\n",
       "            flipper=createOneCard(mydiv, true, cards, cardnum);\n",
       "        }\n",
       "        else {\n",
       "            flipper=createOneCard(mydiv, false, cards, cardnum);\n",
       "        }\n",
       "\n",
       "        mydiv.append(flipper);\n",
       "        if (typeof MathJax != 'undefined') {\n",
       "            var version = MathJax.version;\n",
       "            if (typeof version == 'undefined') {\n",
       "                setTimeout(function(){\n",
       "                    var version = MathJax.version;\n",
       "                    console.log('After sleep, MathJax version', version);\n",
       "                    if (version[0] == \"2\") {\n",
       "                        MathJax.Hub.Queue([\"Typeset\", MathJax.Hub]);\n",
       "                    } else if (version[0] == \"3\") {\n",
       "                        MathJax.typeset([flipper]);\n",
       "                    }\n",
       "                }, 500);\n",
       "            } else{\n",
       "                console.log('MathJax version', version);\n",
       "                if (version[0] == \"2\") {\n",
       "                    MathJax.Hub.Queue([\"Typeset\", MathJax.Hub]);\n",
       "                } else if (version[0] == \"3\") {\n",
       "                    MathJax.typeset([flipper]);\n",
       "                }\n",
       "            }\n",
       "        } else {\n",
       "            console.log('MathJax not detected');\n",
       "        }\n",
       "\n",
       "\n",
       "        cardnum = (cardnum + 1) % mydiv.dataset.numCards;\n",
       "    }\n",
       "    mydiv.dataset.cardnum = cardnum;\n",
       "\n",
       "    var next=document.getElementById(id+'-next');\n",
       "    if (cards.length==1) {\n",
       "        // Don't show next if no other cards!\n",
       "        next.style.pointerEvents='none';\n",
       "        next.classList.add('hide');\n",
       "    } else {\n",
       "        next.innerHTML=\"Next >\";\n",
       "    }\n",
       "\n",
       "    return flipper;\n",
       "}\n",
       "\n",
       "\n",
       "\n",
       "\n",
       "\n",
       "</script><script type=\"text/Javascript\">\n",
       "    \n",
       "    cardsbyxIbRsnwuuN=[\n",
       "    {\n",
       "        \"front\": \"decision rule<br>(discrete stochastic system)\",\n",
       "        \"back\": \"For a discrete stochastic system with inputs (or hidden states) $\\\\{A_i\\\\}$ and outputs $\\\\{B_j\\\\}$, a <I>decision rule</I> for an observation $B_j$ gives a choice of corresponding input event $A_i$.<br> The decision rule may be chosen to optimize some function of the inputs and outputs (e.g., likelihood or APP).\"\n",
       "    },\n",
       "    {\n",
       "        \"front\": \"maximum likelihood (ML) rule<br>(discrete stochastic system)\",\n",
       "        \"back\": \"For a stochastic system with a discrete input events $\\\\{ A_0, A_i, \\\\ldots \\\\}$ and  discrete output events $\\\\{B_0, B_1, \\\\ldots\\\\}$,  the <I>maximum likelihood</I> decision rule given $B_j$ was received is <br> $$ \\\\hat{A}_i, \\\\mbox{ where } i = \\\\arg \\\\max_{i \\\\in \\\\{0,1\\\\}} P(B_j|A_i). $$ \"\n",
       "    },\n",
       "    {\n",
       "        \"front\": \"MAP rule<br>(discrete stochastic system)\",\n",
       "        \"back\": \"For a stochastic system with a discrete input events $\\\\{ A_0, A_i, \\\\ldots \\\\}$ and  discrete output events $\\\\{B_0, B_1, \\\\ldots\\\\}$,  the <I>maximum a posteriori (MAP)</I> decision rule given $B_j$ was received is <br> $$ \\\\hat{A}_i, \\\\mbox{ where } i = \\\\arg \\\\max_{i \\\\in \\\\{0,1\\\\}} P(A_i|B_j). $$ \"}\n",
       "]\n",
       ";\n",
       "    \n",
       "\n",
       "        {\n",
       "        const jmscontroller = new AbortController();\n",
       "        const signal = jmscontroller.signal;\n",
       "\n",
       "        setTimeout(() => jmscontroller.abort(), 5000);\n",
       "\n",
       "        fetch(\"https://raw.githubusercontent.com/jmshea/Foundations-of-Data-Science-with-Python/main/07-bayesian-methods/flashcards/optimal-decisions.json\", {signal})\n",
       "        .then(response => response.json())\n",
       "        .then(json => createCards(\"byxIbRsnwuuN\"))\n",
       "        .catch(err => {\n",
       "        console.log(\"Fetch error or timeout\");\n",
       "        createCards(\"byxIbRsnwuuN\");\n",
       "        });\n",
       "        }\n",
       "        </script>\n",
       "        <div style=\"height:40px\"></div><div class=\"flip-container\" id=\"byxIbRsnwuuN\" onclick=\"flip(this)\"></div><div style=\"height:40px\"></div><div class=\"next\" id=\"byxIbRsnwuuN-next\" onclick=\"checkFlip('byxIbRsnwuuN')\"> </div> <div style=\"height:40px\"></div>"
      ],
      "text/plain": [
       "<IPython.core.display.HTML object>"
      ]
     },
     "metadata": {},
     "output_type": "display_data"
    }
   ],
   "source": [
    "from jupytercards import display_flashcards\n",
    "\n",
    "#display_flashcards('flashcards/'+'optimal-decisions.json')\n",
    "\n",
    "github='https://raw.githubusercontent.com/jmshea/Foundations-of-Data-Science-with-Python/main/'\n",
    "github+='07-bayesian-methods/flashcards/'\n",
    "display_flashcards(github+'optimal-decisions.json')\n",
    "\n"
   ]
  }
 ],
 "metadata": {
  "kernelspec": {
   "display_name": "Python 3 (ipykernel)",
   "language": "python",
   "name": "python3"
  },
  "language_info": {
   "codemirror_mode": {
    "name": "ipython",
    "version": 3
   },
   "file_extension": ".py",
   "mimetype": "text/x-python",
   "name": "python",
   "nbconvert_exporter": "python",
   "pygments_lexer": "ipython3",
   "version": "3.7.4"
  }
 },
 "nbformat": 4,
 "nbformat_minor": 5
}
