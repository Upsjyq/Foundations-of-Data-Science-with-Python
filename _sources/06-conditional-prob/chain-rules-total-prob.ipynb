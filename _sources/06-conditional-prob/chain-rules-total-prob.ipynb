{
 "cells": [
  {
   "cell_type": "markdown",
   "id": "bfeda320-c6c0-49b6-bdc4-6ba3deb87319",
   "metadata": {},
   "source": [
    "# Chain Rules and Total Probability\n",
    "\n",
    "In this section, we introduce techniques that use conditional probability to decompose events. The goal is to express unknown probabilities of events in terms of probabilities that we already know. "
   ]
  },
  {
   "cell_type": "markdown",
   "id": "73185233-1e77-45bf-be59-802828af3165",
   "metadata": {},
   "source": [
    "## Using Conditional Probability to Decompose Events: Part 1 -- Chain Rules"
   ]
  },
  {
   "cell_type": "markdown",
   "id": "3511744a-6181-4775-9e62-ce7c3829dbae",
   "metadata": {},
   "source": [
    "From the definition of conditional probability, we can write $P(A|B)$ as\n",
    "\\begin{align}\n",
    "  P(A|B)&= \\frac{P(A \\cap B)}{P(B)}  \\\\\n",
    "  \\Rightarrow P(A \\cap B)&= P(A|B)P(B), \n",
    "\\end{align}\n",
    "\n",
    "and we can write $P(B|A)$ as\n",
    "\n",
    "\\begin{align}\n",
    "  P(B|A)&=\\frac{P(A \\cap B)}{P(A)}  \\\\\n",
    "  \\Rightarrow P(A \\cap B)&= P(B|A)P(A).\n",
    "\\end{align}\n",
    "\n",
    "After manipulating the expressions as shown, we get two *different* formula for expressing $P(A \\cap B)$. These are **chain rules** for the probability of the intersection of two events. Such rules are often used when:\n",
    "* Two events are dependent on each other, but the relation is simple if the outcome of one of the experiments is known.\n",
    "* The events are at two different point in a system, such as the input and output of a system.\n",
    "\n",
    "\n",
    "**Example**\n",
    "\n",
    "A simple example of the former is in card games. Two cards are drawn (without replacement) from a deck of 52 cards (without jokers). What is the probability that they are both Aces? Let $A_i$ be the event that the card on draw $i$ is an Ace. Then the most natural way to apply the chain rule is to write\n",
    "\n",
    "$$\n",
    "P(A_1 \\cap A_2) = P(A_2 | A_1) P(A_1).\n",
    "$$\n",
    "\n",
    "The probability of getting an Ace in draw 1 is 4/52=1/13 because there are 4 Aces in the deck of 52 cards.  The probability of getting an Ace on the second draw *given that the first draw was an Ace* is 3/51 = 1/17 because after the first draw, there are 3 Aces left in the remaining deck of 51 cards.  Thus,\n",
    "\n",
    "$$\n",
    "P(A_1 \\cap A_2) = P(A_2 | A_1) P(A_1) = \\left( \\frac{1}{17} \\right) \\left( \\frac{1}{13} \\right) = \\frac{1}{221}\n",
    "$$\n",
    "\n",
    "As a check, we can compare with a solution using combinatorics. There are \n",
    "\n",
    "$$\n",
    "\\binom{4}{2} = 6\n",
    "$$\n",
    "ways to choose the two Aces from the four total Aces. There are \n",
    "\n",
    "$$\n",
    "\\binom{52}{2} = \\frac{ 52!}{50! 2!} = 1326\n",
    "$$\n",
    "ways to choose two cards from 52. So,\n",
    "\n",
    "$$\n",
    "P( A_1 \\cap A_2) = \\frac{6}{1326} = \\frac{1}{221},\n",
    "$$\n",
    "which matches our answer using conditional probability.\n",
    "\n",
    "The solution using conditional probability is usually much more intuitive for learners who are new to probability, but being able to use both techniques is a powerful method for checking your work\n",
    "\n",
    "**To be added: Question on probability of getting two face cards (JQK) on consecutive draws from a deck of cards. Question on getting defective computers when sitting down at random computers in a lab.**\n",
    "\n",
    "**Example** \n",
    "\n",
    "For the Magician's Coin problem, what is the probability of getting the Fair coin and it coming up heads on the first flip? This is an example of a system where there is an input that affects the future outputs. In this case, the input is the choice of coin. When we have such problems, we usually will need to decompose them in terms of the probabilities of the input and the conditional probabilities of the output given the input. Let $H_i$ denote the event that the coin comes up heads on flip $i$. Let $F$ be the event that the fair coin was chosen.  We are looking for $P(F \\cap H_1)$, which we can write as \n",
    "\n",
    "$$\n",
    "P(F \\cap H_1) = P(H_1 | F) P(F).\n",
    "$$\n",
    "\n",
    "If there is one Fair coin and one two-headed coin, $P(F) =1/2$.  Given  that the coin is Fair, $P(H_1|F) = 1/2$. So,\n",
    "\n",
    "$$\n",
    "P(F \\cap H_1) = \\left( \\frac 1 2  \\right) \\left( \\frac 1 2  \\right) = \\frac 1 4.\n",
    "$$\n",
    "\n",
    "Note that it is generally **not helpful to write the probability using the other form of the chain rule:**\n",
    "\n",
    "$$\n",
    "P(F \\cap H_1) = P(F| H_1) P(H_1).\n",
    "$$\n",
    "\n",
    "We do not know $P(H_1)$ nor $P(F|H_1)$. Thus, although the expression is valid mathematically, it is not helpful in solving this problem because it depends on probabilities that cannot be easily inferred from the problem setup.\n",
    "\n",
    "**To be added:Question on probability  of getting the Fair coin and heads on first two flips.**"
   ]
  },
  {
   "cell_type": "markdown",
   "id": "dcffb073-3075-4c32-91ba-a6a3b117702d",
   "metadata": {},
   "source": [
    "The chain rule can be easily generalized to more than two events. The easiest way is to write probabilities in terms of conditional probabilities that are expressed as fractions (as in the definition of probability), such that the denumenator of one fraction cancels with the numerator of the next fraction to make sure the expression is not changes when it is rewritten. This will make more sense with an example for rewriting the probability of the intersection of 3 events ($A$, $B$, and $C$):\n",
    "\\begin{align}\n",
    "  P(A \\cap B \\cap C) &= \\frac{P(A \\cap B \\cap C)} {}  \\cdot\n",
    "  \\frac{\\hspace{4em} }{} \\cdot \\frac{ \\hspace{3em}\\mbox{    }}{} \\\\\n",
    "  &\\\\\n",
    "  &= \\frac{P(A \\cap B \\cap C)} {P(B \\cap C)}  \\cdot\n",
    "  \\frac{P(B \\cap C)}{\\mbox{   }} \\cdot \\frac{ \\hspace{3em}\\mbox{    }}{} \\\\\n",
    "    &= \\frac{P(A \\cap B \\cap C)} {P(B \\cap C)}  \\cdot\n",
    "  \\frac{P(B \\cap C)}{P(C)} \\cdot \\frac{ P(C) }{1} \\\\\n",
    "  &= P(A|B \\cap C)  P(B | C) P(C)\n",
    "\\end{align}\n",
    "\n",
    "This decomposition assumes we know the probability of  $A$ given that $B$ and $C$ have occurred and we know the probability of $B$ given $C$. Such dependence occurs naturally in many systems, but the particular decomposition will depend on what we know about these probabilities. We could just have easily written\n",
    "\\begin{align}\n",
    "  P(A \\cap B \\cap C) \n",
    "  &= P(C|A \\cap B)  P(B | A) P(A)\n",
    "\\end{align}\n",
    "\n",
    "\n"
   ]
  },
  {
   "cell_type": "markdown",
   "id": "c517dc99-7168-4f13-8baf-8d05cd1fb38e",
   "metadata": {},
   "source": [
    "## Using Conditional Probability to Decompose Events: Part 2 --  Partitions, and Total Probability\n",
    "\n",
    "(To be written)"
   ]
  },
  {
   "cell_type": "code",
   "execution_count": null,
   "id": "5c4242f2-6fed-4322-9099-b52d8d7b5e09",
   "metadata": {},
   "outputs": [],
   "source": []
  }
 ],
 "metadata": {
  "kernelspec": {
   "display_name": "Python 3",
   "language": "python",
   "name": "python3"
  },
  "language_info": {
   "codemirror_mode": {
    "name": "ipython",
    "version": 3
   },
   "file_extension": ".py",
   "mimetype": "text/x-python",
   "name": "python",
   "nbconvert_exporter": "python",
   "pygments_lexer": "ipython3",
   "version": "3.7.4"
  }
 },
 "nbformat": 4,
 "nbformat_minor": 5
}
