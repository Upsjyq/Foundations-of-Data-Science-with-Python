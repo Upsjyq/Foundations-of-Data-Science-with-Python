{
 "cells": [
  {
   "cell_type": "markdown",
   "metadata": {},
   "source": [
    "# Review\n",
    "\n",
    "This chapter uses a simple experiment to introduce key concepts that will be used throughout this book.\n",
    "\n",
    "**Take-aways:**\n",
    "* **Computer simulations can be used to efficiently conduct experiments of random phenomena.**\n",
    "* **Scatter plots are a common visualization tool to see all the values of some numerical data.**\n",
    "* **Histograms are a common visualization tool to see how the values of a numerical data set are distributed.** Unlike scatter plots, the histogram summarizes information about the data: the values of the data cannot be recovered from the histogram.\n",
    "* **Relative frequency of an event is the proportion of experiments where that event occurred.**  For many experiments, if the number of observed experiment outcomes is large, the relative frequency will converge to the true probability of the event.\n",
    "* **Simulations can be used to estimate the probability of some event by measuring the relative frequency.**\n",
    "* **Simulations can be used to determine how likely an observed event has occurred under specific experimental assumptions.**\n",
    "\n"
   ]
  },
  {
   "cell_type": "code",
   "execution_count": null,
   "metadata": {},
   "outputs": [],
   "source": []
  }
 ],
 "metadata": {
  "kernelspec": {
   "display_name": "Python 3",
   "language": "python",
   "name": "python3"
  },
  "language_info": {
   "codemirror_mode": {
    "name": "ipython",
    "version": 3
   },
   "file_extension": ".py",
   "mimetype": "text/x-python",
   "name": "python",
   "nbconvert_exporter": "python",
   "pygments_lexer": "ipython3",
   "version": "3.7.4"
  }
 },
 "nbformat": 4,
 "nbformat_minor": 4
}
