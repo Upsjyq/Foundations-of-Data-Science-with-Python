{
 "cells": [
  {
   "cell_type": "markdown",
   "metadata": {},
   "source": [
    "# First Simulations, and Visualizations, and Statistical Tests"
   ]
  },
  {
   "cell_type": "markdown",
   "metadata": {},
   "source": [
    "\n",
    "We want to start working with real data as quickly as possible, but using real data introduces a lot of complexity. In this Chapter, we start with a simple example that does not use real data but allow us to quickly get started doing computer simulation, visualizing data, and performing statistical tests. In {doc}`Chapter 3<../03-first-data/intro>`, we will use these skills to analyze a real data set on per-state Covid case rates and socioeconomic factors.\n",
    "\n"
   ]
  }
 ],
 "metadata": {
  "kernelspec": {
   "display_name": "Python 3",
   "language": "python",
   "name": "python3"
  },
  "language_info": {
   "codemirror_mode": {
    "name": "ipython",
    "version": 3
   },
   "file_extension": ".py",
   "mimetype": "text/x-python",
   "name": "python",
   "nbconvert_exporter": "python",
   "pygments_lexer": "ipython3",
   "version": "3.7.4"
  }
 },
 "nbformat": 4,
 "nbformat_minor": 4
}
