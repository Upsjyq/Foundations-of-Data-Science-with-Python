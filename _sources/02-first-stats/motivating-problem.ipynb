{
 "cells": [
  {
   "cell_type": "markdown",
   "metadata": {},
   "source": [
    "(random-experiments:motivating-problem)=\n",
    "# Motivating Problem: Is This Coin Fair?\n",
    "\n",
    "\n",
    "You find an odd coin. You assume it is equally likely to come up heads and tails -- we say the coin is *fair*. You would like to conduct a stastical test to determine if it is fair. So, you flip the coin 20 times and count how many times it comes up heads. Since heads and tails are equally likely, you should expect to get somewhere around 10 heads.\n",
    "\n",
    "*If you only observe 6 heads on the 20 flips, should you reject the idea that the coin is fair?* \n",
    "\n",
    "*What if you only observe 4 heads?*\n",
    "\n",
    "\n",
    "To answer this question, we first need to understand some basics of what a probability is."
   ]
  },
  {
   "cell_type": "markdown",
   "metadata": {},
   "source": [
    "The following is a very general definition that should match most people's intuition for the meaning:"
   ]
  },
  {
   "cell_type": "markdown",
   "metadata": {},
   "source": [
    "````{panels}\n",
    "DEFINITION\n",
    "^^^\n",
    "probability\n",
    ": a number between 0 and 1 that we assign to an event that is proportional to how likely that event is to occur\n",
    "````"
   ]
  },
  {
   "cell_type": "markdown",
   "metadata": {},
   "source": [
    "If a probability of something occuring is very close to 0, then that thing is very unlikely to occur. If the probability is very close to 1, then that thing is very likely to occur."
   ]
  },
  {
   "cell_type": "markdown",
   "metadata": {},
   "source": [
    "To determine whether the coin could be fair, we can try to find the probability that a fair coin would produce a result that is as extreme (or more extreme) then what we observed. In other words, if we observe 6 heads, we can determine the probability that a fair coin would produce 6 or fewer heads. If the probability is small, then we can reject the possibility that the coin is fair. How we define \"small\" is up to the experimenter and anyone who reviews their result. For our work, let's say that we will reject the possibility that the coin is fair if the probability that we would see 6 or fewer heads on 20 flips of a fair coin is less than 0.01 (i.e., 1%)."
   ]
  },
  {
   "cell_type": "markdown",
   "metadata": {},
   "source": [
    "So, now we just need some way to calculate the required probability for 20 flips of a fair coin. There are two common ways to do this:\n",
    "1. Analyze the probability mathematically.\n",
    "2. Estimate the probability experimentally.\n",
    "\n",
    "We are not ready to explain the mathematical analysis yet, so we will estimate the probability experimentally. So get ready to start flipping coins! \n",
    "\n",
    "Not really -- to estimate the probability we are interested in will require flipping a coin 20 times, recording the outcome, and then repeating those steps thousands of times!\n",
    "\n",
    "Rather than actually flip the coin, we will **simulate** flipping the coin."
   ]
  }
 ],
 "metadata": {
  "kernelspec": {
   "display_name": "Python 3",
   "language": "python",
   "name": "python3"
  },
  "language_info": {
   "codemirror_mode": {
    "name": "ipython",
    "version": 3
   },
   "file_extension": ".py",
   "mimetype": "text/x-python",
   "name": "python",
   "nbconvert_exporter": "python",
   "pygments_lexer": "ipython3",
   "version": "3.7.4"
  }
 },
 "nbformat": 4,
 "nbformat_minor": 4
}
