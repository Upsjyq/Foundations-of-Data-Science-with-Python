{
 "cells": [
  {
   "cell_type": "markdown",
   "metadata": {},
   "source": [
    "# Partitions and Summary Statistics"
   ]
  },
  {
   "cell_type": "markdown",
   "metadata": {},
   "source": [
    "In this chapter, we will use a relatively simple approach to assessing whether a particular socioeconomic factor is associated with different numbers of Covid-19 cases. We will use the values of that socioeconomic factor to *partition* the Covid case data into two groups. Below, we provide some definitions to clarify exactly what we mean by a partition. We start by introducing the concept of *disjoint* collections of data:\n",
    "\n",
    "````{panels}\n",
    "DEFINITION\n",
    "^^^\n",
    "disjoint\n",
    ": collections of data are disjoint if no data point belongs to more than one of the collections\n",
    "````\n",
    "\n",
    "If the data points are unique, then we can use the mathematics of sets to formalize these ideas.  If you are unfamiliar with sets and their operations, please review **Appendix A** for a brief introduction. For our purposes, we can always consider a collection of data points to be unique if we include a unique index value with each data point.\n",
    "\n",
    "A collection of sets $A_0, A_1, \\ldots, A_{n-1}$ are disjoint if $A_i \\cap A_j =\\emptyset$ for every $i \\in \\{0,1,\\ldots, n-1\\}$, $j \\in \\{0,1,\\ldots, n-1\\}$, where $i \\ne j$. \n",
    "\n"
   ]
  },
  {
   "cell_type": "markdown",
   "metadata": {},
   "source": [
    "<!--\n",
    "MOVE THIS TO APPENDIX A\n",
    "\n",
    "````{panels}\n",
    "DEFINITION\n",
    "^^^\n",
    "set\n",
    ": a set is an unordered collection of unique items\n",
    "````\n",
    "\n",
    "Note that sets can contain any type of item, such as number, labels, names, types of dogs, weather conditions, etc.\n",
    "-->\n",
    "\n",
    "\n"
   ]
  },
  {
   "cell_type": "markdown",
   "metadata": {},
   "source": [
    "\n",
    "````{panels}\n",
    "DEFINITION\n",
    "^^^\n",
    "partition\n",
    ": a partition of a data set is a group of **disjoint** collections of data, such that every data point in the original data set belongs to exactly one of the collections. \n",
    "````\n",
    "\n",
    "If $S$ is a set of data, then the collections $A_0, A_1, \\ldots A_{n-1}$ partition $S$ if:\n",
    "$$\n",
    "\\bigcup_{i=0}^{n-1} A_i = S\n",
    "$$\n",
    "and $A_0, A_1, \\ldots, A_{n-1}$ are  disjoint.\n",
    "\n",
    "\n",
    "\n",
    "\n"
   ]
  },
  {
   "cell_type": "markdown",
   "metadata": {},
   "source": [
    "A *binary partition* of a set $S$ is a pair of sets $A_0$ and $A_1$ such that $A_0 \\cup A_1 =S$ and $A_0 \\cap A_1 = \\emptyset$.\n",
    "\n",
    "To use a particular socioeconomic metric to partition our data, we will partition the data into two sets: one with higher values of that metric, and one with lower values of that metric. \n",
    "\n",
    "To determine what constitutes a \"higher value\" or a \"lower value\", we compare the data to one of several possible choices of *summary statistics*, which we introduce next:"
   ]
  },
  {
   "cell_type": "markdown",
   "metadata": {},
   "source": [
    "# Summary Statistics"
   ]
  },
  {
   "cell_type": "markdown",
   "metadata": {},
   "source": [
    "Summary statistics are values calculated from sample data that measure some characteristic about the data. Most people use the **average** of the data as a the standard summary statistic; for instance, when receiving their exam scores, students will usually ask what the class average was for the exam. The average is also the most commonly used summary statistic by data scientists. Most statisticians use the term **sample mean** for this statistic, and often refer to it as simply the **mean**, but this can create confusion with another type of mean for random data: the **ensemble mean**, which is also usually just called the **mean**, and which is introduced in Chapter ZZ.\n",
    "\n",
    "Because of this ambiguity in the **mean**ing of the word **mean**, I will use the term *average* to refer to the value that is computed from data. \n",
    "\n",
    "When teaching a class on this subject, I usually ask the class: \"What does the **average** or **sample mean** mean?\". Here are some of the common answers:\n",
    "\n",
    "1. The value where most of the data \"sits\" is centered around\n",
    "2. The value that is most likely to occur\n",
    "3. The value that has minimum distance from every value\n",
    "4. The value that divides group into 2 sets of equal size \n",
    "\n",
    "Only one of these descriptions of the average is always accurate, and even then the description is ambiguous. "
   ]
  },
  {
   "cell_type": "markdown",
   "metadata": {},
   "source": [
    "To understand average, we first have to understand that representing data by a summary statistic results in errors, and we can use these errors to help choose a \"good\" summary statistic.\n",
    "\n",
    "Let $d_0, d_1, \\ldots, d_{N-1}$ be our data points, and let $\\nu$ be a summary decision statistic. \n",
    "\n",
    "The *error* $e_i$ between data point $d_i$ and $\\nu$ is simply $e_i= d_i-\\nu$. Note that the error may be positive or negative.\n",
    "\n",
    "Intuitively, we should try to choose $\\nu$ to minimize the errors to the data. However, how to do this is not entirely clear because we have many different errors, and it is decreasing the error to one data point may increase the error to another data point. \n",
    "\n",
    "The typical way to overcome this problem is to combine the errors together in some way. The most obvious way to combine them is to just add them up. However, we will shortly see that this has some problems, so let's go ahead and introduce three different ways to combine the errors:\n",
    "\n",
    "1. Sum of errors:\n",
    "$$ E_s = \\sum_{i=0}^{N-1} e_i$$\n",
    "1. Sum of absolute errors:\n",
    "$$ E_1 = \\sum_{i=0}^{N-1} \\left\\vert e_i \\right \\vert$$\n",
    "1. Sum of squared errors:\n",
    "$$ E_2 = \\sum_{i=0}^{N-1} \\left( e_i \\right )^2$$\n",
    "\n",
    "Let's plot each of these errors as a function of the summary statistic $\\nu$ for a simple data set: $D= \\{0,1,2\\}$:"
   ]
  },
  {
   "cell_type": "code",
   "execution_count": 13,
   "metadata": {},
   "outputs": [
    {
     "data": {
      "image/png": "[encoded data removed]",
      "text/plain": [
       "<Figure size 432x288 with 1 Axes>"
      ]
     },
     "metadata": {
      "needs_background": "light"
     },
     "output_type": "display_data"
    }
   ],
   "source": [
    "# Plotting different types of error functions. An experiment\n",
    "import numpy as np\n",
    "import matplotlib.pyplot as plt\n",
    "\n",
    "x=np.linspace(-2,3,100)\n",
    "sum_errors=(-1-x) + (1-x) + (2-x)\n",
    "sum_abs_errors=np.abs(-1-x) + np.abs(1-x) + np.abs(2-x)\n",
    "sum_square_errors=(-1-x)**2 + (1-x)**2 + (2-x)**2\n",
    "\n",
    "plt.plot(x, sum_errors, label=\"Sum of errors\")\n",
    "plt.plot(x, sum_abs_errors, label=\"Sum of absolute errors\")\n",
    "plt.plot(x, sum_square_errors, label=\"Sum of squared errors\")\n",
    "\n",
    "plt.xlabel(\"Summary statistic\")\n",
    "plt.ylabel(\"Error function value\")\n",
    "plt.legend();\n"
   ]
  },
  {
   "cell_type": "markdown",
   "metadata": {},
   "source": [
    "<span style=\"color:red\">JMS: Working here</span>"
   ]
  },
  {
   "cell_type": "code",
   "execution_count": null,
   "metadata": {},
   "outputs": [],
   "source": []
  },
  {
   "cell_type": "markdown",
   "metadata": {},
   "source": [
    "\n",
    "**Put this in a definition block**\n",
    "The average is the value that minimizes the total squared error to the data.**\n",
    "\n",
    "\n",
    "Both Pandas and Numpy provide methods to calculate the average:\n",
    "\n",
    "\n"
   ]
  },
  {
   "cell_type": "code",
   "execution_count": 85,
   "metadata": {},
   "outputs": [],
   "source": [
    "import numpy as np\n",
    "import pandas as pd\n",
    "df=pd.read_csv(\n",
    " \"http://wireless.ece.ufl.edu/jshea/idse/data/firearms-combined.csv\")\n",
    "rate2005=np.array(df[\"RATE-2005\"])\n",
    "rate2014=np.array(df[\"RATE-2014\"])"
   ]
  },
  {
   "cell_type": "code",
   "execution_count": 11,
   "metadata": {},
   "outputs": [
    {
     "data": {
      "text/plain": [
       "10.81"
      ]
     },
     "execution_count": 11,
     "metadata": {},
     "output_type": "execute_result"
    }
   ],
   "source": [
    "df[\"RATE-2005\"].mean()"
   ]
  },
  {
   "cell_type": "code",
   "execution_count": 12,
   "metadata": {},
   "outputs": [
    {
     "data": {
      "text/plain": [
       "11.440000000000003"
      ]
     },
     "execution_count": 12,
     "metadata": {},
     "output_type": "execute_result"
    }
   ],
   "source": [
    "df[\"RATE-2014\"].mean()"
   ]
  },
  {
   "cell_type": "code",
   "execution_count": 13,
   "metadata": {},
   "outputs": [
    {
     "data": {
      "text/plain": [
       "10.809999999999997"
      ]
     },
     "execution_count": 13,
     "metadata": {},
     "output_type": "execute_result"
    }
   ],
   "source": [
    "rate2005.mean()"
   ]
  },
  {
   "cell_type": "code",
   "execution_count": 14,
   "metadata": {},
   "outputs": [
    {
     "data": {
      "text/plain": [
       "11.44"
      ]
     },
     "execution_count": 14,
     "metadata": {},
     "output_type": "execute_result"
    }
   ],
   "source": [
    "np.mean(rate2014)"
   ]
  },
  {
   "cell_type": "markdown",
   "metadata": {},
   "source": [
    "The sample mean of the 2014 data set is larger than that for the 2005 data set. This may indicate that the overturn of the assault weapon ban in 2014 is associated with an increase in firearms mortality.\n",
    "\n",
    "However, the difference is relatively small, as are the sample sizes (50)."
   ]
  },
  {
   "cell_type": "code",
   "execution_count": 15,
   "metadata": {},
   "outputs": [
    {
     "data": {
      "text/plain": [
       "0.6300000000000026"
      ]
     },
     "execution_count": 15,
     "metadata": {},
     "output_type": "execute_result"
    }
   ],
   "source": [
    "diff=rate2014.mean()-rate2005.mean()\n",
    "diff"
   ]
  }
 ],
 "metadata": {
  "kernelspec": {
   "display_name": "Python 3",
   "language": "python",
   "name": "python3"
  },
  "language_info": {
   "codemirror_mode": {
    "name": "ipython",
    "version": 3
   },
   "file_extension": ".py",
   "mimetype": "text/x-python",
   "name": "python",
   "nbconvert_exporter": "python",
   "pygments_lexer": "ipython3",
   "version": "3.7.4"
  },
  "latex_envs": {
   "LaTeX_envs_menu_present": true,
   "autoclose": true,
   "autocomplete": true,
   "bibliofile": "biblio.bib",
   "cite_by": "apalike",
   "current_citInitial": 1,
   "eqLabelWithNumbers": true,
   "eqNumInitial": 1,
   "hotkeys": {
    "equation": "Ctrl-E",
    "itemize": "Ctrl-I"
   },
   "labels_anchors": false,
   "latex_user_defs": false,
   "report_style_numbering": false,
   "user_envs_cfg": false
  }
 },
 "nbformat": 4,
 "nbformat_minor": 4
}
