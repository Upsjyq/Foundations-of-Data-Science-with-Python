{
 "cells": [
  {
   "cell_type": "markdown",
   "metadata": {},
   "source": [
    "# Partitions"
   ]
  },
  {
   "cell_type": "markdown",
   "metadata": {},
   "source": [
    "In this chapter, we will use a relatively simple approach to assessing whether a particular socioeconomic factor is associated with different numbers of Covid-19 cases. We will use the values of that socioeconomic factor to *partition* the Covid case data into two groups. Below, we provide some definitions to clarify exactly what we mean by a partition. We start by introducing the concept of *disjoint* collections of data:\n",
    "\n",
    "````{panels}\n",
    "DEFINITION\n",
    "^^^\n",
    "disjoint\n",
    ": collections of data are disjoint if no data point belongs to more than one of the collections\n",
    "````\n",
    "\n",
    "If the data points are unique, then we can use the mathematics of sets to formalize these ideas.  If you are unfamiliar with sets and their operations, please review **Appendix A** for a brief introduction. For our purposes, we can always consider a collection of data points to be unique if we include a unique index value with each data point.\n",
    "\n",
    "A collection of sets $A_0, A_1, \\ldots, A_{n-1}$ are disjoint if $A_i \\cap A_j =\\emptyset$ for every $i \\in \\{0,1,\\ldots, n-1\\}$, $j \\in \\{0,1,\\ldots, n-1\\}$, where $i \\ne j$. \n",
    "\n"
   ]
  },
  {
   "cell_type": "markdown",
   "metadata": {},
   "source": [
    "<!--\n",
    "MOVE THIS TO APPENDIX A\n",
    "\n",
    "````{panels}\n",
    "DEFINITION\n",
    "^^^\n",
    "set\n",
    ": a set is an unordered collection of unique items\n",
    "````\n",
    "\n",
    "Note that sets can contain any type of item, such as number, labels, names, types of dogs, weather conditions, etc.\n",
    "-->\n",
    "\n",
    "\n"
   ]
  },
  {
   "cell_type": "markdown",
   "metadata": {},
   "source": [
    "\n",
    "````{panels}\n",
    "DEFINITION\n",
    "^^^\n",
    "partition\n",
    ": a partition of a data set is a group of **disjoint** collections of data, such that every data point in the original data set belongs to exactly one of the collections. \n",
    "````\n",
    "\n",
    "If $S$ is a set of data, then the collections $A_0, A_1, \\ldots A_{n-1}$ partition $S$ if:\n",
    "$$\n",
    "\\bigcup_{i=0}^{n-1} A_i = S\n",
    "$$\n",
    "and $A_0, A_1, \\ldots, A_{n-1}$ are  disjoint.\n",
    "\n",
    "\n",
    "\n",
    "\n"
   ]
  },
  {
   "cell_type": "markdown",
   "metadata": {},
   "source": [
    "A *binary partition* of a set $S$ is a pair of sets $A_0$ and $A_1$ such that $A_0 \\cup A_1 =S$ and $A_0 \\cap A_1 = \\emptyset$.\n",
    "\n",
    "To use a particular socioeconomic metric to partition our data, we will partition the data into two sets: one with higher values of that metric, and one with lower values of that metric. \n",
    "\n",
    "To determine what constitutes a \"higher value\" or a \"lower value\", we compute a threshold from the data to compare to. Any such value that is computed from the data is called a *summary statistic*:"
   ]
  }
 ],
 "metadata": {
  "kernelspec": {
   "display_name": "Python 3",
   "language": "python",
   "name": "python3"
  },
  "language_info": {
   "codemirror_mode": {
    "name": "ipython",
    "version": 3
   },
   "file_extension": ".py",
   "mimetype": "text/x-python",
   "name": "python",
   "nbconvert_exporter": "python",
   "pygments_lexer": "ipython3",
   "version": "3.7.4"
  },
  "latex_envs": {
   "LaTeX_envs_menu_present": true,
   "autoclose": true,
   "autocomplete": true,
   "bibliofile": "biblio.bib",
   "cite_by": "apalike",
   "current_citInitial": 1,
   "eqLabelWithNumbers": true,
   "eqNumInitial": 1,
   "hotkeys": {
    "equation": "Ctrl-E",
    "itemize": "Ctrl-I"
   },
   "labels_anchors": false,
   "latex_user_defs": false,
   "report_style_numbering": false,
   "user_envs_cfg": false
  }
 },
 "nbformat": 4,
 "nbformat_minor": 4
}
