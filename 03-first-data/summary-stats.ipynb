{
 "cells": [
  {
   "cell_type": "markdown",
   "metadata": {},
   "source": [
    "# Summary Statistics"
   ]
  },
  {
   "cell_type": "markdown",
   "metadata": {},
   "source": [
    "Summary statistics are values calculated from sample data that measure some characteristic about the data. Most people use the **average** of the data as a the standard summary statistic; for instance, when receiving their exam scores, students will usually ask what the class average was for the exam. The average is also the most commonly used summary statistic by data scientists; however most statisticians use the term **sample mean** for this statistic.\n",
    "\n",
    "The **average** of the data is t\n",
    "\n",
    "or **sample mean**. I **strongly** prefer the word average for the statistic computed from a set of data. \n",
    "\n",
    "We will use the word **mean** to refer to a type of average for random phenomena, when we do not have specific samples for those values. \n",
    "\n",
    "* What does the **average** or **sample mean** mean?\n",
    "\n",
    "    1. The value where most of the data \"sits\" is centered around\n",
    "    \n",
    "    2. The value that has minimum distance from every value\n",
    "    \n",
    "    3. Value most likely to occur\n",
    "    \n",
    "    4. Value that divides group into 2 sets of equal size \n",
    "\n",
    "Both Pandas and Numpy provide methods to calculate the average:\n"
   ]
  },
  {
   "cell_type": "code",
   "execution_count": 85,
   "metadata": {},
   "outputs": [],
   "source": [
    "import numpy as np\n",
    "import pandas as pd\n",
    "df=pd.read_csv(\n",
    " \"http://wireless.ece.ufl.edu/jshea/idse/data/firearms-combined.csv\")\n",
    "rate2005=np.array(df[\"RATE-2005\"])\n",
    "rate2014=np.array(df[\"RATE-2014\"])"
   ]
  },
  {
   "cell_type": "code",
   "execution_count": 11,
   "metadata": {},
   "outputs": [
    {
     "data": {
      "text/plain": [
       "10.81"
      ]
     },
     "execution_count": 11,
     "metadata": {},
     "output_type": "execute_result"
    }
   ],
   "source": [
    "df[\"RATE-2005\"].mean()"
   ]
  },
  {
   "cell_type": "code",
   "execution_count": 12,
   "metadata": {},
   "outputs": [
    {
     "data": {
      "text/plain": [
       "11.440000000000003"
      ]
     },
     "execution_count": 12,
     "metadata": {},
     "output_type": "execute_result"
    }
   ],
   "source": [
    "df[\"RATE-2014\"].mean()"
   ]
  },
  {
   "cell_type": "code",
   "execution_count": 13,
   "metadata": {},
   "outputs": [
    {
     "data": {
      "text/plain": [
       "10.809999999999997"
      ]
     },
     "execution_count": 13,
     "metadata": {},
     "output_type": "execute_result"
    }
   ],
   "source": [
    "rate2005.mean()"
   ]
  },
  {
   "cell_type": "code",
   "execution_count": 14,
   "metadata": {},
   "outputs": [
    {
     "data": {
      "text/plain": [
       "11.44"
      ]
     },
     "execution_count": 14,
     "metadata": {},
     "output_type": "execute_result"
    }
   ],
   "source": [
    "np.mean(rate2014)"
   ]
  },
  {
   "cell_type": "markdown",
   "metadata": {},
   "source": [
    "The sample mean of the 2014 data set is larger than that for the 2005 data set. This may indicate that the overturn of the assault weapon ban in 2014 is associated with an increase in firearms mortality.\n",
    "\n",
    "However, the difference is relatively small, as are the sample sizes (50)."
   ]
  },
  {
   "cell_type": "code",
   "execution_count": 15,
   "metadata": {},
   "outputs": [
    {
     "data": {
      "text/plain": [
       "0.6300000000000026"
      ]
     },
     "execution_count": 15,
     "metadata": {},
     "output_type": "execute_result"
    }
   ],
   "source": [
    "diff=rate2014.mean()-rate2005.mean()\n",
    "diff"
   ]
  },
  {
   "cell_type": "markdown",
   "metadata": {},
   "source": [
    "**How could we conduct an experiment to determine if this difference might be caused by sampling?**"
   ]
  },
  {
   "cell_type": "markdown",
   "metadata": {},
   "source": [
    "* The *null hypothesis* is that there is no real difference between the two data sets, and any differences are just based on random sampling from the underlying population.\n",
    "\n",
    "So, let's assume that the two samples are from the same population. \n",
    "\n",
    "* By combining (called **pooling**) the samples, we get a new subset of the original population, if the null hypothesis is true. Morever, any sample from this better represents the original population than either of the samples.\n",
    "\n",
    "* We can check whether the null hypothesis is true by checking how often samples from the pooled data set have a difference in means as large as the one observed."
   ]
  },
  {
   "cell_type": "markdown",
   "metadata": {},
   "source": [
    "**The big question:** To sample **with replacement** or **without replacement**?"
   ]
  },
  {
   "cell_type": "markdown",
   "metadata": {},
   "source": [
    "1. *Sampling with replacement* is called **bootstrapping** and is the most popular resampling technique. It is meant to better emulate independent sampling from the original population.\n",
    "\n",
    "2. *Sampling without replacement* better emulates **permutation** tests, where we check every possible reordering of the data into samples. This will be discussed more later.\n",
    "\n",
    "    * Generally, *sampling without replacement* is more conservative (produces a higher $p$-value) than bootstrapping. \n",
    "    * Bootstraping is **easy** and **most popular**, and we apply it here:"
   ]
  },
  {
   "cell_type": "markdown",
   "metadata": {},
   "source": [
    "**The Bootstrap Idea:** The original sample approximates the population from which it was drawn. So resamples from this sample approximate what we would get if we took many samples from the population. The bootstrap distribution of a statistic, based on many resamples, approximates the sampling distribution of the statistic, based on many samples."
   ]
  },
  {
   "cell_type": "markdown",
   "metadata": {},
   "source": [
    "### Bootstrap Model 1"
   ]
  },
  {
   "cell_type": "code",
   "execution_count": 16,
   "metadata": {},
   "outputs": [],
   "source": [
    "import random"
   ]
  },
  {
   "cell_type": "code",
   "execution_count": 17,
   "metadata": {},
   "outputs": [],
   "source": [
    "pooled=np.concatenate((rate2005,rate2014))"
   ]
  },
  {
   "cell_type": "code",
   "execution_count": 18,
   "metadata": {},
   "outputs": [
    {
     "name": "stdout",
     "output_type": "stream",
     "text": [
      "[16.  17.5 16.1 15.7  9.5 11.6  5.3  8.8 10.  12.1  2.1 14.1  8.  11.2\n",
      "  6.7  9.3 13.  18.5  7.8 11.9  3.4 10.8  7.  16.  12.9 16.9  7.7 16.1\n",
      "  6.6  5.2 13.9  5.3 12.8  8.8  9.6 13.2 10.7 10.8  3.6 13.8 10.2 16.\n",
      " 11.1 10.1  6.8 11.5  8.8 13.8  8.5 13.4 16.9 19.2 13.5 16.6  7.4 12.2\n",
      "  5.  11.1 11.5 13.7  2.6 13.2  9.  12.4  7.5 11.3 13.9 19.   9.4  9.\n",
      "  3.2 11.1  6.6 18.3 15.3 16.1  9.5 14.8  8.7  5.3 16.   4.2 11.8 12.3\n",
      " 10.3 15.7 11.7 10.5  3.  15.5 10.3 15.1 10.7 12.3 10.3 10.3  9.7 14.6\n",
      "  8.2 16.2] 100\n"
     ]
    }
   ],
   "source": [
    "print(pooled,pooled.size)"
   ]
  },
  {
   "cell_type": "markdown",
   "metadata": {},
   "source": [
    "How would we randomly choose from this data **with replacement**?"
   ]
  },
  {
   "cell_type": "code",
   "execution_count": 19,
   "metadata": {},
   "outputs": [
    {
     "name": "stdout",
     "output_type": "stream",
     "text": [
      "[9.3, 8.8, 7.0, 2.1, 11.3, 9.4, 3.0, 13.2, 13.8, 16.1, 9.4, 15.5, 8.7, 10.3, 11.1, 13.9, 9.5, 7.0, 12.2, 8.5, 15.7, 11.7, 11.1, 12.9, 11.9, 16.2, 13.9, 10.8, 8.2, 9.6, 9.4, 12.8, 13.2, 15.7, 12.4, 6.8, 9.5, 9.5, 10.5, 9.0, 15.5, 12.1, 10.3, 8.8, 16.0, 16.9, 18.3, 12.4, 12.3, 11.2]\n"
     ]
    }
   ],
   "source": [
    "print(random.choices(pooled,k=50))"
   ]
  },
  {
   "cell_type": "markdown",
   "metadata": {},
   "source": [
    "```numpy.random``` has a similar method:"
   ]
  },
  {
   "cell_type": "code",
   "execution_count": 20,
   "metadata": {},
   "outputs": [],
   "source": [
    "import numpy.random as npr"
   ]
  },
  {
   "cell_type": "code",
   "execution_count": 21,
   "metadata": {},
   "outputs": [
    {
     "data": {
      "text/plain": [
       "array([ 7.8,  3.2,  5.3, 10.1, 10.3, 10.8,  3.2, 11.7,  9. , 11.1,  2.6,\n",
       "       11.6,  9.7,  5.3,  4.2, 15.3, 16.1,  5. , 11.3, 13. , 10.1, 12.8,\n",
       "       11.1, 11.8,  3.6, 16. , 11.8,  4.2, 13.9, 12.4, 18.5,  6.6, 16.1,\n",
       "       14.8, 16.9, 16.9, 12.9, 14.6, 12.4,  8.5, 13.4, 10.2,  6.6, 13.9,\n",
       "       10.5,  7.4, 11.1,  7.8, 16. , 17.5])"
      ]
     },
     "execution_count": 21,
     "metadata": {},
     "output_type": "execute_result"
    }
   ],
   "source": [
    "npr.choice(pooled,size=50)"
   ]
  },
  {
   "cell_type": "code",
   "execution_count": 22,
   "metadata": {},
   "outputs": [
    {
     "name": "stdout",
     "output_type": "stream",
     "text": [
      "Under null hypothesis, observe effect this large with prob.  0.457\n"
     ]
    }
   ],
   "source": [
    "num_sims=1000\n",
    "event_count=0\n",
    "for sim in range(num_sims):\n",
    "    sample05=npr.choice(pooled,size=50)\n",
    "    sample14=npr.choice(pooled,size=50)\n",
    "    mean05=sample05.mean()\n",
    "    mean14=sample14.mean()\n",
    "    sample_diff=mean14-mean05\n",
    "    if abs(sample_diff)>=diff:\n",
    "        event_count+=1\n",
    "\n",
    "print(\"Under null hypothesis, observe effect this large with prob. \",event_count/num_sims)"
   ]
  },
  {
   "cell_type": "markdown",
   "metadata": {},
   "source": [
    "* What is the conclusion?\n",
    "\n",
    "<!-- The data does not support that the observed effect is statistically significant, so we can't reject the null hypothesis. -->"
   ]
  },
  {
   "cell_type": "markdown",
   "metadata": {},
   "source": [
    "* What are some problems with this approach?\n",
    "\n",
    "<!-- We treated all the states in the two samples as if they were independent -- but they are measurements on the same states! That violates our assumptions. \n",
    "\n",
    "The states have their own firearms mortality behavior based on other factors (rural/urban, education level, laws, etc.) -->"
   ]
  },
  {
   "cell_type": "markdown",
   "metadata": {},
   "source": [
    "### Bootstrap Model 2"
   ]
  },
  {
   "cell_type": "markdown",
   "metadata": {},
   "source": [
    "A more reasonable bootstrap approach would be to randomly assign values from 2005 or 2014 for each state and then assess the difference:"
   ]
  },
  {
   "cell_type": "code",
   "execution_count": 23,
   "metadata": {},
   "outputs": [],
   "source": [
    "stacked_data=np.vstack((rate2005,rate2014))"
   ]
  },
  {
   "cell_type": "code",
   "execution_count": 24,
   "metadata": {},
   "outputs": [
    {
     "name": "stdout",
     "output_type": "stream",
     "text": [
      "[[16.  17.5 16.1 15.7  9.5 11.6  5.3  8.8 10.  12.1  2.1 14.1  8.  11.2\n",
      "   6.7  9.3 13.  18.5  7.8 11.9  3.4 10.8  7.  16.  12.9 16.9  7.7 16.1\n",
      "   6.6  5.2 13.9  5.3 12.8  8.8  9.6 13.2 10.7 10.8  3.6 13.8 10.2 16.\n",
      "  11.1 10.1  6.8 11.5  8.8 13.8  8.5 13.4]\n",
      " [16.9 19.2 13.5 16.6  7.4 12.2  5.  11.1 11.5 13.7  2.6 13.2  9.  12.4\n",
      "   7.5 11.3 13.9 19.   9.4  9.   3.2 11.1  6.6 18.3 15.3 16.1  9.5 14.8\n",
      "   8.7  5.3 16.   4.2 11.8 12.3 10.3 15.7 11.7 10.5  3.  15.5 10.3 15.1\n",
      "  10.7 12.3 10.3 10.3  9.7 14.6  8.2 16.2]] (2, 50)\n"
     ]
    }
   ],
   "source": [
    "print(stacked_data,stacked_data.shape)"
   ]
  },
  {
   "cell_type": "code",
   "execution_count": 25,
   "metadata": {},
   "outputs": [
    {
     "name": "stdout",
     "output_type": "stream",
     "text": [
      "Under null hypothesis, observe effect this large with prob.  0.0001\n"
     ]
    }
   ],
   "source": [
    "num_sims=10000\n",
    "event_count=0\n",
    "for sim in range(num_sims):\n",
    "    sample05=stacked_data[npr.randint(2,size=50),range(50)] #2-D fancy indexing!\n",
    "    sample14=stacked_data[npr.randint(2,size=50),range(50)]\n",
    "    mean05=sample05.mean()\n",
    "    mean14=sample14.mean()\n",
    "    #print(mean05,mean14)\n",
    "    sample_diff=mean14-mean05\n",
    "    if abs(sample_diff)>=diff:\n",
    "        event_count+=1\n",
    "\n",
    "print(\"Under null hypothesis, observe effect this large with prob. \",event_count/num_sims)"
   ]
  },
  {
   "cell_type": "markdown",
   "metadata": {},
   "source": [
    "* **What is the conclusion?**\n",
    "\n",
    "<!-- It depends on how you interpret the data!\n",
    "\n",
    "This simulation supports rejecting the null hypothesis. Under this interpretation, the restriction on assault weapons is associated with an increase in mean firearms morality. -->"
   ]
  },
  {
   "cell_type": "markdown",
   "metadata": {},
   "source": [
    "## Distribution of the bootstrap mean-difference"
   ]
  },
  {
   "cell_type": "markdown",
   "metadata": {},
   "source": [
    "Every time we create a bootstrap value for the difference of means, we create a new random value. Let's see how the bootstrap means are distributed by looking at a histogram of those values:"
   ]
  },
  {
   "cell_type": "code",
   "execution_count": 26,
   "metadata": {},
   "outputs": [
    {
     "data": {
      "image/png": "[encoded data removed]",
      "text/plain": [
       "<Figure size 432x288 with 1 Axes>"
      ]
     },
     "metadata": {
      "needs_background": "light"
     },
     "output_type": "display_data"
    }
   ],
   "source": [
    "num_sims=10000\n",
    "event_count=0\n",
    "bs_stats=[]\n",
    "for sim in range(num_sims):\n",
    "    sample05=stacked_data[npr.randint(2,size=50),range(50)] #2-D fancy indexing!\n",
    "    sample14=stacked_data[npr.randint(2,size=50),range(50)]\n",
    "    mean05=sample05.mean()\n",
    "    mean14=sample14.mean()\n",
    "    #print(mean05,mean14)\n",
    "    sample_diff=mean14-mean05\n",
    "    bs_stats+=[sample_diff]\n",
    "\n",
    "plt.hist(bs_stats,bins=20);"
   ]
  },
  {
   "cell_type": "markdown",
   "metadata": {},
   "source": [
    "A few obervations:\n",
    "    \n",
    "1. The difference of means has a bell shape -- we saw that before. Why do you think that is?\n",
    "2. Almost all of the values fall between -0.5 and +0.5. Thus, it is not surprising that getting a mean-difference as large as 0.6 is very rare."
   ]
  },
  {
   "cell_type": "markdown",
   "metadata": {},
   "source": [
    "# Effect of State Laws\n",
    "\n",
    "The column \"Total Laws 2014\" shows the total number of gun laws in each state as of 2014. The data is from \n",
    "\n",
    "https://www.statefirearmlaws.org/resources\n",
    "\n",
    "Now we have 2 data sources that are both in 2014, but they do not represent two samples from the same population. Instead, they represent two things that may depend on each other."
   ]
  },
  {
   "cell_type": "code",
   "execution_count": null,
   "metadata": {},
   "outputs": [],
   "source": [
    "df"
   ]
  },
  {
   "cell_type": "markdown",
   "metadata": {},
   "source": [
    "Again, the first thing to do is plot the data. When we have two sets of data that may be dependent, a scatter plot is usually the first tool to reach for:"
   ]
  },
  {
   "cell_type": "code",
   "execution_count": 27,
   "metadata": {},
   "outputs": [
    {
     "data": {
      "image/png": "[encoded data removed]",
      "text/plain": [
       "<Figure size 432x288 with 1 Axes>"
      ]
     },
     "metadata": {
      "needs_background": "light"
     },
     "output_type": "display_data"
    }
   ],
   "source": [
    "plt.scatter(df[\"Total Laws 2014\"],df[\"RATE-2014\"]);"
   ]
  },
  {
   "cell_type": "code",
   "execution_count": 28,
   "metadata": {},
   "outputs": [
    {
     "data": {
      "image/png": "[encoded data removed]",
      "text/plain": [
       "<Figure size 432x288 with 1 Axes>"
      ]
     },
     "metadata": {
      "needs_background": "light"
     },
     "output_type": "display_data"
    }
   ],
   "source": [
    "plt.scatter(df[\"Total Laws 2014\"],df[\"RATE-2014\"])\n",
    "plt.xlabel(\"Total Laws in 2014\")\n",
    "plt.ylabel(\"Firearms morality rate (2014)\");"
   ]
  },
  {
   "cell_type": "markdown",
   "metadata": {},
   "source": [
    "* What does this data suggest?\n",
    "\n",
    "<!-- An increase in the number of gun laws seems to be associated with a decrease in homicide rates. -->"
   ]
  },
  {
   "cell_type": "markdown",
   "metadata": {},
   "source": [
    "* We don't know how to measure the dependence between two data sets like this -- **yet**\n",
    "\n",
    "Let's see if we can turn this into into two data sets:"
   ]
  },
  {
   "cell_type": "markdown",
   "metadata": {},
   "source": [
    "* In fact, the data *seems* to fall into two clusters, one with < 50 laws and one with > 50 laws. \n",
    "\n",
    "Finding clusterings of data is a job computers are good at.\n",
    "\n",
    "Let's use a standard **clustering algorithm** to see what it find.\n",
    "\n",
    "<div class=\"alert alert-success\">\n",
    "    <b>Clustering</b>\n",
    "    \n",
    "Clustering is a (non-parametric) machine learning algorithm that involves the task of grouping a set of objects in such a way that objects in the same group are more similar to each other than to those in other groups. For example, we can use distance as a measure of similarity.\n",
    "</div>"
   ]
  },
  {
   "cell_type": "markdown",
   "metadata": {},
   "source": [
    "## K-means Clustering\n",
    "\n",
    "The **$K$-Means Clustering Algorithm** is a randomized, iterative algorithm to cluster data.\n",
    "\n",
    "The goal of $K$-Means clustering is to find $K$ clusters (or groups). The K-Means Algorithm Steps are:\n",
    "\n",
    "1. **Initialization**: Randomly pick some points in the data set to represent the initial \"centroids\" (for all $K$ groups you may consider).\n",
    "\n",
    "Iterate:\n",
    "2. **Assignment** of data points to clusters: Calculate the (Euclidean) distances between all the data points and the centroids. Assign each data sample as belonging to the cluster (centroid) to which it is closest to.\n",
    "\n",
    "If the assignments do not change, then stop. If not:\n",
    "\n",
    "3. **Centroids Update**: Calculate the new centroids for each cluster based on the updated assignments.\n",
    "\n",
    "4. Return to step 2."
   ]
  },
  {
   "cell_type": "markdown",
   "metadata": {},
   "source": [
    "We could code this by hand, but there are several libraries that contain clustering algorithms. "
   ]
  },
  {
   "cell_type": "markdown",
   "metadata": {},
   "source": [
    "![scikit-learn logo](https://scikit-learn.org/stable/_static/scikit-learn-logo-small.png)\n",
    "\n",
    "The ```scikit-learn``` library has many useful methods for machine learning, including clustering."
   ]
  },
  {
   "cell_type": "code",
   "execution_count": 29,
   "metadata": {},
   "outputs": [],
   "source": [
    "from sklearn.cluster import KMeans"
   ]
  },
  {
   "cell_type": "code",
   "execution_count": 30,
   "metadata": {},
   "outputs": [],
   "source": [
    "kmeans = KMeans(n_clusters=2) # create a k-means model"
   ]
  },
  {
   "cell_type": "code",
   "execution_count": 31,
   "metadata": {},
   "outputs": [],
   "source": [
    "law_data=np.vstack((df[\"Total Laws 2014\"],df[\"RATE-2014\"]))\n",
    "law_data=law_data.T #transpose"
   ]
  },
  {
   "cell_type": "code",
   "execution_count": 32,
   "metadata": {},
   "outputs": [
    {
     "data": {
      "text/plain": [
       "KMeans(algorithm='auto', copy_x=True, init='k-means++', max_iter=300,\n",
       "       n_clusters=2, n_init=10, n_jobs=None, precompute_distances='auto',\n",
       "       random_state=None, tol=0.0001, verbose=0)"
      ]
     },
     "execution_count": 32,
     "metadata": {},
     "output_type": "execute_result"
    }
   ],
   "source": [
    "kmeans.fit(law_data) # train the model using the data"
   ]
  },
  {
   "cell_type": "code",
   "execution_count": 33,
   "metadata": {},
   "outputs": [],
   "source": [
    "clusters = kmeans.predict(law_data) #predict the clusters for the data\n",
    "# the trained model now can be used to predict the clusters for other data, too"
   ]
  },
  {
   "cell_type": "code",
   "execution_count": 34,
   "metadata": {},
   "outputs": [
    {
     "data": {
      "image/png": "[encoded data removed]",
      "text/plain": [
       "<Figure size 432x288 with 1 Axes>"
      ]
     },
     "metadata": {
      "needs_background": "light"
     },
     "output_type": "display_data"
    }
   ],
   "source": [
    "plt.scatter(law_data[:,0],law_data[:,1],c=clusters);"
   ]
  },
  {
   "cell_type": "code",
   "execution_count": 35,
   "metadata": {},
   "outputs": [
    {
     "data": {
      "text/plain": [
       "array([[79.375     ,  5.7125    ],\n",
       "       [16.4047619 , 12.53095238]])"
      ]
     },
     "execution_count": 35,
     "metadata": {},
     "output_type": "execute_result"
    }
   ],
   "source": [
    "kmeans.cluster_centers_"
   ]
  },
  {
   "cell_type": "code",
   "execution_count": 36,
   "metadata": {},
   "outputs": [
    {
     "data": {
      "image/png": "[encoded data removed]",
      "text/plain": [
       "<Figure size 432x288 with 1 Axes>"
      ]
     },
     "metadata": {
      "needs_background": "light"
     },
     "output_type": "display_data"
    }
   ],
   "source": [
    "plt.scatter(law_data[:,0],law_data[:,1],c=clusters)\n",
    "plt.plot(kmeans.cluster_centers_[:,0],kmeans.cluster_centers_[:,1],'xb',markersize=10);"
   ]
  },
  {
   "cell_type": "markdown",
   "metadata": {},
   "source": [
    "We will put details of the $K$-means algorithm in our Canvas page."
   ]
  },
  {
   "cell_type": "markdown",
   "metadata": {},
   "source": [
    "Now let's partition the data accordingly:"
   ]
  },
  {
   "cell_type": "code",
   "execution_count": 37,
   "metadata": {},
   "outputs": [
    {
     "data": {
      "text/plain": [
       "(12.530952380952382, 42)"
      ]
     },
     "execution_count": 37,
     "metadata": {},
     "output_type": "execute_result"
    }
   ],
   "source": [
    "less50=df[df['Total Laws 2014']<50][\"RATE-2014\"]\n",
    "\n",
    "less50.mean(),len(less50)"
   ]
  },
  {
   "cell_type": "markdown",
   "metadata": {},
   "source": [
    "**Note that less50 is a pandas series object. It also has a mean method, as well as other useful summary statistics**."
   ]
  },
  {
   "cell_type": "code",
   "execution_count": 38,
   "metadata": {},
   "outputs": [
    {
     "data": {
      "text/plain": [
       "(5.7125, 8)"
      ]
     },
     "execution_count": 38,
     "metadata": {},
     "output_type": "execute_result"
    }
   ],
   "source": [
    "more50=df[df['Total Laws 2014']>=50][\"RATE-2014\"]\n",
    "\n",
    "more50.mean(),len(more50)"
   ]
  },
  {
   "cell_type": "code",
   "execution_count": 39,
   "metadata": {},
   "outputs": [
    {
     "data": {
      "text/plain": [
       "6.818452380952381"
      ]
     },
     "execution_count": 39,
     "metadata": {},
     "output_type": "execute_result"
    }
   ],
   "source": [
    "law_diff=less50.mean()-more50.mean()\n",
    "law_diff"
   ]
  },
  {
   "cell_type": "markdown",
   "metadata": {},
   "source": [
    "Again, if we want to perform a binary hypothesis test, we need to pool the data and draw representative samples from it:"
   ]
  },
  {
   "cell_type": "code",
   "execution_count": 40,
   "metadata": {},
   "outputs": [],
   "source": [
    "all_laws=list(df['RATE-2014'])"
   ]
  },
  {
   "cell_type": "code",
   "execution_count": 41,
   "metadata": {},
   "outputs": [
    {
     "name": "stdout",
     "output_type": "stream",
     "text": [
      "Under null hypothesis, observe effect this large with prob.  1e-05\n"
     ]
    }
   ],
   "source": [
    "num_sims=100000\n",
    "event_count=0\n",
    "for sim in range(num_sims):\n",
    "    sample_less50=npr.choice(all_laws,size=42)\n",
    "    sample_more50=npr.choice(all_laws,size=8)\n",
    "    sample_diff=sample_less50.mean()-sample_more50.mean()\n",
    "    if abs(sample_diff)>=law_diff:\n",
    "        event_count+=1\n",
    "\n",
    "print(\"Under null hypothesis, observe effect this large with prob. \",event_count/num_sims)"
   ]
  },
  {
   "cell_type": "markdown",
   "metadata": {},
   "source": [
    "* What is your conclusion?\n",
    "\n",
    "<!-- There is an association between the number of gun laws and the firearms mortality rate. More gun laws are associated with lower firearms mortality rates. -->"
   ]
  },
  {
   "cell_type": "markdown",
   "metadata": {},
   "source": [
    "* What are some issues with this analysis?\n",
    "\n",
    "The number of gun laws passed by a state may depend on factors that also affect firearms mortality, such as\n",
    "1. rural or urban\n",
    "2. education levels\n",
    "3. poverty levels\n",
    "\n",
    "We can say that having more gun laws is **associated** with lower firearms mortality, but we cannot say that it **causes** lower firearm mortality.\n",
    "\n",
    "A more careful statistical analysis would have to **control** for these other variables when measuring the effects of gun laws on firearms mortality."
   ]
  },
  {
   "cell_type": "markdown",
   "metadata": {},
   "source": [
    "# Reading Assignment\n",
    "\n",
    "* [Exploring Histograms](https://tinlizzie.org/histograms/)\n",
    "\n",
    "* Section [\"In Depth: k-Means Clustering\"](https://jakevdp.github.io/PythonDataScienceHandbook/05.11-k-means.html) from \"Python Data Science Handbook\" textbook"
   ]
  },
  {
   "cell_type": "code",
   "execution_count": null,
   "metadata": {},
   "outputs": [],
   "source": []
  }
 ],
 "metadata": {
  "kernelspec": {
   "display_name": "Python 3",
   "language": "python",
   "name": "python3"
  },
  "language_info": {
   "codemirror_mode": {
    "name": "ipython",
    "version": 3
   },
   "file_extension": ".py",
   "mimetype": "text/x-python",
   "name": "python",
   "nbconvert_exporter": "python",
   "pygments_lexer": "ipython3",
   "version": "3.7.4"
  },
  "latex_envs": {
   "LaTeX_envs_menu_present": true,
   "autoclose": true,
   "autocomplete": true,
   "bibliofile": "biblio.bib",
   "cite_by": "apalike",
   "current_citInitial": 1,
   "eqLabelWithNumbers": true,
   "eqNumInitial": 1,
   "hotkeys": {
    "equation": "Ctrl-E",
    "itemize": "Ctrl-I"
   },
   "labels_anchors": false,
   "latex_user_defs": false,
   "report_style_numbering": false,
   "user_envs_cfg": false
  }
 },
 "nbformat": 4,
 "nbformat_minor": 4
}
