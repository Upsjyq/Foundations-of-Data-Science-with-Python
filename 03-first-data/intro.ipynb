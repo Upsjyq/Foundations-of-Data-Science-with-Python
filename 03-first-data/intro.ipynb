{
 "cells": [
  {
   "cell_type": "code",
   "execution_count": 38,
   "metadata": {},
   "outputs": [],
   "source": [
    "import numpy as np\n",
    "import matplotlib.pyplot as plt\n",
    "%matplotlib inline"
   ]
  },
  {
   "cell_type": "markdown",
   "metadata": {},
   "source": [
    "# Chapter 3: First Visualizations and Statistical Tests with Real Data\n",
    "\n",
    "In **LINK TO CHAPTER 2**, we considered a simple statistical question that we could study through simulation, data visualization, and estimating probabilities. However, the type of problem considered in Chapter 2 is different than many that we encounter in data science because we had an exact model for the random experiment that we ended up simulating (repeated flips of a fair coin). \n",
    "\n",
    "In this chapter, we consider how to apply the ideas from Chapter 2 to a real data set, where we do not know the underlying model for the experiment."
   ]
  },
  {
   "cell_type": "markdown",
   "metadata": {},
   "source": [
    "## Example: Effect of 1994 Assault Weapons Ban\n",
    "\n",
    "In 1994, the United States Congress passed a ban on a variety of semiautomatic rifles that are sometimes referred to as \"assault weapons\". The ban was in effect for 10 years, from 1994-2004. ([Wikipedia:Federal Assault Weapons Ban](https://en.wikipedia.org/wiki/Federal_Assault_Weapons_Ban)) \n",
    "\n",
    "It might be inferred that the goal of any gun ban is to reduced gun violence. Thus it is natural to assess whether the \"assault weapon\" ban had any effect on gun violence."
   ]
  },
  {
   "cell_type": "markdown",
   "metadata": {},
   "source": [
    "To answer this question, we will need to find data sets that provide information about the effects of the bin. A search for \"firearms mortality by state\" on Google yielded the following (as of February 9, 2021):\n",
    "\n",
    "![](firearms-mortality-search.png)"
   ]
  },
  {
   "cell_type": "markdown",
   "metadata": {},
   "source": [
    "The top result is from the Center for Disease Control (CDC), an agency of the United States federal government. The CDC's National Center for Health Statistics provides many such data sets. This data set is helpful because it offers data for firearms mortality across multiple years, with per-state results. The direct link to the page, which offers visualizations of firearm mortality by state, along with links to download the data is below:\n",
    "\n",
    "https://www.cdc.gov/nchs/pressroom/sosmap/firearm_mortality/firearm.htm"
   ]
  },
  {
   "cell_type": "markdown",
   "metadata": {},
   "source": [
    "Although this page does not have data prior to 2005, the data for 2005 should be similar to achieved during the last years of the assault weapons ban because the ban was only on the **sale** of certain firearms. It is reasonable to assume that the effects of the ban and its expiration would take many years after those events.  \n",
    "\n",
    "Thus, we can use two sets of data on that page to measure the effect of the \"assault weapons\" ban:\n",
    "\n",
    "* The 2005 data set represents firearm mortality with effects from the recently-expired ban.\n",
    "* The 2014 data set, which is ten years after the ban expired, represents firearm mortality without the effects of the ban."
   ]
  },
  {
   "cell_type": "markdown",
   "metadata": {},
   "source": [
    "Because the CDC page does not offer direct links to download the data (but instead relies on a button whose action triggers Javascript), I have downloaded the 2005 and 2014 data sets and merged them into a single file, which is retrievable at http://wireless.ece.ufl.edu/jshea/idse/data/firearms-combined.csv .\n",
    "\n",
    "Both the file that I have provided and the files that are downloadable from the CDC are CSV files; CSV is an abbreviation for \"comma-separated values\". It is one of the most common formats for storing data because it does not rely on proprietary software (such as Microsoft Excel) and can be read by a broad range of software packages.\n",
    "\n",
    "We will use a Python library called Pandas to both open the CSV and store it in a format that is easy to use for data science."
   ]
  }
 ],
 "metadata": {
  "kernelspec": {
   "display_name": "Python 3",
   "language": "python",
   "name": "python3"
  },
  "language_info": {
   "codemirror_mode": {
    "name": "ipython",
    "version": 3
   },
   "file_extension": ".py",
   "mimetype": "text/x-python",
   "name": "python",
   "nbconvert_exporter": "python",
   "pygments_lexer": "ipython3",
   "version": "3.7.4"
  }
 },
 "nbformat": 4,
 "nbformat_minor": 4
}
