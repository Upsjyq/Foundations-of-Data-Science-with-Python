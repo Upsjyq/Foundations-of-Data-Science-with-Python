{
 "cells": [
  {
   "cell_type": "markdown",
   "metadata": {},
   "source": [
    "# Review"
   ]
  },
  {
   "cell_type": "markdown",
   "metadata": {},
   "source": [
    "In this Chapter, we started working with real data. I demonstrated how to import data from CSV files into Pandas data frames and some of the basics of working with those data frames. Then we explored the data using scatter plots. Summary statistics, including mean, median, and mode were introduced and explained in terms of the error functions that they optimize. Then the median was used to partition the data into two using two different data features. Binary hypothesis testing was introduced, and bootstrap resampling was used to determine whether an observed difference in means could be attributable to random sampling. Finally, two-dimensional scatter plots were created by plotting one of the features of the data as a function of another feature of the data; fitting curves to the data was briefly explored, although the detail"
   ]
  }
 ],
 "metadata": {
  "kernelspec": {
   "display_name": "Python 3",
   "language": "python",
   "name": "python3"
  },
  "language_info": {
   "codemirror_mode": {
    "name": "ipython",
    "version": 3
   },
   "file_extension": ".py",
   "mimetype": "text/x-python",
   "name": "python",
   "nbconvert_exporter": "python",
   "pygments_lexer": "ipython3",
   "version": "3.7.4"
  }
 },
 "nbformat": 4,
 "nbformat_minor": 4
}
