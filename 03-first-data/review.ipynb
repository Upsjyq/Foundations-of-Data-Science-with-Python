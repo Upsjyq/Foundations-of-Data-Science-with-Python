{
 "cells": [
  {
   "cell_type": "markdown",
   "metadata": {},
   "source": [
    "# Review"
   ]
  },
  {
   "cell_type": "markdown",
   "metadata": {},
   "source": [
    "In this Chapter, we started working with real data, introduced Pands, partitions, summary statistics, binary hypothesis testing via bootstrap resampling, and two-dimensional statistics. \n",
    "\n",
    "**Key Take-aways:**\n",
    "* Pandas stores data in dataframes. **Dataframes store tabular data, like spreadsheets or database tables.**\n",
    "* **Pandas can import data from standard file formats**, including comma-separated value (CSV) files and Excel files.\n",
    "* **Scatter plots are useful for initial data exploration and identifying outliers.**\n",
    "* **Partitions divide data into disjoint subsets.**\n",
    "* **Summary statistics represent a group of data by a single number.** \n",
    "* **Common summary statistics minimize a measure of error from the summary statistic to the data:**\n",
    "    * Mode minimizes the *error count*.\n",
    "    * Median minimizes the *sum of absolute errors*.\n",
    "    * Average, or sample mean, minimizes the *sum of squared errors*.\n",
    "* A **statistical hypothesis is a hypothesis that is testable using data.**\n",
    "* A **binary hypothesis test is a statistical test that decides between two competing statistical hypotheses.**\n",
    "    * A **null hypothesis, denoted $H_0$ assumes that the data being evaluated come from the same underlying random phenomena**. Observed differences are caused by random sampling.\n",
    "* **Resampling is a model-free technique to draw new samples of data for use in statistical testing.**\n",
    "    * **Bootstrap resampling is when data is drawn from the pooled data with replacement.**\n",
    "* **Two-dimensional statistical methods can be used to directly work with pairs of data** through techniques such as curve fitting."
   ]
  },
  {
   "cell_type": "code",
   "execution_count": null,
   "metadata": {},
   "outputs": [],
   "source": []
  }
 ],
 "metadata": {
  "kernelspec": {
   "display_name": "Python 3",
   "language": "python",
   "name": "python3"
  },
  "language_info": {
   "codemirror_mode": {
    "name": "ipython",
    "version": 3
   },
   "file_extension": ".py",
   "mimetype": "text/x-python",
   "name": "python",
   "nbconvert_exporter": "python",
   "pygments_lexer": "ipython3",
   "version": "3.7.4"
  }
 },
 "nbformat": 4,
 "nbformat_minor": 4
}
