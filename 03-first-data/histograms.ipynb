{
 "cells": [
  {
   "cell_type": "markdown",
   "metadata": {},
   "source": [
    "# Visualizing Multiple Data Sets - Part 1: Scatter Plots"
   ]
  },
  {
   "cell_type": "markdown",
   "metadata": {},
   "source": [
    "As previously mentioned, our first step in working with data sets is typically to gain some basic understanding of the data and relationships among the different data sets using visualizations. In this section, we will start with scatter plots of the data. Then after introducing Summary Statistics in Section XX, we will use these to pool our data before plotting histograms in Section YY. \n",
    "\n",
    "Since we will be creating several plots of these data sets, it is convenient to store the values in the appropriate columns of the dataframe as lists or numpy arrays. Here we store the values as numpy arrays to allow us to use some of numpy's built-in methods later in this chapter:"
   ]
  },
  {
   "cell_type": "code",
   "execution_count": 136,
   "metadata": {},
   "outputs": [],
   "source": [
    "import numpy as np\n",
    "import pandas as pd\n",
    "df=pd.read_csv(\n",
    " \"https://raw.githubusercontent.com/jmshea/intro-data-science-for-engineers/main/03-first-data/covid-merged.csv\")\n",
    "cases=np.array(df[\"cases\"])\n",
    "pop=np.array(df[\"population\"])\n",
    "gdp=np.array(df[\"gdp\"])\n",
    "urban=np.array(df[\"urban\"])"
   ]
  },
  {
   "cell_type": "markdown",
   "metadata": {},
   "source": [
    "\n",
    "\n",
    "As previously mentioned, we are interested in how socioeconomic factors may be have impacted the spread of Covid-19, which we measure through the number of cases. Thus, every statistical test we will do will be based on the number of cases.\n",
    "\n",
    "Let's begin with a scatter plot of the number of cases by state (indexed from 0 to 49):"
   ]
  },
  {
   "cell_type": "code",
   "execution_count": 4,
   "metadata": {},
   "outputs": [
    {
     "name": "stderr",
     "output_type": "stream",
     "text": [
      "In /Applications/anaconda3/lib/python3.7/site-packages/matplotlib/mpl-data/stylelib/_classic_test.mplstyle: \n",
      "The text.latex.preview rcparam was deprecated in Matplotlib 3.3 and will be removed two minor releases later.\n",
      "In /Applications/anaconda3/lib/python3.7/site-packages/matplotlib/mpl-data/stylelib/_classic_test.mplstyle: \n",
      "The mathtext.fallback_to_cm rcparam was deprecated in Matplotlib 3.3 and will be removed two minor releases later.\n",
      "In /Applications/anaconda3/lib/python3.7/site-packages/matplotlib/mpl-data/stylelib/_classic_test.mplstyle: Support for setting the 'mathtext.fallback_to_cm' rcParam is deprecated since 3.3 and will be removed two minor releases later; use 'mathtext.fallback : 'cm' instead.\n",
      "In /Applications/anaconda3/lib/python3.7/site-packages/matplotlib/mpl-data/stylelib/_classic_test.mplstyle: \n",
      "The validate_bool_maybe_none function was deprecated in Matplotlib 3.3 and will be removed two minor releases later.\n",
      "In /Applications/anaconda3/lib/python3.7/site-packages/matplotlib/mpl-data/stylelib/_classic_test.mplstyle: \n",
      "The savefig.jpeg_quality rcparam was deprecated in Matplotlib 3.3 and will be removed two minor releases later.\n",
      "In /Applications/anaconda3/lib/python3.7/site-packages/matplotlib/mpl-data/stylelib/_classic_test.mplstyle: \n",
      "The keymap.all_axes rcparam was deprecated in Matplotlib 3.3 and will be removed two minor releases later.\n",
      "In /Applications/anaconda3/lib/python3.7/site-packages/matplotlib/mpl-data/stylelib/_classic_test.mplstyle: \n",
      "The animation.avconv_path rcparam was deprecated in Matplotlib 3.3 and will be removed two minor releases later.\n",
      "In /Applications/anaconda3/lib/python3.7/site-packages/matplotlib/mpl-data/stylelib/_classic_test.mplstyle: \n",
      "The animation.avconv_args rcparam was deprecated in Matplotlib 3.3 and will be removed two minor releases later.\n"
     ]
    },
    {
     "data": {
      "text/plain": [
       "<matplotlib.collections.PathCollection at 0x7fee0e90e410>"
      ]
     },
     "execution_count": 4,
     "metadata": {},
     "output_type": "execute_result"
    },
    {
     "data": {
      "image/png": "[encoded data removed]",
      "text/plain": [
       "<Figure size 432x288 with 1 Axes>"
      ]
     },
     "metadata": {
      "needs_background": "light"
     },
     "output_type": "display_data"
    }
   ],
   "source": [
    "import matplotlib.pyplot as plt\n",
    "\n",
    "N=50\n",
    "plt.scatter(range(N), cases)"
   ]
  },
  {
   "cell_type": "markdown",
   "metadata": {},
   "source": [
    "There are one or two outliers, but this could be caused by the fact that states have different populations.  Let's try to get some understanding of how these two factors seem to interact:"
   ]
  },
  {
   "cell_type": "markdown",
   "metadata": {},
   "source": [
    "## Scatter Plots for Multiple Datasets"
   ]
  },
  {
   "cell_type": "markdown",
   "metadata": {},
   "source": [
    "The easiest way to create a with multiple datasets is to simply call Matplotlib's multiple times from within a single cell. Let's try that with our cases and population data:"
   ]
  },
  {
   "cell_type": "code",
   "execution_count": 58,
   "metadata": {},
   "outputs": [
    {
     "data": {
      "text/plain": [
       "<matplotlib.collections.PathCollection at 0x7fee13956f10>"
      ]
     },
     "execution_count": 58,
     "metadata": {},
     "output_type": "execute_result"
    },
    {
     "data": {
      "image/png": "[encoded data removed]",
      "text/plain": [
       "<Figure size 432x288 with 1 Axes>"
      ]
     },
     "metadata": {
      "needs_background": "light"
     },
     "output_type": "display_data"
    }
   ],
   "source": [
    "plt.scatter(range(N), cases)\n",
    "plt.scatter(range(N), pop)"
   ]
  },
  {
   "cell_type": "markdown",
   "metadata": {},
   "source": [
    "The good news is that Matplotlib knows how to plot multiple data sets on the same plot and automatically picks different colors for the scatter plot markers. We can improve the plot in several ways. First, we can choose a different marker for the population data. Markers can be specified using the `marker` keyword of the scatter function. The value passed is a string that indicates which marker to use. \n",
    "\n",
    "Some commonly used marker types include:\n",
    "```\n",
    "\".\"\t\tpoint\n",
    "\"o\"\t\tcircle\n",
    "\"s\"\t\tsquare\n",
    "\"+\"\t\tplus\n",
    "\"x\"\t\tx\n",
    "```\n",
    "\n",
    "\n",
    "For a complete list of marker types, consult the Matplotlib documentation:\n",
    "\n",
    "[matplotlib.markers](https://matplotlib.org/stable/api/markers_api.html)\n",
    "\n",
    "Let's test this on our plot:"
   ]
  },
  {
   "cell_type": "code",
   "execution_count": 80,
   "metadata": {},
   "outputs": [
    {
     "data": {
      "text/plain": [
       "<matplotlib.collections.PathCollection at 0x7fee158b1a10>"
      ]
     },
     "execution_count": 80,
     "metadata": {},
     "output_type": "execute_result"
    },
    {
     "data": {
      "image/png": "[encoded data removed]",
      "text/plain": [
       "<Figure size 432x288 with 1 Axes>"
      ]
     },
     "metadata": {
      "needs_background": "light"
     },
     "output_type": "display_data"
    }
   ],
   "source": [
    "plt.scatter(range(N), cases)\n",
    "plt.scatter(range(N), pop, marker='x')"
   ]
  },
  {
   "cell_type": "markdown",
   "metadata": {},
   "source": [
    "Now we can be sure that the orange markers are for the population data -- but someone coming across the graph will not! We can add a legend to convey this information to the viewer. This is most easily done in two steps:\n",
    "1. When calling `plt.scatter()` for each data set, pass the text that you would like to appear in the legend for that data set using the `label` keyword argument.\n",
    "2. After all `plt.scatter()` calls are complete, call `plt.legend()` to draw the legend.\n",
    "\n"
   ]
  },
  {
   "cell_type": "code",
   "execution_count": 83,
   "metadata": {},
   "outputs": [
    {
     "data": {
      "text/plain": [
       "<matplotlib.legend.Legend at 0x7fee11ec8b50>"
      ]
     },
     "execution_count": 83,
     "metadata": {},
     "output_type": "execute_result"
    },
    {
     "data": {
      "image/png": "[encoded data removed]",
      "text/plain": [
       "<Figure size 432x288 with 1 Axes>"
      ]
     },
     "metadata": {
      "needs_background": "light"
     },
     "output_type": "display_data"
    }
   ],
   "source": [
    "plt.scatter(range(N), cases, label=\"# of Covid cases\")\n",
    "plt.scatter(range(N), pop, marker='x', label=\"Population\")\n",
    "\n",
    "plt.legend()"
   ]
  },
  {
   "cell_type": "markdown",
   "metadata": {},
   "source": [
    "Adding some axis labels finishes the graph:"
   ]
  },
  {
   "cell_type": "code",
   "execution_count": 84,
   "metadata": {},
   "outputs": [
    {
     "data": {
      "text/plain": [
       "Text(0, 0.5, 'Number of People/Cases')"
      ]
     },
     "execution_count": 84,
     "metadata": {},
     "output_type": "execute_result"
    },
    {
     "data": {
      "image/png": "[encoded data removed]",
      "text/plain": [
       "<Figure size 432x288 with 1 Axes>"
      ]
     },
     "metadata": {
      "needs_background": "light"
     },
     "output_type": "display_data"
    }
   ],
   "source": [
    "plt.scatter(range(N), cases, label=\"# of Covid cases\")\n",
    "plt.scatter(range(N), pop, marker='x', label=\"Population\")\n",
    "\n",
    "plt.legend()\n",
    "plt.xlabel(\"State Index\")\n",
    "plt.ylabel(\"Number of People/Cases\")"
   ]
  },
  {
   "cell_type": "markdown",
   "metadata": {},
   "source": [
    "The bad news is that this graph is not very useful because the variations in the number of cases cannot be discriminated because the range of the number cases is so much smaller than the range of the populations. The NumPy array variables (technically type `np.ndarray`) have a max method that we can use to check this:"
   ]
  },
  {
   "cell_type": "code",
   "execution_count": 85,
   "metadata": {},
   "outputs": [
    {
     "data": {
      "text/plain": [
       "(309696, 39512223)"
      ]
     },
     "execution_count": 85,
     "metadata": {},
     "output_type": "execute_result"
    }
   ],
   "source": [
    "cases.max(), pop.max()"
   ]
  },
  {
   "cell_type": "markdown",
   "metadata": {},
   "source": [
    "We can better plot these data on the same plot if we use a different $y$-axis for each data set. To do this, we can use Matplotlib's `subplots` function to create a figure and a first axis, and then the `twinx` function to share the **same** $x$-axis but allow a new $y$-axis to be created for the second data set:"
   ]
  },
  {
   "cell_type": "code",
   "execution_count": 86,
   "metadata": {},
   "outputs": [
    {
     "data": {
      "text/plain": [
       "<matplotlib.collections.PathCollection at 0x7fee15d74c10>"
      ]
     },
     "execution_count": 86,
     "metadata": {},
     "output_type": "execute_result"
    },
    {
     "data": {
      "image/png": "[encoded data removed]",
      "text/plain": [
       "<Figure size 432x288 with 2 Axes>"
      ]
     },
     "metadata": {
      "needs_background": "light"
     },
     "output_type": "display_data"
    }
   ],
   "source": [
    "fig, ax = plt.subplots()\n",
    "ax.scatter(range(N), cases)\n",
    "\n",
    "ax2=ax.twinx()\n",
    "ax2.scatter(range(N), pop)"
   ]
  },
  {
   "cell_type": "markdown",
   "metadata": {},
   "source": [
    "However, when we create the second set of axes, we lose the differentiation of markers. We can specify the marker color and type of marker symbol used using the `color` and `marker` keywords respectively. \n",
    "\n",
    "For example,"
   ]
  },
  {
   "cell_type": "code",
   "execution_count": 88,
   "metadata": {},
   "outputs": [
    {
     "data": {
      "text/plain": [
       "<matplotlib.collections.PathCollection at 0x7fee16095a90>"
      ]
     },
     "execution_count": 88,
     "metadata": {},
     "output_type": "execute_result"
    },
    {
     "data": {
      "image/png": "[encoded data removed]",
      "text/plain": [
       "<Figure size 432x288 with 2 Axes>"
      ]
     },
     "metadata": {
      "needs_background": "light"
     },
     "output_type": "display_data"
    }
   ],
   "source": [
    "fig, ax = plt.subplots()\n",
    "ax.scatter(range(N), cases)\n",
    "\n",
    "ax2=ax.twinx()\n",
    "ax2.scatter(range(N), pop, color='orange', marker='x')"
   ]
  },
  {
   "cell_type": "markdown",
   "metadata": {},
   "source": [
    "We can add axis labels to each $y$-axis separately. However, because we are using different axes, we need to use the `set_xlabel` and `set_ylabel` methods of the Matplotlib `axis` object to set these labels:\n"
   ]
  },
  {
   "cell_type": "code",
   "execution_count": 104,
   "metadata": {},
   "outputs": [
    {
     "data": {
      "image/png": "[encoded data removed]",
      "text/plain": [
       "<Figure size 432x288 with 2 Axes>"
      ]
     },
     "metadata": {
      "needs_background": "light"
     },
     "output_type": "display_data"
    }
   ],
   "source": [
    "fig, ax = plt.subplots()\n",
    "ax.scatter(range(N), cases)\n",
    "ax.set_ylabel(\"Number of cases\")\n",
    "ax.set_xlabel(\"State index\")\n",
    "\n",
    "ax2=ax.twinx()\n",
    "ax2.scatter(range(N), pop, color='orange', marker='x')\n",
    "ax2.set_ylabel(\"Population\");\n",
    "\n"
   ]
  },
  {
   "cell_type": "markdown",
   "metadata": {},
   "source": [
    "It is easiest to add separate legends for the different data sets, but we need to specify different locations for the legends so that they do not overlap:"
   ]
  },
  {
   "cell_type": "code",
   "execution_count": 111,
   "metadata": {},
   "outputs": [
    {
     "data": {
      "image/png": "[encoded data removed]",
      "text/plain": [
       "<Figure size 432x288 with 2 Axes>"
      ]
     },
     "metadata": {
      "needs_background": "light"
     },
     "output_type": "display_data"
    }
   ],
   "source": [
    "fig, ax = plt.subplots()\n",
    "ax.scatter(range(N), cases, label='No. of Cases')\n",
    "ax.set_ylabel(\"Number of cases\")\n",
    "ax.set_xlabel(\"State index\")\n",
    "\n",
    "ax2=ax.twinx()\n",
    "\n",
    "ax2.scatter(range(N), pop, color='orange', marker='x', label='Population')\n",
    "ax2.set_ylabel(\"Population\");\n",
    "\n",
    "ax.legend()\n",
    "ax2.legend(loc=2);\n",
    "\n"
   ]
  },
  {
   "cell_type": "markdown",
   "metadata": {},
   "source": [
    "We can make a couple of quick fixes to this. First, let's swap the two legends, so that the legend is close to its corresponding $y$-axis. Second, We note that one of the Population points is behind the left legend, and one of the cases points is above the legend. Let's adjust the $y$-limits of these axes so that those points will be lower in the graph:"
   ]
  },
  {
   "cell_type": "code",
   "execution_count": 118,
   "metadata": {},
   "outputs": [
    {
     "data": {
      "image/png": "[encoded data removed]",
      "text/plain": [
       "<Figure size 432x288 with 2 Axes>"
      ]
     },
     "metadata": {
      "needs_background": "light"
     },
     "output_type": "display_data"
    }
   ],
   "source": [
    "fig, ax = plt.subplots()\n",
    "ax.scatter(range(N), cases, label='No. of Cases')\n",
    "ax.set_ylabel(\"Number of cases\")\n",
    "ax.set_xlabel(\"State index\")\n",
    "\n",
    "ax2=ax.twinx()\n",
    "\n",
    "ax2.scatter(range(N), pop, color='orange', marker='x', label='Population')\n",
    "ax2.set_ylabel(\"Population\");\n",
    "\n",
    "ax.legend(loc=2)\n",
    "ax2.legend();\n",
    "\n",
    "ax.set_ylim(0,4e5);\n",
    "ax2.set_ylim(0,4.8e7);\n",
    "\n"
   ]
  },
  {
   "cell_type": "markdown",
   "metadata": {},
   "source": [
    "Another common convention is to plot the values in thousands or millions to clean up the axes labels, as shown here:"
   ]
  },
  {
   "cell_type": "code",
   "execution_count": 120,
   "metadata": {},
   "outputs": [
    {
     "data": {
      "image/png": "[encoded data removed]",
      "text/plain": [
       "<Figure size 432x288 with 2 Axes>"
      ]
     },
     "metadata": {
      "needs_background": "light"
     },
     "output_type": "display_data"
    }
   ],
   "source": [
    "fig, ax = plt.subplots()\n",
    "ax.scatter(range(N), cases/1000, label='No. of Cases')\n",
    "ax.set_ylabel(\"Number of cases (Thousands)\")\n",
    "ax.set_xlabel(\"State index\")\n",
    "\n",
    "ax2=ax.twinx()\n",
    "\n",
    "ax2.scatter(range(N), pop/1e6, color='orange', marker='x', label='Population')\n",
    "ax2.set_ylabel(\"Population (Millions)\");\n",
    "\n",
    "ax.legend(loc=2)\n",
    "ax2.legend();\n",
    "\n",
    "ax.set_ylim(0,4e2);\n",
    "ax2.set_ylim(0,48);"
   ]
  },
  {
   "cell_type": "markdown",
   "metadata": {},
   "source": [
    "The relation among these data might be more clear if the data were sorted by population. We can sort the rows of the dataframe by population as follows:"
   ]
  },
  {
   "cell_type": "code",
   "execution_count": 122,
   "metadata": {},
   "outputs": [],
   "source": [
    "df.sort_values(\"population\", inplace=True)"
   ]
  },
  {
   "cell_type": "code",
   "execution_count": 123,
   "metadata": {},
   "outputs": [],
   "source": [
    "popS=np.array(df[\"population\"])\n",
    "casesS=np.array(df[\"cases\"])"
   ]
  },
  {
   "cell_type": "code",
   "execution_count": 124,
   "metadata": {},
   "outputs": [
    {
     "data": {
      "text/plain": [
       "<matplotlib.collections.PathCollection at 0x7fedf9d91590>"
      ]
     },
     "execution_count": 124,
     "metadata": {},
     "output_type": "execute_result"
    },
    {
     "data": {
      "image/png": "[encoded data removed]",
      "text/plain": [
       "<Figure size 432x288 with 2 Axes>"
      ]
     },
     "metadata": {
      "needs_background": "light"
     },
     "output_type": "display_data"
    }
   ],
   "source": [
    "fig, ax = plt.subplots()\n",
    "ax.scatter(range(N), casesS)\n",
    "\n",
    "ax2=ax.twinx()\n",
    "ax2.scatter(range(N), popS, color=\"orange\", marker=\"+\")"
   ]
  },
  {
   "cell_type": "markdown",
   "metadata": {},
   "source": [
    "The number of cases (shown in blue) generally increases with the population of the states. We might make some guesses about how these two variables might be related. Statisticians call such guesses *hypotheses* if they can be formulated as something that can be tested from the data. Two possible hypotheses about how population of a state might affect the number of cases are:\n",
    "* Each person in the United States has the same probability of getting Covid. Thus, the number of cases per state should increase in proportion to the state's population.\n",
    "* The probability of getting Covid increases with the population of a state because there is an increase amoung of mixing among the people within the state. Then the number of cases per state should increase with population even faster than under the previous assumption.\n",
    "\n",
    "Of course, there may be many other hypotheses that explain this relationship. In this chapter, we will try to remove some of the underlying effects of different state populations by normalizing the cases and GDP on a per population basis. \n",
    "\n",
    "Let's look at how we would do this within our Pandas dataframe. We can create a new column of our dataframe by simply assigning to it. Here, we just use functions of our other dataframe columns:"
   ]
  },
  {
   "cell_type": "code",
   "execution_count": 126,
   "metadata": {},
   "outputs": [
    {
     "data": {
      "text/html": [
       "<div>\n",
       "<style scoped>\n",
       "    .dataframe tbody tr th:only-of-type {\n",
       "        vertical-align: middle;\n",
       "    }\n",
       "\n",
       "    .dataframe tbody tr th {\n",
       "        vertical-align: top;\n",
       "    }\n",
       "\n",
       "    .dataframe thead th {\n",
       "        text-align: right;\n",
       "    }\n",
       "</style>\n",
       "<table border=\"1\" class=\"dataframe\">\n",
       "  <thead>\n",
       "    <tr style=\"text-align: right;\">\n",
       "      <th></th>\n",
       "      <th>state</th>\n",
       "      <th>cases</th>\n",
       "      <th>population</th>\n",
       "      <th>gdp</th>\n",
       "      <th>urban</th>\n",
       "      <th>cases_pp</th>\n",
       "      <th>gdp_pp</th>\n",
       "    </tr>\n",
       "  </thead>\n",
       "  <tbody>\n",
       "    <tr>\n",
       "      <th>49</th>\n",
       "      <td>Wyoming</td>\n",
       "      <td>559</td>\n",
       "      <td>578759</td>\n",
       "      <td>40764.3</td>\n",
       "      <td>64.76</td>\n",
       "      <td>0.000966</td>\n",
       "      <td>0.070434</td>\n",
       "    </tr>\n",
       "    <tr>\n",
       "      <th>44</th>\n",
       "      <td>Vermont</td>\n",
       "      <td>866</td>\n",
       "      <td>623989</td>\n",
       "      <td>34320.2</td>\n",
       "      <td>38.90</td>\n",
       "      <td>0.001388</td>\n",
       "      <td>0.055001</td>\n",
       "    </tr>\n",
       "    <tr>\n",
       "      <th>1</th>\n",
       "      <td>Alaska</td>\n",
       "      <td>353</td>\n",
       "      <td>731545</td>\n",
       "      <td>54674.7</td>\n",
       "      <td>66.02</td>\n",
       "      <td>0.000483</td>\n",
       "      <td>0.074739</td>\n",
       "    </tr>\n",
       "    <tr>\n",
       "      <th>33</th>\n",
       "      <td>North Dakota</td>\n",
       "      <td>1067</td>\n",
       "      <td>762062</td>\n",
       "      <td>57471.9</td>\n",
       "      <td>59.90</td>\n",
       "      <td>0.001400</td>\n",
       "      <td>0.075416</td>\n",
       "    </tr>\n",
       "    <tr>\n",
       "      <th>40</th>\n",
       "      <td>South Dakota</td>\n",
       "      <td>2450</td>\n",
       "      <td>884659</td>\n",
       "      <td>56051.9</td>\n",
       "      <td>56.65</td>\n",
       "      <td>0.002769</td>\n",
       "      <td>0.063360</td>\n",
       "    </tr>\n",
       "    <tr>\n",
       "      <th>7</th>\n",
       "      <td>Delaware</td>\n",
       "      <td>4734</td>\n",
       "      <td>973764</td>\n",
       "      <td>77879.4</td>\n",
       "      <td>83.30</td>\n",
       "      <td>0.004862</td>\n",
       "      <td>0.079978</td>\n",
       "    </tr>\n",
       "    <tr>\n",
       "      <th>38</th>\n",
       "      <td>Rhode Island</td>\n",
       "      <td>8621</td>\n",
       "      <td>1059361</td>\n",
       "      <td>62335.4</td>\n",
       "      <td>90.73</td>\n",
       "      <td>0.008138</td>\n",
       "      <td>0.058842</td>\n",
       "    </tr>\n",
       "    <tr>\n",
       "      <th>25</th>\n",
       "      <td>Montana</td>\n",
       "      <td>452</td>\n",
       "      <td>1068778</td>\n",
       "      <td>54034.7</td>\n",
       "      <td>55.89</td>\n",
       "      <td>0.000423</td>\n",
       "      <td>0.050557</td>\n",
       "    </tr>\n",
       "    <tr>\n",
       "      <th>18</th>\n",
       "      <td>Maine</td>\n",
       "      <td>1095</td>\n",
       "      <td>1344212</td>\n",
       "      <td>68984.9</td>\n",
       "      <td>38.66</td>\n",
       "      <td>0.000815</td>\n",
       "      <td>0.051320</td>\n",
       "    </tr>\n",
       "    <tr>\n",
       "      <th>28</th>\n",
       "      <td>New Hampshire</td>\n",
       "      <td>2146</td>\n",
       "      <td>1359711</td>\n",
       "      <td>88014.8</td>\n",
       "      <td>60.30</td>\n",
       "      <td>0.001578</td>\n",
       "      <td>0.064731</td>\n",
       "    </tr>\n",
       "    <tr>\n",
       "      <th>10</th>\n",
       "      <td>Hawaii</td>\n",
       "      <td>609</td>\n",
       "      <td>1415872</td>\n",
       "      <td>97001.1</td>\n",
       "      <td>91.93</td>\n",
       "      <td>0.000430</td>\n",
       "      <td>0.068510</td>\n",
       "    </tr>\n",
       "    <tr>\n",
       "      <th>11</th>\n",
       "      <td>Idaho</td>\n",
       "      <td>2016</td>\n",
       "      <td>1787065</td>\n",
       "      <td>85791.1</td>\n",
       "      <td>70.58</td>\n",
       "      <td>0.001128</td>\n",
       "      <td>0.048007</td>\n",
       "    </tr>\n",
       "    <tr>\n",
       "      <th>47</th>\n",
       "      <td>West Virginia</td>\n",
       "      <td>1126</td>\n",
       "      <td>1792147</td>\n",
       "      <td>78480.5</td>\n",
       "      <td>48.72</td>\n",
       "      <td>0.000628</td>\n",
       "      <td>0.043791</td>\n",
       "    </tr>\n",
       "    <tr>\n",
       "      <th>26</th>\n",
       "      <td>Nebraska</td>\n",
       "      <td>4332</td>\n",
       "      <td>1934408</td>\n",
       "      <td>133201.0</td>\n",
       "      <td>73.13</td>\n",
       "      <td>0.002239</td>\n",
       "      <td>0.068859</td>\n",
       "    </tr>\n",
       "    <tr>\n",
       "      <th>30</th>\n",
       "      <td>New Mexico</td>\n",
       "      <td>3411</td>\n",
       "      <td>2096829</td>\n",
       "      <td>106914.4</td>\n",
       "      <td>77.43</td>\n",
       "      <td>0.001627</td>\n",
       "      <td>0.050989</td>\n",
       "    </tr>\n",
       "    <tr>\n",
       "      <th>15</th>\n",
       "      <td>Kansas</td>\n",
       "      <td>4305</td>\n",
       "      <td>2913314</td>\n",
       "      <td>178605.1</td>\n",
       "      <td>74.20</td>\n",
       "      <td>0.001478</td>\n",
       "      <td>0.061307</td>\n",
       "    </tr>\n",
       "    <tr>\n",
       "      <th>23</th>\n",
       "      <td>Mississippi</td>\n",
       "      <td>6815</td>\n",
       "      <td>2976149</td>\n",
       "      <td>117642.3</td>\n",
       "      <td>49.35</td>\n",
       "      <td>0.002290</td>\n",
       "      <td>0.039528</td>\n",
       "    </tr>\n",
       "    <tr>\n",
       "      <th>3</th>\n",
       "      <td>Arkansas</td>\n",
       "      <td>3281</td>\n",
       "      <td>3017804</td>\n",
       "      <td>132596.4</td>\n",
       "      <td>56.16</td>\n",
       "      <td>0.001087</td>\n",
       "      <td>0.043938</td>\n",
       "    </tr>\n",
       "    <tr>\n",
       "      <th>27</th>\n",
       "      <td>Nevada</td>\n",
       "      <td>5053</td>\n",
       "      <td>3080156</td>\n",
       "      <td>181751.6</td>\n",
       "      <td>94.20</td>\n",
       "      <td>0.001641</td>\n",
       "      <td>0.059007</td>\n",
       "    </tr>\n",
       "    <tr>\n",
       "      <th>14</th>\n",
       "      <td>Iowa</td>\n",
       "      <td>7145</td>\n",
       "      <td>3155070</td>\n",
       "      <td>196247.4</td>\n",
       "      <td>64.02</td>\n",
       "      <td>0.002265</td>\n",
       "      <td>0.062201</td>\n",
       "    </tr>\n",
       "    <tr>\n",
       "      <th>43</th>\n",
       "      <td>Utah</td>\n",
       "      <td>4672</td>\n",
       "      <td>3205958</td>\n",
       "      <td>196639.4</td>\n",
       "      <td>90.58</td>\n",
       "      <td>0.001457</td>\n",
       "      <td>0.061336</td>\n",
       "    </tr>\n",
       "    <tr>\n",
       "      <th>6</th>\n",
       "      <td>Connecticut</td>\n",
       "      <td>27700</td>\n",
       "      <td>3565287</td>\n",
       "      <td>290703.0</td>\n",
       "      <td>87.99</td>\n",
       "      <td>0.007769</td>\n",
       "      <td>0.081537</td>\n",
       "    </tr>\n",
       "    <tr>\n",
       "      <th>35</th>\n",
       "      <td>Oklahoma</td>\n",
       "      <td>3618</td>\n",
       "      <td>3956971</td>\n",
       "      <td>201604.3</td>\n",
       "      <td>66.24</td>\n",
       "      <td>0.000914</td>\n",
       "      <td>0.050949</td>\n",
       "    </tr>\n",
       "    <tr>\n",
       "      <th>36</th>\n",
       "      <td>Oregon</td>\n",
       "      <td>2510</td>\n",
       "      <td>4217737</td>\n",
       "      <td>258692.6</td>\n",
       "      <td>81.03</td>\n",
       "      <td>0.000595</td>\n",
       "      <td>0.061334</td>\n",
       "    </tr>\n",
       "    <tr>\n",
       "      <th>16</th>\n",
       "      <td>Kentucky</td>\n",
       "      <td>4708</td>\n",
       "      <td>4467673</td>\n",
       "      <td>218426.1</td>\n",
       "      <td>58.38</td>\n",
       "      <td>0.001054</td>\n",
       "      <td>0.048890</td>\n",
       "    </tr>\n",
       "    <tr>\n",
       "      <th>17</th>\n",
       "      <td>Louisiana</td>\n",
       "      <td>28044</td>\n",
       "      <td>4648794</td>\n",
       "      <td>259079.3</td>\n",
       "      <td>73.19</td>\n",
       "      <td>0.006033</td>\n",
       "      <td>0.055730</td>\n",
       "    </tr>\n",
       "    <tr>\n",
       "      <th>0</th>\n",
       "      <td>Alabama</td>\n",
       "      <td>7068</td>\n",
       "      <td>4903185</td>\n",
       "      <td>230750.1</td>\n",
       "      <td>59.04</td>\n",
       "      <td>0.001442</td>\n",
       "      <td>0.047061</td>\n",
       "    </tr>\n",
       "    <tr>\n",
       "      <th>39</th>\n",
       "      <td>South Carolina</td>\n",
       "      <td>6095</td>\n",
       "      <td>5148714</td>\n",
       "      <td>251664.5</td>\n",
       "      <td>66.33</td>\n",
       "      <td>0.001184</td>\n",
       "      <td>0.048879</td>\n",
       "    </tr>\n",
       "    <tr>\n",
       "      <th>22</th>\n",
       "      <td>Minnesota</td>\n",
       "      <td>5136</td>\n",
       "      <td>5639632</td>\n",
       "      <td>389503.7</td>\n",
       "      <td>73.27</td>\n",
       "      <td>0.000911</td>\n",
       "      <td>0.069065</td>\n",
       "    </tr>\n",
       "    <tr>\n",
       "      <th>5</th>\n",
       "      <td>Colorado</td>\n",
       "      <td>15207</td>\n",
       "      <td>5758736</td>\n",
       "      <td>400863.4</td>\n",
       "      <td>86.15</td>\n",
       "      <td>0.002641</td>\n",
       "      <td>0.069610</td>\n",
       "    </tr>\n",
       "    <tr>\n",
       "      <th>48</th>\n",
       "      <td>Wisconsin</td>\n",
       "      <td>6973</td>\n",
       "      <td>5822434</td>\n",
       "      <td>353935.5</td>\n",
       "      <td>70.15</td>\n",
       "      <td>0.001198</td>\n",
       "      <td>0.060788</td>\n",
       "    </tr>\n",
       "    <tr>\n",
       "      <th>19</th>\n",
       "      <td>Maryland</td>\n",
       "      <td>21825</td>\n",
       "      <td>6045680</td>\n",
       "      <td>432997.8</td>\n",
       "      <td>87.20</td>\n",
       "      <td>0.003610</td>\n",
       "      <td>0.071621</td>\n",
       "    </tr>\n",
       "    <tr>\n",
       "      <th>24</th>\n",
       "      <td>Missouri</td>\n",
       "      <td>7563</td>\n",
       "      <td>6137428</td>\n",
       "      <td>332659.7</td>\n",
       "      <td>70.44</td>\n",
       "      <td>0.001232</td>\n",
       "      <td>0.054202</td>\n",
       "    </tr>\n",
       "    <tr>\n",
       "      <th>13</th>\n",
       "      <td>Indiana</td>\n",
       "      <td>18099</td>\n",
       "      <td>6732219</td>\n",
       "      <td>384871.7</td>\n",
       "      <td>72.44</td>\n",
       "      <td>0.002688</td>\n",
       "      <td>0.057169</td>\n",
       "    </tr>\n",
       "    <tr>\n",
       "      <th>41</th>\n",
       "      <td>Tennessee</td>\n",
       "      <td>10506</td>\n",
       "      <td>6829174</td>\n",
       "      <td>380823.0</td>\n",
       "      <td>66.39</td>\n",
       "      <td>0.001538</td>\n",
       "      <td>0.055764</td>\n",
       "    </tr>\n",
       "    <tr>\n",
       "      <th>20</th>\n",
       "      <td>Massachusetts</td>\n",
       "      <td>62205</td>\n",
       "      <td>6892503</td>\n",
       "      <td>603209.6</td>\n",
       "      <td>91.97</td>\n",
       "      <td>0.009025</td>\n",
       "      <td>0.087517</td>\n",
       "    </tr>\n",
       "    <tr>\n",
       "      <th>2</th>\n",
       "      <td>Arizona</td>\n",
       "      <td>7648</td>\n",
       "      <td>7278717</td>\n",
       "      <td>379018.8</td>\n",
       "      <td>89.81</td>\n",
       "      <td>0.001051</td>\n",
       "      <td>0.052072</td>\n",
       "    </tr>\n",
       "    <tr>\n",
       "      <th>46</th>\n",
       "      <td>Washington</td>\n",
       "      <td>14814</td>\n",
       "      <td>7614893</td>\n",
       "      <td>624861.4</td>\n",
       "      <td>84.05</td>\n",
       "      <td>0.001945</td>\n",
       "      <td>0.082058</td>\n",
       "    </tr>\n",
       "    <tr>\n",
       "      <th>45</th>\n",
       "      <td>Virginia</td>\n",
       "      <td>15846</td>\n",
       "      <td>8535519</td>\n",
       "      <td>566529.4</td>\n",
       "      <td>75.45</td>\n",
       "      <td>0.001856</td>\n",
       "      <td>0.066373</td>\n",
       "    </tr>\n",
       "    <tr>\n",
       "      <th>29</th>\n",
       "      <td>New Jersey</td>\n",
       "      <td>118652</td>\n",
       "      <td>8882190</td>\n",
       "      <td>642967.7</td>\n",
       "      <td>94.68</td>\n",
       "      <td>0.013358</td>\n",
       "      <td>0.072388</td>\n",
       "    </tr>\n",
       "    <tr>\n",
       "      <th>21</th>\n",
       "      <td>Michigan</td>\n",
       "      <td>41348</td>\n",
       "      <td>9986857</td>\n",
       "      <td>543489.4</td>\n",
       "      <td>74.57</td>\n",
       "      <td>0.004140</td>\n",
       "      <td>0.054420</td>\n",
       "    </tr>\n",
       "    <tr>\n",
       "      <th>32</th>\n",
       "      <td>North Carolina</td>\n",
       "      <td>10507</td>\n",
       "      <td>10488084</td>\n",
       "      <td>601787.9</td>\n",
       "      <td>66.09</td>\n",
       "      <td>0.001002</td>\n",
       "      <td>0.057378</td>\n",
       "    </tr>\n",
       "    <tr>\n",
       "      <th>9</th>\n",
       "      <td>Georgia</td>\n",
       "      <td>25431</td>\n",
       "      <td>10617423</td>\n",
       "      <td>634137.5</td>\n",
       "      <td>75.07</td>\n",
       "      <td>0.002395</td>\n",
       "      <td>0.059726</td>\n",
       "    </tr>\n",
       "    <tr>\n",
       "      <th>34</th>\n",
       "      <td>Ohio</td>\n",
       "      <td>18027</td>\n",
       "      <td>11689100</td>\n",
       "      <td>703368.9</td>\n",
       "      <td>77.92</td>\n",
       "      <td>0.001542</td>\n",
       "      <td>0.060173</td>\n",
       "    </tr>\n",
       "    <tr>\n",
       "      <th>12</th>\n",
       "      <td>Illinois</td>\n",
       "      <td>52918</td>\n",
       "      <td>12671821</td>\n",
       "      <td>893355.5</td>\n",
       "      <td>88.49</td>\n",
       "      <td>0.004176</td>\n",
       "      <td>0.070499</td>\n",
       "    </tr>\n",
       "    <tr>\n",
       "      <th>37</th>\n",
       "      <td>Pennsylvania</td>\n",
       "      <td>48224</td>\n",
       "      <td>12801989</td>\n",
       "      <td>818448.6</td>\n",
       "      <td>78.66</td>\n",
       "      <td>0.003767</td>\n",
       "      <td>0.063931</td>\n",
       "    </tr>\n",
       "    <tr>\n",
       "      <th>31</th>\n",
       "      <td>New York</td>\n",
       "      <td>309696</td>\n",
       "      <td>19453561</td>\n",
       "      <td>1791566.8</td>\n",
       "      <td>87.87</td>\n",
       "      <td>0.015920</td>\n",
       "      <td>0.092095</td>\n",
       "    </tr>\n",
       "    <tr>\n",
       "      <th>8</th>\n",
       "      <td>Florida</td>\n",
       "      <td>33683</td>\n",
       "      <td>21477737</td>\n",
       "      <td>1126510.3</td>\n",
       "      <td>91.16</td>\n",
       "      <td>0.001568</td>\n",
       "      <td>0.052450</td>\n",
       "    </tr>\n",
       "    <tr>\n",
       "      <th>42</th>\n",
       "      <td>Texas</td>\n",
       "      <td>29072</td>\n",
       "      <td>28995881</td>\n",
       "      <td>1861581.9</td>\n",
       "      <td>84.70</td>\n",
       "      <td>0.001003</td>\n",
       "      <td>0.064202</td>\n",
       "    </tr>\n",
       "    <tr>\n",
       "      <th>4</th>\n",
       "      <td>California</td>\n",
       "      <td>50470</td>\n",
       "      <td>39512223</td>\n",
       "      <td>3205000.1</td>\n",
       "      <td>94.95</td>\n",
       "      <td>0.001277</td>\n",
       "      <td>0.081114</td>\n",
       "    </tr>\n",
       "  </tbody>\n",
       "</table>\n",
       "</div>"
      ],
      "text/plain": [
       "             state   cases  population        gdp  urban  cases_pp    gdp_pp\n",
       "49         Wyoming     559      578759    40764.3  64.76  0.000966  0.070434\n",
       "44         Vermont     866      623989    34320.2  38.90  0.001388  0.055001\n",
       "1           Alaska     353      731545    54674.7  66.02  0.000483  0.074739\n",
       "33    North Dakota    1067      762062    57471.9  59.90  0.001400  0.075416\n",
       "40    South Dakota    2450      884659    56051.9  56.65  0.002769  0.063360\n",
       "7         Delaware    4734      973764    77879.4  83.30  0.004862  0.079978\n",
       "38    Rhode Island    8621     1059361    62335.4  90.73  0.008138  0.058842\n",
       "25         Montana     452     1068778    54034.7  55.89  0.000423  0.050557\n",
       "18           Maine    1095     1344212    68984.9  38.66  0.000815  0.051320\n",
       "28   New Hampshire    2146     1359711    88014.8  60.30  0.001578  0.064731\n",
       "10          Hawaii     609     1415872    97001.1  91.93  0.000430  0.068510\n",
       "11           Idaho    2016     1787065    85791.1  70.58  0.001128  0.048007\n",
       "47   West Virginia    1126     1792147    78480.5  48.72  0.000628  0.043791\n",
       "26        Nebraska    4332     1934408   133201.0  73.13  0.002239  0.068859\n",
       "30      New Mexico    3411     2096829   106914.4  77.43  0.001627  0.050989\n",
       "15          Kansas    4305     2913314   178605.1  74.20  0.001478  0.061307\n",
       "23     Mississippi    6815     2976149   117642.3  49.35  0.002290  0.039528\n",
       "3         Arkansas    3281     3017804   132596.4  56.16  0.001087  0.043938\n",
       "27          Nevada    5053     3080156   181751.6  94.20  0.001641  0.059007\n",
       "14            Iowa    7145     3155070   196247.4  64.02  0.002265  0.062201\n",
       "43            Utah    4672     3205958   196639.4  90.58  0.001457  0.061336\n",
       "6      Connecticut   27700     3565287   290703.0  87.99  0.007769  0.081537\n",
       "35        Oklahoma    3618     3956971   201604.3  66.24  0.000914  0.050949\n",
       "36          Oregon    2510     4217737   258692.6  81.03  0.000595  0.061334\n",
       "16        Kentucky    4708     4467673   218426.1  58.38  0.001054  0.048890\n",
       "17       Louisiana   28044     4648794   259079.3  73.19  0.006033  0.055730\n",
       "0          Alabama    7068     4903185   230750.1  59.04  0.001442  0.047061\n",
       "39  South Carolina    6095     5148714   251664.5  66.33  0.001184  0.048879\n",
       "22       Minnesota    5136     5639632   389503.7  73.27  0.000911  0.069065\n",
       "5         Colorado   15207     5758736   400863.4  86.15  0.002641  0.069610\n",
       "48       Wisconsin    6973     5822434   353935.5  70.15  0.001198  0.060788\n",
       "19        Maryland   21825     6045680   432997.8  87.20  0.003610  0.071621\n",
       "24        Missouri    7563     6137428   332659.7  70.44  0.001232  0.054202\n",
       "13         Indiana   18099     6732219   384871.7  72.44  0.002688  0.057169\n",
       "41       Tennessee   10506     6829174   380823.0  66.39  0.001538  0.055764\n",
       "20   Massachusetts   62205     6892503   603209.6  91.97  0.009025  0.087517\n",
       "2          Arizona    7648     7278717   379018.8  89.81  0.001051  0.052072\n",
       "46      Washington   14814     7614893   624861.4  84.05  0.001945  0.082058\n",
       "45        Virginia   15846     8535519   566529.4  75.45  0.001856  0.066373\n",
       "29      New Jersey  118652     8882190   642967.7  94.68  0.013358  0.072388\n",
       "21        Michigan   41348     9986857   543489.4  74.57  0.004140  0.054420\n",
       "32  North Carolina   10507    10488084   601787.9  66.09  0.001002  0.057378\n",
       "9          Georgia   25431    10617423   634137.5  75.07  0.002395  0.059726\n",
       "34            Ohio   18027    11689100   703368.9  77.92  0.001542  0.060173\n",
       "12        Illinois   52918    12671821   893355.5  88.49  0.004176  0.070499\n",
       "37    Pennsylvania   48224    12801989   818448.6  78.66  0.003767  0.063931\n",
       "31        New York  309696    19453561  1791566.8  87.87  0.015920  0.092095\n",
       "8          Florida   33683    21477737  1126510.3  91.16  0.001568  0.052450\n",
       "42           Texas   29072    28995881  1861581.9  84.70  0.001003  0.064202\n",
       "4       California   50470    39512223  3205000.1  94.95  0.001277  0.081114"
      ]
     },
     "execution_count": 126,
     "metadata": {},
     "output_type": "execute_result"
    }
   ],
   "source": [
    "df[\"cases_pp\"]=df[\"cases\"]/df[\"population\"]\n",
    "df"
   ]
  },
  {
   "cell_type": "code",
   "execution_count": 127,
   "metadata": {},
   "outputs": [],
   "source": [
    "df[\"gdp_pp\"]=df[\"gdp\"]/df[\"population\"]"
   ]
  },
  {
   "cell_type": "markdown",
   "metadata": {},
   "source": [
    "As before, we create Numpy arrays of these variables for convenience:"
   ]
  },
  {
   "cell_type": "code",
   "execution_count": 128,
   "metadata": {},
   "outputs": [],
   "source": [
    "cases_pp=np.array(df[\"cases_pp\"])\n",
    "gdp_pp=np.array(df[\"gdp_pp\"])"
   ]
  },
  {
   "cell_type": "code",
   "execution_count": 129,
   "metadata": {},
   "outputs": [
    {
     "data": {
      "text/plain": [
       "<matplotlib.collections.PathCollection at 0x7fedf9ff1c10>"
      ]
     },
     "execution_count": 129,
     "metadata": {},
     "output_type": "execute_result"
    },
    {
     "data": {
      "image/png": "[encoded data removed]",
      "text/plain": [
       "<Figure size 432x288 with 1 Axes>"
      ]
     },
     "metadata": {
      "needs_background": "light"
     },
     "output_type": "display_data"
    }
   ],
   "source": [
    "plt.scatter(range(N), cases_pp)"
   ]
  },
  {
   "cell_type": "markdown",
   "metadata": {},
   "source": [
    "Even with this adjustment, we see that there are some states that have Covid cases/population that are very different than most of the other states. These may be considered *outliers*:\n"
   ]
  },
  {
   "cell_type": "markdown",
   "metadata": {},
   "source": [
    "````{panels}\n",
    "DEFINTION\n",
    "^^^\n",
    "outlier\n",
    ": A value in a dataset that takes on a value that is not reasonable, based on the other values in the dataset or other domain knowledge. Outliers are often due to data entry, measurement, or unit conversion errors.\n",
    "````"
   ]
  },
  {
   "cell_type": "markdown",
   "metadata": {},
   "source": [
    "One of the reasons to start data visualization with scatter plots is that unlike histograms, they show the whole data and are helpful in spotting outliers.\n",
    "\n",
    "If you followed the spread of Covid in the United States in spring 2020, you can probably guess which states have these extreme values.\n",
    "\n",
    "Let's re-sort the data frame based on our new Covid-cases per population column, and we will pass it the keyword argument `ascending=False` to put the highest cases per population first:"
   ]
  },
  {
   "cell_type": "code",
   "execution_count": 135,
   "metadata": {},
   "outputs": [
    {
     "data": {
      "text/html": [
       "<div>\n",
       "<style scoped>\n",
       "    .dataframe tbody tr th:only-of-type {\n",
       "        vertical-align: middle;\n",
       "    }\n",
       "\n",
       "    .dataframe tbody tr th {\n",
       "        vertical-align: top;\n",
       "    }\n",
       "\n",
       "    .dataframe thead th {\n",
       "        text-align: right;\n",
       "    }\n",
       "</style>\n",
       "<table border=\"1\" class=\"dataframe\">\n",
       "  <thead>\n",
       "    <tr style=\"text-align: right;\">\n",
       "      <th></th>\n",
       "      <th>state</th>\n",
       "      <th>cases</th>\n",
       "      <th>population</th>\n",
       "      <th>gdp</th>\n",
       "      <th>urban</th>\n",
       "      <th>cases_pp</th>\n",
       "      <th>gdp_pp</th>\n",
       "    </tr>\n",
       "  </thead>\n",
       "  <tbody>\n",
       "    <tr>\n",
       "      <th>31</th>\n",
       "      <td>New York</td>\n",
       "      <td>309696</td>\n",
       "      <td>19453561</td>\n",
       "      <td>1791566.8</td>\n",
       "      <td>87.87</td>\n",
       "      <td>0.015920</td>\n",
       "      <td>0.092095</td>\n",
       "    </tr>\n",
       "    <tr>\n",
       "      <th>29</th>\n",
       "      <td>New Jersey</td>\n",
       "      <td>118652</td>\n",
       "      <td>8882190</td>\n",
       "      <td>642967.7</td>\n",
       "      <td>94.68</td>\n",
       "      <td>0.013358</td>\n",
       "      <td>0.072388</td>\n",
       "    </tr>\n",
       "    <tr>\n",
       "      <th>20</th>\n",
       "      <td>Massachusetts</td>\n",
       "      <td>62205</td>\n",
       "      <td>6892503</td>\n",
       "      <td>603209.6</td>\n",
       "      <td>91.97</td>\n",
       "      <td>0.009025</td>\n",
       "      <td>0.087517</td>\n",
       "    </tr>\n",
       "    <tr>\n",
       "      <th>38</th>\n",
       "      <td>Rhode Island</td>\n",
       "      <td>8621</td>\n",
       "      <td>1059361</td>\n",
       "      <td>62335.4</td>\n",
       "      <td>90.73</td>\n",
       "      <td>0.008138</td>\n",
       "      <td>0.058842</td>\n",
       "    </tr>\n",
       "    <tr>\n",
       "      <th>6</th>\n",
       "      <td>Connecticut</td>\n",
       "      <td>27700</td>\n",
       "      <td>3565287</td>\n",
       "      <td>290703.0</td>\n",
       "      <td>87.99</td>\n",
       "      <td>0.007769</td>\n",
       "      <td>0.081537</td>\n",
       "    </tr>\n",
       "    <tr>\n",
       "      <th>17</th>\n",
       "      <td>Louisiana</td>\n",
       "      <td>28044</td>\n",
       "      <td>4648794</td>\n",
       "      <td>259079.3</td>\n",
       "      <td>73.19</td>\n",
       "      <td>0.006033</td>\n",
       "      <td>0.055730</td>\n",
       "    </tr>\n",
       "    <tr>\n",
       "      <th>7</th>\n",
       "      <td>Delaware</td>\n",
       "      <td>4734</td>\n",
       "      <td>973764</td>\n",
       "      <td>77879.4</td>\n",
       "      <td>83.30</td>\n",
       "      <td>0.004862</td>\n",
       "      <td>0.079978</td>\n",
       "    </tr>\n",
       "    <tr>\n",
       "      <th>12</th>\n",
       "      <td>Illinois</td>\n",
       "      <td>52918</td>\n",
       "      <td>12671821</td>\n",
       "      <td>893355.5</td>\n",
       "      <td>88.49</td>\n",
       "      <td>0.004176</td>\n",
       "      <td>0.070499</td>\n",
       "    </tr>\n",
       "    <tr>\n",
       "      <th>21</th>\n",
       "      <td>Michigan</td>\n",
       "      <td>41348</td>\n",
       "      <td>9986857</td>\n",
       "      <td>543489.4</td>\n",
       "      <td>74.57</td>\n",
       "      <td>0.004140</td>\n",
       "      <td>0.054420</td>\n",
       "    </tr>\n",
       "    <tr>\n",
       "      <th>37</th>\n",
       "      <td>Pennsylvania</td>\n",
       "      <td>48224</td>\n",
       "      <td>12801989</td>\n",
       "      <td>818448.6</td>\n",
       "      <td>78.66</td>\n",
       "      <td>0.003767</td>\n",
       "      <td>0.063931</td>\n",
       "    </tr>\n",
       "    <tr>\n",
       "      <th>19</th>\n",
       "      <td>Maryland</td>\n",
       "      <td>21825</td>\n",
       "      <td>6045680</td>\n",
       "      <td>432997.8</td>\n",
       "      <td>87.20</td>\n",
       "      <td>0.003610</td>\n",
       "      <td>0.071621</td>\n",
       "    </tr>\n",
       "    <tr>\n",
       "      <th>40</th>\n",
       "      <td>South Dakota</td>\n",
       "      <td>2450</td>\n",
       "      <td>884659</td>\n",
       "      <td>56051.9</td>\n",
       "      <td>56.65</td>\n",
       "      <td>0.002769</td>\n",
       "      <td>0.063360</td>\n",
       "    </tr>\n",
       "    <tr>\n",
       "      <th>13</th>\n",
       "      <td>Indiana</td>\n",
       "      <td>18099</td>\n",
       "      <td>6732219</td>\n",
       "      <td>384871.7</td>\n",
       "      <td>72.44</td>\n",
       "      <td>0.002688</td>\n",
       "      <td>0.057169</td>\n",
       "    </tr>\n",
       "    <tr>\n",
       "      <th>5</th>\n",
       "      <td>Colorado</td>\n",
       "      <td>15207</td>\n",
       "      <td>5758736</td>\n",
       "      <td>400863.4</td>\n",
       "      <td>86.15</td>\n",
       "      <td>0.002641</td>\n",
       "      <td>0.069610</td>\n",
       "    </tr>\n",
       "    <tr>\n",
       "      <th>9</th>\n",
       "      <td>Georgia</td>\n",
       "      <td>25431</td>\n",
       "      <td>10617423</td>\n",
       "      <td>634137.5</td>\n",
       "      <td>75.07</td>\n",
       "      <td>0.002395</td>\n",
       "      <td>0.059726</td>\n",
       "    </tr>\n",
       "    <tr>\n",
       "      <th>23</th>\n",
       "      <td>Mississippi</td>\n",
       "      <td>6815</td>\n",
       "      <td>2976149</td>\n",
       "      <td>117642.3</td>\n",
       "      <td>49.35</td>\n",
       "      <td>0.002290</td>\n",
       "      <td>0.039528</td>\n",
       "    </tr>\n",
       "    <tr>\n",
       "      <th>14</th>\n",
       "      <td>Iowa</td>\n",
       "      <td>7145</td>\n",
       "      <td>3155070</td>\n",
       "      <td>196247.4</td>\n",
       "      <td>64.02</td>\n",
       "      <td>0.002265</td>\n",
       "      <td>0.062201</td>\n",
       "    </tr>\n",
       "    <tr>\n",
       "      <th>26</th>\n",
       "      <td>Nebraska</td>\n",
       "      <td>4332</td>\n",
       "      <td>1934408</td>\n",
       "      <td>133201.0</td>\n",
       "      <td>73.13</td>\n",
       "      <td>0.002239</td>\n",
       "      <td>0.068859</td>\n",
       "    </tr>\n",
       "    <tr>\n",
       "      <th>46</th>\n",
       "      <td>Washington</td>\n",
       "      <td>14814</td>\n",
       "      <td>7614893</td>\n",
       "      <td>624861.4</td>\n",
       "      <td>84.05</td>\n",
       "      <td>0.001945</td>\n",
       "      <td>0.082058</td>\n",
       "    </tr>\n",
       "    <tr>\n",
       "      <th>45</th>\n",
       "      <td>Virginia</td>\n",
       "      <td>15846</td>\n",
       "      <td>8535519</td>\n",
       "      <td>566529.4</td>\n",
       "      <td>75.45</td>\n",
       "      <td>0.001856</td>\n",
       "      <td>0.066373</td>\n",
       "    </tr>\n",
       "    <tr>\n",
       "      <th>27</th>\n",
       "      <td>Nevada</td>\n",
       "      <td>5053</td>\n",
       "      <td>3080156</td>\n",
       "      <td>181751.6</td>\n",
       "      <td>94.20</td>\n",
       "      <td>0.001641</td>\n",
       "      <td>0.059007</td>\n",
       "    </tr>\n",
       "    <tr>\n",
       "      <th>30</th>\n",
       "      <td>New Mexico</td>\n",
       "      <td>3411</td>\n",
       "      <td>2096829</td>\n",
       "      <td>106914.4</td>\n",
       "      <td>77.43</td>\n",
       "      <td>0.001627</td>\n",
       "      <td>0.050989</td>\n",
       "    </tr>\n",
       "    <tr>\n",
       "      <th>28</th>\n",
       "      <td>New Hampshire</td>\n",
       "      <td>2146</td>\n",
       "      <td>1359711</td>\n",
       "      <td>88014.8</td>\n",
       "      <td>60.30</td>\n",
       "      <td>0.001578</td>\n",
       "      <td>0.064731</td>\n",
       "    </tr>\n",
       "    <tr>\n",
       "      <th>8</th>\n",
       "      <td>Florida</td>\n",
       "      <td>33683</td>\n",
       "      <td>21477737</td>\n",
       "      <td>1126510.3</td>\n",
       "      <td>91.16</td>\n",
       "      <td>0.001568</td>\n",
       "      <td>0.052450</td>\n",
       "    </tr>\n",
       "    <tr>\n",
       "      <th>34</th>\n",
       "      <td>Ohio</td>\n",
       "      <td>18027</td>\n",
       "      <td>11689100</td>\n",
       "      <td>703368.9</td>\n",
       "      <td>77.92</td>\n",
       "      <td>0.001542</td>\n",
       "      <td>0.060173</td>\n",
       "    </tr>\n",
       "    <tr>\n",
       "      <th>41</th>\n",
       "      <td>Tennessee</td>\n",
       "      <td>10506</td>\n",
       "      <td>6829174</td>\n",
       "      <td>380823.0</td>\n",
       "      <td>66.39</td>\n",
       "      <td>0.001538</td>\n",
       "      <td>0.055764</td>\n",
       "    </tr>\n",
       "    <tr>\n",
       "      <th>15</th>\n",
       "      <td>Kansas</td>\n",
       "      <td>4305</td>\n",
       "      <td>2913314</td>\n",
       "      <td>178605.1</td>\n",
       "      <td>74.20</td>\n",
       "      <td>0.001478</td>\n",
       "      <td>0.061307</td>\n",
       "    </tr>\n",
       "    <tr>\n",
       "      <th>43</th>\n",
       "      <td>Utah</td>\n",
       "      <td>4672</td>\n",
       "      <td>3205958</td>\n",
       "      <td>196639.4</td>\n",
       "      <td>90.58</td>\n",
       "      <td>0.001457</td>\n",
       "      <td>0.061336</td>\n",
       "    </tr>\n",
       "    <tr>\n",
       "      <th>0</th>\n",
       "      <td>Alabama</td>\n",
       "      <td>7068</td>\n",
       "      <td>4903185</td>\n",
       "      <td>230750.1</td>\n",
       "      <td>59.04</td>\n",
       "      <td>0.001442</td>\n",
       "      <td>0.047061</td>\n",
       "    </tr>\n",
       "    <tr>\n",
       "      <th>33</th>\n",
       "      <td>North Dakota</td>\n",
       "      <td>1067</td>\n",
       "      <td>762062</td>\n",
       "      <td>57471.9</td>\n",
       "      <td>59.90</td>\n",
       "      <td>0.001400</td>\n",
       "      <td>0.075416</td>\n",
       "    </tr>\n",
       "    <tr>\n",
       "      <th>44</th>\n",
       "      <td>Vermont</td>\n",
       "      <td>866</td>\n",
       "      <td>623989</td>\n",
       "      <td>34320.2</td>\n",
       "      <td>38.90</td>\n",
       "      <td>0.001388</td>\n",
       "      <td>0.055001</td>\n",
       "    </tr>\n",
       "    <tr>\n",
       "      <th>4</th>\n",
       "      <td>California</td>\n",
       "      <td>50470</td>\n",
       "      <td>39512223</td>\n",
       "      <td>3205000.1</td>\n",
       "      <td>94.95</td>\n",
       "      <td>0.001277</td>\n",
       "      <td>0.081114</td>\n",
       "    </tr>\n",
       "    <tr>\n",
       "      <th>24</th>\n",
       "      <td>Missouri</td>\n",
       "      <td>7563</td>\n",
       "      <td>6137428</td>\n",
       "      <td>332659.7</td>\n",
       "      <td>70.44</td>\n",
       "      <td>0.001232</td>\n",
       "      <td>0.054202</td>\n",
       "    </tr>\n",
       "    <tr>\n",
       "      <th>48</th>\n",
       "      <td>Wisconsin</td>\n",
       "      <td>6973</td>\n",
       "      <td>5822434</td>\n",
       "      <td>353935.5</td>\n",
       "      <td>70.15</td>\n",
       "      <td>0.001198</td>\n",
       "      <td>0.060788</td>\n",
       "    </tr>\n",
       "    <tr>\n",
       "      <th>39</th>\n",
       "      <td>South Carolina</td>\n",
       "      <td>6095</td>\n",
       "      <td>5148714</td>\n",
       "      <td>251664.5</td>\n",
       "      <td>66.33</td>\n",
       "      <td>0.001184</td>\n",
       "      <td>0.048879</td>\n",
       "    </tr>\n",
       "    <tr>\n",
       "      <th>11</th>\n",
       "      <td>Idaho</td>\n",
       "      <td>2016</td>\n",
       "      <td>1787065</td>\n",
       "      <td>85791.1</td>\n",
       "      <td>70.58</td>\n",
       "      <td>0.001128</td>\n",
       "      <td>0.048007</td>\n",
       "    </tr>\n",
       "    <tr>\n",
       "      <th>3</th>\n",
       "      <td>Arkansas</td>\n",
       "      <td>3281</td>\n",
       "      <td>3017804</td>\n",
       "      <td>132596.4</td>\n",
       "      <td>56.16</td>\n",
       "      <td>0.001087</td>\n",
       "      <td>0.043938</td>\n",
       "    </tr>\n",
       "    <tr>\n",
       "      <th>16</th>\n",
       "      <td>Kentucky</td>\n",
       "      <td>4708</td>\n",
       "      <td>4467673</td>\n",
       "      <td>218426.1</td>\n",
       "      <td>58.38</td>\n",
       "      <td>0.001054</td>\n",
       "      <td>0.048890</td>\n",
       "    </tr>\n",
       "    <tr>\n",
       "      <th>2</th>\n",
       "      <td>Arizona</td>\n",
       "      <td>7648</td>\n",
       "      <td>7278717</td>\n",
       "      <td>379018.8</td>\n",
       "      <td>89.81</td>\n",
       "      <td>0.001051</td>\n",
       "      <td>0.052072</td>\n",
       "    </tr>\n",
       "    <tr>\n",
       "      <th>42</th>\n",
       "      <td>Texas</td>\n",
       "      <td>29072</td>\n",
       "      <td>28995881</td>\n",
       "      <td>1861581.9</td>\n",
       "      <td>84.70</td>\n",
       "      <td>0.001003</td>\n",
       "      <td>0.064202</td>\n",
       "    </tr>\n",
       "    <tr>\n",
       "      <th>32</th>\n",
       "      <td>North Carolina</td>\n",
       "      <td>10507</td>\n",
       "      <td>10488084</td>\n",
       "      <td>601787.9</td>\n",
       "      <td>66.09</td>\n",
       "      <td>0.001002</td>\n",
       "      <td>0.057378</td>\n",
       "    </tr>\n",
       "    <tr>\n",
       "      <th>49</th>\n",
       "      <td>Wyoming</td>\n",
       "      <td>559</td>\n",
       "      <td>578759</td>\n",
       "      <td>40764.3</td>\n",
       "      <td>64.76</td>\n",
       "      <td>0.000966</td>\n",
       "      <td>0.070434</td>\n",
       "    </tr>\n",
       "    <tr>\n",
       "      <th>35</th>\n",
       "      <td>Oklahoma</td>\n",
       "      <td>3618</td>\n",
       "      <td>3956971</td>\n",
       "      <td>201604.3</td>\n",
       "      <td>66.24</td>\n",
       "      <td>0.000914</td>\n",
       "      <td>0.050949</td>\n",
       "    </tr>\n",
       "    <tr>\n",
       "      <th>22</th>\n",
       "      <td>Minnesota</td>\n",
       "      <td>5136</td>\n",
       "      <td>5639632</td>\n",
       "      <td>389503.7</td>\n",
       "      <td>73.27</td>\n",
       "      <td>0.000911</td>\n",
       "      <td>0.069065</td>\n",
       "    </tr>\n",
       "    <tr>\n",
       "      <th>18</th>\n",
       "      <td>Maine</td>\n",
       "      <td>1095</td>\n",
       "      <td>1344212</td>\n",
       "      <td>68984.9</td>\n",
       "      <td>38.66</td>\n",
       "      <td>0.000815</td>\n",
       "      <td>0.051320</td>\n",
       "    </tr>\n",
       "    <tr>\n",
       "      <th>47</th>\n",
       "      <td>West Virginia</td>\n",
       "      <td>1126</td>\n",
       "      <td>1792147</td>\n",
       "      <td>78480.5</td>\n",
       "      <td>48.72</td>\n",
       "      <td>0.000628</td>\n",
       "      <td>0.043791</td>\n",
       "    </tr>\n",
       "    <tr>\n",
       "      <th>36</th>\n",
       "      <td>Oregon</td>\n",
       "      <td>2510</td>\n",
       "      <td>4217737</td>\n",
       "      <td>258692.6</td>\n",
       "      <td>81.03</td>\n",
       "      <td>0.000595</td>\n",
       "      <td>0.061334</td>\n",
       "    </tr>\n",
       "    <tr>\n",
       "      <th>1</th>\n",
       "      <td>Alaska</td>\n",
       "      <td>353</td>\n",
       "      <td>731545</td>\n",
       "      <td>54674.7</td>\n",
       "      <td>66.02</td>\n",
       "      <td>0.000483</td>\n",
       "      <td>0.074739</td>\n",
       "    </tr>\n",
       "    <tr>\n",
       "      <th>10</th>\n",
       "      <td>Hawaii</td>\n",
       "      <td>609</td>\n",
       "      <td>1415872</td>\n",
       "      <td>97001.1</td>\n",
       "      <td>91.93</td>\n",
       "      <td>0.000430</td>\n",
       "      <td>0.068510</td>\n",
       "    </tr>\n",
       "    <tr>\n",
       "      <th>25</th>\n",
       "      <td>Montana</td>\n",
       "      <td>452</td>\n",
       "      <td>1068778</td>\n",
       "      <td>54034.7</td>\n",
       "      <td>55.89</td>\n",
       "      <td>0.000423</td>\n",
       "      <td>0.050557</td>\n",
       "    </tr>\n",
       "  </tbody>\n",
       "</table>\n",
       "</div>"
      ],
      "text/plain": [
       "             state   cases  population        gdp  urban  cases_pp    gdp_pp\n",
       "31        New York  309696    19453561  1791566.8  87.87  0.015920  0.092095\n",
       "29      New Jersey  118652     8882190   642967.7  94.68  0.013358  0.072388\n",
       "20   Massachusetts   62205     6892503   603209.6  91.97  0.009025  0.087517\n",
       "38    Rhode Island    8621     1059361    62335.4  90.73  0.008138  0.058842\n",
       "6      Connecticut   27700     3565287   290703.0  87.99  0.007769  0.081537\n",
       "17       Louisiana   28044     4648794   259079.3  73.19  0.006033  0.055730\n",
       "7         Delaware    4734      973764    77879.4  83.30  0.004862  0.079978\n",
       "12        Illinois   52918    12671821   893355.5  88.49  0.004176  0.070499\n",
       "21        Michigan   41348     9986857   543489.4  74.57  0.004140  0.054420\n",
       "37    Pennsylvania   48224    12801989   818448.6  78.66  0.003767  0.063931\n",
       "19        Maryland   21825     6045680   432997.8  87.20  0.003610  0.071621\n",
       "40    South Dakota    2450      884659    56051.9  56.65  0.002769  0.063360\n",
       "13         Indiana   18099     6732219   384871.7  72.44  0.002688  0.057169\n",
       "5         Colorado   15207     5758736   400863.4  86.15  0.002641  0.069610\n",
       "9          Georgia   25431    10617423   634137.5  75.07  0.002395  0.059726\n",
       "23     Mississippi    6815     2976149   117642.3  49.35  0.002290  0.039528\n",
       "14            Iowa    7145     3155070   196247.4  64.02  0.002265  0.062201\n",
       "26        Nebraska    4332     1934408   133201.0  73.13  0.002239  0.068859\n",
       "46      Washington   14814     7614893   624861.4  84.05  0.001945  0.082058\n",
       "45        Virginia   15846     8535519   566529.4  75.45  0.001856  0.066373\n",
       "27          Nevada    5053     3080156   181751.6  94.20  0.001641  0.059007\n",
       "30      New Mexico    3411     2096829   106914.4  77.43  0.001627  0.050989\n",
       "28   New Hampshire    2146     1359711    88014.8  60.30  0.001578  0.064731\n",
       "8          Florida   33683    21477737  1126510.3  91.16  0.001568  0.052450\n",
       "34            Ohio   18027    11689100   703368.9  77.92  0.001542  0.060173\n",
       "41       Tennessee   10506     6829174   380823.0  66.39  0.001538  0.055764\n",
       "15          Kansas    4305     2913314   178605.1  74.20  0.001478  0.061307\n",
       "43            Utah    4672     3205958   196639.4  90.58  0.001457  0.061336\n",
       "0          Alabama    7068     4903185   230750.1  59.04  0.001442  0.047061\n",
       "33    North Dakota    1067      762062    57471.9  59.90  0.001400  0.075416\n",
       "44         Vermont     866      623989    34320.2  38.90  0.001388  0.055001\n",
       "4       California   50470    39512223  3205000.1  94.95  0.001277  0.081114\n",
       "24        Missouri    7563     6137428   332659.7  70.44  0.001232  0.054202\n",
       "48       Wisconsin    6973     5822434   353935.5  70.15  0.001198  0.060788\n",
       "39  South Carolina    6095     5148714   251664.5  66.33  0.001184  0.048879\n",
       "11           Idaho    2016     1787065    85791.1  70.58  0.001128  0.048007\n",
       "3         Arkansas    3281     3017804   132596.4  56.16  0.001087  0.043938\n",
       "16        Kentucky    4708     4467673   218426.1  58.38  0.001054  0.048890\n",
       "2          Arizona    7648     7278717   379018.8  89.81  0.001051  0.052072\n",
       "42           Texas   29072    28995881  1861581.9  84.70  0.001003  0.064202\n",
       "32  North Carolina   10507    10488084   601787.9  66.09  0.001002  0.057378\n",
       "49         Wyoming     559      578759    40764.3  64.76  0.000966  0.070434\n",
       "35        Oklahoma    3618     3956971   201604.3  66.24  0.000914  0.050949\n",
       "22       Minnesota    5136     5639632   389503.7  73.27  0.000911  0.069065\n",
       "18           Maine    1095     1344212    68984.9  38.66  0.000815  0.051320\n",
       "47   West Virginia    1126     1792147    78480.5  48.72  0.000628  0.043791\n",
       "36          Oregon    2510     4217737   258692.6  81.03  0.000595  0.061334\n",
       "1           Alaska     353      731545    54674.7  66.02  0.000483  0.074739\n",
       "10          Hawaii     609     1415872    97001.1  91.93  0.000430  0.068510\n",
       "25         Montana     452     1068778    54034.7  55.89  0.000423  0.050557"
      ]
     },
     "execution_count": 135,
     "metadata": {},
     "output_type": "execute_result"
    }
   ],
   "source": [
    "df.sort_values(\"cases_pp\", inplace=True, ascending=False)\n",
    "df"
   ]
  },
  {
   "cell_type": "markdown",
   "metadata": {},
   "source": [
    "The top to states in terms of both raw cases and cases per person are New York and New Jersey, with Covid rates per population over 0.013, whereas other states rates were all below 0.01.\n",
    "\n",
    "In this case, we know that these states had a very rapid early spread of Covid in comparison to other states, so these data points are probably the true values and would *not* be considered outliers."
   ]
  },
  {
   "cell_type": "markdown",
   "metadata": {},
   "source": [
    "## Pooling Data to Create Binary Comparisons"
   ]
  },
  {
   "cell_type": "markdown",
   "metadata": {},
   "source": [
    "In this chapter, we will conduct our first binary hypothesis tests. Here, binary does not refer to 0 and 1, but to the fact that we will consider data from two different *classes*, or groups. We will evaluate a single variable and determine whether the data in different classes is different in some characteristic. \n",
    "\n",
    "To be specific, we are going to look at the Covid cases per population variable and determine whether the following classes affect this variable:\n",
    "* *High population vs Low population*: We will split the states into two classes based on population.\n",
    "* *Higher GDP vs Lower GDP*: We will split the states into two classes based on GDP per population.\n",
    "* *Urban vs Rural*: We will split the states into two classes based on what percentage of the state lives in a rural area."
   ]
  },
  {
   "cell_type": "markdown",
   "metadata": {},
   "source": [
    "## Histograms for Multiple Datasets"
   ]
  },
  {
   "cell_type": "markdown",
   "metadata": {},
   "source": [
    "As with the data in Chapter XX, we next want to study the rates of occurrence of the values of the data. We start with the"
   ]
  },
  {
   "cell_type": "markdown",
   "metadata": {},
   "source": [
    "However, unlike the histograms we previously generated, this data takes on **real values**, not just integers. One implication of this is that we cannot meaningfully count the data (for instance to compute the relative frequencies):"
   ]
  },
  {
   "cell_type": "code",
   "execution_count": 48,
   "metadata": {},
   "outputs": [
    {
     "data": {
      "text/plain": [
       "(array([ 3.4,  3.6,  5.2,  5.3,  6.6,  6.7,  6.8,  7. ,  7.7,  7.8,  8. ,\n",
       "         8.5,  8.8,  9.3,  9.5,  9.6, 10. , 10.1, 10.2, 10.7, 10.8, 11.1,\n",
       "        11.2, 11.5, 11.6, 11.9, 12.1, 12.8, 12.9, 13. , 13.2, 13.4, 13.8,\n",
       "        13.9, 14.1, 15.7, 16. , 16.1, 16.9, 17.5, 18.5, 30. ]),\n",
       " array([1, 1, 1, 2, 1, 1, 1, 1, 1, 1, 1, 1, 3, 1, 1, 1, 1, 1, 1, 1, 2, 1,\n",
       "        1, 1, 1, 1, 1, 1, 1, 1, 1, 1, 2, 1, 1, 1, 3, 2, 1, 1, 1, 1]))"
      ]
     },
     "execution_count": 48,
     "metadata": {},
     "output_type": "execute_result"
    }
   ],
   "source": [
    "np.unique(rate2005, return_counts=True)"
   ]
  },
  {
   "cell_type": "markdown",
   "metadata": {},
   "source": [
    "There is exactly one occurrence of most (36) of the values. If the mortality rates were calculated to more than one decimal place, it is likely that all of the values would be distinct. Yet we can see that the values are not evenly distributed: there are only two values in the range $[3,5)$, but there are ten values in the range $[10,12)$.\n",
    "\n",
    "The `plt.hist()` function is designed to generate meaningful histograms for continuous data by counting the number of occurrences per bin:"
   ]
  },
  {
   "cell_type": "code",
   "execution_count": 49,
   "metadata": {},
   "outputs": [
    {
     "data": {
      "image/png": "[encoded data removed]",
      "text/plain": [
       "<Figure size 432x288 with 1 Axes>"
      ]
     },
     "metadata": {
      "needs_background": "light"
     },
     "output_type": "display_data"
    }
   ],
   "source": [
    "plt.hist(rate2005)\n",
    "plt.hist(rate2014);"
   ]
  },
  {
   "cell_type": "markdown",
   "metadata": {},
   "source": [
    "Each bar of the histgram represents a \"bin\" of data values. In fact, the counts and bin edges are returned by the hist function:"
   ]
  },
  {
   "cell_type": "code",
   "execution_count": 50,
   "metadata": {},
   "outputs": [
    {
     "data": {
      "image/png": "[encoded data removed]",
      "text/plain": [
       "<Figure size 432x288 with 1 Axes>"
      ]
     },
     "metadata": {
      "needs_background": "light"
     },
     "output_type": "display_data"
    }
   ],
   "source": [
    "counts, bins, _ =plt.hist(rate2005)"
   ]
  },
  {
   "cell_type": "markdown",
   "metadata": {},
   "source": [
    "Note that here I used a Python convention of storing the matplotlib patches information, which is the third returned value, in the variable \"_\" (underscore) to indicate that it is a value that we do not care about.\n",
    "\n",
    "We can inspect the bins and counts by evaluating those variables or printing them:"
   ]
  },
  {
   "cell_type": "code",
   "execution_count": 51,
   "metadata": {},
   "outputs": [
    {
     "name": "stdout",
     "output_type": "stream",
     "text": [
      "Bins: [ 3.4   6.06  8.72 11.38 14.04 16.7  19.36 22.02 24.68 27.34 30.  ]\n",
      "Counts: [ 5.  8. 14. 12.  7.  3.  0.  0.  0.  1.]\n"
     ]
    }
   ],
   "source": [
    "print(\"Bins:\", bins)\n",
    "print(\"Counts:\", counts)"
   ]
  },
  {
   "cell_type": "markdown",
   "metadata": {},
   "source": [
    "Some styling will help make this more legible. The `alpha` keyword parameter in matplotlib sets the transparency (from totally transparent (`alpha=0`) to totally opaque (`alpha=1`). Adding transparency makes it much easier to see the data in both histograms:"
   ]
  },
  {
   "cell_type": "code",
   "execution_count": 52,
   "metadata": {},
   "outputs": [
    {
     "data": {
      "image/png": "[encoded data removed]",
      "text/plain": [
       "<Figure size 432x288 with 1 Axes>"
      ]
     },
     "metadata": {
      "needs_background": "light"
     },
     "output_type": "display_data"
    }
   ],
   "source": [
    "plt.hist(rate2005,alpha=0.5)\n",
    "plt.hist(rate2014,alpha=0.5);"
   ]
  },
  {
   "cell_type": "markdown",
   "metadata": {},
   "source": [
    "The choice of `alpha = 0.5` is usually a good starting point, but the best value to use is up to the graph's creator. \n",
    "\n"
   ]
  },
  {
   "cell_type": "markdown",
   "metadata": {},
   "source": [
    "#### Choosing the number/size of histogram bins\n",
    "\n",
    "Unlike integer data, when the data comes from the continuous real line, there is no right way to choose the size or number of the histogram bins.\n",
    "\n",
    "We can easily change the number of bins to provide more resolution into the data; however if we increase the number of bins, the number of data points per bin will be lower. \n",
    "\n",
    "If we just want to specify a number of bins (instead of a list of bin edges, like in the previous chapter), then we can just pass number of bins to the `bins` keyword argument:"
   ]
  },
  {
   "cell_type": "code",
   "execution_count": 83,
   "metadata": {
    "scrolled": true
   },
   "outputs": [
    {
     "data": {
      "image/png": "[encoded data removed]",
      "text/plain": [
       "<Figure size 432x288 with 1 Axes>"
      ]
     },
     "metadata": {
      "needs_background": "light"
     },
     "output_type": "display_data"
    }
   ],
   "source": [
    "plt.hist(rate2005,alpha=0.5,bins=20)\n",
    "plt.hist(rate2014,alpha=0.5,bins=20);"
   ]
  },
  {
   "cell_type": "markdown",
   "metadata": {},
   "source": [
    "If we increase the number of bins too much, we will run into a similar problem we had in counting using `np.unique()`: most of the bins will have either 1 or 0 values in them:"
   ]
  },
  {
   "cell_type": "code",
   "execution_count": 84,
   "metadata": {},
   "outputs": [
    {
     "data": {
      "image/png": "[encoded data removed]",
      "text/plain": [
       "<Figure size 432x288 with 1 Axes>"
      ]
     },
     "metadata": {
      "needs_background": "light"
     },
     "output_type": "display_data"
    }
   ],
   "source": [
    "plt.hist(rate2005,alpha=0.5,bins=200)\n",
    "plt.hist(rate2014,alpha=0.5,bins=200);"
   ]
  },
  {
   "cell_type": "markdown",
   "metadata": {},
   "source": [
    "Thus the number of bins should be chosen to balance between providing more resolution versus having sufficiently high counts in the bins to see how the values are distributed. Selecting the number of bins to achieve an appropriate balance is up to the graph creator. There are some research papers that provide techniques to select the number of bins; however, they are beyond the scope of this book. \n",
    "\n",
    "If you need a guidline for selecting the number of histogram bins, you can try:\n",
    "\n",
    "**Make the number of bins as large as possible while ensuring that  at least 50% of the bins contain at least 2 data points.**"
   ]
  },
  {
   "cell_type": "markdown",
   "metadata": {},
   "source": [
    "#### Bin alignment for multiple histograms in one figure\n",
    "\n",
    "One issue that arises when plotting multiple histograms in one figure is that the bins created by each call to `plt.hist()` are not aligned. This can be helpful in that the bins are typically offset from each other, which makes it easier to see the separate bar heights. However, the bar heights cannot be directly compared because they correspond to different ranges of data. There are various solutions, but let's use `numpy` to create our own set of bin edges. Start by finding the min and max of each data set:"
   ]
  },
  {
   "cell_type": "code",
   "execution_count": 73,
   "metadata": {},
   "outputs": [
    {
     "name": "stdout",
     "output_type": "stream",
     "text": [
      "2.1 2.6\n",
      "18.5 19.2\n"
     ]
    }
   ],
   "source": [
    "print(np.min(rate2005), np.min(rate2014))\n",
    "print(np.max(rate2005), np.max(rate2014))"
   ]
  },
  {
   "cell_type": "markdown",
   "metadata": {},
   "source": [
    "Now we can make a linearly spaced set of bin edges from the minimum to the maximum values using NumPy's `linspace()` function. It is usually called with three arguments: start, stop, number of points:"
   ]
  },
  {
   "cell_type": "code",
   "execution_count": 76,
   "metadata": {},
   "outputs": [
    {
     "name": "stdout",
     "output_type": "stream",
     "text": [
      "[ 2.1  3.   3.9  4.8  5.7  6.6  7.5  8.4  9.3 10.2 11.1 12.  12.9 13.8\n",
      " 14.7 15.6 16.5 17.4 18.3 19.2]\n"
     ]
    }
   ],
   "source": [
    "bin_edges=np.linspace(2.1, 19.2, 20)\n",
    "print(bin_edges)"
   ]
  },
  {
   "cell_type": "code",
   "execution_count": 77,
   "metadata": {},
   "outputs": [
    {
     "data": {
      "image/png": "[encoded data removed]",
      "text/plain": [
       "<Figure size 432x288 with 1 Axes>"
      ]
     },
     "metadata": {
      "needs_background": "light"
     },
     "output_type": "display_data"
    }
   ],
   "source": [
    "plt.hist(rate2005,alpha=0.5,bins=bin_edges,label=\"2005\")\n",
    "plt.hist(rate2014,alpha=0.5,bins=bin_edges,label=\"2014\");"
   ]
  },
  {
   "cell_type": "markdown",
   "metadata": {},
   "source": [
    "Now we can finish the graph by providing data labels and adding a legend and axis labels. In this case, we might omit a title because the title would probably be something like \"Mortality Rate Histograms for 2005 and 2014\", which can already be determined from inspecting the graph."
   ]
  },
  {
   "cell_type": "code",
   "execution_count": 78,
   "metadata": {},
   "outputs": [
    {
     "data": {
      "image/png": "[encoded data removed]",
      "text/plain": [
       "<Figure size 432x288 with 1 Axes>"
      ]
     },
     "metadata": {
      "needs_background": "light"
     },
     "output_type": "display_data"
    }
   ],
   "source": [
    "plt.hist(rate2005,alpha=0.5,bins=bin_edges,label=\"2005\")\n",
    "plt.hist(rate2014,alpha=0.5,bins=bin_edges,label=\"2014\");\n",
    "plt.legend()\n",
    "plt.xlabel(\"Mortality rate (deaths per 100k people)\")\n",
    "plt.ylabel(\"Counts\");"
   ]
  },
  {
   "cell_type": "markdown",
   "metadata": {},
   "source": [
    "What inferences might you make from this plot?\n",
    "\n",
    "A quick visual inspect should indicate that the two data sets are quite similar. However, we can see that the in from 5 to 10, the 2005 data set has higher counts, while in the bins from 10 to 19.2, the 2014 data set has more bins with a higher count.\n",
    "\n",
    "The histogram gives us some insight into how these data sets might be similar or different, but they do not give us a way to perform a quantitative comparison or to determine if any observed difference is likely to have come from real differences in the underlying data sets or could just be attributed to randomness. To resolve both these issues, we can compute values that capture some summary information about the data set. We call these values **summary statistics**:"
   ]
  }
 ],
 "metadata": {
  "kernelspec": {
   "display_name": "Python 3",
   "language": "python",
   "name": "python3"
  },
  "language_info": {
   "codemirror_mode": {
    "name": "ipython",
    "version": 3
   },
   "file_extension": ".py",
   "mimetype": "text/x-python",
   "name": "python",
   "nbconvert_exporter": "python",
   "pygments_lexer": "ipython3",
   "version": "3.7.4"
  },
  "latex_envs": {
   "LaTeX_envs_menu_present": true,
   "autoclose": true,
   "autocomplete": true,
   "bibliofile": "biblio.bib",
   "cite_by": "apalike",
   "current_citInitial": 1,
   "eqLabelWithNumbers": true,
   "eqNumInitial": 1,
   "hotkeys": {
    "equation": "Ctrl-E",
    "itemize": "Ctrl-I"
   },
   "labels_anchors": false,
   "latex_user_defs": false,
   "report_style_numbering": false,
   "user_envs_cfg": false
  }
 },
 "nbformat": 4,
 "nbformat_minor": 4
}
