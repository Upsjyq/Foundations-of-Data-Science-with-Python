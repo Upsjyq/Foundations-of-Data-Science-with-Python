{
 "cells": [
  {
   "cell_type": "markdown",
   "metadata": {},
   "source": [
    "# Who is this book for?\n",
    "\n",
    "This book is targeted toward engineers, whether working or still in school. It is written by an Electrical and Computer Engineer, and it is generally designed toward engineers with the following assumptions. \n",
    "\n",
    "**Background Knowledge**\n",
    "This book assumes the reader has\n",
    "* Basic computer-programming ability (knowing Python is helpful, but not required)\n",
    "* Knows (one-dimensional) differential and integral calculus\n",
    "* Knows how to work with complex numbers\n",
    "\n",
    "\n",
    "This book was designed as the primary textbook for a 4-credit, semester-long course for engineers, which is taught in the Department of Electrical and Computer Engineering at the University of Florida. It is designed to be a broad introduction to data science, but it is also designed to replace courses in *Engineering Statistics* and *Computational Linear Algebra*"
   ]
  }
 ],
 "metadata": {
  "finalized": {
   "timestamp": 1617199748724,
   "trusted": true
  },
  "kernelspec": {
   "display_name": "Python 3",
   "language": "python",
   "name": "python3"
  },
  "language_info": {
   "codemirror_mode": {
    "name": "ipython",
    "version": 3
   },
   "file_extension": ".py",
   "mimetype": "text/x-python",
   "name": "python",
   "nbconvert_exporter": "python",
   "pygments_lexer": "ipython3",
   "version": "3.7.4"
  }
 },
 "nbformat": 4,
 "nbformat_minor": 4
}
