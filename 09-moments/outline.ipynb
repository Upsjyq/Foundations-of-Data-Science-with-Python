{
 "cells": [
  {
   "cell_type": "markdown",
   "metadata": {},
   "source": [
    "# Moments, Parameter Estimation, and Binary Hypothesis Tests on Sample Means (Outline)\n",
    "## Expected Value\n",
    "## Introduction to SymPy for Computerized Calculus\n",
    "## Moments and Properties\n",
    "## Classical Parameter Estimation and Properties of Estimators\n",
    "## Analytical Binary Hypothesis Testing with Sample Means (including t-tests)\n",
    "## Review\n",
    "## Summary\n",
    "\n"
   ]
  },
  {
   "cell_type": "code",
   "execution_count": null,
   "metadata": {},
   "outputs": [],
   "source": []
  }
 ],
 "metadata": {
  "kernelspec": {
   "display_name": "Python 3",
   "language": "python",
   "name": "python3"
  },
  "language_info": {
   "codemirror_mode": {
    "name": "ipython",
    "version": 3
   },
   "file_extension": ".py",
   "mimetype": "text/x-python",
   "name": "python",
   "nbconvert_exporter": "python",
   "pygments_lexer": "ipython3",
   "version": "3.7.4"
  }
 },
 "nbformat": 4,
 "nbformat_minor": 4
}
