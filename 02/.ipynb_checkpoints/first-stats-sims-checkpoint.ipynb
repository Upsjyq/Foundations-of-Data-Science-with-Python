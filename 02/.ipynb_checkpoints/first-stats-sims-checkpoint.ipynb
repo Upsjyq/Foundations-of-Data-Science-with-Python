{
 "cells": [
  {
   "cell_type": "markdown",
   "metadata": {},
   "source": [
    "# Random Experiments, Simulation, and Binary Hypothesis Testing"
   ]
  },
  {
   "cell_type": "markdown",
   "metadata": {},
   "source": [
    "(random-experiments:motivating-problem)=\n",
    "## Motivating Problem: Is This Coin Fair?\n",
    "\n",
    "You find an odd coin. You assume it is equally likely to come up heads and tails -- we say the coin is *fair*. You would like to conduct a stastical test to determine if it is fair. So, you flip the coin 20 times and count how many times it comes up heads. Since heads and tails are equally likely, you should expect to get somewhere around 10 heads.\n",
    "\n",
    "*If you only observe 6 heads on the 20 flips, should you reject the idea that the coin is fair?* \n",
    "\n",
    "*What if you only observe 4 heads?*\n",
    "\n",
    "\n",
    "To answer this question, we first need to understand some basics of what a probability is."
   ]
  },
  {
   "cell_type": "markdown",
   "metadata": {},
   "source": [
    "The following is a very general definition that should match most people's intuition for the meaning:"
   ]
  },
  {
   "cell_type": "markdown",
   "metadata": {},
   "source": [
    "````{panels}\n",
    "DEFINTION\n",
    "^^^\n",
    "probability\n",
    ": a number between 0 and 1 that we assign to an event that is proportional to how likely that event is to occur\n",
    "````"
   ]
  },
  {
   "cell_type": "markdown",
   "metadata": {},
   "source": [
    "If a probability of something occuring is very close to 0, then that thing is very unlikely to occur. If the probability is very close to 1, then that thing is very likely to occur."
   ]
  },
  {
   "cell_type": "markdown",
   "metadata": {},
   "source": [
    "To determine whether the coin could be fair, we can try to find the probability that a fair coin would produce a result that is as extreme (or more extreme) then what we observed. In other words, if we observe 6 heads, we can determine the probability that a fair coin would produce 6 or fewer heads. If the probability is small, then we can reject the possibility that the coin is fair. How we define \"small\" is up to the experimenter and anyone who reviews their result. For our work, let's say that we will reject the possibility that the coin is fair if the probability that we would see 6 or fewer heads on 20 flips of a fair coin is less than 0.01 (i.e., 1%)."
   ]
  },
  {
   "cell_type": "markdown",
   "metadata": {},
   "source": [
    "So, now we just need some way to calculate the required probability for 20 flips of a fair coin. There are two common ways to do this:\n",
    "1. Analyze the probability mathematically.\n",
    "2. Estimate the probability experimentally.\n",
    "\n",
    "We are not ready to explain the mathematical analysis yet, so we will estimate the probability experimentally. So get ready to start flipping coins! \n",
    "\n",
    "Not really -- to estimate the probability we are interested in will require flipping a coin 20 times, recording the outcome, and then repeating those steps thousands of times!\n",
    "\n",
    "Rather than actually flip the coin, we will **simulate** flipping the coin."
   ]
  },
  {
   "cell_type": "markdown",
   "metadata": {},
   "source": [
    "### First Computer Simulations\n",
    "\n",
    "A **computer simulation** is a computer program that models reality and allows us to conduct experiments that:\n",
    "* would require a lot of time to carry out in real life\n",
    "* would require a lot of resources to carry out in real life\n",
    "* would not be possible to repeat in real life (for instance, simulation of the next day's weather or stock market performance)"
   ]
  },
  {
   "cell_type": "markdown",
   "metadata": {},
   "source": [
    "We will simulate the fair coin experiment using Python. We can simulate a fair coin by random choosing a result from a list that represent heads and tails, where each element in the list is equally likely to be chosen. Let's use the string 'H' to denote heads and the string 'T' to denote tails:"
   ]
  },
  {
   "cell_type": "code",
   "execution_count": 22,
   "metadata": {},
   "outputs": [],
   "source": [
    "faces=['H','T']"
   ]
  },
  {
   "cell_type": "markdown",
   "metadata": {},
   "source": [
    "To randomly choose one of the faces, we will utilize the *random* module, which is one of the standard modules included with Python. We will import it in the usual way:"
   ]
  },
  {
   "cell_type": "code",
   "execution_count": 23,
   "metadata": {},
   "outputs": [],
   "source": [
    "import random"
   ]
  },
  {
   "cell_type": "markdown",
   "metadata": {},
   "source": [
    "To choose one face at random, we can use the `choice` function. Note that if you are running this instruction, the result shown may be different than what is shown below because it is random **Add footnote about pseudorandom**:"
   ]
  },
  {
   "cell_type": "code",
   "execution_count": 24,
   "metadata": {},
   "outputs": [
    {
     "data": {
      "text/plain": [
       "'T'"
      ]
     },
     "execution_count": 24,
     "metadata": {},
     "output_type": "execute_result"
    }
   ],
   "source": [
    "random.choice(faces)"
   ]
  },
  {
   "cell_type": "markdown",
   "metadata": {},
   "source": [
    "Now let's simulate the scenario described in [](random-experiments:motivating-problem). We could repeatedly choose random faces using a loop, but the `random` module offers a more efficient way to choose all 20 faces at the same time, using the `choices` function:"
   ]
  },
  {
   "cell_type": "code",
   "execution_count": 36,
   "metadata": {},
   "outputs": [
    {
     "name": "stdout",
     "output_type": "stream",
     "text": [
      "['T', 'T', 'T', 'H', 'T', 'T', 'H', 'T', 'H', 'H', 'H', 'H', 'H', 'T', 'T', 'H', 'T', 'H', 'T', 'T']\n"
     ]
    }
   ],
   "source": [
    "coins=random.choices(faces,k=20)\n",
    "print(coins)"
   ]
  },
  {
   "cell_type": "markdown",
   "metadata": {},
   "source": [
    "To count the number of 'H' results in the list, we can use the `count` method of the list object:"
   ]
  },
  {
   "cell_type": "code",
   "execution_count": 37,
   "metadata": {},
   "outputs": [
    {
     "data": {
      "text/plain": [
       "9"
      ]
     },
     "execution_count": 37,
     "metadata": {},
     "output_type": "execute_result"
    }
   ],
   "source": [
    "coins.count('H')"
   ]
  },
  {
   "cell_type": "markdown",
   "metadata": {},
   "source": [
    "Every time a new set of coin faces is generated, the result will be different. To estimate the probability, we will have to run this statement many times, but running this repeatedly is a pain. Fortunately, the computer can automatically run it for us. In the simulation below, I start introducing some *best practices*:\n",
    "* The number of times to simulate the experiment is defined at the very top of the simulation as `num_sim`\n",
    "* Any parameters of the experiment are defined near the top of the simulation. In this simulation, we only need to define the number of times to flip the coin, `flips`\n",
    "\n",
    "*In the code below, I use the `end` keyword parameter of the `print` function to cause each print statement to output a space at the end instead of a new line. This is only done to make the output more concise.*"
   ]
  },
  {
   "cell_type": "code",
   "execution_count": 39,
   "metadata": {},
   "outputs": [
    {
     "name": "stdout",
     "output_type": "stream",
     "text": [
      "11 8 14 14 6 10 10 12 11 8 18 13 10 9 12 11 14 8 10 10 "
     ]
    }
   ],
   "source": [
    "num_sims=20\n",
    "flips=20\n",
    "for sim in range(num_sims):              # The simulation loop\n",
    "    coins=random.choices(faces, k=flips) # Simulate all coin flips for one experiment\n",
    "    print(coins.count('H'), end=' ') "
   ]
  },
  {
   "cell_type": "markdown",
   "metadata": {},
   "source": [
    "Now let's focus on finding how often 6 or fewer heads occurs. Let's print information about those extreme results. To do this, we will use and `if` statement inside our simulation loop to check if the number of heads observed is less than or equal to 6 and call a `print` statement if that condition is satisfied. "
   ]
  },
  {
   "cell_type": "code",
   "execution_count": 67,
   "metadata": {},
   "outputs": [
    {
     "name": "stdout",
     "output_type": "stream",
     "text": [
      "33 :  6 Heads\n",
      "44 :  6 Heads\n",
      "51 :  5 Heads\n",
      "59 :  5 Heads\n"
     ]
    }
   ],
   "source": [
    "num_sims=100\n",
    "flips=20\n",
    "\n",
    "threshold=6 # best practice is to put any thresholds outside the simulation loop\n",
    "\n",
    "for sim in range(num_sims):\n",
    "    coins=random.choices(faces,k=flips)\n",
    "    num_heads=coins.count('H')\n",
    "    if num_heads<=threshold:\n",
    "        print(sim,': ',num_heads,'Heads')"
   ]
  },
  {
   "cell_type": "markdown",
   "metadata": {},
   "source": [
    "We are going to be using variations on this basic function with different parameters later. Whenever you anticipate doing this, it is a good idea to turn the code block into a function. This is very easy in Jupyter:\n",
    "1. Copy the last version of the simulation and paste it into a new code cell\n",
    "2. Selecting the entire code block in the new Input cell, using the mouse or Command-A (Mac) or Control-A (Windows/Linux)\n",
    "3. Indent the selected block by pressing Command-] (Mac) or Control-] (Windows/Linux)\n",
    "4. Click at the very left edge of the first line of the cell and type `def coinsim_print():` and press Enter\n",
    "5. Now finish populating the function by cutting the parameters from the code block and pasting them into the function signature as parameters with default values. Put the parameters in the order shown\n",
    "6. Finally, add a docstring that explains what the function does"
   ]
  },
  {
   "cell_type": "code",
   "execution_count": 83,
   "metadata": {},
   "outputs": [],
   "source": [
    "def coinsim_print(num_sims=100, threshold=6, flips=20):\n",
    "    '''\n",
    "    Simulate multiple experiments, where each experiment involves flipping a coin\n",
    "    a specified number of times and printing the results of the experiment if the\n",
    "    number of heads observed is <= a threshold\n",
    "    \n",
    "    Inputs:\n",
    "    threshold: will print if the number of heads observed is <= this value\n",
    "    num_sims: the total number of experiments to simulate\n",
    "    flips: the number of coin flips in one experiment\n",
    "    '''\n",
    "    \n",
    "    for sim in range(num_sims):\n",
    "        coins=random.choices(faces,k=flips)\n",
    "        num_heads=coins.count('H')\n",
    "        if num_heads<=threshold:\n",
    "            print(sim,': ',num_heads,'Heads')"
   ]
  },
  {
   "cell_type": "code",
   "execution_count": 71,
   "metadata": {},
   "outputs": [
    {
     "name": "stdout",
     "output_type": "stream",
     "text": [
      "6 :  6 Heads\n",
      "20 :  6 Heads\n",
      "36 :  6 Heads\n",
      "37 :  4 Heads\n",
      "39 :  6 Heads\n",
      "49 :  6 Heads\n",
      "70 :  3 Heads\n",
      "73 :  5 Heads\n"
     ]
    }
   ],
   "source": [
    "coinsim_print()"
   ]
  },
  {
   "cell_type": "markdown",
   "metadata": {},
   "source": [
    "We really don't care about the particular experiment on which those extreme results occur. Instead, our goal is to estimate the probability of seeing a result that satisfies our threshold condition, and this probabilty can be estimated using the relative frequency of those results:"
   ]
  },
  {
   "cell_type": "markdown",
   "metadata": {},
   "source": [
    "````{panels}\n",
    "DEFINITION\n",
    "^^^\n",
    "relative frequency\n",
    ":  the proportion of times that we observe a result matching our criteria during repeated experiments (including simulation); i.e., the number of times that an event occurs divided by the number of times the experiment is conducted. \n",
    "````\n"
   ]
  },
  {
   "cell_type": "markdown",
   "metadata": {},
   "source": [
    "Let's create a new function that calculates the relative frequency of getting 6 or fewer heads on 20 flips of a fair coin. The primary changes are to:\n",
    "1. Add an \"event counter\" to count how many times we see an experimental result that matches our criterion\n",
    "2. Instead of printing information about the experiments that meet the criterion, increment the event counter\n",
    "3. After the simulation loop is completed, calculate and print the relative frequency\n",
    "\n",
    "```{warning}\n",
    "Note that we give the new function a different name. It is possible to reuse the same function name, but this will produce ambiguities in Jupyter. When you call the function, the function definition that is used is the last one to be run. You can go back and rerun cells in Jupyter, which can then result in you not knowing which version of a function you are running. \n",
    "\n",
    "**Best practice:** Do not reuse function names unless you are completely deleting the previous function definition.\n",
    "```"
   ]
  },
  {
   "cell_type": "code",
   "execution_count": 63,
   "metadata": {},
   "outputs": [
    {
     "name": "stdout",
     "output_type": "stream",
     "text": [
      "Relative frequency of 6 or fewer heads is 0.057715\n"
     ]
    }
   ],
   "source": [
    "num_sims=1000\n",
    "flips=20\n",
    "\n",
    "threshold=6\n",
    "\n",
    "event_count=0    # count how many experiments satisfy the given criteria\n",
    "for sim in range(num_sims):\n",
    "    coins=random.choices(faces,k=flips)\n",
    "    num_heads=coins.count('H')\n",
    "    if num_heads<=threshold:\n",
    "        event_count+=1\n",
    "    \n",
    "print(\"Relative frequency of\", threshold,\"or fewer heads is\",event_count/num_sims)"
   ]
  },
  {
   "cell_type": "code",
   "execution_count": 90,
   "metadata": {},
   "outputs": [],
   "source": [
    "def coinsim(num_sims=1000, threshold=6, flips=20):\n",
    "    '''\n",
    "    Simulate multiple experiments, where each experiment involves flipping a coin\n",
    "    a specified number of times and printing the results of the experiment if the\n",
    "    number of heads observed is <= a threshold\n",
    "    \n",
    "    Inputs:\n",
    "    threshold: will print if the number of heads observed is <= this value\n",
    "    num_sims: the total number of experiments to simulate\n",
    "    flips: the number of coin flips in one experiment\n",
    "    '''\n",
    "    \n",
    "    event_count=0    # count how many experiments satisfy the given criteria\n",
    "    for sim in range(num_sims):\n",
    "        coins=random.choices(faces,k=flips)\n",
    "        num_heads=coins.count('H')\n",
    "        if num_heads<=threshold:\n",
    "            event_count+=1\n",
    "\n",
    "    print(\"Relative frequency of\", threshold,\"or fewer heads is\",event_count/num_sims)       "
   ]
  },
  {
   "cell_type": "code",
   "execution_count": 93,
   "metadata": {},
   "outputs": [
    {
     "name": "stdout",
     "output_type": "stream",
     "text": [
      "Relative frequency of 6 or fewer heads is 0.061\n"
     ]
    }
   ],
   "source": [
    "coinsim()"
   ]
  },
  {
   "cell_type": "markdown",
   "metadata": {},
   "source": [
    "Note that the relative frequency can change when the simulation is rerun. How much it changes depends on the experiment, the criterion that defines the result we are looking for, and the number of experiments simulated. To provide an accurate estimate of the probability, the number of experiments simulated should be sufficiently large that the relative frequency does not change significantly when the simulation is re-run. (For this experiment with a threshold of 6 heads, one million simulation experiments is sufficient.)"
   ]
  },
  {
   "cell_type": "code",
   "execution_count": 94,
   "metadata": {},
   "outputs": [
    {
     "name": "stdout",
     "output_type": "stream",
     "text": [
      "Relative frequency of 6 or fewer heads is 0.058028\n"
     ]
    }
   ],
   "source": [
    "coinsim(1_000_000)"
   ]
  },
  {
   "cell_type": "markdown",
   "metadata": {},
   "source": [
    "**So could the 6 heads be reasonable with a fair coin?** \n",
    "\n",
    "With 1,000,000 experiments in the simulation, the relative frequency is approximately 0.058. That means that with a fair coin, we will see 6 or fewer heads about 6% of the time. Since we previously decided to use a criteria that the probabilty must be less than 0.01, we cannot reject the possibility that the coin is fair."
   ]
  },
  {
   "cell_type": "markdown",
   "metadata": {},
   "source": [
    "**If we got 4 heads, could that be reasonable with a fair coin?**"
   ]
  },
  {
   "cell_type": "code",
   "execution_count": 95,
   "metadata": {},
   "outputs": [
    {
     "name": "stdout",
     "output_type": "stream",
     "text": [
      "Relative frequency of 4 or fewer heads is 0.005843\n"
     ]
    }
   ],
   "source": [
    "coinsim(1_000_000, threshold=4)"
   ]
  },
  {
   "cell_type": "markdown",
   "metadata": {},
   "source": [
    "In this case, the estimate of the probability is about $6 \\times 10^{-3}$, which falls below the 0.01 threshold we selected. So, we would reject the possibility that the coin is fair. \n",
    "\n",
    "We would believe that the coin is biased towards heads but at this point have no estimate of the size of that bias."
   ]
  },
  {
   "cell_type": "markdown",
   "metadata": {},
   "source": [
    "### Summary of Basic Simulation to Estimate a Probability "
   ]
  },
  {
   "cell_type": "markdown",
   "metadata": {},
   "source": [
    "\n",
    "Let's use $R$ to denote some result for which we are trying to estimate the probability via computer simulation. Then the basic simulation structure is as follows:\n",
    "1. Initialize two counters to zero:\n",
    "    * an event counter, $N_R=0$, and \n",
    "    * a loop counter, $i=0$; in Python, the loop counter can be implicitly initialized and tracked using a `for ... in range()` statement\n",
    "    \n",
    "1. simulate the outcome of the experiment\n",
    "1. if $R$ occurred, increment the event counter: $N_R=N_R+1$\n",
    "1. increment the loop counter: $i=i+1$\n",
    "1. If $i$ matches the target number of iterations, then calculate and print the relative frequency; otherwise go to step 2.\n",
    "\n",
    "**We will be using variations on this basic computer simulation structure throughout this course!**"
   ]
  },
  {
   "cell_type": "markdown",
   "metadata": {},
   "source": [
    "## Random Experiments\n",
    "\n",
    "We have seen that simulation is a simple and powerful tool to answer questions about random experiments. The coin flipping experiment involved a very simple phenomena for which the experiment could be accurately simulated inside the computer. In this book, we will show that similar techniques can be used with real data sets with unknown random behavior to answer many different kinds of statistical questions.\n",
    "\n",
    "Before we can do that, though, we need to take a step back to carefully define terminology and concepts that we will be using."
   ]
  },
  {
   "cell_type": "markdown",
   "metadata": {},
   "source": [
    "**Randomness** is surprisingly hard to define, and there are different philosophies (i.e., mental models) about what it means for something to be random! For now, we can use the following definition for a random experiment:"
   ]
  },
  {
   "cell_type": "markdown",
   "metadata": {},
   "source": [
    "````{panels}\n",
    "DEFINITION\n",
    "^^^\n",
    "random experiments \n",
    ": an experiment in which the result is not completely predictable to an observer based on the observer's knowledge of the system and its inputs.\n",
    "````\n"
   ]
  },
  {
   "cell_type": "markdown",
   "metadata": {},
   "source": [
    "\n",
    "**Examples of random experiments:**\n",
    "\n",
    "* **E1** A die is rolled, and the number on the top face is noted\n",
    "* **E2** A standard coin is flipped, and the top face (heads or tails) is noted\n",
    "* **E3** The temperature in your town is to be recorded at 10 AM tomorrow\n",
    "* **E4** The value of the Dow Jones Industrial Index is to be noted at the end of the year"
   ]
  },
  {
   "cell_type": "markdown",
   "metadata": {},
   "source": [
    "Above we used the word *result* to denote something that we observe when we conduct or observe a random experiment. To be able to understand, model, simulate, and analyze random experiments we will need to introduce some much more precise language about what we can observe.  We start with defining an *outcome* of a random experiment:"
   ]
  },
  {
   "cell_type": "markdown",
   "metadata": {},
   "source": [
    "````{panels}\n",
    "DEFINITION\n",
    "^^^\n",
    "outcome \n",
    ": An outcome is a non-decomposable result (or output) of a random experiment.\n",
    "````"
   ]
  },
  {
   "cell_type": "markdown",
   "metadata": {},
   "source": [
    "It is useful to have a reference for all possible outcomes of an experiment:\n",
    "````{panels}\n",
    "DEFINITION\n",
    "^^^\n",
    "set\n",
    ": an unordered collection of *unique* items\n",
    "\n",
    "sample space (or universal set)\n",
    ": the set of all possible outcomes of a random experiment\n",
    "````\n",
    "\n",
    "We will denote the sample space $S$. Another common notation is $\\Omega$ (a Greek capital omega). This book assumes readers are familiar with sets and set operations. A review of basic set operations is given in **APPENDIX A (TO BE MADE)**.\n"
   ]
  },
  {
   "cell_type": "markdown",
   "metadata": {},
   "source": [
    "In the experiments above,the results are all examples of outcomes. Not everything that we might observe or ask about the result of a random experiment is an outcome, though. The following are **not** outcomes:\n",
    "* Whether the result of experiment **E1** is even \n",
    "* Whether the result of experiment **E3** is less than 70F\n",
    "* Whether the result of experiment **E4** is within 100 points of the value at the beginning of the  year\n",
    "\n",
    "Each of these examples are not outcomes because they can be decomposed into a **set** of outcomes:"
   ]
  },
  {
   "cell_type": "markdown",
   "metadata": {},
   "source": [
    "* The result of experiment **E1** being even is the same as asking whether the outcome is in the set $\\{2,4,6\\}$.\n",
    "* The results of experiment **E3** being less than 70 is the same as asking whether the outcome is in the set $\\{x \\vert x \\in \\mathbb{R}, x \\le 70 \\}$.\n",
    "* The result of experiment **E4** being greater than the value at the beginning of the year can be written as follows: Let $d_0$ denote the value of the index at the beginning of the year, which is assumed known. Then we are asking if the final value is in the set $\\left\\{x \\vert x \\in \\left[d_0-100, d_0+100\\right] \\right\\}$.  \n",
    "\n",
    "````{panels}\n",
    "DEFINITION\n",
    "^^^\n",
    "event \n",
    ": any possible set of outcomes of an experiment to which we will assign probability\n",
    "````"
   ]
  },
  {
   "cell_type": "markdown",
   "metadata": {},
   "source": [
    "Although the definition of *event* may seem pretty straight-forward, there is actually a very subtle nuance. The definition does not say that every possible set of outcomes can be an event. We will only call a set of outcomes an event if we assign it probability. If we consider experiments which have an uncountably infinite **Add footnote: see Appendix A if you are not familiar with this terminology** set of outcomes, contradictions occur if we allow any possible set of outcomes to be events. Although this issue is important to achieve true mathematical rigor, the types of sets that we will not allow to be outcomes are so exotic that we can ignore this issue for the rest of the book.\n"
   ]
  },
  {
   "cell_type": "markdown",
   "metadata": {},
   "source": [
    "**EXAMPLE**\n",
    "\n",
    "Consider flipping a coin and observing the top face:\n",
    "\n",
    "**(a)** If the coin is flipped one time what is the sample space?\n",
    "\n",
    "When the outcomes of an experiment are not numbers, then it is best to introduce mathematical notation to represent the outcomes.  For a coin experiment, the outcomes are heads and tails, and almost everyone uses the notation $H$=heads and $T$=tails.  Then\n",
    "$$\n",
    "S_a= \\{H,T\\}\n",
    "$$\n",
    "\n",
    "**(b)** What if the coin is flipped four times, and the ordered sequence of heads and tails is recorded?\n",
    "\n",
    "As before, we will use $H$ and $T$ to denote the outcomes from one flip. The result of multiple flips can be recorded using a *tuple*: the mathematical object -- not the Python data type. Mathematical tuples are very similar to Python tuples: both represent ordered sequences, enclosed by parentheses, with the individual elements separated by commas.\n",
    "\n",
    "The resulting sample space is\n",
    "\\begin{align*}\n",
    "S_b= \\{&(T,T,T,T),~~ (T,T,T,H),~~ (T,T,H,T),~~ (T,T,H,H) \\\\\n",
    "&(T,H,T,T),~~ (T,H,T,H),~~ (T,H,H,T),~~ (T,H,H,H) \\\\\n",
    "&(H,T,T,T),~~ (H,T,T,H),~~ (H,T,H,T),~~ (H,T,H,H) \\\\\n",
    "&(H,H,T,T),~~ (H,H,T,H),~~ (H,H,H,T),~~ (H,H,H,H) \n",
    "\\}\n",
    "\\end{align*}\n",
    "\n",
    "**(c)** For the experiment of part (b), give a description in words of an event that is not an outcome.\n",
    "\n",
    "There is an even number of heads on the four flips.\n",
    "\n",
    "When defining events, it is again helpful to introduce mathematical notation. Thus, we can define $E$ to be the event that an even number of heads occurs. \n",
    "\n",
    "Then $E$ can be written as a set of outcomes as\n",
    "\\begin{align*}\n",
    "E= \\{&(T,T,T,T),~~ (T,T,H,H),~~  (T,H,T,H),~~ (T,H,H,T) \\\\\n",
    "&(H,T,T,H),~~ (H,T,H,T),~~ (H,H,T,T),~~ (H,H,H,H) \n",
    "\\}\n",
    "\\end{align*}"
   ]
  },
  {
   "cell_type": "markdown",
   "metadata": {},
   "source": [
    "````{panels}\n",
    "DEFINITION\n",
    "^^^\n",
    "event class\n",
    ": A collection of all events to which we assign probability. For our purposes, it is a set of subsets of $S$. \n",
    "````\n",
    "If $S$ is finite, then the event class can be taken to be the power set of $S$ (the set of **all** subsets of $S$) **ADD REF TO APPENDIX**"
   ]
  },
  {
   "cell_type": "markdown",
   "metadata": {},
   "source": [
    "**Example:** What is the event class for flipping a coin and observing the top face?\n",
    "\n",
    "The sample space can be represented as $S={H,T}$. The event class is the power set of $S$, which is\n",
    "$$\n",
    "\\mathcal{F}=\\bigl\\{ \\emptyset, H, T, \\left\\{H,T\\right\\} \\bigr\\}\n",
    "$$\n",
    "\n",
    "Note that both the null set (or empty set), $\\emptyset$, and the entire sample space $S=\\{H,T\\}$ are members of the event class. \n"
   ]
  },
  {
   "cell_type": "markdown",
   "metadata": {},
   "source": [
    "**Example:** What is the event class for rolling a die and observing the top face?\n",
    "\n",
    "The sample space can be written as $S=\\{1,2,3,4,5,6\\}$. Then the event class is the power set. Because the power set contains $2^6=64$ members, we use Python to print out its members. (This implementation is based on an analogy between the members of the set and the binary representations of the numbers 0 to 63. **See Appendix A for details.**)"
   ]
  },
  {
   "cell_type": "code",
   "execution_count": 156,
   "metadata": {},
   "outputs": [
    {
     "name": "stdout",
     "output_type": "stream",
     "text": [
      "Event class contains:\n",
      "{},          {1},         {2},         {1,2},       {3},         {1,3},       {2,3},       {1,2,3},     \n",
      "{4},         {1,4},       {2,4},       {1,2,4},     {3,4},       {1,3,4},     {2,3,4},     {1,2,3,4},   \n",
      "{5},         {1,5},       {2,5},       {1,2,5},     {3,5},       {1,3,5},     {2,3,5},     {1,2,3,5},   \n",
      "{4,5},       {1,4,5},     {2,4,5},     {1,2,4,5},   {3,4,5},     {1,3,4,5},   {2,3,4,5},   {1,2,3,4,5}, \n",
      "{6},         {1,6},       {2,6},       {1,2,6},     {3,6},       {1,3,6},     {2,3,6},     {1,2,3,6},   \n",
      "{4,6},       {1,4,6},     {2,4,6},     {1,2,4,6},   {3,4,6},     {1,3,4,6},   {2,3,4,6},   {1,2,3,4,6}, \n",
      "{5,6},       {1,5,6},     {2,5,6},     {1,2,5,6},   {3,5,6},     {1,3,5,6},   {2,3,5,6},   {1,2,3,5,6}, \n",
      "{4,5,6},     {1,4,5,6},   {2,4,5,6},   {1,2,4,5,6}, {3,4,5,6},   {1,3,4,5,6}, {2,3,4,5,6}, {1,2,3,4,5,6}"
     ]
    }
   ],
   "source": [
    "set_size=6\n",
    "table_width=8\n",
    "\n",
    "print(\"Event class contains:\", end=\"\")\n",
    "num_entries=2**set_size\n",
    "for i in range(num_entries):\n",
    "    if i%table_width ==0:\n",
    "        print()\n",
    "    result=\"{\"\n",
    "    first=True\n",
    "    for j in range(set_size):\n",
    "        if i & (2**j) !=0:\n",
    "            if first:\n",
    "                first=False\n",
    "            else:\n",
    "                result+=\",\"\n",
    "            result+=str(j+1)\n",
    "    result+=\"}\"\n",
    "    if i < num_entries-1:\n",
    "        result+=\",\"\n",
    "    entry_width=2*set_size+1\n",
    "    print(f\"{result : <{entry_width}}\", end=\"\")"
   ]
  },
  {
   "cell_type": "markdown",
   "metadata": {},
   "source": [
    "## Fair Experiments\n",
    "\n",
    "Some experiments are said to be *fair*, which intuitively means that there is no bias toward one outcome over another. We can define this more precisely as follows:\n",
    "\n",
    "````{panels}\n",
    "DEFINITION\n",
    "^^^\n",
    "fair experiment\n",
    ": an experiment is *fair* if every outcome has the same probability of occurring.\n",
    "````"
   ]
  },
  {
   "cell_type": "markdown",
   "metadata": {},
   "source": [
    "The following are types of experiments that people assume to be fair unless otherwise specified:\n",
    "* Flipping a coin\n",
    "* Rolling a die\n",
    "* Picking a number from 1 to 10"
   ]
  },
  {
   "cell_type": "markdown",
   "metadata": {},
   "source": [
    "We are interested in fair experiments because calculating the probabilities for such an experiment is very straight-forward. To do this, we first introduce some useful concepts, terminology, and notation."
   ]
  },
  {
   "cell_type": "markdown",
   "metadata": {},
   "source": [
    "We start with the following basic principal:\n",
    "\n",
    "**The probabilities of the outcomes of an experiment sum to 1.**"
   ]
  },
  {
   "cell_type": "markdown",
   "metadata": {},
   "source": [
    "Consider a fair experiment with $N$ outcomes, and let $p_i$ denote the probability of outcome $i$, then\n",
    "\n",
    "$$\n",
    "\\sum_{i=1}^{N} p_i = 1 \\\\\n",
    "\\sum_{i=1}^{N} p_1 = 1 \\\\\n",
    "Np_1=1\\\\\n",
    "p_1 = \\frac 1 N\\\\\n",
    "p_i = \\frac 1 N\\\\\n",
    "$$"
   ]
  },
  {
   "cell_type": "markdown",
   "metadata": {},
   "source": [
    "So, for instance, the probability of getting any number on a fair die is 1/6. Let's compare these to the relative frequencies:"
   ]
  },
  {
   "cell_type": "markdown",
   "metadata": {},
   "source": [
    "First let's see some ways to count the number of unique outcomes from rolling a fair die:"
   ]
  },
  {
   "cell_type": "code",
   "execution_count": 160,
   "metadata": {},
   "outputs": [
    {
     "name": "stdout",
     "output_type": "stream",
     "text": [
      "1 : 152\n",
      "2 : 159\n",
      "3 : 183\n",
      "4 : 166\n",
      "5 : 162\n",
      "6 : 178\n"
     ]
    }
   ],
   "source": [
    "num_sims=1000\n",
    "rolls=[]\n",
    "for sim in range(num_sims):\n",
    "    die=random.choice(range(1, 7))\n",
    "    rolls+=[die]\n",
    "for j in range(1, 7):\n",
    "    print(j, \":\", rolls.count(j))"
   ]
  },
  {
   "cell_type": "markdown",
   "metadata": {},
   "source": [
    "Because the die is fair, we expect the counts to be close to each other. If we increase the number of simulations the relative difference between different counts will get smaller.\n"
   ]
  },
  {
   "cell_type": "markdown",
   "metadata": {},
   "source": [
    "## An Aside: Accelerating Simulations using NumPy"
   ]
  },
  {
   "cell_type": "markdown",
   "metadata": {},
   "source": [
    "The simulation above is a perfectly valid way to roll a die and tabulate the counts of each outcome. However, we are going to demonstrate that it is also relatively slow, in the sense that the same simulation can be implemented much faster. We begin by determining the execution time of the current simulation (excluding the counting and printing). \n",
    "\n",
    "To do this, let's make the actualy die roll simulation into a function:"
   ]
  },
  {
   "cell_type": "code",
   "execution_count": 193,
   "metadata": {},
   "outputs": [],
   "source": [
    "def diesim1(num_sims=1_000_000):\n",
    "    rolls=[]\n",
    "    for sim in range(num_sims):\n",
    "        die=random.choice(range(1, 7))\n",
    "        rolls+=[die]"
   ]
  },
  {
   "cell_type": "code",
   "execution_count": 196,
   "metadata": {},
   "outputs": [
    {
     "name": "stdout",
     "output_type": "stream",
     "text": [
      "1.07 s ± 41.2 ms per loop (mean ± std. dev. of 7 runs, 1 loop each)\n"
     ]
    }
   ],
   "source": [
    "%timeit diesim1()"
   ]
  },
  {
   "cell_type": "markdown",
   "metadata": {},
   "source": [
    "When I wrote this, my computer took an average of about 1.05 to 1.1 seconds to roll the dice one million times. This is certainly fast enough for the simple cases like this, but as we build more complex simulations, the time to get accurate results will greatly increase.\n",
    "\n",
    "A general rule of thumb is that `for` loops make simulations slower. It is much better to call a function that can return all the simulated values at once:"
   ]
  },
  {
   "cell_type": "code",
   "execution_count": 197,
   "metadata": {},
   "outputs": [],
   "source": [
    "def dieroll2(num_sims=1_000_000):\n",
    "    rolls=random.choices(range(1,7), k=num_sims)"
   ]
  },
  {
   "cell_type": "code",
   "execution_count": 198,
   "metadata": {},
   "outputs": [
    {
     "name": "stdout",
     "output_type": "stream",
     "text": [
      "241 ms ± 5.33 ms per loop (mean ± std. dev. of 7 runs, 1 loop each)\n"
     ]
    }
   ],
   "source": [
    "%timeit dieroll2()"
   ]
  },
  {
   "cell_type": "markdown",
   "metadata": {},
   "source": [
    "By eliminating the `for` loop, we have reduced the execution time to 1/4 of what it was previously. Another source of inefficiency for this simulation is `random.choices()`. Because `random.choices()` must be able to handle general lists of items, it will not be as fast as if we choose a method that is tuned for providing a list of integers. \n",
    "\n",
    "NumPy is the Numerical Python library, and it provides a broad range of functions for working with numbers. The `numpy.random` module contains those functions that generate different types of random numbers. Because we use numpy.random a lot, we will use npr for the namespace of its functions:"
   ]
  },
  {
   "cell_type": "code",
   "execution_count": 207,
   "metadata": {},
   "outputs": [],
   "source": [
    "import numpy as np\n",
    "import numpy.random as npr"
   ]
  },
  {
   "cell_type": "code",
   "execution_count": 208,
   "metadata": {},
   "outputs": [],
   "source": [
    "def dieroll3(num_sims=1_000_000):\n",
    "    rolls=npr.randint(1, 7, size=num_sims)"
   ]
  },
  {
   "cell_type": "code",
   "execution_count": 210,
   "metadata": {},
   "outputs": [
    {
     "name": "stdout",
     "output_type": "stream",
     "text": [
      "10.5 ms ± 148 µs per loop (mean ± std. dev. of 7 runs, 100 loops each)\n"
     ]
    }
   ],
   "source": [
    "%timeit dieroll3()"
   ]
  },
  {
   "cell_type": "markdown",
   "metadata": {},
   "source": [
    "The new version runs over 20 times faster than the previous and is around 100 times faster than the original version of the simulation. "
   ]
  },
  {
   "cell_type": "markdown",
   "metadata": {},
   "source": [
    "NumPy also provides efficient ways to do the counting of the results, as shown below:"
   ]
  },
  {
   "cell_type": "code",
   "execution_count": 217,
   "metadata": {},
   "outputs": [],
   "source": [
    "def dieroll4(num_sims=1_000_000):\n",
    "    rolls = npr.randint(1, 7, size=num_sims)\n",
    "    vals, counts = np.unique(rolls, return_counts=True)\n",
    "    for i, val in enumerate(vals):\n",
    "        print(val, \":\", counts[i])"
   ]
  },
  {
   "cell_type": "code",
   "execution_count": 219,
   "metadata": {},
   "outputs": [
    {
     "name": "stdout",
     "output_type": "stream",
     "text": [
      "1 : 166559\n",
      "2 : 166615\n",
      "3 : 166778\n",
      "4 : 166637\n",
      "5 : 167129\n",
      "6 : 166282\n"
     ]
    }
   ],
   "source": [
    "dieroll4()"
   ]
  },
  {
   "cell_type": "code",
   "execution_count": null,
   "metadata": {},
   "outputs": [],
   "source": []
  },
  {
   "cell_type": "markdown",
   "metadata": {},
   "source": [
    "Let's try that for our experiment where we flip a coin 20 times:"
   ]
  },
  {
   "cell_type": "code",
   "execution_count": 105,
   "metadata": {},
   "outputs": [
    {
     "name": "stdout",
     "output_type": "stream",
     "text": [
      "0 2e-06\n",
      "1 1.7e-05\n",
      "2 0.000167\n",
      "3 0.001085\n",
      "4 0.004523\n",
      "5 0.014491\n",
      "6 0.037441\n",
      "7 0.073512\n",
      "8 0.120138\n",
      "9 0.160694\n",
      "10 0.176116\n",
      "11 0.160717\n",
      "12 0.120483\n",
      "13 0.07331\n",
      "14 0.036751\n",
      "15 0.014698\n",
      "16 0.004595\n",
      "17 0.001062\n",
      "18 0.000178\n",
      "19 1.9e-05\n",
      "20 1e-06\n"
     ]
    }
   ],
   "source": [
    "num_sims=1000000\n",
    "flips=20\n",
    "counts=[]\n",
    "for sim in range(num_sims):\n",
    "    coins=random.choices(faces,k=flips)\n",
    "    num_heads=coins.count('H')\n",
    "    counts+=[num_heads]\n",
    "    \n",
    "vals,counts=np.unique(counts,return_counts=True)\n",
    "for i in range(len(vals)):\n",
    "    print(vals[i],counts[i]/num_sims)"
   ]
  },
  {
   "cell_type": "markdown",
   "metadata": {},
   "source": [
    "This is an example of **binary hypothesis testing**. In this case, we set up two hypothesis:\n",
    "\n",
    "$H_0$: (the *null hypothesis*) is that the observed effect is just caused by randomness in the sampling. It is not real in the underlying system or data. For this exampe, our null hypothesis is that the coin is actually fair\n",
    "\n",
    "$H_1$: (the *alternative hypothesis*) is that the observed effect is not just caused by random sampling. In this example, the coin is biased toward Tails.\n",
    "\n",
    "In classical statistics/hypothesis testing, we say that an effect is statistically significant if the probability of observing an effect of that size under the null hypothesis is smaller than some small value $p$. Typical values of $p$ are 0.05 or 0.01, but many argue for even smaller values now. **The threshold to determine statistical significance must always be determined before the experiment is conducted -- otherwise, there is too much temptation to adjust the threshold based on the observed $p$-value.**\n",
    "\n",
    "In classical hypothesis testing, we do *not* test the alternative hypothesis directly, nor can we utilize side information that we may already have about the two hypotheses"
   ]
  },
  {
   "cell_type": "code",
   "execution_count": 173,
   "metadata": {},
   "outputs": [
    {
     "data": {
      "text/plain": [
       "\u001b[0;31mSignature:\u001b[0m\n",
       "\u001b[0mnp\u001b[0m\u001b[0;34m.\u001b[0m\u001b[0munique\u001b[0m\u001b[0;34m(\u001b[0m\u001b[0;34m\u001b[0m\n",
       "\u001b[0;34m\u001b[0m    \u001b[0mar\u001b[0m\u001b[0;34m,\u001b[0m\u001b[0;34m\u001b[0m\n",
       "\u001b[0;34m\u001b[0m    \u001b[0mreturn_index\u001b[0m\u001b[0;34m=\u001b[0m\u001b[0;32mFalse\u001b[0m\u001b[0;34m,\u001b[0m\u001b[0;34m\u001b[0m\n",
       "\u001b[0;34m\u001b[0m    \u001b[0mreturn_inverse\u001b[0m\u001b[0;34m=\u001b[0m\u001b[0;32mFalse\u001b[0m\u001b[0;34m,\u001b[0m\u001b[0;34m\u001b[0m\n",
       "\u001b[0;34m\u001b[0m    \u001b[0mreturn_counts\u001b[0m\u001b[0;34m=\u001b[0m\u001b[0;32mFalse\u001b[0m\u001b[0;34m,\u001b[0m\u001b[0;34m\u001b[0m\n",
       "\u001b[0;34m\u001b[0m    \u001b[0maxis\u001b[0m\u001b[0;34m=\u001b[0m\u001b[0;32mNone\u001b[0m\u001b[0;34m,\u001b[0m\u001b[0;34m\u001b[0m\n",
       "\u001b[0;34m\u001b[0m\u001b[0;34m)\u001b[0m\u001b[0;34m\u001b[0m\u001b[0;34m\u001b[0m\u001b[0m\n",
       "\u001b[0;31mDocstring:\u001b[0m\n",
       "Find the unique elements of an array.\n",
       "\n",
       "Returns the sorted unique elements of an array. There are three optional\n",
       "outputs in addition to the unique elements:\n",
       "\n",
       "* the indices of the input array that give the unique values\n",
       "* the indices of the unique array that reconstruct the input array\n",
       "* the number of times each unique value comes up in the input array\n",
       "\n",
       "Parameters\n",
       "----------\n",
       "ar : array_like\n",
       "    Input array. Unless `axis` is specified, this will be flattened if it\n",
       "    is not already 1-D.\n",
       "return_index : bool, optional\n",
       "    If True, also return the indices of `ar` (along the specified axis,\n",
       "    if provided, or in the flattened array) that result in the unique array.\n",
       "return_inverse : bool, optional\n",
       "    If True, also return the indices of the unique array (for the specified\n",
       "    axis, if provided) that can be used to reconstruct `ar`.\n",
       "return_counts : bool, optional\n",
       "    If True, also return the number of times each unique item appears\n",
       "    in `ar`.\n",
       "\n",
       "    .. versionadded:: 1.9.0\n",
       "\n",
       "axis : int or None, optional\n",
       "    The axis to operate on. If None, `ar` will be flattened. If an integer,\n",
       "    the subarrays indexed by the given axis will be flattened and treated\n",
       "    as the elements of a 1-D array with the dimension of the given axis,\n",
       "    see the notes for more details.  Object arrays or structured arrays\n",
       "    that contain objects are not supported if the `axis` kwarg is used. The\n",
       "    default is None.\n",
       "\n",
       "    .. versionadded:: 1.13.0\n",
       "\n",
       "Returns\n",
       "-------\n",
       "unique : ndarray\n",
       "    The sorted unique values.\n",
       "unique_indices : ndarray, optional\n",
       "    The indices of the first occurrences of the unique values in the\n",
       "    original array. Only provided if `return_index` is True.\n",
       "unique_inverse : ndarray, optional\n",
       "    The indices to reconstruct the original array from the\n",
       "    unique array. Only provided if `return_inverse` is True.\n",
       "unique_counts : ndarray, optional\n",
       "    The number of times each of the unique values comes up in the\n",
       "    original array. Only provided if `return_counts` is True.\n",
       "\n",
       "    .. versionadded:: 1.9.0\n",
       "\n",
       "See Also\n",
       "--------\n",
       "numpy.lib.arraysetops : Module with a number of other functions for\n",
       "                        performing set operations on arrays.\n",
       "\n",
       "Notes\n",
       "-----\n",
       "When an axis is specified the subarrays indexed by the axis are sorted.\n",
       "This is done by making the specified axis the first dimension of the array\n",
       "(move the axis to the first dimension to keep the order of the other axes)\n",
       "and then flattening the subarrays in C order. The flattened subarrays are\n",
       "then viewed as a structured type with each element given a label, with the\n",
       "effect that we end up with a 1-D array of structured types that can be\n",
       "treated in the same way as any other 1-D array. The result is that the\n",
       "flattened subarrays are sorted in lexicographic order starting with the\n",
       "first element.\n",
       "\n",
       "Examples\n",
       "--------\n",
       ">>> np.unique([1, 1, 2, 2, 3, 3])\n",
       "array([1, 2, 3])\n",
       ">>> a = np.array([[1, 1], [2, 3]])\n",
       ">>> np.unique(a)\n",
       "array([1, 2, 3])\n",
       "\n",
       "Return the unique rows of a 2D array\n",
       "\n",
       ">>> a = np.array([[1, 0, 0], [1, 0, 0], [2, 3, 4]])\n",
       ">>> np.unique(a, axis=0)\n",
       "array([[1, 0, 0], [2, 3, 4]])\n",
       "\n",
       "Return the indices of the original array that give the unique values:\n",
       "\n",
       ">>> a = np.array(['a', 'b', 'b', 'c', 'a'])\n",
       ">>> u, indices = np.unique(a, return_index=True)\n",
       ">>> u\n",
       "array(['a', 'b', 'c'], dtype='<U1')\n",
       ">>> indices\n",
       "array([0, 1, 3])\n",
       ">>> a[indices]\n",
       "array(['a', 'b', 'c'], dtype='<U1')\n",
       "\n",
       "Reconstruct the input array from the unique values:\n",
       "\n",
       ">>> a = np.array([1, 2, 6, 4, 2, 3, 2])\n",
       ">>> u, indices = np.unique(a, return_inverse=True)\n",
       ">>> u\n",
       "array([1, 2, 3, 4, 6])\n",
       ">>> indices\n",
       "array([0, 1, 4, 3, 1, 2, 1])\n",
       ">>> u[indices]\n",
       "array([1, 2, 6, 4, 2, 3, 2])\n",
       "\u001b[0;31mFile:\u001b[0m      /Applications/anaconda3/lib/python3.7/site-packages/numpy/lib/arraysetops.py\n",
       "\u001b[0;31mType:\u001b[0m      function\n"
      ]
     },
     "metadata": {},
     "output_type": "display_data"
    }
   ],
   "source": [
    "?np.unique"
   ]
  },
  {
   "cell_type": "code",
   "execution_count": null,
   "metadata": {},
   "outputs": [],
   "source": []
  }
 ],
 "metadata": {
  "kernelspec": {
   "display_name": "Python 3",
   "language": "python",
   "name": "python3"
  },
  "language_info": {
   "codemirror_mode": {
    "name": "ipython",
    "version": 3
   },
   "file_extension": ".py",
   "mimetype": "text/x-python",
   "name": "python",
   "nbconvert_exporter": "python",
   "pygments_lexer": "ipython3",
   "version": "3.7.4"
  }
 },
 "nbformat": 4,
 "nbformat_minor": 4
}
