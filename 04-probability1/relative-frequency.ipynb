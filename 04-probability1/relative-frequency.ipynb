{
 "cells": [
  {
   "cell_type": "markdown",
   "metadata": {},
   "source": [
    "#  Relative Frequencies and Probabilities\n",
    "\n",
    "\n",
    "Now consider how we can more formally define relative frequency and its properties. Consider a random experiment with a finite sample space, $S$. Let $|S|=K$; i.e., there are $K$ possible outcomes. Consider repeating the experiment a fixed number of times and observing the sequence of outcomes. This is a *repeated experiment*, which is a special type of *composite experiment*:\n",
    "````{panels}\n",
    "DEFINITION\n",
    "^^^\n",
    "composite experiment\n",
    ": A composite experiment is any experiment that consists of multiple sub-experiments.\n",
    "````\n",
    "````{panels}\n",
    "DEFINITION\n",
    "^^^\n",
    "trial (compound experiments)\n",
    ": A trial in a compound experiment is one of the sub-experiments that make up the composite experiment.\n",
    "````\n",
    "\n",
    "````{panels}\n",
    "DEFINITION\n",
    "^^^\n",
    "repeated experiment\n",
    ": A repeated experiment is a compound experiment in which the trials are identical and independent of each other.\n",
    "````\n",
    "\n",
    "Here, by *independent*, we mean that what happens on one experiment cannot affect the probabilities of what happens on another experiment. We will define this concept of independence more carefully later."
   ]
  },
  {
   "cell_type": "markdown",
   "metadata": {},
   "source": [
    "Let $N$ denote the number of trials in the repeated experiment, and consider a particular outcome of the experiment. If we indexed the sample space $S$, then we can assign an index $k$ to this outcome, and we will refer to it as outcome $k$ for convenience. Note that we use the lowercase letter $k$ to refer to one of the outcomes, whereas $K$ refers to the total number of outcomes. This is a common convention in probability. In fact, we will often use lowercase and uppercase letters to refer to related phenomena. **It is important to use fonts or write letters so that uppercase and lowercase are distinguishable to readers**. When writing letters, the convention is to use curvier forms and loops on lower case versions to make it clear that they are lower case. \n",
    "\n",
    "**JMS: Add examples here**\n",
    "\n",
    "The relative frequency of outcome $k$ is the proportion of times that outcome occurred in the $N$ trials. Let \n",
    "$n_k(N)$ denote the number of times outcome $k$ is observed. We can immediately see that \n",
    "\n",
    "$$\n",
    "0 \\le n_k(N) \\le N,\n",
    "$$ (occurrence_values)\n",
    "since the result is a counting number and the most number of times that outcome $k$ can occur is if it occurs on every one of the $N$ trials.\n",
    "\n",
    "Since each trial results in one outcome, then the sum of the number of times each outcome is observed must equal the number of trials:\n",
    "\n",
    "$$\n",
    "\\sum_{k=1}^{K} n_k(N) =N.\n",
    "$$ (sum_num_occurrences)\n",
    "\n",
    "Let $r_k (N)$ denote the relative frequency of outcome $k$:\n",
    "$$\n",
    "r_k(N) =\\frac{n_k(N)}{N}.\n",
    "$$\n",
    "\n",
    "We can immediately derive a few properties of relative frequencies. Dividing {eq}`occurrence_values` by $N$ yields\n",
    "\n",
    "$$\n",
    "0 \\le r_k(N) \\le 1,\n",
    "$$\n",
    "so relative frequencies are values between 0 and 1 (inclusive of both endpoints). Dividing {eq}`sum_num_occurrences` by $N$ yields\n",
    "\n",
    "$$\n",
    "\\sum_{k=1}^{K} r_k (N) = 1,\n",
    "$$\n",
    "so the sum of the relative frequencies is equal to 1. "
   ]
  },
  {
   "cell_type": "markdown",
   "metadata": {},
   "source": [
    "Many random experiments possess properties that are sometimes referred to as *statistical regularity*. For our purposes, we will use the following definition:\n",
    "\n",
    "````{panels}\n",
    "DEFINITION\n",
    "^^^\n",
    "statistical regularity\n",
    ": An experiment has statistical regularity if under repeated experiments, the relative frequencies converge (in some sense) to some fixed values. \n",
    "````\n",
    "\n",
    "To see this, let's simulate rolling a fair six-sided die and plot the relative frequencies for several increasing values of $N$. We can generate random numbers between 1 and 6 (inclusive) using NumPy.random's `randint` function. Since `randint` uses the Pythonic convention that the upper endpoint is **not included**, we have to pass an upper endpoint of 7 instead of 6. Here is how to generate 20 dice values:"
   ]
  },
  {
   "cell_type": "code",
   "execution_count": 1,
   "metadata": {
    "execution": {
     "iopub.execute_input": "2021-09-22T18:58:36.211591Z",
     "iopub.status.busy": "2021-09-22T18:58:36.210756Z",
     "iopub.status.idle": "2021-09-22T18:58:36.724644Z",
     "shell.execute_reply": "2021-09-22T18:58:36.725087Z"
    }
   },
   "outputs": [
    {
     "data": {
      "text/plain": [
       "array([6, 3, 6, 4, 2, 2, 4, 3, 3, 6, 5, 2, 5, 6, 1, 5, 5, 6, 1, 4])"
      ]
     },
     "execution_count": 1,
     "metadata": {},
     "output_type": "execute_result"
    }
   ],
   "source": [
    "import numpy as np\n",
    "import numpy.random as npr\n",
    "\n",
    "npr.seed(9823467)\n",
    "outcomes = npr.randint(1, 7, size=20)\n",
    "outcomes"
   ]
  },
  {
   "cell_type": "markdown",
   "metadata": {},
   "source": [
    "Now we need to count the number of occurrences of each value. We can achieve this by passing the outcomes to NumPy's `unique` function and using the keyword parameters `return_counts=True`. The function returns two arrays. The first array contains the unique values in the `outcomes` array, and the second array returns the corresponding count for each observed value."
   ]
  },
  {
   "cell_type": "code",
   "execution_count": 2,
   "metadata": {
    "execution": {
     "iopub.execute_input": "2021-09-22T18:58:36.729279Z",
     "iopub.status.busy": "2021-09-22T18:58:36.728627Z",
     "iopub.status.idle": "2021-09-22T18:58:36.731063Z",
     "shell.execute_reply": "2021-09-22T18:58:36.731465Z"
    }
   },
   "outputs": [
    {
     "name": "stdout",
     "output_type": "stream",
     "text": [
      "[1 2 3 4 5 6] [2 3 3 3 4 5]\n"
     ]
    }
   ],
   "source": [
    "vals, counts = np.unique(outcomes, return_counts=True)\n",
    "print(vals, counts)"
   ]
  },
  {
   "cell_type": "markdown",
   "metadata": {},
   "source": [
    "Then the relative frequencies of the values is just the returned counts divided by the total number of outcomes:"
   ]
  },
  {
   "cell_type": "code",
   "execution_count": 3,
   "metadata": {
    "execution": {
     "iopub.execute_input": "2021-09-22T18:58:36.735815Z",
     "iopub.status.busy": "2021-09-22T18:58:36.735163Z",
     "iopub.status.idle": "2021-09-22T18:58:36.737266Z",
     "shell.execute_reply": "2021-09-22T18:58:36.737720Z"
    }
   },
   "outputs": [
    {
     "name": "stdout",
     "output_type": "stream",
     "text": [
      "Relative frequencies:\n",
      "1 0.1\n",
      "2 0.15\n",
      "3 0.15\n",
      "4 0.15\n",
      "5 0.2\n",
      "6 0.25\n"
     ]
    }
   ],
   "source": [
    "rel_freqs = counts / len(outcomes)\n",
    "\n",
    "print(\"Relative frequencies:\")\n",
    "for i, val in enumerate(vals):\n",
    "    print(val, rel_freqs[i])"
   ]
  },
  {
   "cell_type": "markdown",
   "metadata": {},
   "source": [
    "When we visualize relative frequencies, we typically use a stem plot, which shows the value as a circle at the top of a \"stem\" that  connects to the $x$-axis:"
   ]
  },
  {
   "cell_type": "code",
   "execution_count": 4,
   "metadata": {
    "execution": {
     "iopub.execute_input": "2021-09-22T18:58:36.742003Z",
     "iopub.status.busy": "2021-09-22T18:58:36.741374Z",
     "iopub.status.idle": "2021-09-22T18:58:37.164504Z",
     "shell.execute_reply": "2021-09-22T18:58:37.164977Z"
    }
   },
   "outputs": [
    {
     "data": {
      "image/png": "[encoded data removed]",
      "text/plain": [
       "<Figure size 432x288 with 1 Axes>"
      ]
     },
     "metadata": {
      "needs_background": "light"
     },
     "output_type": "display_data"
    }
   ],
   "source": [
    "import matplotlib.pyplot as plt\n",
    "\n",
    "plt.stem(vals, rel_freqs, use_line_collection=True)\n",
    "plt.xlabel(\"Dice values\")\n",
    "plt.ylabel(\"Relative frequencies\")\n",
    "plt.title(\"20 trials\");"
   ]
  },
  {
   "cell_type": "markdown",
   "metadata": {},
   "source": [
    "The values show some pretty significant differences in the relative frequencies (from 0.1 to 0.25). Let's see how the relative frequencies change as we vary $N$ from 10 to 100,000. We will generate all 100,000 values at once and then subscript the array when we want to limit the analysis to a particular part. For instance, we can get the first 10 values as follows:"
   ]
  },
  {
   "cell_type": "code",
   "execution_count": 5,
   "metadata": {
    "execution": {
     "iopub.execute_input": "2021-09-22T18:58:37.169306Z",
     "iopub.status.busy": "2021-09-22T18:58:37.168713Z",
     "iopub.status.idle": "2021-09-22T18:58:37.171858Z",
     "shell.execute_reply": "2021-09-22T18:58:37.172268Z"
    }
   },
   "outputs": [
    {
     "name": "stdout",
     "output_type": "stream",
     "text": [
      "[3 4 6 4 2 3 5 3 5 3]\n"
     ]
    }
   ],
   "source": [
    "outcomes100k = npr.randint(1, 7, size=100_000)\n",
    "print(outcomes100k[:10])"
   ]
  },
  {
   "cell_type": "code",
   "execution_count": 6,
   "metadata": {
    "execution": {
     "iopub.execute_input": "2021-09-22T18:58:37.180218Z",
     "iopub.status.busy": "2021-09-22T18:58:37.176833Z",
     "iopub.status.idle": "2021-09-22T18:58:37.594994Z",
     "shell.execute_reply": "2021-09-22T18:58:37.595386Z"
    }
   },
   "outputs": [
    {
     "data": {
      "image/png": "[encoded data removed]",
      "text/plain": [
       "<Figure size 432x288 with 1 Axes>"
      ]
     },
     "metadata": {
      "needs_background": "light"
     },
     "output_type": "display_data"
    },
    {
     "data": {
      "image/png": "[encoded data removed]",
      "text/plain": [
       "<Figure size 432x288 with 1 Axes>"
      ]
     },
     "metadata": {
      "needs_background": "light"
     },
     "output_type": "display_data"
    },
    {
     "data": {
      "image/png": "[encoded data removed]",
      "text/plain": [
       "<Figure size 432x288 with 1 Axes>"
      ]
     },
     "metadata": {
      "needs_background": "light"
     },
     "output_type": "display_data"
    },
    {
     "data": {
      "image/png": "[encoded data removed]",
      "text/plain": [
       "<Figure size 432x288 with 1 Axes>"
      ]
     },
     "metadata": {
      "needs_background": "light"
     },
     "output_type": "display_data"
    }
   ],
   "source": [
    "Ns = [20, 100, 1000, 100_000]\n",
    "\n",
    "for N in Ns:\n",
    "    outcomes = outcomes100k[:N]\n",
    "    vals, counts = np.unique(outcomes, return_counts=True)\n",
    "    rel_freqs = counts / len(outcomes)\n",
    "    plt.figure()\n",
    "    plt.stem(vals, rel_freqs, use_line_collection=True)\n",
    "    plt.title(\"N=\" + str(N));"
   ]
  },
  {
   "cell_type": "markdown",
   "metadata": {},
   "source": [
    "As the value of $N$ increases, the relative frequencies converge to a common value:"
   ]
  },
  {
   "cell_type": "code",
   "execution_count": 7,
   "metadata": {
    "execution": {
     "iopub.execute_input": "2021-09-22T18:58:37.599833Z",
     "iopub.status.busy": "2021-09-22T18:58:37.599236Z",
     "iopub.status.idle": "2021-09-22T18:58:37.601442Z",
     "shell.execute_reply": "2021-09-22T18:58:37.601827Z"
    }
   },
   "outputs": [
    {
     "name": "stdout",
     "output_type": "stream",
     "text": [
      "[0.16541 0.16857 0.1666  0.16792 0.16585 0.16565]\n"
     ]
    }
   ],
   "source": [
    "print(rel_freqs)"
   ]
  },
  {
   "cell_type": "markdown",
   "metadata": {},
   "source": [
    "\n",
    "The relative frequencies converge to a value around 0.166, which is close to 1/6. If we further increase the number of trials, the relative frequencies will get closer and closer to 1/6. For an experiment with statistical regularity like this, we can say that the values that the relative frequencies converge to are the *probabilities* of the outcomes. The probability of outcome $k$ can be denoted by $p_k$."
   ]
  },
  {
   "cell_type": "markdown",
   "metadata": {},
   "source": [
    "Note that probabilities then inherit the properties of relative frequencies:\n",
    "\n",
    "$$0 \\le p_k \\le 1, \\mbox{ and}$$\n",
    "\n",
    "$$\\sum_k p_k = 1~~~~~~~~$$"
   ]
  },
  {
   "cell_type": "markdown",
   "metadata": {},
   "source": [
    "We will require these properties to hold for all probabilities.\n",
    "\n",
    "However, defining probabilities in this way has some problems:\n",
    "* Not all experiments possess statistical regularity.  In particular, some experiments can never be repeated, such as the change in the S&P 500 Index of the U.S. stock market on a given day. \n",
    "* Even if an experiment has statistical regularity, some experiments cannot be repeated without great difficulty or expense, such as the amount of fuel required to send a SpaceX rocket to Mars.\n",
    "* If an experiment has statistical regularity and can be repeated, it is not clear how to determine how many trials are needed to determine the probabilities with some prescribed precision. For experiments, even the meaning of \"converge\" is not clear because there is no way to relate precision with a required number or trials.\n",
    "\n",
    "Because of these limitations, we usually try to provide a more mathematical definition of probabilities for an experiment that are informed by experimental results or other knowledge of the system.  The simplest such approach works for a class of experiments that are said to be \"fair\":\n"
   ]
  },
  {
   "cell_type": "markdown",
   "metadata": {},
   "source": [
    "## Terminology Review\n",
    "\n",
    "Use the flashcards below to help you review the terminology introduced in this chapter."
   ]
  },
  {
   "cell_type": "code",
   "execution_count": 8,
   "metadata": {
    "execution": {
     "iopub.execute_input": "2021-09-22T18:58:37.605837Z",
     "iopub.status.busy": "2021-09-22T18:58:37.605188Z",
     "iopub.status.idle": "2021-09-22T18:58:38.407094Z",
     "shell.execute_reply": "2021-09-22T18:58:38.407684Z"
    },
    "tags": [
     "remove-input"
    ]
   },
   "outputs": [
    {
     "data": {
      "text/html": [
       "<style>\n",
       ":root{\n",
       "--asparagus: #87a878ff;\n",
       "--terra-cotta: #e26d5aff;\n",
       "--cyan-process: #5bc0ebff;\n",
       "--dark-blue-gray: #666a86ff;\n",
       "--snow: #fffafbff;\n",
       "--rich-black-fogra-39: #090c08ff;\n",
       "}\n",
       "\n",
       "\n",
       "/* entire container, keeps perspective */\n",
       ".flip-container {\n",
       "\tperspective: 1000px;\n",
       "  touch-action: pinch-zoom pan-y;\n",
       "}\n",
       "\n",
       "\n",
       ".flip-container.flip .flipper {\n",
       "\ttransform: rotateY(180deg)  translateX(-10%);\n",
       "}\n",
       "\n",
       "\n",
       ".flip-container.slide .flipper.frontcard {\n",
       "    filter: brightness(90%);\n",
       "    position:absolute;\n",
       "    z-index: -20;\n",
       "}\n",
       "\n",
       ".flip-container.prepare .flipper.backcard {\n",
       "    opacity:1;\n",
       "    transform:  translateX(20px); \n",
       "    transition: display 0s;\n",
       "}\n",
       "\n",
       "\n",
       ".flip-container.slide .flipper.backcard {\n",
       "    filter: brightness(115%);\n",
       "    height: 360px;\n",
       "    opacity:1;\n",
       "\t  transform:  rotateY(3deg)  translateX(700px) translateZ(20px) scale(1, 1.05) rotate(3deg);\n",
       "    z-index: 20;\n",
       "}\n",
       "\n",
       "\n",
       "\n",
       "\n",
       ".flip-container.slideback .flipper.backcard {\n",
       "    filter: brightness(100%);\n",
       "    opacity: 1;\n",
       "\t  transform: translateX(0px) translateZ(20px) rotateY(0deg);\n",
       "    z-index: 10;\n",
       "}\n",
       "\n",
       ".flip-container.slideback .flipper.frontcard {\n",
       "    filter: brightness(90%);\n",
       "    transform: translateX(0px) translateZ(-20px);\n",
       "    z-index: -10;\n",
       "}\n",
       "\n",
       "\n",
       ".flip-container, .front, .back {\n",
       "\t  height: 300px;\n",
       "\t  width: 640px;\n",
       "}\n",
       "\n",
       ".flipper.frontcard {\n",
       "    position:absolute;\n",
       "\t  transform: translateX(0px) rotateY(0deg) translateZ(20px);\n",
       "    z-index: 10;\n",
       "}\n",
       "\n",
       ".flipper.backcard {\n",
       "    filter: brightness(90%);\n",
       "    opacity:0;\n",
       "    position:absolute;\n",
       "    transform: translateX(0px) translateZ(-20px);\n",
       "    z-index: -10;\n",
       "}\n",
       "\n",
       "\n",
       "\n",
       "\n",
       "/* flip speed goes here */\n",
       ".flipper {\n",
       "    cursor:pointer;\n",
       "\t  height: 200px;\n",
       "    margin-left:20px;\n",
       "\t  position: absolute;\n",
       "    top: 0;\n",
       "\t  transform-style: preserve-3d;\n",
       "\t  transition: 0.6s;\n",
       "    width: 600px;\n",
       "}\n",
       "\n",
       "/* hide back of pane during swap */\n",
       ".front, .back {\n",
       "    -webkit-backface-visibility: hidden;\n",
       "\t  backface-visibility: hidden;\n",
       "\t  left: 0;\n",
       "\t  position: absolute;\n",
       "\t  top: 0;\n",
       "}\n",
       "\n",
       "/* front pane, placed above back */\n",
       ".front {\n",
       "\t  backface-visibility: hidden;\n",
       "    background: var(--asparagus);\n",
       "    transform: rotateY(0deg);\n",
       "\t  z-index: 2;\n",
       "}\n",
       "\n",
       "/* back, initially hidden pane */\n",
       ".back {\n",
       "\t  backface-visibility: hidden;\n",
       "    background: var(--dark-blue-gray);\n",
       "\t  transform: rotateY(180deg);\n",
       "}\n",
       "\n",
       ".next {\n",
       "    color: var(--rich-black-fogra-39);\n",
       "    cursor:pointer;\n",
       "    font-size: 16pt;\n",
       "    left:600px;\n",
       "    opacity:0.3;\n",
       "    position:relative; \n",
       "    top:20px;\n",
       "}\n",
       "\n",
       ".next.flipped {\n",
       "    opacity:1;\n",
       "}\n",
       "\n",
       ".next.hide {\n",
       "    opacity:0;\n",
       "}\n",
       "\n",
       "\n",
       ".card{\n",
       "    border-radius: 10px;\n",
       "    color: #fafafa;\n",
       "    display:block;\n",
       "    padding:10px;\n",
       "  \n",
       "}\n",
       ".cardtext{\n",
       "    color: var(--snow);\n",
       "    font-size: 20pt;\n",
       "    margin-left:3%;\n",
       "    position:absolute;\n",
       "    text-align:center;\n",
       "    top: 50%;\n",
       "    transform: translate(0, -50%);\n",
       "    width:90%;\n",
       "  }\n",
       "\n",
       "</style><script type=\"text/Javascript\">\n",
       "/*!\n",
       " * swiped-events.js - v1.1.4\n",
       " * Pure JavaScript swipe events\n",
       " * https://github.com/john-doherty/swiped-events\n",
       " * @inspiration https://stackoverflow.com/questions/16348031/disable-scrolling-when-touch-moving-certain-element\n",
       " * @author John Doherty <www.johndoherty.info>\n",
       " * @license MIT\n",
       " */\n",
       "!function(t,e){\"use strict\";\"function\"!=typeof t.CustomEvent&&(t.CustomEvent=function(t,n){n=n||{bubbles:!1,cancelable:!1,detail:void 0};var a=e.createEvent(\"CustomEvent\");return a.initCustomEvent(t,n.bubbles,n.cancelable,n.detail),a},t.CustomEvent.prototype=t.Event.prototype),e.addEventListener(\"touchstart\",function(t){if(\"true\"===t.target.getAttribute(\"data-swipe-ignore\"))return;s=t.target,r=Date.now(),n=t.touches[0].clientX,a=t.touches[0].clientY,u=0,i=0},!1),e.addEventListener(\"touchmove\",function(t){if(!n||!a)return;var e=t.touches[0].clientX,r=t.touches[0].clientY;u=n-e,i=a-r},!1),e.addEventListener(\"touchend\",function(t){if(s!==t.target)return;var e=parseInt(l(s,\"data-swipe-threshold\",\"20\"),10),o=parseInt(l(s,\"data-swipe-timeout\",\"500\"),10),c=Date.now()-r,d=\"\",p=t.changedTouches||t.touches||[];Math.abs(u)>Math.abs(i)?Math.abs(u)>e&&c<o&&(d=u>0?\"swiped-left\":\"swiped-right\"):Math.abs(i)>e&&c<o&&(d=i>0?\"swiped-up\":\"swiped-down\");if(\"\"!==d){var b={dir:d.replace(/swiped-/,\"\"),xStart:parseInt(n,10),xEnd:parseInt((p[0]||{}).clientX||-1,10),yStart:parseInt(a,10),yEnd:parseInt((p[0]||{}).clientY||-1,10)};s.dispatchEvent(new CustomEvent(\"swiped\",{bubbles:!0,cancelable:!0,detail:b})),s.dispatchEvent(new CustomEvent(d,{bubbles:!0,cancelable:!0,detail:b}))}n=null,a=null,r=null},!1);var n=null,a=null,u=null,i=null,r=null,s=null;function l(t,n,a){for(;t&&t!==e.documentElement;){var u=t.getAttribute(n);if(u)return u;t=t.parentNode}return a}}(window,document);\n",
       "\n",
       "function jaxify(string) {\n",
       "    var mystring = string;\n",
       "\n",
       "    count = 0;\n",
       "    var loc = mystring.search(/([^\\\\]|^)(\\$)/);\n",
       "\n",
       "    count2 = 0;\n",
       "    var loc2 = mystring.search(/([^\\\\]|^)(\\$\\$)/);\n",
       "\n",
       "    //console.log(loc);\n",
       "\n",
       "    while ((loc >= 0) || (loc2 >= 0)) {\n",
       "\n",
       "        /* Have to replace all the double $$ first with current implementation */\n",
       "        if (loc2 >= 0) {\n",
       "            if (count2 % 2 == 0) {\n",
       "                mystring = mystring.replace(/([^\\\\]|^)(\\$\\$)/, \"$1\\\\[\");\n",
       "            } else {\n",
       "                mystring = mystring.replace(/([^\\\\]|^)(\\$\\$)/, \"$1\\\\]\");\n",
       "            }\n",
       "            count2++;\n",
       "        } else {\n",
       "            if (count % 2 == 0) {\n",
       "                mystring = mystring.replace(/([^\\\\]|^)(\\$)/, \"$1\\\\(\");\n",
       "            } else {\n",
       "                mystring = mystring.replace(/([^\\\\]|^)(\\$)/, \"$1\\\\)\");\n",
       "            }\n",
       "            count++;\n",
       "        }\n",
       "        loc = mystring.search(/([^\\\\]|^)(\\$)/);\n",
       "        loc2 = mystring.search(/([^\\\\]|^)(\\$\\$)/);\n",
       "        //console.log(mystring,\", loc:\",loc,\", loc2:\",loc2);\n",
       "    }\n",
       "\n",
       "    //console.log(mystring);\n",
       "    return mystring;\n",
       "}\n",
       "\n",
       "function flip(ths) {\n",
       "    console.log(ths);\n",
       "    console.log(ths.id);\n",
       "    ths.classList.toggle(\"flip\"); \n",
       "    var next=document.getElementById(ths.id+'-next');\n",
       "    next.style.pointerEvents='none';\n",
       "    next.classList.add('flipped');\n",
       "    setTimeout(reenableNext, 700, next);\n",
       "}\n",
       "\n",
       "function reenableNext(next) {\n",
       "    next.style.pointerEvents='auto';\n",
       "}\n",
       "\n",
       "\n",
       "\n",
       "function slide2(containerId) {\n",
       "    var container = document.getElementById(containerId);\n",
       "    var next=document.getElementById(containerId+'-next');\n",
       "    var frontcard = container.children[0];\n",
       "    var backcard = container.children[1];\n",
       "    container.style.pointerEvents='none';\n",
       "    //backcard.style.pointerEvents='none';\n",
       "    next.style.pointerEvents='none';\n",
       "    next.classList.remove('flipped');\n",
       "    next.classList.add('hide');\n",
       "\n",
       "    //container.classList.add(\"prepare\");\n",
       "    \n",
       "    container.className=\"flip-container slide\";\n",
       "    backcard.parentElement.removeChild(frontcard);\n",
       "    backcard.parentElement.appendChild(frontcard);\n",
       "    setTimeout(slideback, 600, container, frontcard, backcard, next);\n",
       "    \n",
       "}\n",
       "\n",
       "\n",
       "function checkFlip(containerId) {\n",
       "    var container = document.getElementById(containerId);\n",
       "\n",
       "\n",
       "    if (container.classList.contains('flip')) {\n",
       "        container.classList.remove('flip');\n",
       "        setTimeout(slide2, 600, containerId);\n",
       "    } \n",
       "    else {\n",
       "        slide2(containerId);\n",
       "    }\n",
       "}\n",
       "\n",
       "\n",
       "function slideback(container, frontcard, backcard, next) {\n",
       "    container.className=\"flip-container slideback\";\n",
       "    setTimeout(cleanup, 600, container, frontcard, backcard, next);\n",
       "}\n",
       "\n",
       "function cleanup(container, frontcard, backcard, next) {\n",
       "    container.removeChild(frontcard);\n",
       "    backcard.className=\"flipper frontcard\";\n",
       "    container.className=\"flip-container\";\n",
       "\n",
       "    var cardnum=parseInt(container.dataset.cardnum);\n",
       "    var cards=eval('cards'+container.id);\n",
       "    var flipper=createOneCard(container, false, cards, cardnum);\n",
       "    container.append(flipper);\n",
       "    cardnum= (cardnum+1) % parseInt(container.dataset.numCards);\n",
       "    container.dataset.cardnum=cardnum;\n",
       "    if (cardnum != 1){\n",
       "        next.innerHTML=\"Next >\";\n",
       "    } else {\n",
       "        next.innerHTML=\"Reload \\\\(\\\\circlearrowleft\\\\) \";\n",
       "    }\n",
       "    MathJax.Hub.Queue([\"Typeset\", MathJax.Hub]);\n",
       "    next.style.pointerEvents='auto';\n",
       "    container.style.pointerEvents='auto';\n",
       "    next.classList.remove('hide');\n",
       "    container.addEventListener('swiped-left', function(e) {\n",
       "        /*\n",
       "          console.log(e.detail);\n",
       "          console.log(id);\n",
       "        */\n",
       "        checkFlip(container.id);\n",
       "    }, {once: true });\n",
       "\n",
       "\n",
       "}\n",
       "\n",
       "\n",
       "function createOneCard  (mydiv, frontCard, cards, cardnum) {\n",
       "    colors=[\n",
       "        '--asparagus',\n",
       "        '--terra-cotta',\n",
       "        '--cyan-process'\n",
       "    ]\n",
       "\n",
       "    var flipper = document.createElement('div');\n",
       "    if (frontCard){\n",
       "        flipper.className=\"flipper frontcard\";    \n",
       "    }\n",
       "    else {\n",
       "        flipper.className=\"flipper backcard\";   \n",
       "    }\n",
       "\n",
       "    var front = document.createElement('div');\n",
       "    front.className='front card';\n",
       "\n",
       "    var frontSpan= document.createElement('span');\n",
       "    frontSpan.className='cardtext';\n",
       "    frontSpan.innerHTML=jaxify(cards[cardnum]['front']);\n",
       "    //frontSpan.textContent=jaxify(cards[cardnum]['front']);\n",
       "    front.style.background='var(' + colors[cardnum % colors.length] + ')';\n",
       "\n",
       "\n",
       "    front.append(frontSpan);\n",
       "\n",
       "    flipper.append(front);\n",
       "\n",
       "    var back = document.createElement('div');\n",
       "    back.className='back card';\n",
       "\n",
       "    var backSpan= document.createElement('span');\n",
       "    backSpan.className='cardtext';\n",
       "    backSpan.innerHTML=jaxify(cards[cardnum]['back']);\n",
       "    back.append(backSpan);\n",
       "\n",
       "    flipper.append(back);\n",
       "\n",
       "    return flipper;\n",
       "\n",
       "}\n",
       "\n",
       "\n",
       "\n",
       "\n",
       "\n",
       "function createCards(id) {\n",
       "    console.log(id);\n",
       "    \n",
       "    var mydiv=document.getElementById(id);\n",
       "    \n",
       "    var cards=eval('cards'+id);\n",
       "    mydiv.dataset.cardnum=0;\n",
       "    mydiv.dataset.numCards=cards.length;\n",
       "    mydiv.addEventListener('swiped-left', function(e) {\n",
       "        /*\n",
       "          console.log(e.detail);\n",
       "          console.log(id);\n",
       "        */\n",
       "        checkFlip(id);\n",
       "    }, {once: true});\n",
       "\n",
       "    var cardnum=0;\n",
       "    \n",
       "    for (var i=0; i<2; i++) {\n",
       "    \n",
       "        var flipper;\n",
       "        if (i==0){\n",
       "            flipper=createOneCard(mydiv, true, cards, cardnum);\n",
       "        }\n",
       "        else {\n",
       "            flipper=createOneCard(mydiv, false, cards, cardnum);\n",
       "        }\n",
       "\n",
       "                mydiv.append(flipper);\n",
       "        cardnum = (cardnum + 1) % mydiv.dataset.numCards;\n",
       "    }\n",
       "    mydiv.dataset.cardnum = cardnum;\n",
       "\n",
       "    var next=document.getElementById(id+'-next');\n",
       "    if (cards.length==1) {\n",
       "        // Don't show next if no other cards!\n",
       "        next.style.pointerEvents='none';\n",
       "        next.classList.add('hide');\n",
       "    } else {\n",
       "        next.innerHTML=\"Next >\";\n",
       "    }\n",
       "\n",
       "    return flipper;\n",
       "}\n",
       "\n",
       "\n",
       "\n",
       "\n",
       "\n",
       "</script><script type=\"text/Javascript\">\n",
       "    \n",
       "    cardsSAHYAYeFsnJp=[\n",
       "    {\n",
       "        \"front\": \"composite experiment\",\n",
       "        \"back\": \"A composite experiment is any experiment that consists of multiple sub-experiments.\"\n",
       "    },\n",
       "    {\n",
       "        \"front\": \"trial (compound experiments)\",\n",
       "        \"back\": \"A trial in a compound experiment is one of the sub-experiments that make up the composite experiment.\"\n",
       "    },\n",
       "    {\n",
       "        \"front\": \"repeated experiment\",\n",
       "        \"back\": \"A repeated experiment is a compound experiment in which the trials are identical and independent of each other.\"\n",
       "    },\n",
       "    {\n",
       "        \"front\": \"statistical regularity\",\n",
       "        \"back\": \"An experiment has statistical regularity if under repeated experiments, the relative frequencies converge (in some sense) to some fixed values. \"\n",
       "    }\n",
       "];\n",
       "    \n",
       "\n",
       "        {\n",
       "        const jmscontroller = new AbortController();\n",
       "        const signal = jmscontroller.signal;\n",
       "\n",
       "        setTimeout(() => jmscontroller.abort(), 5000);\n",
       "\n",
       "        fetch(\"https://raw.githubusercontent.com/jmshea/Foundations-of-Data-Science-with-Python/main/04-probability1/flashcards/relative-frequency.json\", {signal})\n",
       "        .then(response => response.json())\n",
       "        .then(json => createCards(\"SAHYAYeFsnJp\"))\n",
       "        .catch(err => {\n",
       "        console.log(\"Fetch error or timeout\");\n",
       "        createCards(\"SAHYAYeFsnJp\");\n",
       "        });\n",
       "        }\n",
       "        </script>\n",
       "        <div style=\"height:40px\"></div><div class=\"flip-container\" id=\"SAHYAYeFsnJp\" onclick=\"flip(this)\"></div><div style=\"height:40px\"></div><div class=\"next\" id=\"SAHYAYeFsnJp-next\" onclick=\"checkFlip('SAHYAYeFsnJp')\" >  </div><div style=\"height:40px\"></div>"
      ],
      "text/plain": [
       "<IPython.core.display.HTML object>"
      ]
     },
     "metadata": {},
     "output_type": "display_data"
    }
   ],
   "source": [
    "from jupytercards import display_flashcards\n",
    "\n",
    "github='https://raw.githubusercontent.com/jmshea/Foundations-of-Data-Science-with-Python/main/04-probability1/flashcards/'\n",
    "display_flashcards(github+'relative-frequency.json')"
   ]
  },
  {
   "cell_type": "code",
   "execution_count": null,
   "metadata": {},
   "outputs": [],
   "source": []
  }
 ],
 "metadata": {
  "kernelspec": {
   "display_name": "Python 3",
   "language": "python",
   "name": "python3"
  },
  "language_info": {
   "codemirror_mode": {
    "name": "ipython",
    "version": 3
   },
   "file_extension": ".py",
   "mimetype": "text/x-python",
   "name": "python",
   "nbconvert_exporter": "python",
   "pygments_lexer": "ipython3",
   "version": "3.7.4"
  }
 },
 "nbformat": 4,
 "nbformat_minor": 4
}
