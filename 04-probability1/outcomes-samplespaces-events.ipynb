{
 "cells": [
  {
   "cell_type": "markdown",
   "metadata": {},
   "source": [
    "# Outcomes, Sample Spaces, and Events"
   ]
  },
  {
   "cell_type": "markdown",
   "metadata": {},
   "source": [
    "We begin with building some intuition about probability by further investigating relative frequency. We start by defining what can be an *outcome* of a random experiment:"
   ]
  },
  {
   "cell_type": "markdown",
   "metadata": {},
   "source": [
    "````{panels}\n",
    "DEFINTION\n",
    "^^^\n",
    "outcome (of a random experiment)\n",
    ": An outcome of a random experiment is a result of the experiment that cannot be further decomposed.\n",
    "````"
   ]
  },
  {
   "cell_type": "markdown",
   "metadata": {},
   "source": [
    "Consider rolling a standard six-sided die and observing the top face. The possible outcomes are 1,2,3,4,5, and 6. For convenience, we place all possible outcomes into a set, which is an *unordered* collection of items. Sets are written mathematically as a comma-separated list of items within curly braces: $\\{~~ \\}$."
   ]
  },
  {
   "cell_type": "markdown",
   "metadata": {},
   "source": [
    "````{panels}\n",
    "DEFINTION\n",
    "^^^\n",
    "sample space\n",
    ": The sample space of a random experiment is the set of all possible outcomes.\n",
    "````\n",
    "We will denote the sample space by $S$. Another common notation is $\\Omega$ (capital omega). When referring to multiple experiments, we will often use subscripts to distinguish the different sample spaces. So, for our six-sided die, the sample space is \n",
    "\n",
    "$$\n",
    "S_1=\\{1,2,3,4,5,6\\}\n",
    "$$."
   ]
  },
  {
   "cell_type": "markdown",
   "metadata": {},
   "source": [
    "Note that outcomes are not the only types of experimental results that we can ask about. For the six-sided die, we could ask if the result is even or if the result is less than 3. These are not outcomes. Instead they can be written as sets of outcomes. We call these events:"
   ]
  },
  {
   "cell_type": "markdown",
   "metadata": {},
   "source": [
    "````{panels}\n",
    "DEFINTION\n",
    "^^^\n",
    "event\n",
    ": An event is a set of outcomes. The event occurs if the result of the experiment is any of the outcomes in the set. \n",
    "````\n",
    "\n",
    "If we roll a six-sided die, the event that the outcome is even can be written as\n",
    "\n",
    "$$\n",
    "E = \\{2,4,6 \\}.\n",
    "$$\n",
    "\n",
    "Note that we have assigned the notation $E$ to refer to this event. We will often create notation to refer to events to formalize and simplify our mathematical representations.\n",
    "\n",
    "If we roll a six-sided die, the event that the outcome is less than 3 can be written as \n",
    "\n",
    "$$\n",
    "G = \\{1,2\\}.\n",
    "$$\n"
   ]
  },
  {
   "cell_type": "markdown",
   "metadata": {},
   "source": [
    "Sample spaces can contain any type of item. For instance, we can refer to the sample space for flipping a coin as \n",
    "\n",
    "$$\n",
    "S_2 = \\{ \\mbox{heads}, \\mbox{tails} \\}.\n",
    "$$\n",
    "More typically, we would introduce mathematical notation $H=\\mbox{outcome is heads}$, $T=\\mbox{outcome is tails}$. Then we can use the more concise notation\n",
    "\n",
    "$$\n",
    "S_2 = \\{ H, T \\}.\n",
    "$$\n"
   ]
  }
 ],
 "metadata": {
  "kernelspec": {
   "display_name": "Python 3",
   "language": "python",
   "name": "python3"
  },
  "language_info": {
   "codemirror_mode": {
    "name": "ipython",
    "version": 3
   },
   "file_extension": ".py",
   "mimetype": "text/x-python",
   "name": "python",
   "nbconvert_exporter": "python",
   "pygments_lexer": "ipython3",
   "version": "3.7.4"
  }
 },
 "nbformat": 4,
 "nbformat_minor": 4
}
