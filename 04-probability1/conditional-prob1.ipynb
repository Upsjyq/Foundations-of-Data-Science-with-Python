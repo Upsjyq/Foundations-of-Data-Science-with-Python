{
 "cells": [
  {
   "cell_type": "markdown",
   "metadata": {},
   "source": [
    "# Introduction to Conditional Probability \n",
    "\n",
    "One of the most important concepts in probability is *conditional probability*. This is the part of probability that is about determining how different events can affect each other. For data science/statistics, this is particularly important because we are often trying to determine whether an observed effect depends on some underlying feature or analyzing the nature of such dependence. \n"
   ]
  },
  {
   "cell_type": "markdown",
   "metadata": {},
   "source": [
    "Probability is generally considered a tricky subject, where answers defy initial intuitions, and there are many examples from conditional probability that fit this description. \n",
    "\n",
    "Let's start with a simple example that fools many who are new to probability or even those who have some basic knowledge of probability but who haven't studied conditional probability in detail:"
   ]
  },
  {
   "cell_type": "markdown",
   "metadata": {},
   "source": [
    "## The Magician's Coin Part 1\n",
    "\n",
    "Suppose you attend a magic show. The magician shows you two coins: a two-headed coin and a fair coin. She asks you to pick one of the coins and flip it at random, observing only the top face. If the outcome of that first flip is Heads, does that affect the probability that Heads would come up if you flip that coin again?\n",
    "\n",
    "To be able to answer this question, we first need to know what is the probability of getting heads when one of the coins is chosen at random and flipped. I will show you how to easily analyze this probability in a minute, but let's first build a simple simulation to simulate this probability.\n",
    "\n",
    "To facilitate learning, I build the simulation in three steps below. All of them leverage the `random` library, so let's start by importing that:"
   ]
  },
  {
   "cell_type": "code",
   "execution_count": 19,
   "metadata": {},
   "outputs": [],
   "source": [
    "import random"
   ]
  },
  {
   "cell_type": "markdown",
   "metadata": {},
   "source": [
    "**Step 1.** Let's use `random.choice()` to choose a random coin from the list `['fair', '2head']` and print it out for a very small simulation. (Note that there are **much** more computationally efficient ways to implement this simulation, but the goal here is to make the simulation as **clear as possible** to the reader.)"
   ]
  },
  {
   "cell_type": "code",
   "execution_count": 22,
   "metadata": {},
   "outputs": [],
   "source": [
    "def choose_coin(num_sims=10):\n",
    "    coins=['fair','2head']\n",
    "    for sim in range(num_sims):\n",
    "        coin=random.choice(coins)\n",
    "        print(coin)"
   ]
  },
  {
   "cell_type": "code",
   "execution_count": 24,
   "metadata": {},
   "outputs": [
    {
     "name": "stdout",
     "output_type": "stream",
     "text": [
      "2head\n",
      "2head\n",
      "2head\n",
      "2head\n",
      "fair\n",
      "2head\n",
      "2head\n",
      "2head\n",
      "fair\n",
      "fair\n"
     ]
    }
   ],
   "source": [
    "choose_coin()"
   ]
  },
  {
   "cell_type": "markdown",
   "metadata": {},
   "source": [
    "**Step 2.** Now, we can check the outcome of the coin choice and randomly choose one of the faces of the chosen coin. If you are following along in a separate Jupyter notebook, I suggest you copy the function from above, rename it, and then add the rest of the code (the part below the comment in the function below):"
   ]
  },
  {
   "cell_type": "code",
   "execution_count": 14,
   "metadata": {},
   "outputs": [],
   "source": [
    "def choose_and_flip(num_sims=10):\n",
    "    coins=['fair','2head']\n",
    "    for sim in range(num_sims):\n",
    "        coin=random.choice(coins)\n",
    "        # Delete the print statement and add the following:\n",
    "        if coin=='fair':\n",
    "            faces=['H','T'] \n",
    "        else:\n",
    "            faces=['H','H']\n",
    "        value=random.choice(faces)\n",
    "        print(coin,value)"
   ]
  },
  {
   "cell_type": "code",
   "execution_count": 11,
   "metadata": {},
   "outputs": [
    {
     "name": "stdout",
     "output_type": "stream",
     "text": [
      "2head H\n",
      "fair T\n",
      "fair T\n",
      "fair H\n",
      "fair T\n",
      "2head H\n",
      "2head H\n",
      "2head H\n",
      "fair T\n",
      "fair T\n"
     ]
    }
   ],
   "source": [
    "choose_and_flip()"
   ]
  },
  {
   "cell_type": "markdown",
   "metadata": {},
   "source": [
    "By inspection, you should see that the relative frequency of heads is more than 1/2. That should be intuitive, and you may be able to guess the answer."
   ]
  },
  {
   "cell_type": "markdown",
   "metadata": {},
   "source": [
    "**Step 3.** Finally, let's estimate the probability of heads by determining the relative frequency of 'H'. We initialize a counter called `num_heads` to zero outside the simulation loop and then increment it every time the outcome is `H`. \n",
    "\n",
    "**Important: Note that we need to drastically increase the number of simulated coin flips, so we will turn off printing inside the for loop.**"
   ]
  },
  {
   "cell_type": "code",
   "execution_count": 15,
   "metadata": {},
   "outputs": [],
   "source": [
    "def one_flip(num_sims=100_000):\n",
    "    coins=['fair','2head']\n",
    "    \n",
    "    num_heads=0\n",
    "    for sim in range(num_sims):\n",
    "        coin=random.choice(coins)\n",
    "        if coin=='fair':\n",
    "            faces=['H','T'] \n",
    "        else:\n",
    "            faces=['H','H']\n",
    "        value=random.choice(faces)\n",
    "        if value=='H':\n",
    "            num_heads+=1\n",
    "            \n",
    "    print(\"Prob. of H is approximately\", num_heads/num_sims)"
   ]
  },
  {
   "cell_type": "code",
   "execution_count": 17,
   "metadata": {},
   "outputs": [
    {
     "name": "stdout",
     "output_type": "stream",
     "text": [
      "Prob. of H is approximately 0.74921\n"
     ]
    }
   ],
   "source": [
    "one_flip()"
   ]
  },
  {
   "cell_type": "markdown",
   "metadata": {},
   "source": [
    "How can we calculate this probability using equally likely outcomes? Let's create a table that enumerates all the outcomes:\n",
    "\n",
    "              \n",
    " |Coin        | Face 1      | Face 2 |\n",
    " :-           | :-:         | :-: |\n",
    " Fair         | Heads       | Tails |\n",
    " Two-Headed   | Heads 1        | Heads 2 |\n",
    " \n",
    "Here, I separately list the two different Heads outcomes for the two-headed coin because I want the outcomes to be equally likely. Since the coins are equally likely to be chosen, and the two faces of each coin are equally likely, the resulting outcomes of the combined experiment are also equally likely. \n",
    "\n",
    "Let $H_1$ denote the event that the top face of the coin on the first flip is Heads. From the table, $|H_1|=3$ and $|S|=4$. Since the outcomes are assumed to be equally likely, $P(H_1) = |H_1|/|S| = 3/4$, which matches our simulation."
   ]
  },
  {
   "cell_type": "markdown",
   "metadata": {},
   "source": [
    "The reader may wonder what happens if we instead ask about the second flip. Let $H_i$ be the event that the $i$th flip of the coin is Heads. If you do not already know what $P(H_2)$ will be, take a moment to think about what the simulation will look like -- with careful thought, you should be able to know $P(H_2)$. \n",
    "\n",
    "Let's build the simulation:"
   ]
  },
  {
   "cell_type": "code",
   "execution_count": 29,
   "metadata": {},
   "outputs": [],
   "source": [
    "def two_flips(num_sims=100_000):\n",
    "    coins=['fair','2head']\n",
    "    \n",
    "    num_heads=0\n",
    "    for sim in range(num_sims):\n",
    "        # Note that the coin is chosen once -- the same coin is used for both flips!!!\n",
    "        coin=random.choice(coins)\n",
    "        if coin=='fair':\n",
    "            faces=['H','T'] \n",
    "        else:\n",
    "            faces=['H','H']\n",
    "        value1=random.choice(faces)\n",
    "        value2=random.choice(faces)\n",
    "        if value2=='H':\n",
    "            num_heads+=1\n",
    "            \n",
    "    print(\"Prob. of H2 is approximately\", num_heads/num_sims)"
   ]
  },
  {
   "cell_type": "code",
   "execution_count": 28,
   "metadata": {},
   "outputs": [
    {
     "name": "stdout",
     "output_type": "stream",
     "text": [
      "Prob. of H_2 is approximately 0.75101\n"
     ]
    }
   ],
   "source": [
    "two_flips()"
   ]
  },
  {
   "cell_type": "markdown",
   "metadata": {},
   "source": [
    "Did you guess this answer? It should not be a surprise -- we now flip twice as many coins and then throw half of them away! So, the simulation is just a less efficient version of `one_flip()`.  If we don't have any other information about the coin (say, from observing the results of some of the flips), then the probability of heads on any flip is the same as $P(H_1)$: there are three possible heads outcomes out of four total outcomes."
   ]
  },
  {
   "cell_type": "markdown",
   "metadata": {},
   "source": [
    "**Comments on Things Not Observed**\n",
    "\n",
    "Some students of probability have problems grasping the meaning of some of the probabilities asked about up to this point. For instance, students often ask questions like:\n",
    "* How can we evaluate the probability of getting heads if we don't know which coin was chosen?\n",
    "* How can we ask about the probability of getting heads on the $i$th flip, if we don't even know what the outcomes of flips $1$ through $i-1$ were?\n",
    "\n",
    "It is normal to ask these questions, and we will be exploring this idea more as we learn about conditional probability. The short answer is that we can ask any question we like, but we may not always know how to answer it. A longer answer is that if we want to ask about the probability of some event $A$ that depends on some possible events $B_i$, we can find the probabilities of $A$ for each of the possible $B_i$ that could have occurred and then combine them appropriately to find the probability of $A$. We will define all this precisely and introduce the appropriate mathematics later in this section."
   ]
  },
  {
   "cell_type": "markdown",
   "metadata": {},
   "source": [
    "## The Magician's Coin Part 2\n",
    "\n",
    "**JMS Working Here**"
   ]
  },
  {
   "cell_type": "markdown",
   "metadata": {},
   "source": [
    "2. The magician withdraws a coin and flips it. If it comes up Heads, what is the probability that a second flip of that same coin will also be Heads?"
   ]
  },
  {
   "cell_type": "code",
   "execution_count": null,
   "metadata": {},
   "outputs": [],
   "source": []
  },
  {
   "cell_type": "markdown",
   "metadata": {},
   "source": [
    "How can we simulate this?"
   ]
  },
  {
   "cell_type": "markdown",
   "metadata": {},
   "source": [
    "Do this before Thursday's class. Make a simulation two flips where you count:\n",
    "\n",
    "* the number of time heads occurred on the first flip of the coin\n",
    "* the number of times heads occured on a second flip of the coin when heads occurred on the first flip\n",
    "\n",
    "We are looking for the ratio of the second counter to the first counter. I.e., we are ignoring all those cases where heads did not occur on the first flip because we are only asking about events where heads did occur on the first flip."
   ]
  },
  {
   "cell_type": "code",
   "execution_count": 6,
   "metadata": {},
   "outputs": [],
   "source": [
    "def two_flips(num_sims=10000):\n",
    "    coins=['fair','2head']\n",
    "    heads_count1=0\n",
    "    heads_count2=0\n",
    "    for sim in range(num_sims):\n",
    "        coin=random.choice(coins)\n",
    "        if coin=='fair':\n",
    "            faces=['H','T']\n",
    "        else:\n",
    "            faces=['H','H']\n",
    "        value=random.choice(faces)\n",
    "        if value=='H':\n",
    "            heads_count1+=1\n",
    "            value=random.choice(faces)\n",
    "            if value=='H':\n",
    "                heads_count2+=1\n",
    "    print(\"Prob. of heads on second flip given heads on first flip is\",\n",
    "          heads_count2/heads_count1)"
   ]
  },
  {
   "cell_type": "code",
   "execution_count": 5,
   "metadata": {},
   "outputs": [
    {
     "name": "stdout",
     "output_type": "stream",
     "text": [
      "Prob. of heads on second flip given heads on first flip is 0.8333111259160559\n"
     ]
    }
   ],
   "source": [
    "two_flips()"
   ]
  },
  {
   "cell_type": "code",
   "execution_count": 1,
   "metadata": {},
   "outputs": [],
   "source": [
    "def one_flip2(num_sims=10000):\n",
    "    coins=['fair','2head']\n",
    "    heads_count=0\n",
    "    two_head_count=0\n",
    "    for sim in range(num_sims):\n",
    "        coin=random.choice(coins)\n",
    "        if coin=='fair':\n",
    "            faces=['H','T']\n",
    "        else:\n",
    "            faces=['H','H']\n",
    "        value=random.choice(faces)\n",
    "        if value=='H':\n",
    "            heads_count+=1\n",
    "            if coin=='2head':\n",
    "                two_head_count+=1\n",
    "    print(\"Prob. of heads is\",heads_count/num_sims)\n",
    "    print(\"Prob of 2head coin when got heads is\", two_head_count/heads_count)\n",
    "\n"
   ]
  },
  {
   "cell_type": "code",
   "execution_count": 5,
   "metadata": {},
   "outputs": [
    {
     "name": "stdout",
     "output_type": "stream",
     "text": [
      "Prob. of heads is 0.7502\n",
      "Prob of 2head coin when got heads is 0.6700746467608638\n"
     ]
    }
   ],
   "source": [
    "one_flip2(100000)"
   ]
  },
  {
   "cell_type": "code",
   "execution_count": null,
   "metadata": {},
   "outputs": [],
   "source": []
  }
 ],
 "metadata": {
  "kernelspec": {
   "display_name": "Python 3",
   "language": "python",
   "name": "python3"
  },
  "language_info": {
   "codemirror_mode": {
    "name": "ipython",
    "version": 3
   },
   "file_extension": ".py",
   "mimetype": "text/x-python",
   "name": "python",
   "nbconvert_exporter": "python",
   "pygments_lexer": "ipython3",
   "version": "3.7.4"
  }
 },
 "nbformat": 4,
 "nbformat_minor": 4
}
