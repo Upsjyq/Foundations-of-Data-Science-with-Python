{
 "cells": [
  {
   "cell_type": "code",
   "execution_count": 116,
   "id": "a8227344-20d4-46e8-be44-5e5beaf1838b",
   "metadata": {
    "tags": [
     "remove-input"
    ]
   },
   "outputs": [],
   "source": [
    "from jupyterquiz import display_quiz"
   ]
  },
  {
   "cell_type": "markdown",
   "id": "e69adf94-fc8c-41a6-8567-bdb6e028a4b7",
   "metadata": {},
   "source": [
    "# Combinatorics"
   ]
  },
  {
   "cell_type": "markdown",
   "id": "e70a804a-7b11-4ee9-a20c-0777061128ef",
   "metadata": {},
   "source": [
    "*\"Counting is the religion of this generation... Anybody can count...\" -- Gertrude Stein*"
   ]
  },
  {
   "cell_type": "markdown",
   "id": "648504eb-0ca1-4ba2-9707-2dc82f5dc20f",
   "metadata": {},
   "source": [
    "For fair experiments with a finite sample space $S$, we used Axiom III of the Axioms of Probability to show that the probability of an event $E$ is simply\n",
    "\n",
    "$$\n",
    "P(E) = \\frac{|E|}{|S|}\n",
    "$$\n",
    "\n",
    "Thus, the problem of calculating $P(E)$ is simplified to counting the cardinalities of $S$ and $E$. As most people have learned to count as young children, this sounds like a simple exercise. However, in practice, this is often quite challenging. In fact, this general problem space is rich enough that this branch of mathematics has its own name:"
   ]
  },
  {
   "cell_type": "markdown",
   "id": "ab58ecc3-ae4b-4ea6-b636-fdf1e62d3cdd",
   "metadata": {
    "tags": []
   },
   "source": [
    "````{panels}\n",
    "DEFINTION\n",
    "^^^\n",
    "combinatorics:\n",
    "*Combinatorics* is the mathematics of counting. \n",
    "````"
   ]
  },
  {
   "cell_type": "markdown",
   "id": "70d18908-03d4-458c-be04-88931df64267",
   "metadata": {},
   "source": [
    "For the data science topics covered in this book, we do not have to deal with many very challenging counting problems. However, if you look back over the past chapters, you may be discover that several problems have already been introduced that could be solve by counting:\n",
    "* In Chapter 2, we asked \"If you only observe 6 heads on the 20 flips, should you reject the idea that the coin is fair?\" We solved this problem via simulating flipping a fair coin 20 times and determining the probability of seeing 6 or fewer heads. However, if we record the ordered Heads and Tails outcomes, this is a fair experiment, and so we could solve for the same probability by counting the number of outcomes with 6 or fewer heads.\n",
    "* In Chapter 3, we conducted a bootstrap test where we randomly split the data for the 50 US states into two sets of 25. When determining how many random draws we might use, it is useful to know how many ways there are to partition the data in this way. This is a combinatorics problem.\n",
    "* In {doc}`fair-experiments.ipynb`, the relative frequencies were shown for the sum of two fair 6-sided dice, as used in Monopoly. If we record the ordered set of top faces of the dice, then the set experiment is a fair experiment, and we can calculate the exact probabilities for the sum of the faces using combinatorics.\n"
   ]
  },
  {
   "cell_type": "markdown",
   "id": "e663aeec-6084-449d-885c-1eef031f725b",
   "metadata": {},
   "source": [
    "Note that the first and third examples are both types of combined experiments, which consist of a sequence of subexperiments. Suppose there are $K$ subexperiments, and the sample space for the $i$th subexperiment is $S_i$. Then the sample space for the combined experiment is \n",
    "\n",
    "$$\n",
    "S = \\left\\{\\left. \\left(s_0, s_1, \\ldots, s_{K-1} \\right) \\right| s_0 \\in S_0, s_1 \\in S_1, \\ldots s_{K-1} \\in S_{K-1} \\right\\}.\n",
    "$$\n",
    "\n",
    "This notation for $S$ is tedious. We introduce the following operator to simplify the notation for the sample space:\n",
    "\n",
    "````{panels}\n",
    "DEFINTION\n",
    "^^^\n",
    "cartesian product:\n",
    "The *cartesian product* of two sets $A$ and $B$ is denoted $A \\times B$ and is defined by \n",
    "$$\n",
    "A \\times B = \\{ (a,b) | a \\in A \\mbox{ and } b \\in B\\}.\n",
    "$$\n",
    "That is, it is the set of all two-tuples with the first element from set $A$ and the second element from set $B$.\n",
    "````\n",
    "\n",
    "We can form the sample space for our repeated experiment through repeated application of the Cartesian product to the individual sample spaces:\n",
    "\n",
    "$$\n",
    "S= S_0 \\times S_1  \\times \\ldots \\times S_{K-1}\n",
    "$$"
   ]
  },
  {
   "cell_type": "markdown",
   "id": "4a1fddb9-edbc-47a8-b0ca-5e40ff202455",
   "metadata": {},
   "source": [
    "## Enumerating Sample Spaces and Events Using IterTools\n",
    "\n",
    "Let's start by enumerating $S$ and showing how it can be used to calculate probabilities. We will use the Python `itertools` library,  which is distributed as part of standard Python distributions to enumerate $S$. Begin by importing this library:"
   ]
  },
  {
   "cell_type": "code",
   "execution_count": 4,
   "id": "6409395b-a8be-49b4-bf23-c8edc3ee2760",
   "metadata": {},
   "outputs": [],
   "source": [
    "import itertools"
   ]
  },
  {
   "cell_type": "markdown",
   "id": "66ddce2c-0fbf-4243-b8fb-6df143c9db57",
   "metadata": {},
   "source": [
    "**Example 1: Monopoly Dice**\n",
    "\n",
    "Consider counting for the Monopoly dice problem. The simulated values for the relative frequencies are shown below:"
   ]
  },
  {
   "cell_type": "code",
   "execution_count": 35,
   "id": "3a4d960d-3537-4a89-9f06-b8d8d7f11531",
   "metadata": {
    "tags": [
     "remove-input"
    ]
   },
   "outputs": [
    {
     "data": {
      "image/png": "[encoded data removed]",
      "text/plain": [
       "<Figure size 432x288 with 1 Axes>"
      ]
     },
     "metadata": {
      "needs_background": "light"
     },
     "output_type": "display_data"
    }
   ],
   "source": [
    "import numpy as np\n",
    "import numpy.random as npr\n",
    "import matplotlib.pyplot as plt\n",
    "\n",
    "die1=npr.randint(1, 7, size=1_000_000)\n",
    "die2=npr.randint(1, 7, size=1_000_000)\n",
    "dice=die1+die2\n",
    "\n",
    "vals, counts=np.unique(dice, return_counts=True)\n",
    "rel_freqs=counts/len(dice)\n",
    "\n",
    "plt.stem(vals,rel_freqs, use_line_collection=True)\n",
    "plt.xlabel(\"Sum of top faces of two dice\")\n",
    "plt.ylabel(\"Relative frequencies\");"
   ]
  },
  {
   "cell_type": "markdown",
   "id": "d9367913-8ddb-42d6-9629-b7301d9eea61",
   "metadata": {},
   "source": [
    " The sample spaces for the two dice are the same. In Python, we can define them using simple ranges:"
   ]
  },
  {
   "cell_type": "code",
   "execution_count": 5,
   "id": "3ee35de5-80c0-4cde-b13b-416cc251b26a",
   "metadata": {},
   "outputs": [],
   "source": [
    "S0 = range(1,7)\n",
    "S1 = range(1,7)"
   ]
  },
  {
   "cell_type": "markdown",
   "id": "662f0b1d-f147-46f6-ac3c-7b29fdf1958e",
   "metadata": {},
   "source": [
    "The `itertools` library has a `product` function to carry out the Cartesian product over these two ranges:"
   ]
  },
  {
   "cell_type": "code",
   "execution_count": 13,
   "id": "9529d2c3-c25b-43b8-9e37-f8ced3f7adfb",
   "metadata": {},
   "outputs": [],
   "source": [
    "S= itertools.product( S0, S1 )"
   ]
  },
  {
   "cell_type": "code",
   "execution_count": 14,
   "id": "d4432ec1-dce8-4ce2-b4d5-b3b53e6f4905",
   "metadata": {},
   "outputs": [
    {
     "name": "stdout",
     "output_type": "stream",
     "text": [
      "(1, 1)  (1, 2)  (1, 3)  (1, 4)  (1, 5)  (1, 6)  (2, 1)  (2, 2)  (2, 3)  (2, 4)  (2, 5)  (2, 6)  (3, 1)  (3, 2)  (3, 3)  (3, 4)  (3, 5)  (3, 6)  (4, 1)  (4, 2)  (4, 3)  (4, 4)  (4, 5)  (4, 6)  (5, 1)  (5, 2)  (5, 3)  (5, 4)  (5, 5)  (5, 6)  (6, 1)  (6, 2)  (6, 3)  (6, 4)  (6, 5)  (6, 6)  "
     ]
    }
   ],
   "source": [
    "for s in S: \n",
    "    print(s, ' ', end='')"
   ]
  },
  {
   "cell_type": "markdown",
   "id": "0a7853a0-075c-4ed9-bf53-d21e85d33732",
   "metadata": {},
   "source": [
    "```{warning}\n",
    "Note that the `itertools` functions generally provide an *iterator* to go over the resulting set. Iterators will produce values until exhausted. Unlike looping over a range or list, you cannot execute the loop again using the iterator once it has reached the end. The number of items to be iterated over also cannot be directly determined -- you must iterate over all of the items to determine how many there are.\n",
    "```"
   ]
  },
  {
   "cell_type": "markdown",
   "id": "7133c57d-8c26-44f5-b0d8-7fd6548781a2",
   "metadata": {},
   "source": [
    "When the number of items being iterated over is small, the iterator can be used to directly create a list of these items:"
   ]
  },
  {
   "cell_type": "code",
   "execution_count": 23,
   "id": "24c2988c-23e9-4e05-86a9-e1abfb55a5f1",
   "metadata": {},
   "outputs": [
    {
     "name": "stdout",
     "output_type": "stream",
     "text": [
      "[(1, 1), (1, 2), (1, 3), (1, 4), (1, 5), (1, 6), (2, 1), (2, 2), (2, 3), (2, 4), (2, 5), (2, 6), (3, 1), (3, 2), (3, 3), (3, 4), (3, 5), (3, 6), (4, 1), (4, 2), (4, 3), (4, 4), (4, 5), (4, 6), (5, 1), (5, 2), (5, 3), (5, 4), (5, 5), (5, 6), (6, 1), (6, 2), (6, 3), (6, 4), (6, 5), (6, 6)]\n"
     ]
    }
   ],
   "source": [
    "Slist=list(itertools.product( S0, S1 ))\n",
    "print(Slist)"
   ]
  },
  {
   "cell_type": "markdown",
   "id": "fe3a6353-3c11-42a0-9b79-8565be05007d",
   "metadata": {},
   "source": [
    "As expected from our previous examples, there are 36 items in the sample space:"
   ]
  },
  {
   "cell_type": "code",
   "execution_count": 26,
   "id": "6252917d-2ad8-4e3e-9f50-0c5a2266d6ea",
   "metadata": {},
   "outputs": [
    {
     "data": {
      "text/plain": [
       "36"
      ]
     },
     "execution_count": 26,
     "metadata": {},
     "output_type": "execute_result"
    }
   ],
   "source": [
    "len(Slist)"
   ]
  },
  {
   "cell_type": "markdown",
   "id": "5d4050b4-fbff-45d6-8b9e-5156e8e5c8a9",
   "metadata": {},
   "source": [
    "We can find the probability for the sums of the dice faces by iterating over $S$ and counting the number of times  each sum occurs. It is easy to see that the sum of the faces will be between 2 and 12. We initalize a list with 13 zeros (from 0 to 12) to store the counts."
   ]
  },
  {
   "cell_type": "code",
   "execution_count": 49,
   "id": "c9694dde-d5f2-4342-ad09-e5072398c857",
   "metadata": {},
   "outputs": [
    {
     "name": "stdout",
     "output_type": "stream",
     "text": [
      "sum: # ways of occurring\n",
      "2 : 1\n",
      "3 : 2\n",
      "4 : 3\n",
      "5 : 4\n",
      "6 : 5\n",
      "7 : 6\n",
      "8 : 5\n",
      "9 : 4\n",
      "10 : 3\n",
      "11 : 2\n",
      "12 : 1\n"
     ]
    }
   ],
   "source": [
    "counts=[0]*13\n",
    "for s in Slist:\n",
    "    counts[sum(s)]+=1\n",
    "\n",
    "print(\"sum:\", \"# ways of occurring\")\n",
    "for c in range(2,13):\n",
    "    print(c,\":\", counts[c])\n",
    "    \n",
    "    "
   ]
  },
  {
   "cell_type": "markdown",
   "id": "d4bd3cb8-8e25-45d9-a3f1-a683c48b3d24",
   "metadata": {},
   "source": [
    "The right-hand column is the cardinality of the event described by the left-hand column. As the events partition the sample space (i.e., the are disjoint and cover everything in the sample space), the sum of the right-hand column is equal to the cardinality of $S$:"
   ]
  },
  {
   "cell_type": "code",
   "execution_count": 50,
   "id": "2ee654b7-90b2-4cd4-9b97-1e78226a8005",
   "metadata": {},
   "outputs": [
    {
     "data": {
      "text/plain": [
       "(36, 36)"
      ]
     },
     "execution_count": 50,
     "metadata": {},
     "output_type": "execute_result"
    }
   ],
   "source": [
    "sum (counts), len(Slist)"
   ]
  },
  {
   "cell_type": "markdown",
   "id": "88fe8c57-9044-41f3-a0ed-378622b6d567",
   "metadata": {},
   "source": [
    "If we let $E_i$ denote the event that the sum of the dice faces is $i$, then $P(E_i) = |E_i| / |S|$, where the values of $|E_i|$ are given in the table above. Thus, the probabilities are:"
   ]
  },
  {
   "cell_type": "code",
   "execution_count": 51,
   "id": "59340ceb-97a4-41b7-939c-818064fa93e2",
   "metadata": {},
   "outputs": [
    {
     "name": "stdout",
     "output_type": "stream",
     "text": [
      "sum: probability\n",
      "2 :  0.027777777777777776\n",
      "3 :  0.05555555555555555\n",
      "4 :  0.08333333333333333\n",
      "5 :  0.1111111111111111\n",
      "6 :  0.1388888888888889\n",
      "7 :  0.16666666666666666\n",
      "8 :  0.1388888888888889\n",
      "9 :  0.1111111111111111\n",
      "10 :  0.08333333333333333\n",
      "11 :  0.05555555555555555\n",
      "12 :  0.027777777777777776\n"
     ]
    }
   ],
   "source": [
    "probs=[0]*13\n",
    "\n",
    "print(\"sum: probability\")\n",
    "for c in range(2,13):\n",
    "    probs[c]=counts[c]/len(Slist)\n",
    "    print(c, \": \", probs[c])"
   ]
  },
  {
   "cell_type": "markdown",
   "id": "6635e85f-002a-4ead-9bf0-8ca11b05225b",
   "metadata": {},
   "source": [
    "Let's plot the analytical result along with simulated values:"
   ]
  },
  {
   "cell_type": "code",
   "execution_count": 61,
   "id": "a10f0fec-4f4c-4214-88d3-3239f0a3df08",
   "metadata": {},
   "outputs": [
    {
     "data": {
      "image/png": "[encoded data removed]",
      "text/plain": [
       "<Figure size 432x288 with 1 Axes>"
      ]
     },
     "metadata": {
      "needs_background": "light"
     },
     "output_type": "display_data"
    }
   ],
   "source": [
    "import numpy as np\n",
    "import numpy.random as npr\n",
    "import matplotlib.pyplot as plt\n",
    "\n",
    "die1=npr.randint(1, 7, size=1_000_000)\n",
    "die2=npr.randint(1, 7, size=1_000_000)\n",
    "dice=die1+die2\n",
    "\n",
    "vals, mycounts=np.unique(dice, return_counts=True)\n",
    "rel_freqs=mycounts/len(dice)\n",
    "\n",
    "plt.stem(vals,rel_freqs, use_line_collection=True)\n",
    "plt.stem(range(2,13),probs[2:13], markerfmt='rx', use_line_collection=True)\n",
    "\n",
    "\n",
    "plt.xlabel(\"Sum of top faces of two dice\")\n",
    "plt.ylabel(\"Relative frequencies\");"
   ]
  },
  {
   "cell_type": "markdown",
   "id": "48445a4e-74e6-42a2-8139-9f817dab47bb",
   "metadata": {},
   "source": [
    "The relative frequencies match the true (analytical) probabilities quite closely."
   ]
  },
  {
   "cell_type": "markdown",
   "id": "c8d9ee5d-6304-41bd-a50f-2d84dad7df6f",
   "metadata": {},
   "source": [
    "**Example 2: Flipping a Fair Coin 20 Times**"
   ]
  },
  {
   "cell_type": "markdown",
   "id": "0774536f-2b2a-484b-8b8c-a6f3a1f10de0",
   "metadata": {},
   "source": [
    "Now consider flipping a fair coin 20 times and determining the probability of an outcome less than or equal to 6. Each of the 20 subexperiments has the same sample space. Using $H$ to denote heads and $T$ to denote tails, we can refer to these sample spaces as:"
   ]
  },
  {
   "cell_type": "code",
   "execution_count": 62,
   "id": "4958650d-39a0-41a0-ab48-1420de3db1d6",
   "metadata": {},
   "outputs": [],
   "source": [
    "Si= ['H', 'T']"
   ]
  },
  {
   "cell_type": "markdown",
   "id": "e49d1142-8f1f-4119-bd59-3f4fbc6484b2",
   "metadata": {},
   "source": [
    "We can create an iterator for the combined sample space using `itertools.product` by passing `Si` and the keyword argument `repeat` with the number of repetitions as follows:"
   ]
  },
  {
   "cell_type": "code",
   "execution_count": 84,
   "id": "7db3e518-c417-4cb8-adb7-5220e4c2e4a2",
   "metadata": {},
   "outputs": [],
   "source": [
    "Sdice=itertools.product(Si,repeat=20)"
   ]
  },
  {
   "cell_type": "markdown",
   "id": "0ebcb1f2-0cb3-43a1-aade-9a67a08035c1",
   "metadata": {},
   "source": [
    "We can count the cardinality of the sample space and the event that the number of heads is 6 or less simultaneously while looping over the outcomes in the sample space:"
   ]
  },
  {
   "cell_type": "code",
   "execution_count": 88,
   "id": "9ac0a935-d01e-4c9f-9815-935a8b43d6e5",
   "metadata": {},
   "outputs": [
    {
     "name": "stdout",
     "output_type": "stream",
     "text": [
      "|E|= 60460    |S|= 1048576\n"
     ]
    }
   ],
   "source": [
    "Sdice=itertools.product(Si,repeat=20)\n",
    "\n",
    "Scount=0\n",
    "Ecount=0\n",
    "\n",
    "for s in Sdice:\n",
    "    Scount+=1\n",
    "    if s.count('H') <= 6:\n",
    "        Ecount+=1\n",
    "        \n",
    "print(\"|E|=\", Ecount, \"   |S|=\", Scount)"
   ]
  },
  {
   "cell_type": "markdown",
   "id": "65a03060-cdeb-4bb9-859d-3a3b9bd34a71",
   "metadata": {},
   "source": [
    "The the probability of seeing 6 or fewer heads is:\n"
   ]
  },
  {
   "cell_type": "code",
   "execution_count": 92,
   "id": "756ed8f5-9beb-4745-8e3a-acc219c3aa19",
   "metadata": {},
   "outputs": [
    {
     "name": "stdout",
     "output_type": "stream",
     "text": [
      "P(6 or fewer heads)= 0.057659149169921875\n"
     ]
    }
   ],
   "source": [
    "print(\"P(6 or fewer heads)=\", Ecount/Scount)"
   ]
  },
  {
   "cell_type": "markdown",
   "id": "3a719a59-04ce-425a-a68a-45dc31d1eab2",
   "metadata": {},
   "source": [
    "Compare this value with the estimated probability found via simulation in {doc}`../02-first-stats/first-stats.ipynb`. The two values are very close, so the simulation did a good job at estimating this probability (at least with 1,000,000 iterations). Note that you probably don't want to go through all 1,048,576 outcomes by hand. Moreover, if the number of coin flips increased significantly, it may be challenging to even iterate over them. This motivates us to develop mathematical methods for counting the cardinalities of sample spaces and events without enumerating them."
   ]
  },
  {
   "cell_type": "markdown",
   "id": "48948e58-3e63-4cbc-ab43-c5a259b876d8",
   "metadata": {},
   "source": [
    "## Determining Cardinalities of Sample Spaces and Events Mathematically"
   ]
  },
  {
   "cell_type": "markdown",
   "id": "18f40976-8642-4967-90cc-707a7d303cde",
   "metadata": {},
   "source": [
    "We start with a basic result on counting in the context of sample spaces for combined experiments. If $S$ is a set that can be written as a Cartesian product,\n",
    "\n",
    "$$\n",
    "S= S_0 \\times S_1  \\times \\ldots \\times S_{K-1},\n",
    "$$\n",
    "\n",
    "then cardinality of $S$ is the product of the cardinalities of the sets in the Cartesian product:\n",
    "$$\n",
    "|S|= |S_0| \\cdot |S_1|  \\cdot \\ldots \\cdot |S_{K-1}|.\n",
    "$$"
   ]
  },
  {
   "cell_type": "markdown",
   "id": "a4ea4953-5467-4129-b354-3f1f9770d96a",
   "metadata": {},
   "source": [
    "For instance, for the Monopoly dice problem, $|S_0|=|S_1|=6$, so $|S| = |S_0| \\cdot |S_1| = 6 \\cdot 6 = 36$.\n",
    "\n",
    "For flipping a fair coin 20 times, $|S_i| = 2$, and $|S| = |S_0| \\cdot |S_1| \\cdot \\ldots \\cdot |S_{19}| = 2^{20} = 1,048,576$"
   ]
  },
  {
   "cell_type": "markdown",
   "id": "a39f8334-69bf-47d8-bfb1-fa4bb5dadd84",
   "metadata": {},
   "source": [
    "**Example: Monopoly Dice**\n",
    "\n",
    "Let's consider how to find the probability for a particular value of the sum of the dice. Let $E_8$ be the event that the sum of the numbers on the top faces of the two dice is 10. To find $P(E_{10})$, we have to determine $|E_{10}|$. Note that if we know the value of the first die, then the value of the second die is determined. Moreover, not all values of the first die can result in a sum of 10. So we just need to determine what values of the first die **can** result in sums of 10. The smallest value of the first die that can result in a sum of 10 will occur when the second die has a value of 6. So, the first die must be at least 4. Clearly, if it is larger than 4, there will be a value of the second die that results in a sum of 10. From this, we conclude that $|E_{10}|=3$. To be explicite, \n",
    "\n",
    "$$\n",
    "E_3 = \\left\\{ (4,6),~(5,5),~(6,4) \\right\\}.\n",
    "$$\n",
    "\n",
    "Then $P(E_3) = 3/36 = 1/12$"
   ]
  },
  {
   "cell_type": "code",
   "execution_count": 94,
   "id": "5a7b8260-f17b-40b0-ac44-f6b88524a549",
   "metadata": {},
   "outputs": [
    {
     "data": {
      "text/plain": [
       "0.08333333333333333"
      ]
     },
     "execution_count": 94,
     "metadata": {},
     "output_type": "execute_result"
    }
   ],
   "source": [
    "1/12"
   ]
  },
  {
   "cell_type": "markdown",
   "id": "c83774e9-aa83-4336-9172-3552f4e4c572",
   "metadata": {},
   "source": [
    "(Reader, please compare this with the probability found through enumeration in the version of this example using `itertools`.) "
   ]
  },
  {
   "cell_type": "markdown",
   "id": "bf627f7f-f1f2-4529-9895-c3c2a596a69d",
   "metadata": {},
   "source": [
    "**Example: Flipping a Fair Coin 20 Times**\n",
    "\n",
    "This experimental set up seems even easier than the Monopoly dice problem because of the small size of the subexperiment sample spaces, but enumerating the event that the number of heads is 6 or fewer turns out to be much more challenging and will require us to introduce some new mathematical tools. Before we get to that, let's answer a few questions that will help us build to our ultimate result:\n",
    "\n",
    "Let $H_i$ be the event that there are **exactly** $i$ heads on the 20 flips.\n",
    "\n",
    "First, what is $|H_0|$? There is exactly one way to get zero heads. All of the 20 flips were tails.\n",
    "\n",
    "Next, what is $|H_1|$? There is exactly one head in the 20 flips. It can either be on the first flip, the second flip, ..., or finally the 20th flip. In other words, there are 20 different places for the heads to be, so $|H_1|=20$."
   ]
  },
  {
   "cell_type": "markdown",
   "id": "e7bb17b0-4b1d-4c3e-837f-3791cb2a0aeb",
   "metadata": {},
   "source": [
    "Now, what is $|H_2|$? This is where things start to get challenging and interesting.  We will solve this two ways. The first way will get us the answer. The second way will help lead us to a general solution for $H_i$.\n",
    "\n",
    "**Counting $H_2$: Way 1**\n",
    "\n",
    "We can count $|H_2|$ in much the same way that we counted $H_1$. For convenience, let's consider the flips in order. For each place the first heads occurs, we will have multiple places that the second heads could occur.  I.e., if the first heads is on flip 0, then the second heads can be on flips 1 through 19. But if the first head is on flip 18, the second head has to be on flip 19. The total number of outcomes in $H_2$ can thus be written as\n",
    "\n",
    "\\begin{align*}\n",
    "|H_2| &= \\sum_{i=0}^{18} \\sum_{j=i+1}^{19} 1 \\\\\n",
    "&= \\sum_{i=0}^{18} \\left[ 19 - \\left( i+1 \\right) +1 \\right] \\\\\n",
    "&= 19\\cdot 20   - \\sum_{i=1}^{19} i \\\\\n",
    "&= 380 - \\frac{19 \\cdot 20}{2} \\\\\n",
    "&= 190,\n",
    "\\end{align*}\n",
    "(The last summation is a standard form.)"
   ]
  },
  {
   "cell_type": "markdown",
   "id": "24b1805a-445f-45c6-9643-6db309a777e5",
   "metadata": {},
   "source": [
    "Note that we could have used Python to calculate this sum:"
   ]
  },
  {
   "cell_type": "code",
   "execution_count": 105,
   "id": "8d64ef3e-8593-4abd-af77-4a8cd36fa20f",
   "metadata": {},
   "outputs": [
    {
     "name": "stdout",
     "output_type": "stream",
     "text": [
      "190\n"
     ]
    }
   ],
   "source": [
    "total=0\n",
    "for i in range(0,19):\n",
    "    for j in range(i+1, 20):\n",
    "       total+=1\n",
    "print(total)"
   ]
  },
  {
   "cell_type": "markdown",
   "id": "bacae844-4503-473e-875c-606a7afdf010",
   "metadata": {},
   "source": [
    "**Exercise**\n",
    "\n",
    "Extend the approach described above to give a formula for the $|H_3|$. (For this purpose, I recommend you use three summation terms, although a more general and sophisticated solution for skilled programmers can be created using recursion.) Use Python to evaluate the sum. Check your answer using the self-assessment quiz below:"
   ]
  },
  {
   "cell_type": "code",
   "execution_count": 111,
   "id": "2759500e-100a-44b3-886d-6601e3acf458",
   "metadata": {
    "tags": [
     "remove-cell"
    ]
   },
   "outputs": [
    {
     "name": "stdout",
     "output_type": "stream",
     "text": [
      "1140\n"
     ]
    }
   ],
   "source": [
    "# Correct value\n",
    "total=0\n",
    "for i in range(0,18):\n",
    "    for j in range(i+1, 19):\n",
    "        for k in range(j+1, 20):\n",
    "           total+=1\n",
    "print(total)"
   ]
  },
  {
   "cell_type": "code",
   "execution_count": 115,
   "id": "bd32edea-0970-4b6e-9d14-b98ca62ed2a9",
   "metadata": {
    "tags": [
     "remove-cell"
    ]
   },
   "outputs": [
    {
     "name": "stdout",
     "output_type": "stream",
     "text": [
      "2470\n"
     ]
    }
   ],
   "source": [
    "#Erroneous bounds\n",
    "total=0\n",
    "for i in range(0,19):\n",
    "    for j in range(i+1, 20):\n",
    "        for k in range(i+1, 20):\n",
    "           total+=1\n",
    "print(total)"
   ]
  },
  {
   "cell_type": "markdown",
   "id": "47426fc0-ead1-4345-80b6-b1ad50d0c0a6",
   "metadata": {
    "tags": [
     "remove-cell"
    ]
   },
   "source": [
    "Verify that this is correct using the usual binomial formula:"
   ]
  },
  {
   "cell_type": "code",
   "execution_count": 110,
   "id": "ab8794a9-82e9-44bc-93f8-ef5a69237581",
   "metadata": {
    "tags": [
     "remove-cell"
    ]
   },
   "outputs": [
    {
     "data": {
      "text/plain": [
       "1140.0"
      ]
     },
     "execution_count": 110,
     "metadata": {},
     "output_type": "execute_result"
    }
   ],
   "source": [
    "from scipy.special import binom\n",
    "binom(20,3)"
   ]
  },
  {
   "cell_type": "code",
   "execution_count": 120,
   "id": "f12d8e8b-23cb-45e1-b09e-963ff11e83bd",
   "metadata": {
    "tags": [
     "remove-input"
    ]
   },
   "outputs": [
    {
     "data": {
      "text/html": [
       "<div id=\"hkYzlgpnoTHg\" data-shufflequestions=\"False\" data-shuffleanswers=\"True\" data-numquestions=\"1000000\"><style>\n",
       ":root {\n",
       "    --medium-slate-blue: #6f78ffff;\n",
       "    --orange-pantone: #f75c03ff;\n",
       "    --russian-violet: #392061ff;\n",
       "    --maximum-yellow-red: #ffc857ff;\n",
       "    --viridian-green: #119da4ff;\n",
       "    --incorrect-red: #c80202;\n",
       "    --correct-green: #009113;\n",
       "}\n",
       "\n",
       "\n",
       ".Quiz {\n",
       "     max-width: 600px;\n",
       "     margin-top: 15px;\n",
       "     margin-left: auto;\n",
       "     margin-right: auto;\n",
       "     margin-bottom: 15px;\n",
       "     padding-bottom: 4px;\n",
       "     padding-top: 4px;\n",
       "     line-height: 1.1;\n",
       "     font-size: 16pt;\n",
       "}\n",
       "\n",
       ".QuizCode {\n",
       "    font-size: 14pt;\n",
       "    margin-top: 10px;\n",
       "    margin-left: 20px;\n",
       "    margin-right: 20px;\n",
       "}\n",
       "\n",
       ".QuizCode > pre {\n",
       "    padding: 4px;\n",
       "}\n",
       ".Answer{\n",
       "     margin: 10px 0;\n",
       "     display: grid;\n",
       "     grid-template-columns: auto auto;\n",
       "     grid-gap: 10px;\n",
       "}\n",
       ".Feedback{\n",
       "     font-size: 16pt;\n",
       "     text-align:center;\n",
       " }\n",
       "\n",
       ".Input {\n",
       "    align:left;\n",
       "    font-size: 20pt;\n",
       "}\n",
       ".Input-text {\n",
       "    display: block;\n",
       "    margin: 10px;\n",
       "    color: inherit;\n",
       "    width: 140px;\n",
       "    background-color: #c0c0c0;\n",
       "    color: #fff;\n",
       "    padding: 5px;\n",
       "    padding-left: 10px;\n",
       "\n",
       "    font-family: inherit;\n",
       "    font-size: 20px;\n",
       "    font-weight: inherit;\n",
       "    line-height: 20pt;\n",
       "    border: none;\n",
       "    border-radius: 0.2rem;\n",
       "    transition: box-shadow 0.1s);\n",
       "}\n",
       "\n",
       " .Input-text:focus {\n",
       "     outline: none;\n",
       "     background-color: #c0c0c0;\n",
       "     box-shadow: 0.6rem 0.8rem 1.4rem -0.5rem #999999;\n",
       " }\n",
       "\n",
       " .MCButton{\n",
       "     background: #fafafa;\n",
       "     border: 1px solid #eee;\n",
       "     border-radius: 10px;\n",
       "     padding: 10px;\n",
       "     font-size: 16px;\n",
       "     cursor: pointer;\n",
       "     text-align: center;\n",
       " }\n",
       " .MultipleChoiceQn {\n",
       "     padding: 10px;\n",
       "     background: var(--medium-slate-blue);\n",
       "     color: #fafafa;\n",
       "     border-radius: 10px;\n",
       " }\n",
       " .ManyChoiceQn {\n",
       "     padding: 10px;\n",
       "     background: var(--orange-pantone);\n",
       "     color: #fafafa;\n",
       "     border-radius: 10px;\n",
       " }\n",
       " .NumericQn {\n",
       "     padding: 10px;\n",
       "     background: var(--russian-violet);\n",
       "     color: #fafafa;\n",
       "     border-radius: 10px;\n",
       " }\n",
       ".NumericQn p {\n",
       "     color: inherit;\n",
       "}\n",
       ".InpLabel {\n",
       "     line-height: 34px;\n",
       "     float:left;\n",
       "     margin-right: 10px;\n",
       "     color: #101010;\n",
       "     font-size: 15pt;\n",
       "}\n",
       ".incorrect {\n",
       "    color: var(--incorrect-red);\n",
       "}\n",
       ".correct {\n",
       "    color: var(--correct-green);\n",
       "}\n",
       ".correctButton {\n",
       "    background: var(--correct-green);\n",
       "    color: #fafafa;\n",
       "    box-shadow: inset 0px 0px 5px #555555;\n",
       "    outline: none;\n",
       "}\n",
       ".incorrectButton {\n",
       "    background: var(--incorrect-red);\n",
       "    color: #fafafa;\n",
       "    box-shadow: inset 0px 0px 5px #555555;\n",
       "    outline: none;\n",
       "}\n",
       "\n",
       "\n",
       "</style><script type=\"text/Javascript\">questionshkYzlgpnoTHg=[\n",
       "    {\n",
       "        \"question\": \"How many outcomes are in the event $H_3$ (there are 3 heads on 20 flips of a fair coin)?\",\n",
       "        \"type\": \"numeric\",\n",
       "        \"precision\": 0,\n",
       "        \"answers\": [\n",
       "            {\n",
       "                \"type\": \"value\",\n",
       "                \"value\": 1140,\n",
       "                \"correct\": true,\n",
       "                \"feedback\": \"Correct.\"\n",
       "            },\n",
       "            {\n",
       "                \"type\": \"value\",\n",
       "                \"value\": 6840,\n",
       "                \"correct\": false,\n",
       "                \"feedback\": \"You may be overcounting different orders. Did you compute this using a triple summation, as suggested?\"\n",
       "            },\n",
       "            {\n",
       "                \"type\": \"value\",\n",
       "                \"value\": 3420,\n",
       "                \"correct\": false,\n",
       "                \"feedback\": \"You may be overcounting different orders. Did you compute this using a triple summation, as suggested?\"\n",
       "            },\n",
       "            {\n",
       "                \"type\": \"value\",\n",
       "                \"value\": 1330,\n",
       "                \"correct\": false,\n",
       "                \"feedback\": \"Check your bounds carefully. What is the last position that the first symbol could be in?\"\n",
       "            },\n",
       "            {\n",
       "                \"type\": \"range\",\n",
       "                \"range\": [ -1000000, 0], \n",
       "                \"correct\": false,\n",
       "                \"feedback\": \"No. We are counting a number of objects, so it cannot be negative.\"\n",
       "            },\n",
       "            {\n",
       "                \"type\": \"range\",\n",
       "                \"range\": [ 1048577, 1000000000], \n",
       "                \"correct\": false,\n",
       "                \"feedback\": \"No. Recall that  the entire sample space only has 1048576 outcomes. $H_3$ cannot have more outcomes than $S$.\"\n",
       "            },\n",
       "            {\n",
       "                \"type\": \"default\",\n",
       "                \"correct\": false,\n",
       "                \"feedback\": \"You should have 3 for statements, with 3 different variables, and each of the nested for statements should have a range that depends on the index variable of the previous for statement.\"\n",
       "            }\n",
       "        ]\n",
       "    }\n",
       "]\n",
       ";\n",
       "    //var mydiv=document.getElementById(\"testDIV\");//console.log(mydiv);// Make a random ID\n",
       "function makeid(length) {\n",
       "    var result           = [];\n",
       "    var characters       = 'ABCDEFGHIJKLMNOPQRSTUVWXYZabcdefghijklmnopqrstuvwxyz';\n",
       "    var charactersLength = characters.length;\n",
       "    for ( var i = 0; i < length; i++ ) {\n",
       "        result.push(characters.charAt(Math.floor(Math.random() *  charactersLength)));\n",
       "    }\n",
       "    return result.join('');\n",
       "}\n",
       "\n",
       "// Choose a random subset of an array. Can also be used to shuffle the array\n",
       "function getRandomSubarray(arr, size) {\n",
       "    var shuffled = arr.slice(0), i = arr.length, temp, index;\n",
       "    while (i--) {\n",
       "        index = Math.floor((i + 1) * Math.random());\n",
       "        temp = shuffled[index];\n",
       "        shuffled[index] = shuffled[i];\n",
       "        shuffled[i] = temp;\n",
       "    }\n",
       "    return shuffled.slice(0, size);\n",
       "}\n",
       "function check_mc() {\n",
       "    var id=this.id.split('-')[0];\n",
       "\n",
       "    //console.log(\"In check_mc(), id=\"+id);\n",
       "    //console.log(event.srcElement.id)           \n",
       "    //console.log(event.srcElement.dataset.correct)   \n",
       "    //console.log(event.srcElement.dataset.feedback)\n",
       "\n",
       "    var label = event.srcElement;\n",
       "    //console.log(label, label.nodeName);\n",
       "    var depth=0;\n",
       "    while ((label.nodeName!=\"LABEL\") && (depth<3)) {\n",
       "        label=label.parentElement;\n",
       "        //console.log(depth,label);\n",
       "        depth++;\n",
       "    }\n",
       "\n",
       "\n",
       "\n",
       "    var answers=label.parentElement.children;\n",
       "\n",
       "    //console.log(answers);\n",
       "\n",
       "\n",
       "    // Split behavior based on multiple choice vs many choice:\n",
       "    var fb = document.getElementById(\"fb\"+id);\n",
       "    //console.log(id, \", got numcorrect=\",fb.dataset.numcorrect);\n",
       "    if (fb.dataset.numcorrect==1) {\n",
       "        for (var i = 0; i < answers.length; i++) {\n",
       "            var child=answers[i];\n",
       "            //console.log(child);\n",
       "            child.className=\"MCButton\";\n",
       "        }\n",
       "\n",
       "\n",
       "\n",
       "        if (label.dataset.correct==\"true\")   {\n",
       "            // console.log(\"Correct action\");\n",
       "            if (\"feedback\" in label.dataset) {\n",
       "                fb.textContent=label.dataset.feedback;\n",
       "            } else{\n",
       "                fb.textContent=\"Correct!\";\n",
       "            }\n",
       "            label.classList.add(\"correctButton\");\n",
       "\n",
       "            fb.className=\"Feedback\";\n",
       "            fb.classList.add(\"correct\");\n",
       "\n",
       "        } else {\n",
       "            if (\"feedback\" in label.dataset) {\n",
       "                fb.textContent=label.dataset.feedback;\n",
       "            } else{\n",
       "                fb.textContent=\"Incorrect -- try again.\";\n",
       "            }\n",
       "            //console.log(\"Error action\");\n",
       "            label.classList.add(\"incorrectButton\");\n",
       "            fb.className=\"Feedback\";\n",
       "            fb.classList.add(\"incorrect\");\n",
       "        }\n",
       "    }\n",
       "    else {\n",
       "        var reset = false;\n",
       "        var feedback;\n",
       "        if (label.dataset.correct==\"true\" )   {\n",
       "            if (\"feedback\" in label.dataset) {\n",
       "                feedback=label.dataset.feedback;\n",
       "            } else{\n",
       "                feedback=\"Correct!\";\n",
       "            }\n",
       "            if (label.dataset.answered<=0) {\n",
       "                if (fb.dataset.answeredcorrect<0) {\n",
       "                    fb.dataset.answeredcorrect=1;\n",
       "                    reset=true;\n",
       "                } else {\n",
       "                    fb.dataset.answeredcorrect++;\n",
       "                }\n",
       "                if (reset) {\n",
       "                    for (var i = 0; i < answers.length; i++) {\n",
       "                        var child=answers[i];\n",
       "                        child.className=\"MCButton\";\n",
       "                        child.dataset.answered=0;\n",
       "                    }\n",
       "                }\n",
       "                label.classList.add(\"correctButton\");\n",
       "                label.dataset.answered=1;\n",
       "                fb.className=\"Feedback\";\n",
       "                fb.classList.add(\"correct\");\n",
       "\n",
       "            }\n",
       "        } else {\n",
       "            if (\"feedback\" in label.dataset) {\n",
       "                feedback=label.dataset.feedback;\n",
       "            } else{\n",
       "                feedback=\"Incorrect -- try again.\";\n",
       "            }\n",
       "            if (fb.dataset.answeredcorrect>0) {\n",
       "                fb.dataset.answeredcorrect=-1;\n",
       "                reset=true;\n",
       "            } else {\n",
       "                fb.dataset.answeredcorrect--;\n",
       "            }\n",
       "\n",
       "            if (reset) {\n",
       "                for (var i = 0; i < answers.length; i++) {\n",
       "                    var child=answers[i];\n",
       "                    child.className=\"MCButton\";\n",
       "                    child.dataset.answered=0;\n",
       "                }\n",
       "            }\n",
       "            label.classList.add(\"incorrectButton\");\n",
       "            fb.className=\"Feedback\";\n",
       "            fb.classList.add(\"incorrect\");\n",
       "        }\n",
       "\n",
       "\n",
       "        var numcorrect=fb.dataset.numcorrect;\n",
       "        var answeredcorrect=fb.dataset.answeredcorrect;\n",
       "        if (answeredcorrect>=0) {\n",
       "            fb.textContent=feedback + \" [\"  + answeredcorrect + \"/\" + numcorrect + \"]\";\n",
       "        } else {\n",
       "            fb.textContent=feedback + \" [\"  + 0 + \"/\" + numcorrect + \"]\";\n",
       "        }\n",
       "\n",
       "\n",
       "    }\n",
       "\n",
       "    if (MathJax) {\n",
       "        var version=MathJax.version;\n",
       "        if (version[0]==\"2\") {\n",
       "            MathJax.Hub.Queue([\"Typeset\",MathJax.Hub]);\n",
       "        } else if (version[0] == \"3\") {\n",
       "            MathJax.typeset();\n",
       "        }\n",
       "    }\n",
       "\n",
       "}\n",
       "\n",
       "function make_mc(qa, shuffle_answers, outerqDiv, qDiv, aDiv, id) {\n",
       "    var shuffled;\n",
       "    if (shuffle_answers==\"True\") {\n",
       "        //console.log(shuffle_answers+\" read as true\");\n",
       "        shuffled=getRandomSubarray(qa.answers, qa.answers.length);\n",
       "    } else {\n",
       "        //console.log(shuffle_answers+\" read as false\");\n",
       "        shuffled=qa.answers;\n",
       "    }\n",
       "    \n",
       "\n",
       "    var num_correct=0;\n",
       "\n",
       "\n",
       "\n",
       "    shuffled.forEach((item, index, ans_array) => {\n",
       "        //console.log(answer);\n",
       "\n",
       "        // Make input element\n",
       "        var inp = document.createElement(\"input\");\n",
       "        inp.type=\"radio\";\n",
       "        inp.id=\"quizo\"+id+index;\n",
       "        inp.style=\"display:none;\";\n",
       "        aDiv.append(inp);\n",
       "\n",
       "        //Make label for input element\n",
       "        var lab = document.createElement(\"label\");\n",
       "        lab.className=\"MCButton\";\n",
       "        lab.id=id+ '-' +index;\n",
       "        lab.onclick=check_mc;\n",
       "        var aSpan = document.createElement('span');\n",
       "        aSpan.classsName=\"\";\n",
       "        //qDiv.id=\"quizQn\"+id+index;\n",
       "        if (\"answer\" in item) {\n",
       "            aSpan.innerHTML=item.answer;\n",
       "        }\n",
       "        lab.append(aSpan);\n",
       "\n",
       "        // Create div for code inside question\n",
       "        var codeSpan;\n",
       "        if (\"code\" in item){\n",
       "            codeSpan = document.createElement('span');\n",
       "            codeSpan.id=\"code\"+id+index;\n",
       "            codeSpan.className=\"QuizCode\";\n",
       "            var codePre = document.createElement('pre');\n",
       "            codeSpan.append(codePre);\n",
       "            var codeCode = document.createElement('code');\n",
       "            codePre.append(codeCode);\n",
       "            codeCode.innerHTML=item.code;\n",
       "            lab.append(codeSpan);\n",
       "            //console.log(codeSpan);\n",
       "        }\n",
       "\n",
       "        //lab.textContent=item.answer;\n",
       "\n",
       "        // Set the data attributes for the answer\n",
       "        lab.setAttribute('data-correct', item.correct);\n",
       "        if (item.correct) {\n",
       "            num_correct++;\n",
       "        }\n",
       "        if (\"feedback\" in item){\n",
       "            lab.setAttribute('data-feedback', item.feedback);\n",
       "        }\n",
       "        lab.setAttribute('data-answered', 0);\n",
       "\n",
       "        aDiv.append(lab);\n",
       "\n",
       "    });\n",
       "\n",
       "    if (num_correct>1) {\n",
       "        outerqDiv.className=\"ManyChoiceQn\";\n",
       "    } else {\n",
       "        outerqDiv.className=\"MultipleChoiceQn\";\n",
       "    }\n",
       "\n",
       "    return num_correct;\n",
       "\n",
       "}\n",
       "function check_numeric(ths, event) {\n",
       "\n",
       "    if (event.keyCode === 13) {\n",
       "        ths.blur();\n",
       "\n",
       "        var id=ths.id.split('-')[0];\n",
       "\n",
       "        var submission=ths.value;\n",
       "\t\t\t\tif (submission.indexOf('/') != -1) {\n",
       "            sub_parts=submission.split('/');\n",
       "            //console.log(sub_parts);\n",
       "            submission=sub_parts[0]/sub_parts[1];\n",
       "        }\n",
       "        console.log(\"Reader entered\", submission);\n",
       "\n",
       "        if (\"precision\" in ths.dataset) {\n",
       "            precision=ths.dataset.precision;\n",
       "            // console.log(\"1:\", submission)\n",
       "            submission=Math.round((1*submission + Number.EPSILON)*10**precision)/ 10**precision; \n",
       "            // console.log(\"Rounded to \", submission, \" precision=\", precision  );\n",
       "        }\n",
       "\n",
       "\n",
       "        //console.log(\"In check_numeric(), id=\"+id);\n",
       "        //console.log(event.srcElement.id)           \n",
       "        //console.log(event.srcElement.dataset.feedback)\n",
       "\n",
       "        var fb = document.getElementById(\"fb\"+id);\n",
       "        fb.style.display=\"none\";\n",
       "        fb.textContent=\"Incorrect -- try again.\";\n",
       "\n",
       "        answers=JSON.parse(ths.dataset.answers);\n",
       "        console.log(answers);\n",
       "\n",
       "        var defaultFB=\"\";\n",
       "        var correct;\n",
       "        var done=false;\n",
       "        answers.every(answer => {\n",
       "            console.log(answer.type);\n",
       "\n",
       "            correct=false;\n",
       "            // if (answer.type==\"value\"){\n",
       "            if ('value' in answer){\n",
       "                if (submission == answer.value) {\n",
       "                    fb.textContent=answer.feedback;\n",
       "                    correct=answer.correct;\n",
       "                    console.log(answer.correct);\n",
       "                    done=true;\n",
       "                }\n",
       "            // } else if (answer.type==\"range\") {\n",
       "            } else if ('range' in answer) {\n",
       "                console.log(answer.range);\n",
       "                if ((submission >= answer.range[0]) && (submission < answer.range[1])) {\n",
       "                    fb.textContent=answer.feedback;\n",
       "                    correct=answer.correct;\n",
       "                    console.log(answer.correct);\n",
       "                    done=true;\n",
       "                }\n",
       "            } else if (answer.type==\"default\") {\n",
       "                defaultFB=answer.feedback;\n",
       "            }\n",
       "            if (done) {\n",
       "                return false; // Break out of loop if this has been marked correct\n",
       "            } else {\n",
       "                return true; // Keep looking for case that includes this as a correct answer\n",
       "            }\n",
       "        });\n",
       "\n",
       "        if ((!done) && (defaultFB != \"\")) {\n",
       "            fb.textContent=defaultFB;\n",
       "            console.log(\"Default feedback\", defaultFB);\n",
       "        }\n",
       "\n",
       "        fb.style.display=\"block\";\n",
       "        if (correct) {\n",
       "            ths.className=\"Input-text\";\n",
       "            ths.classList.add(\"correctButton\");\n",
       "            fb.className=\"Feedback\";\n",
       "            fb.classList.add(\"correct\");\n",
       "        } else {\n",
       "            ths.className=\"Input-text\";\n",
       "            ths.classList.add(\"incorrectButton\");\n",
       "            fb.className=\"Feedback\";\n",
       "            fb.classList.add(\"incorrect\");\n",
       "        }\n",
       "\n",
       "        if (MathJax) {\n",
       "            var version=MathJax.version;\n",
       "            if (version[0]==\"2\") {\n",
       "                MathJax.Hub.Queue([\"Typeset\",MathJax.Hub]);\n",
       "            } else if (version[0] == \"3\") {\n",
       "                MathJax.typeset();\n",
       "            }\n",
       "        }\n",
       "        return false;\n",
       "    }\n",
       "\n",
       "}\n",
       "\n",
       "function isValid(el,  charC) {\n",
       "\t\tif (charC == 46) {\n",
       "\t\t\t\tif (el.value.indexOf('.') === -1) {\n",
       "\t\t\t\t\t  return true;\n",
       "\t\t\t\t} else if (el.value.indexOf('/') != -1) {\n",
       "            parts=el.value.split('/');\n",
       "\t\t\t\t    if (parts[1].indexOf('.') === -1) {\n",
       "\t\t\t\t\t      return true;\n",
       "            }\n",
       "        }\n",
       "        else{\n",
       "\t\t\t\t\t  return false;\n",
       "\t\t\t\t}\n",
       "\t\t} else if (charC == 47) {\n",
       "\t\t\t\tif (el.value.indexOf('/') === -1) {\n",
       "            if ((el.value != \"\") && (el.value != \".\")) {\n",
       "\t\t\t\t\t      return true;\n",
       "            } else {\n",
       "\t\t\t\t\t  return false;\n",
       "\t\t\t\t    }\n",
       "        } else {\n",
       "            return false;\n",
       "        }\n",
       "\t\t} else if (charC == 45) {\n",
       "        if (el.value == \"\" ) {\n",
       "            return true;\n",
       "        } else {\n",
       "            return false;\n",
       "        }\n",
       "    } else {\n",
       "\t\t\t\tif (charC > 31 && (charC < 48 || charC > 57))\n",
       "\t\t\t\t\t  return false;\n",
       "\t\t}\n",
       "\t\treturn true;\n",
       "}\n",
       "\n",
       "function numeric_keypress( evnt) {\n",
       "\t\tvar charC = (evnt.which) ? evnt.which : evnt.keyCode;\n",
       "\n",
       "    if (charC==13) {\n",
       "        check_numeric(this, evnt);\n",
       "    } else{\n",
       "\t\t    return isValid(this, charC);\n",
       "    }\n",
       "}\n",
       "\n",
       "\n",
       "\n",
       "\n",
       "\n",
       "function make_numeric(qa, outerqDiv, qDiv, aDiv, id) {\n",
       "\n",
       "\n",
       "\n",
       "        //console.log(answer);\n",
       "\n",
       "    \n",
       "    outerqDiv.className=\"NumericQn\";\n",
       "    aDiv.style.display='block';\n",
       "\n",
       "    var lab = document.createElement(\"label\");\n",
       "    lab.className=\"InpLabel\";\n",
       "    lab.textContent=\"Type numeric answer here:\";\n",
       "    aDiv.append(lab);\n",
       "\n",
       "    var inp = document.createElement(\"input\");\n",
       "    inp.type=\"text\";\n",
       "    //inp.id=\"input-\"+id;\n",
       "    inp.id=id+\"-0\";\n",
       "    inp.className=\"Input-text\";\n",
       "    inp.setAttribute('data-answers', JSON.stringify(qa.answers) );\n",
       "    if (\"precision\" in qa) {\n",
       "        inp.setAttribute('data-precision', qa.precision);\n",
       "    }\n",
       "    aDiv.append(inp);\n",
       "    console.log(inp);\n",
       "\n",
       "    //inp.addEventListener(\"keypress\", check_numeric);\n",
       "    //inp.addEventListener(\"keypress\", numeric_keypress);\n",
       "    /*\n",
       "    inp.addEventListener(\"keypress\", function(event) {\n",
       "        return numeric_keypress(this, event);\n",
       "    }\n",
       "                        );\n",
       "                        */\n",
       "    //inp.onkeypress=\"return numeric_keypress(this, event)\";\n",
       "    inp.onkeypress=numeric_keypress;\n",
       "    inp.onpaste= event => false;\n",
       "\n",
       "    inp.addEventListener(\"focus\", function(event) {\n",
       "        this.value=\"\";\n",
       "        return false;\n",
       "    }\n",
       "                        );\n",
       "\n",
       "\n",
       "}\n",
       "function show_questions (json, mydiv) {\n",
       "    //var mydiv=document.getElementById(myid);\n",
       "    var shuffle_questions=mydiv.dataset.shufflequestions;\n",
       "    var num_questions=mydiv.dataset.numquestions;\n",
       "    var shuffle_answers=mydiv.dataset.shuffleanswers;\n",
       "    \n",
       "    if (num_questions>json.length) {\n",
       "        num_questions=json.length;\n",
       "    }\n",
       "    \n",
       "    var questions;\n",
       "    if ( (num_questions<json.length) || (shuffle_questions==\"True\") ) {\n",
       "        //console.log(num_questions+\",\"+json.length);\n",
       "        questions=getRandomSubarray(json, num_questions);\n",
       "    } else {\n",
       "        questions=json;\n",
       "    }\n",
       "    \n",
       "    //console.log(\"SQ: \"+shuffle_questions+\", NQ: \" + num_questions + \", SA: \", shuffle_answers);\n",
       "    \n",
       "    // Iterate over questions\n",
       "    questions.forEach((qa, index, array) => {\n",
       "        //console.log(qa.question); \n",
       "\n",
       "        var id = makeid(8);\n",
       "        //console.log(id);\n",
       "\n",
       "\n",
       "        // Create Div to contain question and answers\n",
       "        var iDiv = document.createElement('div');\n",
       "        iDiv.id = 'quizWrap'+id+index;\n",
       "        iDiv.className='Quiz';\n",
       "        mydiv.appendChild(iDiv);\n",
       "        // iDiv.innerHTML=qa.question;\n",
       "\n",
       "        var outerqDiv = document.createElement('div');\n",
       "        outerqDiv.id=\"OuterquizQn\"+id+index;\n",
       "        //qDiv.textContent=qa.question;\n",
       "        iDiv.append(outerqDiv);\n",
       "\n",
       "        // Create div to contain question part\n",
       "        var qDiv = document.createElement('div');\n",
       "        qDiv.id=\"quizQn\"+id+index;\n",
       "        //qDiv.textContent=qa.question;\n",
       "        qDiv.innerHTML=qa.question;\n",
       "        outerqDiv.append(qDiv);\n",
       "\n",
       "        // Create div for code inside question\n",
       "        var codeDiv;\n",
       "        if (\"code\" in qa){\n",
       "            codeDiv = document.createElement('div');\n",
       "            codeDiv.id=\"code\"+id+index;\n",
       "            codeDiv.className=\"QuizCode\";\n",
       "            var codePre = document.createElement('pre');\n",
       "            codeDiv.append(codePre);\n",
       "            var codeCode = document.createElement('code');\n",
       "            codePre.append(codeCode);\n",
       "            codeCode.innerHTML=qa.code;\n",
       "            outerqDiv.append(codeDiv);\n",
       "            console.log(codeDiv);\n",
       "        }\n",
       "\n",
       "\n",
       "        // Create div to contain answer part\n",
       "        var aDiv = document.createElement('div');\n",
       "        aDiv.id=\"quizAns\"+id+index;\n",
       "        aDiv.className='Answer';\n",
       "        iDiv.append(aDiv);\n",
       "\n",
       "        console.log(qa.type);\n",
       "\n",
       "        var num_correct;\n",
       "        if (qa.type==\"multiple_choice\")  {\n",
       "            num_correct=make_mc(qa, shuffle_answers, outerqDiv, qDiv, aDiv, id);\n",
       "        } else if   (qa.type==\"many_choice\"){\n",
       "            num_correct=make_mc(qa, shuffle_answers, outerqDiv, qDiv, aDiv, id);\n",
       "        } else if  (qa.type==\"numeric\") {\n",
       "            console.log(\"numeric\");\n",
       "            make_numeric(qa, outerqDiv, qDiv, aDiv, id);\n",
       "        }\n",
       "\n",
       "\n",
       "        //Make div for feedback\n",
       "        var fb = document.createElement(\"div\");\n",
       "        fb.id=\"fb\"+id;\n",
       "        //fb.style=\"font-size: 20px;text-align:center;\";\n",
       "        fb.className=\"Feedback\";\n",
       "        fb.setAttribute(\"data-answeredcorrect\", 0);\n",
       "        fb.setAttribute(\"data-numcorrect\", num_correct);\n",
       "        iDiv.append(fb);\n",
       "\n",
       "\n",
       "    });\n",
       "    if (typeof MathJax != 'undefined') {\n",
       "        var version=MathJax.version;\n",
       "        if (version[0]==\"2\") {\n",
       "            MathJax.Hub.Queue([\"Typeset\",MathJax.Hub]);\n",
       "        } else if (version[0] == \"3\") {\n",
       "            MathJax.typeset();\n",
       "        }\n",
       "    }\n",
       "    return false;\n",
       "}\n",
       "\n",
       "        //console.log(element);\n",
       "        {\n",
       "        const jmscontroller = new AbortController();\n",
       "        const signal = jmscontroller.signal;\n",
       "\n",
       "        setTimeout(() => jmscontroller.abort(), 5000);\n",
       "\n",
       "        fetch(\"https://raw.githubusercontent.com/jmshea/intro-data-science-for-engineers/main/questions/three_heads.json\", {signal})\n",
       "        .then(response => response.json())\n",
       "        .then(json => show_questions(json, hkYzlgpnoTHg))\n",
       "        .catch(err => {\n",
       "        console.log(\"Fetch error or timeout\");\n",
       "        show_questions(questionshkYzlgpnoTHg, hkYzlgpnoTHg);\n",
       "        });\n",
       "        }\n",
       "        </script>\n",
       "        "
      ],
      "text/plain": [
       "<IPython.core.display.HTML object>"
      ]
     },
     "metadata": {},
     "output_type": "display_data"
    }
   ],
   "source": [
    "display_quiz(\"https://raw.githubusercontent.com/jmshea/intro-data-science-for-engineers/main/questions/three_heads.json\")"
   ]
  },
  {
   "cell_type": "markdown",
   "id": "2ea425f1-44ee-4d9b-894a-3ea56072ac4c",
   "metadata": {},
   "source": [
    "This approach will get increasingly tedious and challenging to write and compute as we consider $H_i$ for larger $i$."
   ]
  },
  {
   "cell_type": "markdown",
   "id": "0a89df53-1d8a-488b-909a-cb8ee5afdb40",
   "metadata": {},
   "source": [
    "**Counting $H_2$: Way 2**\n",
    "\n",
    "\n",
    "\n",
    "Consider a second approach in which we try to count how many ways we could create the result (i.e., an $n$ tuple) of the flips:\n",
    "* The first heads can go in any of the 20 places.\n",
    "* The second heads can go in any of the remaining 19 places. \n",
    "\n",
    "Then the total number of results is $20 \\cdot 19 = 380$. \n",
    "\n",
    "**But this result does not match up with  the one we just computed in detail! Why?** \n",
    "\n",
    "The reason is that we have **overcounted**. For instance, let's mark the first value we choose by underlining it.  Then here are two outcomes we will find this way (values not shown are all $T$): \n",
    "\n",
    "$$\n",
    "(\\underline{H}, T, T, H, T, \\ldots) \\\\\n",
    "(H, T, T, \\underline{H}, T, \\ldots)\n",
    "$$\n",
    "\n",
    "Our counting mechanism has created two different representations (*orderings*) of the same outcome (i.e., where there is a heads on rolls 0 and 3). The number we will count in this way is twice the total number because for any particular outcome, there are two different orders by which we could have created it (i.e., by putting  the first $H$ in the leftmost position or by putting the first $H$ in the rightmost position). So, we have to divide by two to get: $|H_2| = 20 \\cdot 19 /2 =190$, which agrees with our previous result.  \n",
    "\n",
    "But now let's consider how we can rewrite this value to make it extensible to find $H_i$ for $i>2$.\n",
    "\n",
    "We first introduce the number of ways that a set of objects can be ordered:\n",
    "````{panels}\n",
    "DEFINTION\n",
    "^^^\n",
    "permutation:\n",
    "A *permutation* is an ordering (or reordering) of a set of objects.\n",
    "````\n",
    "\n",
    "Given $n$ distinct objects, it is not hard to calculate the number of permutations possible. Consider drawing the objects one at a time, until all objects have been drawn, to create the ordered set of objects:\n",
    "* There are $n$ ways to choose the first object.\n",
    "* Then there are $n-1$ ways to choose the second object from the remaining set.\n",
    "* Then there $n-2$ ways to choose the third object from the remaining set.\n",
    "* ...\n",
    "* On the final ($n$th) draw, there is only one object remaining in the set.\n",
    "\n",
    "**The number of permutations of $n$ distinct objects is written as $n!$, which is read \"$n$ factorial\" (en fact-or-ee-ul). The rules for Cartesian products can be applied to calculate **\n",
    "\n",
    "$$\n",
    "n! = n(n-1)(n-2)\\cdots(2)(1).\n",
    "$$\n",
    "\n",
    "\n",
    "In Python, I recommend you use the factorial function from SciPy.special. If the argument is not more than 20, I would recommend to pass the keyword parameter `exact=True` to get back an integer solution. \n",
    "\n"
   ]
  },
  {
   "cell_type": "code",
   "execution_count": 101,
   "id": "32d2fd67-0702-4123-8d7e-1c4435bae3ec",
   "metadata": {},
   "outputs": [],
   "source": [
    "from scipy.special import factorial"
   ]
  },
  {
   "cell_type": "markdown",
   "id": "3db68cc3-0c6b-43e8-acdf-c2f221d6d23e",
   "metadata": {},
   "source": [
    "Then the number of ways that 20 unique objects can be arranged is "
   ]
  },
  {
   "cell_type": "code",
   "execution_count": 102,
   "id": "c5868eb9-631a-4658-9016-0ee074f179f0",
   "metadata": {},
   "outputs": [
    {
     "data": {
      "text/plain": [
       "2432902008176640000"
      ]
     },
     "execution_count": 102,
     "metadata": {},
     "output_type": "execute_result"
    }
   ],
   "source": [
    "factorial(20, exact=True)"
   ]
  },
  {
   "cell_type": "markdown",
   "id": "ac0d67e1-e458-4e5a-9748-471de5049c3d",
   "metadata": {},
   "source": [
    "## THIS IS STILL IN PROGRESS"
   ]
  },
  {
   "cell_type": "code",
   "execution_count": null,
   "id": "73d0a7c6-193d-422d-b38f-4959d0d6a2f2",
   "metadata": {},
   "outputs": [],
   "source": []
  }
 ],
 "metadata": {
  "kernelspec": {
   "display_name": "Python 3",
   "language": "python",
   "name": "python3"
  },
  "language_info": {
   "codemirror_mode": {
    "name": "ipython",
    "version": 3
   },
   "file_extension": ".py",
   "mimetype": "text/x-python",
   "name": "python",
   "nbconvert_exporter": "python",
   "pygments_lexer": "ipython3",
   "version": "3.7.4"
  }
 },
 "nbformat": 4,
 "nbformat_minor": 5
}
