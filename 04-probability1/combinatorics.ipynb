{
 "cells": [
  {
   "cell_type": "markdown",
   "id": "e69adf94-fc8c-41a6-8567-bdb6e028a4b7",
   "metadata": {},
   "source": [
    "# Combinatorics"
   ]
  },
  {
   "cell_type": "markdown",
   "id": "e70a804a-7b11-4ee9-a20c-0777061128ef",
   "metadata": {},
   "source": [
    "*\"Counting is the religion of this generation... Anybody can count...\" -- Gertrude Stein*"
   ]
  },
  {
   "cell_type": "markdown",
   "id": "648504eb-0ca1-4ba2-9707-2dc82f5dc20f",
   "metadata": {},
   "source": [
    "For fair experiments with a finite sample space $S$, we used Axiom III of the Axioms of Probability to show that the probability of an event $E$ is simply\n",
    "\n",
    "$$\n",
    "P(E) = \\frac{|E|}{|S|}\n",
    "$$\n",
    "\n",
    "Thus, the problem of calculating $P(E)$ is simplified to counting the cardinalities of $S$ and $E$. As most people have learned to count as young children, this sounds like a simple exercise. However, in practice, this is often quite challenging. In fact, this general problem space is rich enough that this branch of mathematics has its own name:"
   ]
  },
  {
   "cell_type": "markdown",
   "id": "ab58ecc3-ae4b-4ea6-b636-fdf1e62d3cdd",
   "metadata": {
    "tags": []
   },
   "source": [
    "````{panels}\n",
    "DEFINTION\n",
    "^^^\n",
    "combinatorics:\n",
    "*Combinatorics* is the mathematics of counting. \n",
    "````"
   ]
  },
  {
   "cell_type": "markdown",
   "id": "70d18908-03d4-458c-be04-88931df64267",
   "metadata": {},
   "source": [
    "For the data science topics covered in this book, we do not have to deal with many very challenging counting problems. However, if you look back over the past chapters, you may be discover that several problems have already been introduced that could be solve by counting:\n",
    "* In Chapter 2, we asked \"If you only observe 6 heads on the 20 flips, should you reject the idea that the coin is fair?\" We solved this problem via simulating flipping a fair coin 20 times and determining the probability of seeing 6 or fewer heads. However, if we record the ordered Heads and Tails outcomes, this is a fair experiment, and so we could solve for the same probability by counting the number of outcomes with 6 or fewer heads.\n",
    "* In Chapter 3, we conducted a bootstrap test where we randomly split the data for the 50 US states into two sets of 25. When determining how many random draws we might use, it is useful to know how many ways there are to partition the data in this way. This is a combinatorics problem.\n",
    "* In {doc}`fair-experiments.ipynb`, the relative frequencies were shown for the sum of two fair 6-sided dice, as used in Monopoly. If we record the ordered set of top faces of the dice, then the set experiment is a fair experiment, and we can calculate the exact probabilities for the sum of the faces using combinatorics.\n"
   ]
  },
  {
   "cell_type": "markdown",
   "id": "e663aeec-6084-449d-885c-1eef031f725b",
   "metadata": {},
   "source": [
    "Note that the first and third examples are both types of combined experiments, which consist of a sequence of subexperiments. Suppose there are $K$ subexperiments, and the sample space for the $i$th subexperiment is $S_i$. Then the sample space for the combined experiment is \n",
    "\n",
    "$$\n",
    "S = \\left\\{\\left. \\left(s_0, s_1, \\ldots, s_{K-1} \\right) \\right| s_0 \\in S_0, s_1 \\in S_1, \\ldots s_{K-1} \\in S_{K-1} \\right\\}.\n",
    "$$\n",
    "\n",
    "This notation for $S$ is tedious. We introduce the following operator to simplify the notation for the sample space:\n",
    "\n",
    "````{panels}\n",
    "DEFINTION\n",
    "^^^\n",
    "cartesian product:\n",
    "The *cartesian product* of two sets $A$ and $B$ is denoted $A \\times B$ and is defined by \n",
    "$$\n",
    "A \\times B = \\{ (a,b) | a \\in A \\mbox{ and } b \\in B\\}.\n",
    "$$\n",
    "That is, it is the set of all two-tuples with the first element from set $A$ and the second element from set $B$.\n",
    "````\n",
    "\n",
    "We can form the sample space for our repeated experiment through repeated application of the Cartesian product to the individual sample spaces:\n",
    "\n",
    "$$\n",
    "S= S_0 \\times S_1  \\times \\ldots \\times S_{K-1}\n",
    "$$"
   ]
  },
  {
   "cell_type": "markdown",
   "id": "4a1fddb9-edbc-47a8-b0ca-5e40ff202455",
   "metadata": {},
   "source": [
    "## Enumerating Sample Spaces and Events Using IterTools\n",
    "\n",
    "Let's start by enumerating $S$ and showing how it can be used to calculate probabilities. We will use the Python `itertools` library,  which is distributed as part of standard Python distributions to enumerate $S$. Begin by importing this library:"
   ]
  },
  {
   "cell_type": "code",
   "execution_count": 4,
   "id": "6409395b-a8be-49b4-bf23-c8edc3ee2760",
   "metadata": {},
   "outputs": [],
   "source": [
    "import itertools"
   ]
  },
  {
   "cell_type": "markdown",
   "id": "66ddce2c-0fbf-4243-b8fb-6df143c9db57",
   "metadata": {},
   "source": [
    "**Example 1: Monopoly Dice**\n",
    "\n",
    "Consider counting for the Monopoly dice problem. The simulated values for the relative frequencies are shown below:"
   ]
  },
  {
   "cell_type": "code",
   "execution_count": 35,
   "id": "3a4d960d-3537-4a89-9f06-b8d8d7f11531",
   "metadata": {
    "tags": [
     "remove-input"
    ]
   },
   "outputs": [
    {
     "data": {
      "image/png": "[encoded data removed]",
      "text/plain": [
       "<Figure size 432x288 with 1 Axes>"
      ]
     },
     "metadata": {
      "needs_background": "light"
     },
     "output_type": "display_data"
    }
   ],
   "source": [
    "import numpy as np\n",
    "import numpy.random as npr\n",
    "import matplotlib.pyplot as plt\n",
    "\n",
    "die1=npr.randint(1, 7, size=1_000_000)\n",
    "die2=npr.randint(1, 7, size=1_000_000)\n",
    "dice=die1+die2\n",
    "\n",
    "vals, counts=np.unique(dice, return_counts=True)\n",
    "rel_freqs=counts/len(dice)\n",
    "\n",
    "plt.stem(vals,rel_freqs, use_line_collection=True)\n",
    "plt.xlabel(\"Sum of top faces of two dice\")\n",
    "plt.ylabel(\"Relative frequencies\");"
   ]
  },
  {
   "cell_type": "markdown",
   "id": "d9367913-8ddb-42d6-9629-b7301d9eea61",
   "metadata": {},
   "source": [
    " The sample spaces for the two dice are the same. In Python, we can define them using simple ranges:"
   ]
  },
  {
   "cell_type": "code",
   "execution_count": 5,
   "id": "3ee35de5-80c0-4cde-b13b-416cc251b26a",
   "metadata": {},
   "outputs": [],
   "source": [
    "S0 = range(1,7)\n",
    "S1 = range(1,7)"
   ]
  },
  {
   "cell_type": "markdown",
   "id": "662f0b1d-f147-46f6-ac3c-7b29fdf1958e",
   "metadata": {},
   "source": [
    "The `itertools` library has a `product` function to carry out the Cartesian product over these two ranges:"
   ]
  },
  {
   "cell_type": "code",
   "execution_count": 13,
   "id": "9529d2c3-c25b-43b8-9e37-f8ced3f7adfb",
   "metadata": {},
   "outputs": [],
   "source": [
    "S= itertools.product( S0, S1 )"
   ]
  },
  {
   "cell_type": "code",
   "execution_count": 14,
   "id": "d4432ec1-dce8-4ce2-b4d5-b3b53e6f4905",
   "metadata": {},
   "outputs": [
    {
     "name": "stdout",
     "output_type": "stream",
     "text": [
      "(1, 1)  (1, 2)  (1, 3)  (1, 4)  (1, 5)  (1, 6)  (2, 1)  (2, 2)  (2, 3)  (2, 4)  (2, 5)  (2, 6)  (3, 1)  (3, 2)  (3, 3)  (3, 4)  (3, 5)  (3, 6)  (4, 1)  (4, 2)  (4, 3)  (4, 4)  (4, 5)  (4, 6)  (5, 1)  (5, 2)  (5, 3)  (5, 4)  (5, 5)  (5, 6)  (6, 1)  (6, 2)  (6, 3)  (6, 4)  (6, 5)  (6, 6)  "
     ]
    }
   ],
   "source": [
    "for s in S: \n",
    "    print(s, ' ', end='')"
   ]
  },
  {
   "cell_type": "markdown",
   "id": "0a7853a0-075c-4ed9-bf53-d21e85d33732",
   "metadata": {},
   "source": [
    "```{warning}\n",
    "Note that the `itertools` functions generally provide an *iterator* to go over the resulting set. Iterators will produce values until exhausted. Unlike looping over a range or list, you cannot execute the loop again using the iterator once it has reached the end. The number of items to be iterated over also cannot be directly determined -- you must iterate over all of the items to determine how many there are.\n",
    "```"
   ]
  },
  {
   "cell_type": "markdown",
   "id": "7133c57d-8c26-44f5-b0d8-7fd6548781a2",
   "metadata": {},
   "source": [
    "When the number of items being iterated over is small, the iterator can be used to directly create a list of these items:"
   ]
  },
  {
   "cell_type": "code",
   "execution_count": 23,
   "id": "24c2988c-23e9-4e05-86a9-e1abfb55a5f1",
   "metadata": {},
   "outputs": [
    {
     "name": "stdout",
     "output_type": "stream",
     "text": [
      "[(1, 1), (1, 2), (1, 3), (1, 4), (1, 5), (1, 6), (2, 1), (2, 2), (2, 3), (2, 4), (2, 5), (2, 6), (3, 1), (3, 2), (3, 3), (3, 4), (3, 5), (3, 6), (4, 1), (4, 2), (4, 3), (4, 4), (4, 5), (4, 6), (5, 1), (5, 2), (5, 3), (5, 4), (5, 5), (5, 6), (6, 1), (6, 2), (6, 3), (6, 4), (6, 5), (6, 6)]\n"
     ]
    }
   ],
   "source": [
    "Slist=list(itertools.product( S0, S1 ))\n",
    "print(Slist)"
   ]
  },
  {
   "cell_type": "markdown",
   "id": "fe3a6353-3c11-42a0-9b79-8565be05007d",
   "metadata": {},
   "source": [
    "As expected from our previous examples, there are 36 items in the sample space:"
   ]
  },
  {
   "cell_type": "code",
   "execution_count": 26,
   "id": "6252917d-2ad8-4e3e-9f50-0c5a2266d6ea",
   "metadata": {},
   "outputs": [
    {
     "data": {
      "text/plain": [
       "36"
      ]
     },
     "execution_count": 26,
     "metadata": {},
     "output_type": "execute_result"
    }
   ],
   "source": [
    "len(Slist)"
   ]
  },
  {
   "cell_type": "markdown",
   "id": "5d4050b4-fbff-45d6-8b9e-5156e8e5c8a9",
   "metadata": {},
   "source": [
    "We can find the probability for the sums of the dice faces by iterating over $S$ and counting the number of times  each sum occurs. It is easy to see that the sum of the faces will be between 2 and 12. We initalize a list with 13 zeros (from 0 to 12) to store the counts."
   ]
  },
  {
   "cell_type": "code",
   "execution_count": 49,
   "id": "c9694dde-d5f2-4342-ad09-e5072398c857",
   "metadata": {},
   "outputs": [
    {
     "name": "stdout",
     "output_type": "stream",
     "text": [
      "sum: # ways of occurring\n",
      "2 : 1\n",
      "3 : 2\n",
      "4 : 3\n",
      "5 : 4\n",
      "6 : 5\n",
      "7 : 6\n",
      "8 : 5\n",
      "9 : 4\n",
      "10 : 3\n",
      "11 : 2\n",
      "12 : 1\n"
     ]
    }
   ],
   "source": [
    "counts=[0]*13\n",
    "for s in Slist:\n",
    "    counts[sum(s)]+=1\n",
    "\n",
    "print(\"sum:\", \"# ways of occurring\")\n",
    "for c in range(2,13):\n",
    "    print(c,\":\", counts[c])\n",
    "    \n",
    "    "
   ]
  },
  {
   "cell_type": "markdown",
   "id": "d4bd3cb8-8e25-45d9-a3f1-a683c48b3d24",
   "metadata": {},
   "source": [
    "The right-hand column is the cardinality of the event described by the left-hand column. As the events partition the sample space (i.e., the are disjoint and cover everything in the sample space), the sum of the right-hand column is equal to the cardinality of $S$:"
   ]
  },
  {
   "cell_type": "code",
   "execution_count": 50,
   "id": "2ee654b7-90b2-4cd4-9b97-1e78226a8005",
   "metadata": {},
   "outputs": [
    {
     "data": {
      "text/plain": [
       "(36, 36)"
      ]
     },
     "execution_count": 50,
     "metadata": {},
     "output_type": "execute_result"
    }
   ],
   "source": [
    "sum (counts), len(Slist)"
   ]
  },
  {
   "cell_type": "markdown",
   "id": "88fe8c57-9044-41f3-a0ed-378622b6d567",
   "metadata": {},
   "source": [
    "If we let $E_i$ denote the event that the sum of the dice faces is $i$, then $P(E_i) = |E_i| / |S|$, where the values of $|E_i|$ are given in the table above. Thus, the probabilities are:"
   ]
  },
  {
   "cell_type": "code",
   "execution_count": 51,
   "id": "59340ceb-97a4-41b7-939c-818064fa93e2",
   "metadata": {},
   "outputs": [
    {
     "name": "stdout",
     "output_type": "stream",
     "text": [
      "sum: probability\n",
      "2 :  0.027777777777777776\n",
      "3 :  0.05555555555555555\n",
      "4 :  0.08333333333333333\n",
      "5 :  0.1111111111111111\n",
      "6 :  0.1388888888888889\n",
      "7 :  0.16666666666666666\n",
      "8 :  0.1388888888888889\n",
      "9 :  0.1111111111111111\n",
      "10 :  0.08333333333333333\n",
      "11 :  0.05555555555555555\n",
      "12 :  0.027777777777777776\n"
     ]
    }
   ],
   "source": [
    "probs=[0]*13\n",
    "\n",
    "print(\"sum: probability\")\n",
    "for c in range(2,13):\n",
    "    probs[c]=counts[c]/len(Slist)\n",
    "    print(c, \": \", probs[c])"
   ]
  },
  {
   "cell_type": "markdown",
   "id": "6635e85f-002a-4ead-9bf0-8ca11b05225b",
   "metadata": {},
   "source": [
    "Let's plot the analytical result along with simulated values:"
   ]
  },
  {
   "cell_type": "code",
   "execution_count": 61,
   "id": "a10f0fec-4f4c-4214-88d3-3239f0a3df08",
   "metadata": {},
   "outputs": [
    {
     "data": {
      "image/png": "[encoded data removed]",
      "text/plain": [
       "<Figure size 432x288 with 1 Axes>"
      ]
     },
     "metadata": {
      "needs_background": "light"
     },
     "output_type": "display_data"
    }
   ],
   "source": [
    "import numpy as np\n",
    "import numpy.random as npr\n",
    "import matplotlib.pyplot as plt\n",
    "\n",
    "die1=npr.randint(1, 7, size=1_000_000)\n",
    "die2=npr.randint(1, 7, size=1_000_000)\n",
    "dice=die1+die2\n",
    "\n",
    "vals, mycounts=np.unique(dice, return_counts=True)\n",
    "rel_freqs=mycounts/len(dice)\n",
    "\n",
    "plt.stem(vals,rel_freqs, use_line_collection=True)\n",
    "plt.stem(range(2,13),probs[2:13], markerfmt='rx', use_line_collection=True)\n",
    "\n",
    "\n",
    "plt.xlabel(\"Sum of top faces of two dice\")\n",
    "plt.ylabel(\"Relative frequencies\");"
   ]
  },
  {
   "cell_type": "markdown",
   "id": "48445a4e-74e6-42a2-8139-9f817dab47bb",
   "metadata": {},
   "source": [
    "The relative frequencies match the true (analytical) probabilities quite closely."
   ]
  },
  {
   "cell_type": "markdown",
   "id": "c8d9ee5d-6304-41bd-a50f-2d84dad7df6f",
   "metadata": {},
   "source": [
    "**Example 2: Flipping a Fair Coin 20 Times**"
   ]
  },
  {
   "cell_type": "markdown",
   "id": "0774536f-2b2a-484b-8b8c-a6f3a1f10de0",
   "metadata": {},
   "source": [
    "Now consider flipping a fair coin 20 times and determining the probability of an outcome less than or equal to 6. Each of the 20 subexperiments has the same sample space. Using $H$ to denote heads and $T$ to denote tails, we can refer to these sample spaces as:"
   ]
  },
  {
   "cell_type": "code",
   "execution_count": 62,
   "id": "4958650d-39a0-41a0-ab48-1420de3db1d6",
   "metadata": {},
   "outputs": [],
   "source": [
    "Si= ['H', 'T']"
   ]
  },
  {
   "cell_type": "markdown",
   "id": "e49d1142-8f1f-4119-bd59-3f4fbc6484b2",
   "metadata": {},
   "source": [
    "We can create an iterator for the combined sample space using `itertools.product` by passing `Si` and the keyword argument `repeat` with the number of repetitions as follows:"
   ]
  },
  {
   "cell_type": "code",
   "execution_count": 84,
   "id": "7db3e518-c417-4cb8-adb7-5220e4c2e4a2",
   "metadata": {},
   "outputs": [],
   "source": [
    "Sdice=itertools.product(Si,repeat=20)"
   ]
  },
  {
   "cell_type": "markdown",
   "id": "0ebcb1f2-0cb3-43a1-aade-9a67a08035c1",
   "metadata": {},
   "source": [
    "We can count the cardinality of the sample space and the event that the number of heads is 6 or less simultaneously while looping over the outcomes in the sample space:"
   ]
  },
  {
   "cell_type": "code",
   "execution_count": 88,
   "id": "9ac0a935-d01e-4c9f-9815-935a8b43d6e5",
   "metadata": {},
   "outputs": [
    {
     "name": "stdout",
     "output_type": "stream",
     "text": [
      "|E|= 60460    |S|= 1048576\n"
     ]
    }
   ],
   "source": [
    "Sdice=itertools.product(Si,repeat=20)\n",
    "\n",
    "Scount=0\n",
    "Ecount=0\n",
    "\n",
    "for s in Sdice:\n",
    "    Scount+=1\n",
    "    if s.count('H') <= 6:\n",
    "        Ecount+=1\n",
    "        \n",
    "print(\"|E|=\", Ecount, \"   |S|=\", Scount)"
   ]
  },
  {
   "cell_type": "markdown",
   "id": "65a03060-cdeb-4bb9-859d-3a3b9bd34a71",
   "metadata": {},
   "source": [
    "The the probability of seeing 6 or fewer heads is:\n"
   ]
  },
  {
   "cell_type": "code",
   "execution_count": 92,
   "id": "756ed8f5-9beb-4745-8e3a-acc219c3aa19",
   "metadata": {},
   "outputs": [
    {
     "name": "stdout",
     "output_type": "stream",
     "text": [
      "P(6 or fewer heads)= 0.057659149169921875\n"
     ]
    }
   ],
   "source": [
    "print(\"P(6 or fewer heads)=\", Ecount/Scount)"
   ]
  },
  {
   "cell_type": "markdown",
   "id": "3a719a59-04ce-425a-a68a-45dc31d1eab2",
   "metadata": {},
   "source": [
    "Compare this value with the estimated probability found via simulation in {doc}`../02-first-stats/first-stats.ipynb`. The two values are very close, so the simulation did a good job at estimating this probability (at least with 1,000,000 iterations). Note that you probably don't want to go through all 1,048,576 outcomes by hand. Moreover, if the number of coin flips increased significantly, it may be challenging to even iterate over them. This motivates us to develop mathematical methods for counting the cardinalities of sample spaces and events without enumerating them."
   ]
  },
  {
   "cell_type": "markdown",
   "id": "48948e58-3e63-4cbc-ab43-c5a259b876d8",
   "metadata": {},
   "source": [
    "## Determining Cardinalities of Sample Spaces and Events Mathematically"
   ]
  },
  {
   "cell_type": "markdown",
   "id": "18f40976-8642-4967-90cc-707a7d303cde",
   "metadata": {},
   "source": [
    "We start with a basic result on counting in the context of sample spaces for combined experiments. If $S$ is a set that can be written as a Cartesian product,\n",
    "\n",
    "$$\n",
    "S= S_0 \\times S_1  \\times \\ldots \\times S_{K-1},\n",
    "$$\n",
    "\n",
    "then cardinality of $S$ is the product of the cardinalities of the sets in the Cartesian product:\n",
    "$$\n",
    "|S|= |S_0| \\cdot |S_1|  \\cdot \\ldots \\cdot |S_{K-1}|.\n",
    "$$"
   ]
  },
  {
   "cell_type": "markdown",
   "id": "a4ea4953-5467-4129-b354-3f1f9770d96a",
   "metadata": {},
   "source": [
    "For instance, for the Monopoly dice problem, $|S_0|=|S_1|=6$, so $|S| = |S_0| \\cdot |S_1| = 6 \\cdot 6 = 36$.\n",
    "\n",
    "For flipping a fair coin 20 times, $|S_i| = 2$, and $|S| = |S_0| \\cdot |S_1| \\cdot \\ldots \\cdot |S_{19}| = 2^{20} = 1,048,576$"
   ]
  },
  {
   "cell_type": "markdown",
   "id": "ac0d67e1-e458-4e5a-9748-471de5049c3d",
   "metadata": {},
   "source": [
    "## THIS IS STILL IN PROGRESS"
   ]
  },
  {
   "cell_type": "code",
   "execution_count": null,
   "id": "73d0a7c6-193d-422d-b38f-4959d0d6a2f2",
   "metadata": {},
   "outputs": [],
   "source": []
  }
 ],
 "metadata": {
  "kernelspec": {
   "display_name": "Python 3",
   "language": "python",
   "name": "python3"
  },
  "language_info": {
   "codemirror_mode": {
    "name": "ipython",
    "version": 3
   },
   "file_extension": ".py",
   "mimetype": "text/x-python",
   "name": "python",
   "nbconvert_exporter": "python",
   "pygments_lexer": "ipython3",
   "version": "3.7.4"
  }
 },
 "nbformat": 4,
 "nbformat_minor": 5
}
