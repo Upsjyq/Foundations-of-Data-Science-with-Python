{
 "cells": [
  {
   "cell_type": "markdown",
   "metadata": {},
   "source": [
    "# Fair Experiments"
   ]
  },
  {
   "cell_type": "markdown",
   "metadata": {},
   "source": [
    "````{panels}\n",
    "DEFINTION\n",
    "^^^\n",
    "fair (random experiment)\n",
    ": An experiment is said to be fair if every outcome is equally likely.\n",
    "````\n",
    "\n",
    "This is probably one of the oldest ways of calculating probabilities. Much of the early work on probability was motivated by gambling, and games involving cards, dice, and coins are generally based on assumption that the underlying experiment is fair."
   ]
  },
  {
   "cell_type": "markdown",
   "metadata": {},
   "source": [
    "Consider a fair experiment with $|S|=N$ outcomes, and let $p_i$ denote the probability of outcome $i$, then\n",
    "\n",
    "\\begin{align*}\n",
    "\\sum_{i=1}^{N} p_i &= 1 \\\\\n",
    "\\sum_{i=1}^{N} p_1 &= 1 \\\\\n",
    "Np_1 &=1\\\\\n",
    "p_1 &= \\frac 1 N .\n",
    "\\end{align*}\n",
    "Since all the probabilities are equal,\n",
    "$$\n",
    "p_i = \\frac 1 N = \\frac{1}{|S|}.\n",
    "$$\n",
    "\n"
   ]
  },
  {
   "cell_type": "markdown",
   "metadata": {},
   "source": [
    "So, for instance, the probability of getting any number on a fair six-sided die is 1/6."
   ]
  },
  {
   "cell_type": "markdown",
   "metadata": {},
   "source": [
    "For a coin, let $p_H$ and $p_T$ denote the probabilities of heads and tails, respectively. If the coin is fair, then we have $p_H =p_T$ and \n",
    "\n",
    "\\begin{align*}\n",
    "p_H + p_T &= 1 \\\\\n",
    "p_H + p_H &= 1 \\\\\n",
    "2p_H &= 1 \\\\\n",
    "p_H &=\\frac{1}{2}\n",
    "\\end{align*}\n",
    "\n",
    "So $p_H=p_T= 1/2$, where $|S|=2$."
   ]
  },
  {
   "cell_type": "markdown",
   "metadata": {},
   "source": [
    "Although this is an accurate and extremely easy way to calculate probabilities, it is extremely limited in its application because most probabilities we will encounter are not from fair experiments. Even very simple compound experiments that are based on fair experiments are not necessarily fair:"
   ]
  },
  {
   "cell_type": "markdown",
   "metadata": {},
   "source": [
    "**Example**\n",
    "\n",
    "Monopoly uses two fair six-sided dice. The player moves the sum of the amounts shown on the two dice. Simulate rolling the pair of dice one million times and plot the relative frequencies:"
   ]
  },
  {
   "cell_type": "code",
   "execution_count": 56,
   "metadata": {},
   "outputs": [
    {
     "data": {
      "image/png": "[encoded data removed]",
      "text/plain": [
       "<Figure size 432x288 with 1 Axes>"
      ]
     },
     "metadata": {
      "needs_background": "light"
     },
     "output_type": "display_data"
    }
   ],
   "source": [
    "import matplotlib.pyplot as plt\n",
    "import numpy as np\n",
    "import numpy.random as npr\n",
    "\n",
    "die1 = npr.randint(1, 7, size=1_000_000)\n",
    "die2 = npr.randint(1, 7, size=1_000_000)\n",
    "dice = die1 + die2\n",
    "\n",
    "vals, counts = np.unique(dice, return_counts=True)\n",
    "rel_freqs = counts / len(dice)\n",
    "\n",
    "plt.stem(vals, rel_freqs, use_line_collection=True)\n",
    "plt.xlabel(\"Sum of top faces of two dice\")\n",
    "plt.ylabel(\"Relative frequencies\");"
   ]
  },
  {
   "cell_type": "markdown",
   "metadata": {},
   "source": [
    "Another simple example is the number of coin flips needed to observe heads on repeated flips of a fair coin:"
   ]
  },
  {
   "cell_type": "code",
   "execution_count": 67,
   "metadata": {},
   "outputs": [
    {
     "data": {
      "image/png": "[encoded data removed]",
      "text/plain": [
       "<Figure size 432x288 with 1 Axes>"
      ]
     },
     "metadata": {
      "needs_background": "light"
     },
     "output_type": "display_data"
    }
   ],
   "source": [
    "num_sims = 10000\n",
    "outcomes = []\n",
    "\n",
    "for sim in range(num_sims):\n",
    "    count = 0\n",
    "    while 1:\n",
    "        coin = npr.randint(2)\n",
    "        count = count + 1\n",
    "        if coin == 1:  # Use 1 to represent Heads\n",
    "            break\n",
    "    outcomes += [count]\n",
    "\n",
    "vals, counts = np.unique(outcomes, return_counts=True)\n",
    "rel_freqs = counts / len(outcomes)\n",
    "\n",
    "plt.stem(vals, rel_freqs, use_line_collection=True)\n",
    "plt.xlabel(\"No. of flips to first Heads\")\n",
    "plt.ylabel(\"Relative frequencies\");"
   ]
  },
  {
   "cell_type": "markdown",
   "metadata": {},
   "source": [
    "These limitations lead us to our ultimate formulation for probabilities:"
   ]
  }
 ],
 "metadata": {
  "kernelspec": {
   "display_name": "Python 3",
   "language": "python",
   "name": "python3"
  },
  "language_info": {
   "codemirror_mode": {
    "name": "ipython",
    "version": 3
   },
   "file_extension": ".py",
   "mimetype": "text/x-python",
   "name": "python",
   "nbconvert_exporter": "python",
   "pygments_lexer": "ipython3",
   "version": "3.7.4"
  }
 },
 "nbformat": 4,
 "nbformat_minor": 4
}
